{
 "cells": [
  {
   "cell_type": "code",
   "execution_count": 1,
   "metadata": {
    "collapsed": false
   },
   "outputs": [
    {
     "name": "stderr",
     "output_type": "stream",
     "text": [
      "Loading required package: RUVnormalize\n"
     ]
    }
   ],
   "source": [
    "suppressMessages(require(Rtsne))\n",
    "suppressMessages(require(cellrangerRkit))\n",
    "suppressMessages(require(ggplot2))\n",
    "suppressMessages(require(data.table))\n",
    "suppressMessages(require(gplots))\n",
    "suppressMessages(require(matrixStats))\n",
    "suppressMessages(require(RColorBrewer))\n",
    "require(RUVnormalize)"
   ]
  },
  {
   "cell_type": "code",
   "execution_count": 2,
   "metadata": {
    "collapsed": true
   },
   "outputs": [],
   "source": [
    "venn_matrix=function(inlist){\n",
    "    #mk matrix\n",
    "    out_matrix=matrix(NA,length(inlist),length(inlist))\n",
    "    colnames(out_matrix)=names(inlist)\n",
    "    rownames(out_matrix)=names(inlist)\n",
    "    for(i in 2:length(inlist)){\n",
    "        for(j in 1:(i-1)){\n",
    "            out_matrix[i,j]=length(intersect(inlist[[i]],inlist[[j]]))\n",
    "        }\n",
    "    }\n",
    "    diag(out_matrix)=sapply(inlist,length)\n",
    "    return(out_matrix)\n",
    "}\n",
    "\n",
    "cross_combining=function(string1,string2){\n",
    "    o=rep(\"\",length(string1)*length(string2))\n",
    "    k=0\n",
    "    for(i in 1:length(string1)){\n",
    "        for(j in 1:length(string2)){\n",
    "            k=k+1\n",
    "            o[k]=paste0(string1[i],\"_\",string2[j])\n",
    "        } \n",
    "    }\n",
    "    return(o)\n",
    "}\n"
   ]
  },
  {
   "cell_type": "code",
   "execution_count": 35,
   "metadata": {
    "collapsed": true
   },
   "outputs": [],
   "source": [
    "genome=\"GRCh38\"\n",
    "sample_list=c(cross_combining(c(\"C9\",\"C12\"),c(\"pBMC\",\"R\")),cross_combining(c(\"C10\",\"C17\",\"C18\",\"C22\",\"C23\"),c(\"pBMC\",\"R\",\"I\")))\n",
    "\n",
    "housekeeping_gene=fread(\"~/Analysis/genomeFiles/housekeeping_gene_human.txt\",data.table=F)\n",
    "housekeeping_gene=housekeeping_gene[,1]\n",
    "\n",
    "cell_assignment_gps=c(\"failed BCR/TCR\",\"B cell\",\"T cell\",\"dual-label\",\"unknown\")\n",
    "SC_matrix=list()\n",
    "ercc_matrix=list()\n",
    "cell_assignment=list()\n",
    "sample_gp=c()\n",
    "BCR_annoation_list=list()\n",
    "TCR_annoation_list=list()\n",
    "BCR_annoation_list_weak=list()\n",
    "TCR_annoation_list_weak=list()\n",
    "\n",
    "for(i in 1:length(sample_list)){\n",
    "    #sc\n",
    "    valid_sc_barcode=load_cellranger_matrix_h5(paste0(\"/home/ahe/Analysis/201801_JohnVDJ/data/10x/\",sample_list[i],\"_10x\"), genome=genome,barcode_filtered =T)\n",
    "    valid_sc_barcode=valid_sc_barcode$barcode\n",
    "    SC_matrix[[i]]=load_cellranger_matrix_h5(paste0(\"/home/ahe/Analysis/201801_JohnVDJ/data/10x/\",sample_list[i],\"_10x\"), genome=genome,barcode_filtered =F)\n",
    "    SC_matrix[[i]]=exprs(SC_matrix[[i]])\n",
    "    #vdj\n",
    "    BCR_annoation_list[[i]]=fread(paste0(\"/home/ahe/Analysis/201801_JohnVDJ/data/VDJ/\",sample_list[i],\"_BCR/outs/all_contig_annotations.csv\")\n",
    "                                  ,sep=\",\",data.table=F,na.strings = \"None\")\n",
    "    TCR_annoation_list[[i]]=fread(paste0(\"/home/ahe/Analysis/201801_JohnVDJ/data/VDJ/\",sample_list[i],\"_TCR/outs/all_contig_annotations.csv\")\n",
    "                                  ,sep=\",\",data.table=F,na.strings = \"None\")   \n",
    "    #filter the error signal\n",
    "    TCRinBCRtbl=grep(\"TR\",BCR_annoation_list[[i]]$chain)\n",
    "    BCRinTCRtbl=grep(\"IG\",TCR_annoation_list[[i]]$chain)\n",
    "    if(length(TCRinBCRtbl)>0){BCR_annoation_list[[i]]=BCR_annoation_list[[i]][-TCRinBCRtbl,]}\n",
    "    if(length(BCRinTCRtbl)>0){TCR_annoation_list[[i]]=TCR_annoation_list[[i]][-BCRinTCRtbl,]}\n",
    "    \n",
    "    #continue BCR TCR processing\n",
    "    valid_BCR_list=which(BCR_annoation_list[[i]]$is_cell & BCR_annoation_list[[i]]$high_confidence & BCR_annoation_list[[i]]$productive)\n",
    "    valid_TCR_list=which(TCR_annoation_list[[i]]$is_cell & TCR_annoation_list[[i]]$high_confidence & TCR_annoation_list[[i]]$productive)\n",
    "    valid_B_list=unique(BCR_annoation_list[[i]]$barcode[valid_BCR_list])\n",
    "    valid_T_list=unique(TCR_annoation_list[[i]]$barcode[valid_TCR_list])\n",
    "    tag_B=BCR_annoation_list[[i]]$barcode %in% valid_B_list\n",
    "    tag_T=TCR_annoation_list[[i]]$barcode %in% valid_T_list\n",
    "    BCR_annoation_list_weak[[i]]=BCR_annoation_list[[i]][!tag_B,]\n",
    "    TCR_annoation_list_weak[[i]]=TCR_annoation_list[[i]][!tag_T,]\n",
    "    BCR_annoation_list_weak[[i]]=BCR_annoation_list_weak[[i]][BCR_annoation_list_weak[[i]]$is_cell & BCR_annoation_list_weak[[i]]$high_confidence,]\n",
    "    TCR_annoation_list_weak[[i]]=TCR_annoation_list_weak[[i]][TCR_annoation_list_weak[[i]]$is_cell & TCR_annoation_list_weak[[i]]$high_confidence,]\n",
    "    BCR_annoation_list[[i]]=BCR_annoation_list[[i]][tag_B,]\n",
    "    TCR_annoation_list[[i]]=TCR_annoation_list[[i]][tag_T,]\n",
    "\n",
    "    #the cell selection\n",
    "    valid_cell_barcodes=unique(c(valid_sc_barcode,valid_B_list,valid_T_list))\n",
    "    SC_matrix[[i]]=SC_matrix[[i]][,colnames(SC_matrix[[i]]) %in% valid_cell_barcodes]\n",
    "    BCR_annoation_list[[i]]=BCR_annoation_list[[i]][BCR_annoation_list[[i]]$barcode %in% valid_cell_barcodes,]\n",
    "    TCR_annoation_list[[i]]=TCR_annoation_list[[i]][TCR_annoation_list[[i]]$barcode %in% valid_cell_barcodes,]\n",
    "    #continue SC MATRIX PROCESSION\n",
    "    SC_matrix[[i]]=t(as.matrix(SC_matrix[[i]]))\n",
    "    SC_matrix[[i]]=SC_matrix[[i]][rowSums(SC_matrix[[i]]>1)>50,]\n",
    "    #ercc\n",
    "    #ercc_matrix[[i]]=load_cellranger_matrix_h5(paste0(\"/home/ahe/Analysis/201801_JohnVDJ/data/ercc/\",sample_list[i],\"_10x_ercc\"), genome=\"ercc92\",barcode_filtered =F)\n",
    "    #ercc_matrix[[i]]=exprs(ercc_matrix[[i]])\n",
    "    #ercc_matrix[[i]]=ercc_matrix[[i]][,match(rownames(SC_matrix[[i]]),colnames(ercc_matrix[[i]]))]\n",
    "    #ercc_matrix[[i]]=t(as.matrix(ercc_matrix[[i]]))\n",
    "    #SC_matrix[[i]]=cbind(ercc_matrix[[i]],SC_matrix[[i]])\n",
    "    \n",
    "    #renaming\n",
    "    rownames(SC_matrix[[i]])=gsub(\"1$\", i, rownames(SC_matrix[[i]]))\n",
    "    TCR_annoation_list[[i]]$barcode=gsub(\"1$\", i, TCR_annoation_list[[i]]$barcode)\n",
    "    BCR_annoation_list[[i]]$barcode=gsub(\"1$\", i, BCR_annoation_list[[i]]$barcode)\n",
    "    TCR_annoation_list_weak[[i]]$barcode=gsub(\"1$\", i, TCR_annoation_list_weak[[i]]$barcode)\n",
    "    BCR_annoation_list_weak[[i]]$barcode=gsub(\"1$\", i, BCR_annoation_list_weak[[i]]$barcode)   \n",
    "    \n",
    "    #cell labeling\n",
    "    cell_assignment[[i]]=rep(\"unknown\",nrow(SC_matrix[[i]]))\n",
    "    cell_assignment[[i]][rownames(SC_matrix[[i]]) %in% BCR_annoation_list_weak[[i]]$barcode |\n",
    "                         rownames(SC_matrix[[i]]) %in% TCR_annoation_list_weak[[i]]$barcode]=\"failed BCR/TCR\"\n",
    "    cell_assignment[[i]][rownames(SC_matrix[[i]]) %in% BCR_annoation_list[[i]]$barcode]=\"B cell\"\n",
    "    cell_assignment[[i]][rownames(SC_matrix[[i]]) %in% TCR_annoation_list[[i]]$barcode]=\"T cell\"\n",
    "    cell_assignment[[i]][rownames(SC_matrix[[i]]) %in% TCR_annoation_list[[i]]$barcode & \n",
    "                         rownames(SC_matrix[[i]]) %in% BCR_annoation_list[[i]]$barcode]=\"dual-label\"\n",
    "    \n",
    "    #remove the redundant unknown cells\n",
    "    #if(sum(cell_assignment[[i]]==\"unknown\")>num_of_unknown_cell_at_most_per_lirary){\n",
    "        #tag_unknown=which(cell_assignment[[i]]==\"unknown\")\n",
    "        #discard_unknown=sample(tag_unknown,length(tag_unknown)-num_of_unknown_cell_at_most_per_lirary,replace = F)\n",
    "        #SC_matrix[[i]]=SC_matrix[[i]][-discard_unknown,]\n",
    "        #cell_assignment[[i]]=cell_assignment[[i]][-discard_unknown]\n",
    "    #}    \n",
    "\n",
    "    sample_gp=c(sample_gp,rep(i,nrow(SC_matrix[[i]])))\n",
    "}\n",
    "\n",
    "ExpressionMat=do.call(rbind,SC_matrix)\n",
    "ExpressionMat=ExpressionMat[,colSums(ExpressionMat)>2]\n",
    "ExpressionBinaryMat=ExpressionMat>=1\n",
    "ExpressionMat=ExpressionMat[,colSums(ExpressionBinaryMat)>nrow(ExpressionMat)/100]\n",
    "#ExpressionMat=t(apply(ExpressionMat,1,function(x){x/sum(x)*10000000}))\n",
    "\n",
    "mart <- biomaRt::useMart(biomart = \"ENSEMBL_MART_ENSEMBL\",\n",
    "  dataset = \"hsapiens_gene_ensembl\",  #human\n",
    "  host = 'ensembl.org')\n",
    "#biomaRt::listAttributes(mart)\n",
    "t2g <- biomaRt::getBM(attributes = c(\"ensembl_transcript_id\", \"ensembl_gene_id\",\n",
    "    \"external_gene_name\",\"chromosome_name\",\"start_position\",\"end_position\",\"strand\"), mart = mart)\n",
    "t2g <- dplyr::rename(t2g, target_id = ensembl_transcript_id,\n",
    "  ens_gene = ensembl_gene_id, ext_gene = external_gene_name)\n",
    "\n",
    "#change name\n",
    "ExpressionMat=ExpressionMat[,which(colnames(ExpressionMat) %in% t2g$ens_gene)]\n",
    "colnames(ExpressionMat)=t2g$ext_gene[match(colnames(ExpressionMat),t2g$ens_gene)]\n",
    "colnames(ExpressionMat)[which(duplicated(colnames(ExpressionMat)))]=paste0(colnames(ExpressionMat)[which(duplicated(colnames(ExpressionMat)))],\"_1\")\n",
    "\n",
    "cell_assignment=unlist(cell_assignment)\n",
    "BCR_annoation=do.call(rbind,BCR_annoation_list)\n",
    "TCR_annoation=do.call(rbind,TCR_annoation_list)\n",
    "BCR_annoation_w=do.call(rbind,BCR_annoation_list_weak)\n",
    "TCR_annoation_w=do.call(rbind,TCR_annoation_list_weak)\n",
    "#rm(SC_matrix,BCR_annoation_list,TCR_annoation_list,TCR_annoation_list_weak,BCR_annoation_list_weak)"
   ]
  },
  {
   "cell_type": "markdown",
   "metadata": {},
   "source": [
    "## QC: Venn"
   ]
  },
  {
   "cell_type": "code",
   "execution_count": 38,
   "metadata": {
    "collapsed": false
   },
   "outputs": [
    {
     "data": {
      "text/html": [
       "<strong>png:</strong> 2"
      ],
      "text/latex": [
       "\\textbf{png:} 2"
      ],
      "text/markdown": [
       "**png:** 2"
      ],
      "text/plain": [
       "png \n",
       "  2 "
      ]
     },
     "metadata": {},
     "output_type": "display_data"
    }
   ],
   "source": [
    "#check BCR TCR\n",
    "#require(repr)\n",
    "#options(repr.plot.width=8, repr.plot.height=4)\n",
    "pdf(\"cells label overlaping between TCR_BCR samples_including weak.pdf\",width=14,height=7)\n",
    "par(mfrow=c(1,2))\n",
    "venn(list(failed_TCR=unique(TCR_annoation_w$barcode),\n",
    "          TCR=unique(TCR_annoation$barcode),\n",
    "          BCR=unique(BCR_annoation$barcode),\n",
    "          failed_BCR=unique(BCR_annoation_w$barcode)\n",
    "         ),small=0.5)\n",
    "title(main=\"all\")\n",
    "plot(1, type=\"n\", axes=F, xlab=\"\", ylab=\"\")\n",
    "for(i in 1:length(sample_list)){\n",
    "    tagSC=grep(paste0(\"-\",i,\"$\"),rownames(ExpressionMat))\n",
    "    tagBCR=grep(paste0(\"-\",i,\"$\"),BCR_annoation$barcode)\n",
    "    tagTCR=grep(paste0(\"-\",i,\"$\"),TCR_annoation$barcode)\n",
    "    tagBCR_w=grep(paste0(\"-\",i,\"$\"),BCR_annoation_w$barcode)\n",
    "    tagTCR_w=grep(paste0(\"-\",i,\"$\"),TCR_annoation_w$barcode)    \n",
    "    venn(list(failed_TCR=unique(TCR_annoation_w$barcode[tagTCR_w]),\n",
    "          TCR=unique(TCR_annoation$barcode[tagTCR]),\n",
    "          BCR=unique(BCR_annoation$barcode[tagBCR]),\n",
    "          failed_BCR=unique(BCR_annoation_w$barcode[tagBCR_w])),small=0.5)\n",
    "    title(main=sample_list[i])\n",
    "}\n",
    "dev.off()"
   ]
  },
  {
   "cell_type": "code",
   "execution_count": 37,
   "metadata": {
    "collapsed": false
   },
   "outputs": [
    {
     "data": {
      "text/html": [
       "<strong>png:</strong> 2"
      ],
      "text/latex": [
       "\\textbf{png:} 2"
      ],
      "text/markdown": [
       "**png:** 2"
      ],
      "text/plain": [
       "png \n",
       "  2 "
      ]
     },
     "metadata": {},
     "output_type": "display_data"
    }
   ],
   "source": [
    "#check BCR TCR\n",
    "#require(repr)\n",
    "#options(repr.plot.width=8, repr.plot.height=4)\n",
    "pdf(\"cells label overlaping between SC_TCR_BCR samples.pdf\",width=10,height=5)\n",
    "par(mfrow=c(1,2))\n",
    "venn(list(SC=rownames(ExpressionMat),\n",
    "              TCR=TCR_annoation$barcode,\n",
    "              BCR=BCR_annoation$barcode),small=0.5)\n",
    "title(main=\"all\")\n",
    "plot(1, type=\"n\", axes=F, xlab=\"\", ylab=\"\")\n",
    "for(i in 1:length(sample_list)){\n",
    "    tagSC=grep(paste0(\"-\",i,\"$\"),rownames(ExpressionMat))\n",
    "    tagBCR=grep(paste0(\"-\",i,\"$\"),BCR_annoation$barcode)\n",
    "    tagTCR=grep(paste0(\"-\",i,\"$\"),TCR_annoation$barcode)\n",
    "    venn(list(SC=rownames(ExpressionMat)[tagSC],\n",
    "              TCR=unique(TCR_annoation$barcode[tagTCR]),\n",
    "              BCR=unique(BCR_annoation$barcode[tagBCR])),small=0.5)\n",
    "    title(main=sample_list[i])\n",
    "}\n",
    "dev.off()"
   ]
  },
  {
   "cell_type": "code",
   "execution_count": 40,
   "metadata": {
    "collapsed": false
   },
   "outputs": [
    {
     "data": {
      "text/html": [
       "<strong>png:</strong> 2"
      ],
      "text/latex": [
       "\\textbf{png:} 2"
      ],
      "text/markdown": [
       "**png:** 2"
      ],
      "text/plain": [
       "png \n",
       "  2 "
      ]
     },
     "metadata": {},
     "output_type": "display_data"
    }
   ],
   "source": [
    "recombined_BCR_list=which(is.na(BCR_annoation_w$v_gene)+is.na(BCR_annoation_w$d_gene)+is.na(BCR_annoation_w$j_gene)+is.na(BCR_annoation_w$c_gene)<3)\n",
    "recombined_TCR_list=which(is.na(TCR_annoation_w$v_gene)+is.na(TCR_annoation_w$d_gene)+is.na(TCR_annoation_w$j_gene)+is.na(TCR_annoation_w$c_gene)<3)\n",
    "BCR_annoation_w=BCR_annoation_w[recombined_BCR_list,]\n",
    "TCR_annoation_w=TCR_annoation_w[recombined_TCR_list,]\n",
    "\n",
    "pdf(\"cells label overlaping between TCR_BCR samples_with recombination signature.pdf\",width=7,height=7)\n",
    "venn(list(failed_TCR=unique(TCR_annoation_w$barcode),\n",
    "          TCR=unique(TCR_annoation$barcode),\n",
    "          BCR=unique(BCR_annoation$barcode),\n",
    "          failed_BCR=unique(BCR_annoation_w$barcode)\n",
    "         ),small=0.5)\n",
    "title(main=\"all\")\n",
    "dev.off()"
   ]
  },
  {
   "cell_type": "markdown",
   "metadata": {},
   "source": [
    "## QC: ERCC, MT"
   ]
  },
  {
   "cell_type": "code",
   "execution_count": 28,
   "metadata": {
    "collapsed": false
   },
   "outputs": [
    {
     "data": {
      "text/html": [
       "<strong>png:</strong> 2"
      ],
      "text/latex": [
       "\\textbf{png:} 2"
      ],
      "text/markdown": [
       "**png:** 2"
      ],
      "text/plain": [
       "png \n",
       "  2 "
      ]
     },
     "metadata": {},
     "output_type": "display_data"
    }
   ],
   "source": [
    "#check SD/MEAN ratio\n",
    "taggene_mt=c(t2g$ext_gene[t2g$chromosome_name==\"MT\"])\n",
    "taggene_hk=housekeeping_gene\n",
    "#require(repr)\n",
    "#options(repr.plot.width=8, repr.plot.height=4)\n",
    "pdf(\"Sd_Mean ratio distribution.pdf\",width=8,height=4)\n",
    "plot(density(colSds(ExpressionMat)/colMeans(ExpressionMat)),xlim=c(0,20),ylim=c(0,3),xlab=\"Sd/Mean\")\n",
    "lines(density(colSds(ExpressionMat[,colnames(ExpressionMat) %in% taggene_mt])/colMeans(ExpressionMat[,colnames(ExpressionMat) %in% taggene_mt])),col=\"red\")\n",
    "lines(density(colSds(ExpressionMat[,colnames(ExpressionMat) %in% taggene_hk])/colMeans(ExpressionMat[,colnames(ExpressionMat) %in% taggene_hk])),col=\"blue\")\n",
    "legend(\"topright\",c(\"Mitochondria gene\",\"House Keeping gene\",\"all\"),lty=1,col=c(\"red\",\"blue\",\"black\"))\n",
    "dev.off()"
   ]
  },
  {
   "cell_type": "code",
   "execution_count": 13,
   "metadata": {
    "collapsed": false
   },
   "outputs": [
    {
     "data": {
      "text/html": [
       "703"
      ],
      "text/latex": [
       "703"
      ],
      "text/markdown": [
       "703"
      ],
      "text/plain": [
       "[1] 703"
      ]
     },
     "metadata": {},
     "output_type": "display_data"
    }
   ],
   "source": [
    "#check ERCC\n",
    "#require(repr)\n",
    "#options(repr.plot.width=8, repr.plot.height=4)\n",
    "pdf(\"ERCC QC UMIs.pdf\",width=10,height=5)\n",
    "coltouse=cell_assignment\n",
    "tagcol=RColorBrewer::brewer.pal(length(cell_assignment_gps),\"Set1\")\n",
    "for (i in 1:length(cell_assignment_gps)){\n",
    "    coltouse[coltouse==cell_assignment_gps[i]]=tagcol[i]\n",
    "}\n",
    "\n",
    "par(mfrow=c(1,2))\n",
    "plot(density(rowSums(ExpressionMat[,grep(\"ERCC\",colnames(ExpressionMat))])),xlab=\"ERCC UMI number per cell\",ylab=\"density\",main=\"all\")\n",
    "plot(rowSums(ExpressionMat[,grep(\"ERCC\",colnames(ExpressionMat))]),rowSums(ExpressionMat[,-grep(\"ERCC\",colnames(ExpressionMat))]),\n",
    "     xlab=\"ERCC UMI number per cell\",ylab=\"UMI number per cell\",pch=19,cex=0.5,col=coltouse)\n",
    "for(i in 1:length(sample_list)){\n",
    "    tag=which(sample_gp==i)\n",
    "    plot(density(rowSums(ExpressionMat[tag,grep(\"ERCC\",colnames(ExpressionMat))])),xlab=\"ERCC UMI number per cell\",ylab=\"density\",main=sample_list[i])\n",
    "    plot(rowSums(ExpressionMat[tag,grep(\"ERCC\",colnames(ExpressionMat))]),rowSums(ExpressionMat[tag,-grep(\"ERCC\",colnames(ExpressionMat))]),\n",
    "         xlab=\"ERCC UMI number per cell\",ylab=\"UMI number per cell\",pch=19,cex=0.5,col=coltouse[tag])\n",
    "}\n",
    "dev.off()"
   ]
  },
  {
   "cell_type": "code",
   "execution_count": null,
   "metadata": {
    "collapsed": true
   },
   "outputs": [],
   "source": [
    "#options(repr.plot.width=8, repr.plot.height=4)\n",
    "pdf(\"ERCC QC TPMs.pdf\",width=10,height=5)\n",
    "ExpressionFiltered=t(apply(ExpressionMat,1,function(x){x/sum(x)*10000000}))\n",
    "par(mfrow=c(1,2))\n",
    "plot(density(rowSums(ExpressionFiltered[,grep(\"ERCC\",colnames(ExpressionFiltered))])),xlab=\"ERCC UMI number per cell\",ylab=\"density\",main=\"all\")\n",
    "plot(rowSums(ExpressionFiltered[,grep(\"ERCC\",colnames(ExpressionFiltered))]),rowSums(ExpressionFiltered[,-grep(\"ERCC\",colnames(ExpressionFiltered))]),\n",
    "     xlab=\"ERCC UMI number per cell\",ylab=\"UMI number per cell\",pch=19,cex=0.5,col=coltouse)\n",
    "for(i in 1:length(sample_list)){\n",
    "    tag=which(sample_gp==i)\n",
    "    plot(density(rowSums(ExpressionFiltered[tag,grep(\"ERCC\",colnames(ExpressionFiltered))])),xlab=\"ERCC UMI number per cell\",ylab=\"density\",main=sample_list[i])\n",
    "    plot(rowSums(ExpressionFiltered[tag,grep(\"ERCC\",colnames(ExpressionFiltered))]),rowSums(ExpressionFiltered[tag,-grep(\"ERCC\",colnames(ExpressionFiltered))]),\n",
    "         xlab=\"ERCC UMI number per cell\",ylab=\"UMI number per cell\",pch=19,cex=0.5,col=coltouse[tag])\n",
    "}\n",
    "dev.off()"
   ]
  },
  {
   "cell_type": "code",
   "execution_count": null,
   "metadata": {
    "collapsed": true
   },
   "outputs": [],
   "source": [
    "#options(repr.plot.width=8, repr.plot.height=4)\n",
    "pdf(\"ERCC QC RUV.pdf\",width=10,height=5)\n",
    "ExpressionNormed=scale(ExpressionFiltered,scale=F)\n",
    "ExpressionNormed=naiveRandRUV(ExpressionNormed, grep(\"ERCC\",colnames(ExpressionNormed)), nu.coeff=1e-3, k=20)\n",
    "ExpressionNormed=scale(ExpressionNormed[,-grep(\"ERCC\",colnames(ExpressionNormed))])\n",
    "par(mfrow=c(1,2))\n",
    "plot(density(rowSums(ExpressionNormed[,grep(\"ERCC\",colnames(ExpressionNormed))])),xlab=\"ERCC UMI number per cell\",ylab=\"density\",main=\"all\")\n",
    "plot(rowSums(ExpressionNormed[,grep(\"ERCC\",colnames(ExpressionNormed))]),rowSums(ExpressionNormed[,-grep(\"ERCC\",colnames(ExpressionNormed))]),\n",
    "     xlab=\"ERCC UMI number per cell\",ylab=\"UMI number per cell\",pch=19,cex=0.5,col=coltouse)\n",
    "for(i in 1:length(sample_list)){\n",
    "    tag=which(sample_gp==i)\n",
    "    plot(density(rowSums(ExpressionNormed[tag,grep(\"ERCC\",colnames(ExpressionNormed))])),xlab=\"ERCC UMI number per cell\",ylab=\"density\",main=sample_list[i])\n",
    "    plot(rowSums(ExpressionNormed[tag,grep(\"ERCC\",colnames(ExpressionNormed))]),rowSums(ExpressionNormed[tag,-grep(\"ERCC\",colnames(ExpressionNormed))]),\n",
    "         xlab=\"ERCC UMI number per cell\",ylab=\"UMI number per cell\",pch=19,cex=0.5,col=coltouse[tag])\n",
    "}\n",
    "dev.off()"
   ]
  },
  {
   "cell_type": "markdown",
   "metadata": {},
   "source": [
    "# other QC"
   ]
  },
  {
   "cell_type": "code",
   "execution_count": 29,
   "metadata": {
    "collapsed": false
   },
   "outputs": [
    {
     "data": {
      "text/html": [
       "<ol class=list-inline>\n",
       "\t<li>'C9_pBMC'</li>\n",
       "\t<li>'C9_R'</li>\n",
       "\t<li>'C12_pBMC'</li>\n",
       "\t<li>'C12_R'</li>\n",
       "\t<li>'C17_pBMC'</li>\n",
       "\t<li>'C17_R'</li>\n",
       "\t<li>'C17_I'</li>\n",
       "\t<li>'C18_pBMC'</li>\n",
       "\t<li>'C18_R'</li>\n",
       "\t<li>'C18_I'</li>\n",
       "\t<li>'C22_pBMC'</li>\n",
       "\t<li>'C22_R'</li>\n",
       "\t<li>'C22_I'</li>\n",
       "\t<li>'C23_pBMC'</li>\n",
       "\t<li>'C23_R'</li>\n",
       "\t<li>'C23_I'</li>\n",
       "</ol>\n"
      ],
      "text/latex": [
       "\\begin{enumerate*}\n",
       "\\item 'C9\\_pBMC'\n",
       "\\item 'C9\\_R'\n",
       "\\item 'C12\\_pBMC'\n",
       "\\item 'C12\\_R'\n",
       "\\item 'C17\\_pBMC'\n",
       "\\item 'C17\\_R'\n",
       "\\item 'C17\\_I'\n",
       "\\item 'C18\\_pBMC'\n",
       "\\item 'C18\\_R'\n",
       "\\item 'C18\\_I'\n",
       "\\item 'C22\\_pBMC'\n",
       "\\item 'C22\\_R'\n",
       "\\item 'C22\\_I'\n",
       "\\item 'C23\\_pBMC'\n",
       "\\item 'C23\\_R'\n",
       "\\item 'C23\\_I'\n",
       "\\end{enumerate*}\n"
      ],
      "text/markdown": [
       "1. 'C9_pBMC'\n",
       "2. 'C9_R'\n",
       "3. 'C12_pBMC'\n",
       "4. 'C12_R'\n",
       "5. 'C17_pBMC'\n",
       "6. 'C17_R'\n",
       "7. 'C17_I'\n",
       "8. 'C18_pBMC'\n",
       "9. 'C18_R'\n",
       "10. 'C18_I'\n",
       "11. 'C22_pBMC'\n",
       "12. 'C22_R'\n",
       "13. 'C22_I'\n",
       "14. 'C23_pBMC'\n",
       "15. 'C23_R'\n",
       "16. 'C23_I'\n",
       "\n",
       "\n"
      ],
      "text/plain": [
       " [1] \"C9_pBMC\"  \"C9_R\"     \"C12_pBMC\" \"C12_R\"    \"C17_pBMC\" \"C17_R\"   \n",
       " [7] \"C17_I\"    \"C18_pBMC\" \"C18_R\"    \"C18_I\"    \"C22_pBMC\" \"C22_R\"   \n",
       "[13] \"C22_I\"    \"C23_pBMC\" \"C23_R\"    \"C23_I\"   "
      ]
     },
     "metadata": {},
     "output_type": "display_data"
    }
   ],
   "source": [
    "sample_list"
   ]
  },
  {
   "cell_type": "code",
   "execution_count": 30,
   "metadata": {
    "collapsed": false
   },
   "outputs": [
    {
     "data": {
      "text/html": [
       "'C23_I'"
      ],
      "text/latex": [
       "'C23\\_I'"
      ],
      "text/markdown": [
       "'C23_I'"
      ],
      "text/plain": [
       "[1] \"C23_I\""
      ]
     },
     "metadata": {},
     "output_type": "display_data"
    }
   ],
   "source": [
    "i=16\n",
    "sample_list[i]\n",
    "tagBCR_anno=BCR_annoation[grep(paste0(\"-\",i),BCR_annoation$barcode),]"
   ]
  },
  {
   "cell_type": "code",
   "execution_count": 31,
   "metadata": {
    "collapsed": false
   },
   "outputs": [
    {
     "data": {
      "text/html": [
       "233854"
      ],
      "text/latex": [
       "233854"
      ],
      "text/markdown": [
       "233854"
      ],
      "text/plain": [
       "[1] 233854"
      ]
     },
     "metadata": {},
     "output_type": "display_data"
    }
   ],
   "source": [
    "nrow(tagBCR_anno)"
   ]
  },
  {
   "cell_type": "code",
   "execution_count": 33,
   "metadata": {
    "collapsed": false
   },
   "outputs": [
    {
     "data": {
      "text/html": [
       "0"
      ],
      "text/latex": [
       "0"
      ],
      "text/markdown": [
       "0"
      ],
      "text/plain": [
       "[1] 0"
      ]
     },
     "metadata": {},
     "output_type": "display_data"
    }
   ],
   "source": [
    "length(grep(\"TR\",BCR_annoation$chain))"
   ]
  },
  {
   "cell_type": "code",
   "execution_count": 35,
   "metadata": {
    "collapsed": false
   },
   "outputs": [
    {
     "data": {
      "text/html": [
       "50432"
      ],
      "text/latex": [
       "50432"
      ],
      "text/markdown": [
       "50432"
      ],
      "text/plain": [
       "[1] 50432"
      ]
     },
     "metadata": {},
     "output_type": "display_data"
    }
   ],
   "source": [
    "length(unique(tagBCR_anno$barcode))"
   ]
  },
  {
   "cell_type": "code",
   "execution_count": null,
   "metadata": {
    "collapsed": true
   },
   "outputs": [],
   "source": []
  }
 ],
 "metadata": {
  "anaconda-cloud": {},
  "kernelspec": {
   "display_name": "R",
   "language": "R",
   "name": "ir"
  },
  "language_info": {
   "codemirror_mode": "r",
   "file_extension": ".r",
   "mimetype": "text/x-r-source",
   "name": "R",
   "pygments_lexer": "r",
   "version": "3.4.4"
  }
 },
 "nbformat": 4,
 "nbformat_minor": 0
}
