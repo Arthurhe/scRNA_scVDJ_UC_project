{
 "cells": [
  {
   "cell_type": "code",
   "execution_count": 1,
   "metadata": {
    "collapsed": false
   },
   "outputs": [
    {
     "name": "stderr",
     "output_type": "stream",
     "text": [
      "Loading required package: RUVnormalize\n"
     ]
    }
   ],
   "source": [
    "suppressMessages(require(Rtsne))\n",
    "suppressMessages(require(cellrangerRkit))\n",
    "suppressMessages(require(ggplot2))\n",
    "suppressMessages(require(data.table))\n",
    "suppressMessages(require(gplots))\n",
    "suppressMessages(require(matrixStats))\n",
    "suppressMessages(require(RColorBrewer))\n",
    "require(RUVnormalize)"
   ]
  },
  {
   "cell_type": "code",
   "execution_count": 2,
   "metadata": {
    "collapsed": false
   },
   "outputs": [],
   "source": [
    "genome=\"GRCh38\"\n",
    "#sample_list=c(\"C12pBMC\",\"C12Rectum\",\"C9pBMC\",\"C9Rectum\") #\n",
    "#cell_assignment_gps=c(\"failed BCR/TCR\",\"B cell\",\"T cell\",\"dual-label\",\"unknown\")\n",
    "load(\"testing_RUVscale_mt_unknownRMed.Rdata\") #\"testing_RUVscale.Rdata\"\n",
    "\n",
    "patient_type=unique(gsub(\"_.*\",\"\",sample_list))\n",
    "patient_assignment=rep(0,length(sample_gp))\n",
    "for(i in 1:length(patient_type)){\n",
    "    patient_assignment[sample_gp %in% grep(patient_type[i],sample_list)]=i\n",
    "}\n",
    "\n",
    "tissue_type=c(\"pBMC\",\"I\",\"R\")\n",
    "tissue_assignment=rep(0,length(sample_gp))\n",
    "for(i in 1:length(tissue_type)){\n",
    "    tissue_assignment[sample_gp %in% grep(tissue_type[i],sample_list)]=i\n",
    "}"
   ]
  },
  {
   "cell_type": "code",
   "execution_count": 4,
   "metadata": {
    "collapsed": false
   },
   "outputs": [
    {
     "data": {
      "text/html": [
       "<ol class=list-inline>\n",
       "\t<li>'BCR_annoation'</li>\n",
       "\t<li>'BCR_annoation_w'</li>\n",
       "\t<li>'cell_assignment'</li>\n",
       "\t<li>'cell_assignment_gps'</li>\n",
       "\t<li>'center_by_batch'</li>\n",
       "\t<li>'cross_combining'</li>\n",
       "\t<li>'ercc_matrix'</li>\n",
       "\t<li>'ExpressionBinaryMat'</li>\n",
       "\t<li>'ExpressionFiltered'</li>\n",
       "\t<li>'ExpressionMat'</li>\n",
       "\t<li>'ExpressionNormed'</li>\n",
       "\t<li>'genome'</li>\n",
       "\t<li>'housekeeping_gene'</li>\n",
       "\t<li>'i'</li>\n",
       "\t<li>'mart'</li>\n",
       "\t<li>'num_of_unknown_cell_at_most_per_lirary'</li>\n",
       "\t<li>'patient_assignment'</li>\n",
       "\t<li>'patient_type'</li>\n",
       "\t<li>'pca_allcell'</li>\n",
       "\t<li>'ptm'</li>\n",
       "\t<li>'rtsne_allcell'</li>\n",
       "\t<li>'sample_gp'</li>\n",
       "\t<li>'sample_list'</li>\n",
       "\t<li>'sdY'</li>\n",
       "\t<li>'second_to_humanReadableTime'</li>\n",
       "\t<li>'ssd'</li>\n",
       "\t<li>'t'</li>\n",
       "\t<li>'t2g'</li>\n",
       "\t<li>'tag_B'</li>\n",
       "\t<li>'taggene'</li>\n",
       "\t<li>'taggene_mt'</li>\n",
       "\t<li>'taggene_posi'</li>\n",
       "\t<li>'tag_T'</li>\n",
       "\t<li>'TCR_annoation'</li>\n",
       "\t<li>'TCR_annoation_w'</li>\n",
       "\t<li>'tissue_assignment'</li>\n",
       "\t<li>'tissue_type'</li>\n",
       "\t<li>'valid_BCR_list'</li>\n",
       "\t<li>'valid_B_list'</li>\n",
       "\t<li>'valid_cell_barcodes'</li>\n",
       "\t<li>'valid_sc_barcode'</li>\n",
       "\t<li>'valid_TCR_list'</li>\n",
       "\t<li>'valid_T_list'</li>\n",
       "\t<li>'venn_matrix'</li>\n",
       "</ol>\n"
      ],
      "text/latex": [
       "\\begin{enumerate*}\n",
       "\\item 'BCR\\_annoation'\n",
       "\\item 'BCR\\_annoation\\_w'\n",
       "\\item 'cell\\_assignment'\n",
       "\\item 'cell\\_assignment\\_gps'\n",
       "\\item 'center\\_by\\_batch'\n",
       "\\item 'cross\\_combining'\n",
       "\\item 'ercc\\_matrix'\n",
       "\\item 'ExpressionBinaryMat'\n",
       "\\item 'ExpressionFiltered'\n",
       "\\item 'ExpressionMat'\n",
       "\\item 'ExpressionNormed'\n",
       "\\item 'genome'\n",
       "\\item 'housekeeping\\_gene'\n",
       "\\item 'i'\n",
       "\\item 'mart'\n",
       "\\item 'num\\_of\\_unknown\\_cell\\_at\\_most\\_per\\_lirary'\n",
       "\\item 'patient\\_assignment'\n",
       "\\item 'patient\\_type'\n",
       "\\item 'pca\\_allcell'\n",
       "\\item 'ptm'\n",
       "\\item 'rtsne\\_allcell'\n",
       "\\item 'sample\\_gp'\n",
       "\\item 'sample\\_list'\n",
       "\\item 'sdY'\n",
       "\\item 'second\\_to\\_humanReadableTime'\n",
       "\\item 'ssd'\n",
       "\\item 't'\n",
       "\\item 't2g'\n",
       "\\item 'tag\\_B'\n",
       "\\item 'taggene'\n",
       "\\item 'taggene\\_mt'\n",
       "\\item 'taggene\\_posi'\n",
       "\\item 'tag\\_T'\n",
       "\\item 'TCR\\_annoation'\n",
       "\\item 'TCR\\_annoation\\_w'\n",
       "\\item 'tissue\\_assignment'\n",
       "\\item 'tissue\\_type'\n",
       "\\item 'valid\\_BCR\\_list'\n",
       "\\item 'valid\\_B\\_list'\n",
       "\\item 'valid\\_cell\\_barcodes'\n",
       "\\item 'valid\\_sc\\_barcode'\n",
       "\\item 'valid\\_TCR\\_list'\n",
       "\\item 'valid\\_T\\_list'\n",
       "\\item 'venn\\_matrix'\n",
       "\\end{enumerate*}\n"
      ],
      "text/markdown": [
       "1. 'BCR_annoation'\n",
       "2. 'BCR_annoation_w'\n",
       "3. 'cell_assignment'\n",
       "4. 'cell_assignment_gps'\n",
       "5. 'center_by_batch'\n",
       "6. 'cross_combining'\n",
       "7. 'ercc_matrix'\n",
       "8. 'ExpressionBinaryMat'\n",
       "9. 'ExpressionFiltered'\n",
       "10. 'ExpressionMat'\n",
       "11. 'ExpressionNormed'\n",
       "12. 'genome'\n",
       "13. 'housekeeping_gene'\n",
       "14. 'i'\n",
       "15. 'mart'\n",
       "16. 'num_of_unknown_cell_at_most_per_lirary'\n",
       "17. 'patient_assignment'\n",
       "18. 'patient_type'\n",
       "19. 'pca_allcell'\n",
       "20. 'ptm'\n",
       "21. 'rtsne_allcell'\n",
       "22. 'sample_gp'\n",
       "23. 'sample_list'\n",
       "24. 'sdY'\n",
       "25. 'second_to_humanReadableTime'\n",
       "26. 'ssd'\n",
       "27. 't'\n",
       "28. 't2g'\n",
       "29. 'tag_B'\n",
       "30. 'taggene'\n",
       "31. 'taggene_mt'\n",
       "32. 'taggene_posi'\n",
       "33. 'tag_T'\n",
       "34. 'TCR_annoation'\n",
       "35. 'TCR_annoation_w'\n",
       "36. 'tissue_assignment'\n",
       "37. 'tissue_type'\n",
       "38. 'valid_BCR_list'\n",
       "39. 'valid_B_list'\n",
       "40. 'valid_cell_barcodes'\n",
       "41. 'valid_sc_barcode'\n",
       "42. 'valid_TCR_list'\n",
       "43. 'valid_T_list'\n",
       "44. 'venn_matrix'\n",
       "\n",
       "\n"
      ],
      "text/plain": [
       " [1] \"BCR_annoation\"                         \n",
       " [2] \"BCR_annoation_w\"                       \n",
       " [3] \"cell_assignment\"                       \n",
       " [4] \"cell_assignment_gps\"                   \n",
       " [5] \"center_by_batch\"                       \n",
       " [6] \"cross_combining\"                       \n",
       " [7] \"ercc_matrix\"                           \n",
       " [8] \"ExpressionBinaryMat\"                   \n",
       " [9] \"ExpressionFiltered\"                    \n",
       "[10] \"ExpressionMat\"                         \n",
       "[11] \"ExpressionNormed\"                      \n",
       "[12] \"genome\"                                \n",
       "[13] \"housekeeping_gene\"                     \n",
       "[14] \"i\"                                     \n",
       "[15] \"mart\"                                  \n",
       "[16] \"num_of_unknown_cell_at_most_per_lirary\"\n",
       "[17] \"patient_assignment\"                    \n",
       "[18] \"patient_type\"                          \n",
       "[19] \"pca_allcell\"                           \n",
       "[20] \"ptm\"                                   \n",
       "[21] \"rtsne_allcell\"                         \n",
       "[22] \"sample_gp\"                             \n",
       "[23] \"sample_list\"                           \n",
       "[24] \"sdY\"                                   \n",
       "[25] \"second_to_humanReadableTime\"           \n",
       "[26] \"ssd\"                                   \n",
       "[27] \"t\"                                     \n",
       "[28] \"t2g\"                                   \n",
       "[29] \"tag_B\"                                 \n",
       "[30] \"taggene\"                               \n",
       "[31] \"taggene_mt\"                            \n",
       "[32] \"taggene_posi\"                          \n",
       "[33] \"tag_T\"                                 \n",
       "[34] \"TCR_annoation\"                         \n",
       "[35] \"TCR_annoation_w\"                       \n",
       "[36] \"tissue_assignment\"                     \n",
       "[37] \"tissue_type\"                           \n",
       "[38] \"valid_BCR_list\"                        \n",
       "[39] \"valid_B_list\"                          \n",
       "[40] \"valid_cell_barcodes\"                   \n",
       "[41] \"valid_sc_barcode\"                      \n",
       "[42] \"valid_TCR_list\"                        \n",
       "[43] \"valid_T_list\"                          \n",
       "[44] \"venn_matrix\"                           "
      ]
     },
     "metadata": {},
     "output_type": "display_data"
    }
   ],
   "source": [
    "save(sample_gp,ExpressionMat,cell_assignment,file=\"ExpMatRaw_VDJ.Rdata\")\n",
    "ls()"
   ]
  },
  {
   "cell_type": "markdown",
   "metadata": {},
   "source": [
    "### plot PBMC and Rectum sperately"
   ]
  },
  {
   "cell_type": "code",
   "execution_count": 3,
   "metadata": {
    "collapsed": false
   },
   "outputs": [
    {
     "name": "stderr",
     "output_type": "stream",
     "text": [
      "Loading required package: repr\n",
      "Warning message in RColorBrewer::brewer.pal(length(sample_list), \"Set1\"):\n",
      "“n too large, allowed maximum for palette Set1 is 9\n",
      "Returning the palette you asked for with that many colors\n",
      "”Warning message in RColorBrewer::brewer.pal(length(sample_list), \"Set1\"):\n",
      "“n too large, allowed maximum for palette Set1 is 9\n",
      "Returning the palette you asked for with that many colors\n",
      "”"
     ]
    },
    {
     "data": {
      "text/html": [
       "<strong>png:</strong> 2"
      ],
      "text/latex": [
       "\\textbf{png:} 2"
      ],
      "text/markdown": [
       "**png:** 2"
      ],
      "text/plain": [
       "png \n",
       "  2 "
      ]
     },
     "metadata": {},
     "output_type": "display_data"
    }
   ],
   "source": [
    "require(repr)\n",
    "#options(repr.plot.width=8, repr.plot.height=8)\n",
    "\n",
    "coltouse=cell_assignment\n",
    "tagcol=RColorBrewer::brewer.pal(length(cell_assignment_gps),\"Set1\")\n",
    "for (i in 1:length(cell_assignment_gps)){\n",
    "    coltouse[coltouse==cell_assignment_gps[i]]=tagcol[i]\n",
    "}\n",
    "\n",
    "pdf(\"TSNE for PBMC and Rectum seperately.pdf\",width=10,height=10)\n",
    "par(mfrow=c(2,2))\n",
    "#plot PBMC\n",
    "tagcell=sample_gp %in%  (grep(\"pBMC\",sample_list))\n",
    "plot(rtsne_allcell$Y[tagcell,],pch=19,col=coltouse[tagcell],cex=0.5,main=\"TSNE B/T cell label\",xlim=c(min(rtsne_allcell$Y[tagcell,1]),max(rtsne_allcell$Y[tagcell,1])+20),\n",
    "    xlab=\"TSNE 1\",ylab=\"TSNE 2\")\n",
    "legend(\"topright\",cell_assignment_gps,bty = \"n\",lty=0,pch=19,col=tagcol)\n",
    "\n",
    "tagcol=RColorBrewer::brewer.pal(length(sample_list),\"Set1\")\n",
    "plot(rtsne_allcell$Y[tagcell,],pch=19,col=tagcol[sample_gp[tagcell]],cex=0.5,main=\"TSNE PBMC/Rectum label\",xlim=c(min(rtsne_allcell$Y[,1]),max(rtsne_allcell$Y[,1])+10),\n",
    "    xlab=\"TSNE 1\",ylab=\"TSNE 2\")\n",
    "legend(\"topright\",sample_list[grep(\"pBMC\",sample_list)],bty = \"n\",lty=0,pch=19,col=tagcol[grep(\"pBMC\",sample_list)])\n",
    "\n",
    "#plot Rectumn\n",
    "tagcell=sample_gp %in%  (grep(\"_R\",sample_list))\n",
    "plot(rtsne_allcell$Y[tagcell,],pch=19,col=coltouse[tagcell],cex=0.5,main=\"TSNE B/T cell label\",xlim=c(min(rtsne_allcell$Y[tagcell,1]),max(rtsne_allcell$Y[tagcell,1])+20),\n",
    "    xlab=\"TSNE 1\",ylab=\"TSNE 2\")\n",
    "legend(\"topright\",cell_assignment_gps,bty = \"n\",lty=0,pch=19,col=tagcol)\n",
    "\n",
    "tagcol=RColorBrewer::brewer.pal(length(sample_list),\"Set1\")\n",
    "plot(rtsne_allcell$Y[tagcell,],pch=19,col=tagcol[sample_gp[tagcell]],cex=0.5,main=\"TSNE PBMC/Rectum label\",xlim=c(min(rtsne_allcell$Y[,1]),max(rtsne_allcell$Y[,1])+10),\n",
    "    xlab=\"TSNE 1\",ylab=\"TSNE 2\")\n",
    "legend(\"topright\",sample_list[grep(\"_R\",sample_list)],bty = \"n\",lty=0,pch=19,col=tagcol[grep(\"Rectum\",sample_list)])\n",
    "dev.off()"
   ]
  },
  {
   "cell_type": "markdown",
   "metadata": {},
   "source": [
    "# clonetype analysis"
   ]
  },
  {
   "cell_type": "code",
   "execution_count": 3,
   "metadata": {
    "collapsed": true
   },
   "outputs": [],
   "source": [
    "valid_BCR_list=which(BCR_annoation$is_cell & BCR_annoation$high_confidence & BCR_annoation$productive)\n",
    "valid_TCR_list=which(TCR_annoation$is_cell & TCR_annoation$high_confidence & TCR_annoation$productive)\n",
    "recombined_BCR_list=which(is.na(BCR_annoation_w$v_gene)+is.na(BCR_annoation_w$d_gene)+is.na(BCR_annoation_w$j_gene)+is.na(BCR_annoation_w$c_gene)<3)\n",
    "recombined_TCR_list=which(is.na(TCR_annoation_w$v_gene)+is.na(TCR_annoation_w$d_gene)+is.na(TCR_annoation_w$j_gene)+is.na(TCR_annoation_w$c_gene)<3)\n",
    "BCR_annoation_w=BCR_annoation_w[recombined_BCR_list,]\n",
    "TCR_annoation_w=TCR_annoation_w[recombined_TCR_list,]\n"
   ]
  },
  {
   "cell_type": "code",
   "execution_count": 48,
   "metadata": {
    "collapsed": false
   },
   "outputs": [
    {
     "data": {
      "text/html": [
       "<ol class=list-inline>\n",
       "\t<li>'C9_pBMC'</li>\n",
       "\t<li>'C9_R'</li>\n",
       "\t<li>'C12_pBMC'</li>\n",
       "\t<li>'C12_R'</li>\n",
       "\t<li>'C17_pBMC'</li>\n",
       "\t<li>'C17_R'</li>\n",
       "\t<li>'C17_I'</li>\n",
       "\t<li>'C18_pBMC'</li>\n",
       "\t<li>'C18_R'</li>\n",
       "\t<li>'C18_I'</li>\n",
       "</ol>\n"
      ],
      "text/latex": [
       "\\begin{enumerate*}\n",
       "\\item 'C9\\_pBMC'\n",
       "\\item 'C9\\_R'\n",
       "\\item 'C12\\_pBMC'\n",
       "\\item 'C12\\_R'\n",
       "\\item 'C17\\_pBMC'\n",
       "\\item 'C17\\_R'\n",
       "\\item 'C17\\_I'\n",
       "\\item 'C18\\_pBMC'\n",
       "\\item 'C18\\_R'\n",
       "\\item 'C18\\_I'\n",
       "\\end{enumerate*}\n"
      ],
      "text/markdown": [
       "1. 'C9_pBMC'\n",
       "2. 'C9_R'\n",
       "3. 'C12_pBMC'\n",
       "4. 'C12_R'\n",
       "5. 'C17_pBMC'\n",
       "6. 'C17_R'\n",
       "7. 'C17_I'\n",
       "8. 'C18_pBMC'\n",
       "9. 'C18_R'\n",
       "10. 'C18_I'\n",
       "\n",
       "\n"
      ],
      "text/plain": [
       " [1] \"C9_pBMC\"  \"C9_R\"     \"C12_pBMC\" \"C12_R\"    \"C17_pBMC\" \"C17_R\"   \n",
       " [7] \"C17_I\"    \"C18_pBMC\" \"C18_R\"    \"C18_I\"   "
      ]
     },
     "metadata": {},
     "output_type": "display_data"
    }
   ],
   "source": [
    "sample_list"
   ]
  },
  {
   "cell_type": "code",
   "execution_count": 4,
   "metadata": {
    "collapsed": false
   },
   "outputs": [
    {
     "data": {},
     "metadata": {},
     "output_type": "display_data"
    }
   ],
   "source": [
    "#identify clonetype that's the same chain - v d j gene\n",
    "T_tag_mat=TCR_annoation[valid_TCR_list,c(\"barcode\",\"v_gene\",\"d_gene\",\"j_gene\",\"c_gene\",\"cdr3_nt\",\"raw_clonotype_id\")]\n",
    "setDT(T_tag_mat)[, contig_id := paste0(\"clonetype_\",.GRP), by = .(v_gene,d_gene,j_gene,c_gene,cdr3_nt)]\n",
    "sample_group=as.numeric(vapply(strsplit(T_tag_mat$barcode,\"-\"), `[`, 2, FUN.VALUE=character(1)))\n",
    "T_tag_mat$raw_clonotype_id=paste0(T_tag_mat$raw_clonotype_id,\"_\",sample_group)\n",
    "expaned_clone=which(table(T_tag_mat$raw_clonotype_id)>1)\n",
    "\n",
    "plot_table=list()\n",
    "for(i in 1:max(sample_group)){\n",
    "    tag=which(sample_group==i)\n",
    "    tag=tag[!duplicated(T_tag_mat$barcode[tag])]\n",
    "    tag_id_tbl=table(T_tag_mat$raw_clonotype_id[tag])\n",
    "    plot_table[[i]]=data.frame(clone_id=names(tag_id_tbl),\n",
    "                               count=as.vector(tag_id_tbl),\n",
    "                               freq=as.vector(tag_id_tbl)/sum(tag_id_tbl),\n",
    "                               groups=sample_list[i]) \n",
    "}\n",
    "T_clonetype_stat=do.call(rbind,plot_table)\n",
    "T_clonetype_stat=T_clonetype_stat[order(T_clonetype_stat$freq,decreasing = T),]\n",
    "\n",
    "plot_table=list()\n",
    "for(i in 1:max(sample_group)){\n",
    "    tag=T_clonetype_stat$groups==sample_list[i]\n",
    "    tag_clonetype_stat=T_clonetype_stat[tag,]\n",
    "    tag_freq_tbl=table(tag_clonetype_stat$freq)\n",
    "    tag_count_tbl=table(tag_clonetype_stat$count)\n",
    "    plot_table[[i]]=data.frame(groups=sample_list[i],\n",
    "                               expansion_level_freq=as.numeric(names(tag_freq_tbl)),\n",
    "                               expansion_level_count=as.numeric(names(tag_count_tbl)),\n",
    "                               clone_count=as.vector(tag_count_tbl)) \n",
    "}\n",
    "T_clonetype_expansion_count=do.call(rbind,plot_table)\n",
    "\n",
    "T_tag_mat=cbind(T_tag_mat,T_clonetype_stat$count[match(T_tag_mat$raw_clonotype_id,T_clonetype_stat$clone_id)]) \n",
    "T_tag_mat=cbind(T_tag_mat,T_clonetype_stat$freq[match(T_tag_mat$raw_clonotype_id,T_clonetype_stat$clone_id)])\n",
    "colnames(T_tag_mat)[9:10]=c(\"count\",\"freq\")"
   ]
  },
  {
   "cell_type": "code",
   "execution_count": 5,
   "metadata": {
    "collapsed": false
   },
   "outputs": [
    {
     "data": {},
     "metadata": {},
     "output_type": "display_data"
    }
   ],
   "source": [
    "#B cell\n",
    "B_tag_mat=BCR_annoation[valid_BCR_list,c(\"barcode\",\"v_gene\",\"d_gene\",\"j_gene\",\"c_gene\",\"cdr3_nt\",\"raw_clonotype_id\")]\n",
    "setDT(B_tag_mat)[, contig_id := paste0(\"clonetype_\",.GRP), by = .(v_gene,d_gene,j_gene,c_gene,cdr3_nt)]\n",
    "sample_group=as.numeric(vapply(strsplit(B_tag_mat$barcode,\"-\"), `[`, 2, FUN.VALUE=character(1)))\n",
    "B_tag_mat$raw_clonotype_id=paste0(B_tag_mat$raw_clonotype_id,\"_\",sample_group)\n",
    "expaned_clone=which(table(B_tag_mat$id)>1)\n",
    "\n",
    "plot_table=list()\n",
    "for(i in 1:max(sample_group)){\n",
    "    tag=which(sample_group==i)\n",
    "    tag=tag[!duplicated(B_tag_mat$barcode[tag])]\n",
    "    tag_id_tbl=table(B_tag_mat$raw_clonotype_id[tag])\n",
    "    plot_table[[i]]=data.frame(clone_id=names(tag_id_tbl),\n",
    "                               count=as.vector(tag_id_tbl),\n",
    "                               freq=round(as.vector(tag_id_tbl)/sum(tag_id_tbl),4)*100,\n",
    "                               groups=sample_list[i]) \n",
    "}\n",
    "B_clonetype_stat=do.call(rbind,plot_table)\n",
    "B_clonetype_stat=B_clonetype_stat[order(B_clonetype_stat$freq,decreasing = T),]\n",
    "\n",
    "plot_table=list()\n",
    "for(i in 1:max(sample_group)){\n",
    "    tag=B_clonetype_stat$groups==sample_list[i]\n",
    "    tag_clonetype_stat=B_clonetype_stat[tag,]\n",
    "    tag_freq_tbl=table(tag_clonetype_stat$freq)\n",
    "    tag_count_tbl=table(tag_clonetype_stat$count)\n",
    "    plot_table[[i]]=data.frame(groups=sample_list[i],\n",
    "                               expansion_level_freq=as.numeric(names(tag_freq_tbl)),\n",
    "                               expansion_level_count=as.numeric(names(tag_count_tbl)),\n",
    "                               clone_count=as.vector(tag_count_tbl)) \n",
    "}\n",
    "B_clonetype_expansion_count=do.call(rbind,plot_table)\n",
    "\n",
    "B_tag_mat=cbind(B_tag_mat,B_clonetype_stat$count[match(B_tag_mat$raw_clonotype_id,B_clonetype_stat$clone_id)])\n",
    "B_tag_mat=cbind(B_tag_mat,B_clonetype_stat$freq[match(B_tag_mat$raw_clonotype_id,B_clonetype_stat$clone_id)])\n",
    "colnames(B_tag_mat)[9:10]=c(\"count\",\"freq\")"
   ]
  },
  {
   "cell_type": "code",
   "execution_count": 7,
   "metadata": {
    "collapsed": true
   },
   "outputs": [],
   "source": [
    "T_percell_expansion_tbl=unique(T_tag_mat[,c(\"barcode\",\"count\",\"freq\")])\n",
    "#T_percell_expansion_tbl=T_percell_expansion_tbl[,.(count=max(count),freq=max(freq)),by=barcode]\n",
    "B_percell_expansion_tbl=unique(B_tag_mat[,c(\"barcode\",\"count\",\"freq\")])\n",
    "#B_percell_expansion_tbl=B_percell_expansion_tbl[,.(count=max(count),freq=max(freq)),by=barcode]\n",
    "\n",
    "#expanision level per cell\n",
    "count_BT_tbl=data.frame(T=T_percell_expansion_tbl$count[match(rownames(ExpressionNormed),T_percell_expansion_tbl$barcode)],\n",
    "                       B=B_percell_expansion_tbl$count[match(rownames(ExpressionNormed),B_percell_expansion_tbl$barcode)])\n",
    "freq_BT_tbl=data.frame(T=T_percell_expansion_tbl$freq[match(rownames(ExpressionNormed),T_percell_expansion_tbl$barcode)],\n",
    "                       B=B_percell_expansion_tbl$freq[match(rownames(ExpressionNormed),B_percell_expansion_tbl$barcode)])\n",
    "count_BT_tbl[is.na(count_BT_tbl)]=0\n",
    "freq_BT_tbl[is.na(freq_BT_tbl)]=0\n",
    "expansion_count=rowMaxs(as.matrix(count_BT_tbl))\n",
    "expansion_freq=rowMaxs(as.matrix(freq_BT_tbl))"
   ]
  },
  {
   "cell_type": "code",
   "execution_count": 9,
   "metadata": {
    "collapsed": false
   },
   "outputs": [
    {
     "data": {
      "text/plain": [
       "\n",
       "   1    2    3    4    5    6    8   11   12   15   20 \n",
       "3437  476  150   48   30   18   24   11   24   15   20 "
      ]
     },
     "metadata": {},
     "output_type": "display_data"
    },
    {
     "data": {
      "text/plain": [
       "\n",
       "   1    2    3    4    5    6    7    8    9   10   11   12   13   17   18   20 \n",
       "2369  478  195  124   60   48   63   40   36   40   11   12   13   17   18   20 \n",
       "  22   28   29   30   32   33   44   48   57   70   77   80   99  121  150 \n",
       "  22   28   29   60   32   33   44   48   57   70   77   80   99  121  150 "
      ]
     },
     "metadata": {},
     "output_type": "display_data"
    }
   ],
   "source": [
    "table(T_percell_expansion_tbl$count)\n",
    "table(B_percell_expansion_tbl$count)"
   ]
  },
  {
   "cell_type": "code",
   "execution_count": 8,
   "metadata": {
    "collapsed": false
   },
   "outputs": [
    {
     "data": {
      "text/plain": [
       "\n",
       "   0    1    2    3    4    5    6    7    8    9   10   11   12   13   17   18 \n",
       "9280 2145  409  163  102   48   43   51   39   22   28   11    2   13   16   11 \n",
       "  20   22   28   29   30   32   33   44   48   57   70   77   80   99  121  150 \n",
       "   9   22    4   29    9    9    7   44    5   56   65    4    9   21   34   14 "
      ]
     },
     "metadata": {},
     "output_type": "display_data"
    },
    {
     "data": {
      "text/plain": [
       "\n",
       "   0    1    2    3    4    5    6    8   11   12   15   20 \n",
       "8471 3437  476  150   48   30   18   24   11   24   15   20 "
      ]
     },
     "metadata": {},
     "output_type": "display_data"
    }
   ],
   "source": [
    "table(count_BT_tbl$B)\n",
    "table(count_BT_tbl$T)"
   ]
  },
  {
   "cell_type": "markdown",
   "metadata": {},
   "source": [
    "## plot expansion level by cell"
   ]
  },
  {
   "cell_type": "code",
   "execution_count": 10,
   "metadata": {
    "collapsed": false
   },
   "outputs": [
    {
     "data": {
      "text/html": [
       "<strong>png:</strong> 2"
      ],
      "text/latex": [
       "\\textbf{png:} 2"
      ],
      "text/markdown": [
       "**png:** 2"
      ],
      "text/plain": [
       "png \n",
       "  2 "
      ]
     },
     "metadata": {},
     "output_type": "display_data"
    }
   ],
   "source": [
    "#require(repr)\n",
    "#options(repr.plot.width=12, repr.plot.height=4)\n",
    "pdf(\"expansion level vs. RNA TSNE.pdf\",width=15,height=5)\n",
    "par(mfrow=c(1,3))\n",
    "\n",
    "coltouse=cell_assignment\n",
    "tagcol=RColorBrewer::brewer.pal(length(cell_assignment_gps),\"Set1\")\n",
    "for (i in 1:length(cell_assignment_gps)){\n",
    "    coltouse[coltouse==cell_assignment_gps[i]]=tagcol[i]\n",
    "}\n",
    "plot(rtsne_allcell$Y,pch=19,col=coltouse,cex=0.5,main=\"all cells by celltype\",xlim=c(min(rtsne_allcell$Y),max(rtsne_allcell$Y)+20),\n",
    "    xlab=\"TSNE 1\",ylab=\"TSNE 2\")\n",
    "legend(\"topright\",cell_assignment_gps,bty = \"n\",lty=0,pch=19,col=tagcol)\n",
    "\n",
    "rbPal <- colorRampPalette(RColorBrewer::brewer.pal(9,\"Reds\"))\n",
    "expansion_count[expansion_count>50]=50\n",
    "breaks=seq(min(expansion_count),max(expansion_count),length.out=25)\n",
    "cols=rbPal(25)[as.numeric(cut(expansion_count,breaks = breaks, include.lowest=TRUE))]\n",
    "#plot(rtsne_allcell$Y[expansion_count<=1,],pch=19,col=\"gray\",cex=0.5,main=\"all cells by expansion count\",xlim=c(min(rtsne_allcell$Y),max(rtsne_allcell$Y)+20),\n",
    "#    xlab=\"TSNE 1\",ylab=\"TSNE 2\")\n",
    "plot(rtsne_allcell$Y[expansion_count>0,],pch=19,col=cols[expansion_count>0],cex=0.5,main=\"count\")\n",
    "\n",
    "expansion_freq[expansion_freq>5]=5\n",
    "breaks=seq(min(expansion_freq)-1,max(expansion_freq),length.out=25)\n",
    "cols=rbPal(25)[as.numeric(cut(expansion_freq,breaks = breaks, include.lowest=TRUE))]\n",
    "#plot(rtsne_allcell$Y[expansion_count<=1,],pch=19,col=\"gray\",cex=0.5,main=\"all cells by expansion freq\",xlim=c(min(rtsne_allcell$Y),max(rtsne_allcell$Y)+20),\n",
    "#    xlab=\"TSNE 1\",ylab=\"TSNE 2\")\n",
    "plot(rtsne_allcell$Y[expansion_count>0,],pch=19,col=cols[expansion_count>0],cex=0.5,main=\"freq\")\n",
    "dev.off()"
   ]
  },
  {
   "cell_type": "markdown",
   "metadata": {},
   "source": [
    "## plot the most expaned several clone"
   ]
  },
  {
   "cell_type": "code",
   "execution_count": 32,
   "metadata": {
    "collapsed": false
   },
   "outputs": [
    {
     "data": {
      "text/html": [
       "<strong>png:</strong> 2"
      ],
      "text/latex": [
       "\\textbf{png:} 2"
      ],
      "text/markdown": [
       "**png:** 2"
      ],
      "text/plain": [
       "png \n",
       "  2 "
      ]
     },
     "metadata": {},
     "output_type": "display_data"
    }
   ],
   "source": [
    "\n",
    "tagcell=(sample_gp %in% grep(\"C12Rectum\",sample_list)) #& (cell_assignment == \"T cell\")\n",
    "tagcoord=rtsne_allcell$Y[tagcell,]\n",
    "\n",
    "require(repr)\n",
    "#options(repr.plot.width=12, repr.plot.height=4)\n",
    "pdf(\"expansion in C12Rectum.pdf\",width=15,height=5)\n",
    "par(mfrow=c(1,3))\n",
    "plot(tagcoord,pch=19,col=coltouse[tagcell],cex=0.5,main=\"all cells in C12Rectum\",xlim=c(min(rtsne_allcell$Y[tagcell,1]),max(rtsne_allcell$Y[tagcell,1])+20),\n",
    "    xlab=\"TSNE 1\",ylab=\"TSNE 2\")\n",
    "legend(\"topright\",cell_assignment_gps,bty = \"n\",lty=0,pch=19,col=tagcol)\n",
    "\n",
    "#T cell\n",
    "tagcell=(sample_gp %in% grep(\"C12Rectum\",sample_list)) & (cell_assignment == \"T cell\")\n",
    "tagcoord=rtsne_allcell$Y[tagcell,]\n",
    "colvector=rep(1,length(tagcell))\n",
    "labeltouse=c(\"others\")\n",
    "for(i in 1:3){\n",
    "    tag_clonetype=T_clonetype_stat$clone_id[T_clonetype_stat$groups==\"C12Rectum\"][i]\n",
    "    tag_bc=T_tag_mat$barcode[T_tag_mat$id %in% tag_clonetype]\n",
    "    tag_cell=which(rownames(ExpressionNormed)[tagcell] %in% tag_bc)\n",
    "    colvector[tag_cell]=i+1\n",
    "    labeltouse=c(labeltouse,as.character(tag_clonetype))\n",
    "}\n",
    "colvector=c(\"grey\",RColorBrewer::brewer.pal(3,\"Set1\"))[colvector]\n",
    "\n",
    "plot(tagcoord,pch=19,col=colvector,cex=0.5,main=\"top 3 expanded clonetype in T cell\",\n",
    "     xlim=c(min(rtsne_allcell$Y[,1]),max(rtsne_allcell$Y[,1])+20),ylim=c(min(rtsne_allcell$Y[,2]),max(rtsne_allcell$Y[,2])),\n",
    "    xlab=\"TSNE 1\",ylab=\"TSNE 2\")\n",
    "legend(\"topright\",labeltouse,bty = \"n\",lty=0,pch=19,col=c(\"grey\",RColorBrewer::brewer.pal(3,\"Set1\")))\n",
    "\n",
    "#B cell\n",
    "tagcell=(sample_gp %in% grep(\"C12Rectum\",sample_list)) & (cell_assignment == \"B cell\")\n",
    "tagcoord=rtsne_allcell$Y[tagcell,]\n",
    "colvector=rep(1,length(tagcell))\n",
    "labeltouse=c(\"others\")\n",
    "for(i in 1:3){\n",
    "    tag_clonetype=B_clonetype_stat$clone_id[B_clonetype_stat$groups==\"C12Rectum\"][i]\n",
    "    tag_bc=B_tag_mat$barcode[B_tag_mat$id %in% tag_clonetype]\n",
    "    tag_cell=which(rownames(ExpressionMat)[tagcell] %in% tag_bc)\n",
    "    colvector[tag_cell]=i+1\n",
    "    labeltouse=c(labeltouse,as.character(tag_clonetype))\n",
    "}\n",
    "colvector=c(\"grey\",RColorBrewer::brewer.pal(3,\"Set1\"))[colvector]\n",
    "\n",
    "plot(tagcoord,pch=19,col=colvector,cex=0.5,main=\"top 3 expanded clonetype in B cell\",\n",
    "     xlim=c(min(rtsne_allcell$Y[,1]),max(rtsne_allcell$Y[,1])+20),ylim=c(min(rtsne_allcell$Y[,2]),max(rtsne_allcell$Y[,2])),\n",
    "    xlab=\"TSNE 1\",ylab=\"TSNE 2\")\n",
    "legend(\"topright\",labeltouse,bty = \"n\",lty=0,pch=19,col=c(\"grey\",RColorBrewer::brewer.pal(3,\"Set1\")))\n",
    "dev.off()"
   ]
  },
  {
   "cell_type": "code",
   "execution_count": 12,
   "metadata": {
    "collapsed": false
   },
   "outputs": [
    {
     "data": {
      "text/html": [
       "<ol class=list-inline>\n",
       "\t<li>'not expanded'</li>\n",
       "\t<li>'1287'</li>\n",
       "\t<li>'1285'</li>\n",
       "\t<li>'1286'</li>\n",
       "\t<li>'1286'</li>\n",
       "</ol>\n"
      ],
      "text/latex": [
       "\\begin{enumerate*}\n",
       "\\item 'not expanded'\n",
       "\\item '1287'\n",
       "\\item '1285'\n",
       "\\item '1286'\n",
       "\\item '1286'\n",
       "\\end{enumerate*}\n"
      ],
      "text/markdown": [
       "1. 'not expanded'\n",
       "2. '1287'\n",
       "3. '1285'\n",
       "4. '1286'\n",
       "5. '1286'\n",
       "\n",
       "\n"
      ],
      "text/plain": [
       "[1] \"not expanded\" \"1287\"         \"1285\"         \"1286\"         \"1286\"        "
      ]
     },
     "metadata": {},
     "output_type": "display_data"
    }
   ],
   "source": [
    "c(labeltouse,tag_clonetype)"
   ]
  },
  {
   "cell_type": "code",
   "execution_count": 13,
   "metadata": {
    "collapsed": false
   },
   "outputs": [
    {
     "data": {
      "text/html": [
       "clonetype_609"
      ],
      "text/latex": [
       "clonetype\\_609"
      ],
      "text/markdown": [
       "clonetype_609"
      ],
      "text/plain": [
       "[1] clonetype_609\n",
       "2094 Levels: clonetype_1 clonetype_10 clonetype_100 ... clonetype_2094"
      ]
     },
     "metadata": {},
     "output_type": "display_data"
    }
   ],
   "source": [
    "tag_clonetype"
   ]
  },
  {
   "cell_type": "code",
   "execution_count": 9,
   "metadata": {
    "collapsed": false
   },
   "outputs": [
    {
     "data": {
      "text/html": [
       "<table>\n",
       "<thead><tr><th></th><th scope=col>clone_id</th><th scope=col>count</th><th scope=col>freq</th><th scope=col>groups</th></tr></thead>\n",
       "<tbody>\n",
       "\t<tr><th scope=row>1310</th><td>clonetype_610 </td><td>51            </td><td>0.03233989    </td><td>C12Rectum     </td></tr>\n",
       "\t<tr><th scope=row>1308</th><td>clonetype_608 </td><td>39            </td><td>0.02473050    </td><td>C12Rectum     </td></tr>\n",
       "\t<tr><th scope=row>1718</th><td>clonetype_1693</td><td> 3            </td><td>0.02362205    </td><td>C9pBMC        </td></tr>\n",
       "\t<tr><th scope=row>1309</th><td>clonetype_609 </td><td>35            </td><td>0.02219404    </td><td>C12Rectum     </td></tr>\n",
       "\t<tr><th scope=row>1704</th><td>clonetype_1679</td><td> 2            </td><td>0.01574803    </td><td>C9pBMC        </td></tr>\n",
       "</tbody>\n",
       "</table>\n"
      ],
      "text/latex": [
       "\\begin{tabular}{r|llll}\n",
       "  & clone\\_id & count & freq & groups\\\\\n",
       "\\hline\n",
       "\t1310 & clonetype\\_610  & 51               & 0.03233989       & C12Rectum       \\\\\n",
       "\t1308 & clonetype\\_608  & 39               & 0.02473050       & C12Rectum       \\\\\n",
       "\t1718 & clonetype\\_1693 &  3               & 0.02362205       & C9pBMC          \\\\\n",
       "\t1309 & clonetype\\_609  & 35               & 0.02219404       & C12Rectum       \\\\\n",
       "\t1704 & clonetype\\_1679 &  2               & 0.01574803       & C9pBMC          \\\\\n",
       "\\end{tabular}\n"
      ],
      "text/markdown": [
       "\n",
       "| <!--/--> | clone_id | count | freq | groups | \n",
       "|---|---|---|---|---|\n",
       "| 1310 | clonetype_610  | 51             | 0.03233989     | C12Rectum      | \n",
       "| 1308 | clonetype_608  | 39             | 0.02473050     | C12Rectum      | \n",
       "| 1718 | clonetype_1693 |  3             | 0.02362205     | C9pBMC         | \n",
       "| 1309 | clonetype_609  | 35             | 0.02219404     | C12Rectum      | \n",
       "| 1704 | clonetype_1679 |  2             | 0.01574803     | C9pBMC         | \n",
       "\n",
       "\n"
      ],
      "text/plain": [
       "     clone_id       count freq       groups   \n",
       "1310 clonetype_610  51    0.03233989 C12Rectum\n",
       "1308 clonetype_608  39    0.02473050 C12Rectum\n",
       "1718 clonetype_1693  3    0.02362205 C9pBMC   \n",
       "1309 clonetype_609  35    0.02219404 C12Rectum\n",
       "1704 clonetype_1679  2    0.01574803 C9pBMC   "
      ]
     },
     "metadata": {},
     "output_type": "display_data"
    }
   ],
   "source": [
    "clonetype_stat[1:5,]"
   ]
  },
  {
   "cell_type": "code",
   "execution_count": 38,
   "metadata": {
    "collapsed": false
   },
   "outputs": [
    {
     "data": {
      "text/html": [
       "<table>\n",
       "<thead><tr><th scope=col>barcode</th><th scope=col>countTRA</th><th scope=col>countTRB</th><th scope=col>countother</th></tr></thead>\n",
       "<tbody>\n",
       "\t<tr><td>AGTGTCACAGGATTGG-1</td><td>2                 </td><td>1                 </td><td>0                 </td></tr>\n",
       "\t<tr><td>CCGTACTGTAGCAAAT-1</td><td>2                 </td><td>1                 </td><td>0                 </td></tr>\n",
       "\t<tr><td>CTGCGGAAGGAGTCTG-1</td><td>2                 </td><td>1                 </td><td>0                 </td></tr>\n",
       "\t<tr><td>GTACTTTAGCTAGGCA-1</td><td>2                 </td><td>1                 </td><td>0                 </td></tr>\n",
       "\t<tr><td>GTCGTAAGTTCTGAAC-1</td><td>2                 </td><td>1                 </td><td>0                 </td></tr>\n",
       "</tbody>\n",
       "</table>\n"
      ],
      "text/latex": [
       "\\begin{tabular}{r|llll}\n",
       " barcode & countTRA & countTRB & countother\\\\\n",
       "\\hline\n",
       "\t AGTGTCACAGGATTGG-1 & 2                  & 1                  & 0                 \\\\\n",
       "\t CCGTACTGTAGCAAAT-1 & 2                  & 1                  & 0                 \\\\\n",
       "\t CTGCGGAAGGAGTCTG-1 & 2                  & 1                  & 0                 \\\\\n",
       "\t GTACTTTAGCTAGGCA-1 & 2                  & 1                  & 0                 \\\\\n",
       "\t GTCGTAAGTTCTGAAC-1 & 2                  & 1                  & 0                 \\\\\n",
       "\\end{tabular}\n"
      ],
      "text/markdown": [
       "\n",
       "barcode | countTRA | countTRB | countother | \n",
       "|---|---|---|---|---|\n",
       "| AGTGTCACAGGATTGG-1 | 2                  | 1                  | 0                  | \n",
       "| CCGTACTGTAGCAAAT-1 | 2                  | 1                  | 0                  | \n",
       "| CTGCGGAAGGAGTCTG-1 | 2                  | 1                  | 0                  | \n",
       "| GTACTTTAGCTAGGCA-1 | 2                  | 1                  | 0                  | \n",
       "| GTCGTAAGTTCTGAAC-1 | 2                  | 1                  | 0                  | \n",
       "\n",
       "\n"
      ],
      "text/plain": [
       "  barcode            countTRA countTRB countother\n",
       "1 AGTGTCACAGGATTGG-1 2        1        0         \n",
       "2 CCGTACTGTAGCAAAT-1 2        1        0         \n",
       "3 CTGCGGAAGGAGTCTG-1 2        1        0         \n",
       "4 GTACTTTAGCTAGGCA-1 2        1        0         \n",
       "5 GTCGTAAGTTCTGAAC-1 2        1        0         "
      ]
     },
     "metadata": {},
     "output_type": "display_data"
    }
   ],
   "source": [
    "counttbl[counttbl$countTRA>=2,][1:5,]"
   ]
  },
  {
   "cell_type": "code",
   "execution_count": 40,
   "metadata": {
    "collapsed": false
   },
   "outputs": [
    {
     "data": {
      "text/html": [
       "<table>\n",
       "<thead><tr><th></th><th scope=col>barcode</th><th scope=col>is_cell</th><th scope=col>contig_id</th><th scope=col>high_confidence</th><th scope=col>length</th><th scope=col>chain</th><th scope=col>v_gene</th><th scope=col>d_gene</th><th scope=col>j_gene</th><th scope=col>c_gene</th><th scope=col>full_length</th><th scope=col>productive</th><th scope=col>cdr3</th><th scope=col>cdr3_nt</th><th scope=col>reads</th><th scope=col>umis</th><th scope=col>raw_clonotype_id</th><th scope=col>raw_consensus_id</th></tr></thead>\n",
       "<tbody>\n",
       "\t<tr><th scope=row>118</th><td>AGTGTCACAGGATTGG-1                           </td><td>TRUE                                         </td><td>AGTGTCACAGGATTGG-1_contig_1                  </td><td>TRUE                                         </td><td>657                                          </td><td>TRB                                          </td><td>TRBV6-1                                      </td><td>TRBD2                                        </td><td>TRBJ2-3                                      </td><td>TRBC2                                        </td><td>TRUE                                         </td><td>TRUE                                         </td><td>CASSGLAGYTDTQYF                              </td><td>TGTGCCAGCAGTGGACTAGCGGGGTACACAGATACGCAGTATTTT</td><td>37389                                        </td><td>13                                           </td><td>clonotype14                                  </td><td>clonotype14_consensus_2                      </td></tr>\n",
       "\t<tr><th scope=row>119</th><td>AGTGTCACAGGATTGG-1                           </td><td>TRUE                                         </td><td>AGTGTCACAGGATTGG-1_contig_2                  </td><td>TRUE                                         </td><td>741                                          </td><td>TRA                                          </td><td>TRAV12-1                                     </td><td>NA                                           </td><td>TRAJ31                                       </td><td>TRAC                                         </td><td>TRUE                                         </td><td>TRUE                                         </td><td>CVVNLKEARLMF                                 </td><td>TGTGTGGTGAACCTGAAGGAGGCCAGACTCATGTTT         </td><td>32733                                        </td><td> 8                                           </td><td>clonotype14                                  </td><td>clonotype14_consensus_1                      </td></tr>\n",
       "\t<tr><th scope=row>120</th><td>AGTGTCACAGGATTGG-1                           </td><td>TRUE                                         </td><td>AGTGTCACAGGATTGG-1_contig_3                  </td><td>TRUE                                         </td><td>744                                          </td><td>TRA                                          </td><td>TRAV12-3                                     </td><td>NA                                           </td><td>TRAJ13                                       </td><td>TRAC                                         </td><td>TRUE                                         </td><td>TRUE                                         </td><td>CAMSAGYQKVTF                                 </td><td>TGTGCAATGAGCGCTGGTTACCAGAAAGTTACCTTT         </td><td>17387                                        </td><td> 6                                           </td><td>clonotype14                                  </td><td>clonotype14_consensus_3                      </td></tr>\n",
       "</tbody>\n",
       "</table>\n"
      ],
      "text/latex": [
       "\\begin{tabular}{r|llllllllllllllllll}\n",
       "  & barcode & is\\_cell & contig\\_id & high\\_confidence & length & chain & v\\_gene & d\\_gene & j\\_gene & c\\_gene & full\\_length & productive & cdr3 & cdr3\\_nt & reads & umis & raw\\_clonotype\\_id & raw\\_consensus\\_id\\\\\n",
       "\\hline\n",
       "\t118 & AGTGTCACAGGATTGG-1                            & TRUE                                          & AGTGTCACAGGATTGG-1\\_contig\\_1               & TRUE                                          & 657                                           & TRB                                           & TRBV6-1                                       & TRBD2                                         & TRBJ2-3                                       & TRBC2                                         & TRUE                                          & TRUE                                          & CASSGLAGYTDTQYF                               & TGTGCCAGCAGTGGACTAGCGGGGTACACAGATACGCAGTATTTT & 37389                                         & 13                                            & clonotype14                                   & clonotype14\\_consensus\\_2                  \\\\\n",
       "\t119 & AGTGTCACAGGATTGG-1                            & TRUE                                          & AGTGTCACAGGATTGG-1\\_contig\\_2               & TRUE                                          & 741                                           & TRA                                           & TRAV12-1                                      & NA                                            & TRAJ31                                        & TRAC                                          & TRUE                                          & TRUE                                          & CVVNLKEARLMF                                  & TGTGTGGTGAACCTGAAGGAGGCCAGACTCATGTTT          & 32733                                         &  8                                            & clonotype14                                   & clonotype14\\_consensus\\_1                  \\\\\n",
       "\t120 & AGTGTCACAGGATTGG-1                            & TRUE                                          & AGTGTCACAGGATTGG-1\\_contig\\_3               & TRUE                                          & 744                                           & TRA                                           & TRAV12-3                                      & NA                                            & TRAJ13                                        & TRAC                                          & TRUE                                          & TRUE                                          & CAMSAGYQKVTF                                  & TGTGCAATGAGCGCTGGTTACCAGAAAGTTACCTTT          & 17387                                         &  6                                            & clonotype14                                   & clonotype14\\_consensus\\_3                  \\\\\n",
       "\\end{tabular}\n"
      ],
      "text/markdown": [
       "\n",
       "| <!--/--> | barcode | is_cell | contig_id | high_confidence | length | chain | v_gene | d_gene | j_gene | c_gene | full_length | productive | cdr3 | cdr3_nt | reads | umis | raw_clonotype_id | raw_consensus_id | \n",
       "|---|---|---|\n",
       "| 118 | AGTGTCACAGGATTGG-1                            | TRUE                                          | AGTGTCACAGGATTGG-1_contig_1                   | TRUE                                          | 657                                           | TRB                                           | TRBV6-1                                       | TRBD2                                         | TRBJ2-3                                       | TRBC2                                         | TRUE                                          | TRUE                                          | CASSGLAGYTDTQYF                               | TGTGCCAGCAGTGGACTAGCGGGGTACACAGATACGCAGTATTTT | 37389                                         | 13                                            | clonotype14                                   | clonotype14_consensus_2                       | \n",
       "| 119 | AGTGTCACAGGATTGG-1                            | TRUE                                          | AGTGTCACAGGATTGG-1_contig_2                   | TRUE                                          | 741                                           | TRA                                           | TRAV12-1                                      | NA                                            | TRAJ31                                        | TRAC                                          | TRUE                                          | TRUE                                          | CVVNLKEARLMF                                  | TGTGTGGTGAACCTGAAGGAGGCCAGACTCATGTTT          | 32733                                         |  8                                            | clonotype14                                   | clonotype14_consensus_1                       | \n",
       "| 120 | AGTGTCACAGGATTGG-1                            | TRUE                                          | AGTGTCACAGGATTGG-1_contig_3                   | TRUE                                          | 744                                           | TRA                                           | TRAV12-3                                      | NA                                            | TRAJ13                                        | TRAC                                          | TRUE                                          | TRUE                                          | CAMSAGYQKVTF                                  | TGTGCAATGAGCGCTGGTTACCAGAAAGTTACCTTT          | 17387                                         |  6                                            | clonotype14                                   | clonotype14_consensus_3                       | \n",
       "\n",
       "\n"
      ],
      "text/plain": [
       "    barcode            is_cell contig_id                   high_confidence\n",
       "118 AGTGTCACAGGATTGG-1 TRUE    AGTGTCACAGGATTGG-1_contig_1 TRUE           \n",
       "119 AGTGTCACAGGATTGG-1 TRUE    AGTGTCACAGGATTGG-1_contig_2 TRUE           \n",
       "120 AGTGTCACAGGATTGG-1 TRUE    AGTGTCACAGGATTGG-1_contig_3 TRUE           \n",
       "    length chain v_gene   d_gene j_gene  c_gene full_length productive\n",
       "118 657    TRB   TRBV6-1  TRBD2  TRBJ2-3 TRBC2  TRUE        TRUE      \n",
       "119 741    TRA   TRAV12-1 NA     TRAJ31  TRAC   TRUE        TRUE      \n",
       "120 744    TRA   TRAV12-3 NA     TRAJ13  TRAC   TRUE        TRUE      \n",
       "    cdr3            cdr3_nt                                       reads umis\n",
       "118 CASSGLAGYTDTQYF TGTGCCAGCAGTGGACTAGCGGGGTACACAGATACGCAGTATTTT 37389 13  \n",
       "119 CVVNLKEARLMF    TGTGTGGTGAACCTGAAGGAGGCCAGACTCATGTTT          32733  8  \n",
       "120 CAMSAGYQKVTF    TGTGCAATGAGCGCTGGTTACCAGAAAGTTACCTTT          17387  6  \n",
       "    raw_clonotype_id raw_consensus_id       \n",
       "118 clonotype14      clonotype14_consensus_2\n",
       "119 clonotype14      clonotype14_consensus_1\n",
       "120 clonotype14      clonotype14_consensus_3"
      ]
     },
     "metadata": {},
     "output_type": "display_data"
    }
   ],
   "source": [
    "tagTCR[tagTCR$barcode==\"AGTGTCACAGGATTGG-1\",]"
   ]
  },
  {
   "cell_type": "code",
   "execution_count": 5,
   "metadata": {
    "collapsed": false
   },
   "outputs": [],
   "source": [
    "tagTCR=TCR_annoation[TCR_annoation$productive & TCR_annoation$high_confidence,]\n",
    "tagTCR=tagTCR[!is.na(tagTCR$productive),]\n",
    "dtTCR=data.table(tagTCR)\n",
    "counttbl=dtTCR[,.(countTRA=sum(chain==\"TRA\"),countTRB=sum(chain==\"TRB\"),\n",
    "                  countTRG=sum(chain==\"TRG\"),countTRD=sum(chain==\"TRD\"),\n",
    "                  countother=sum(chain!=\"TRB\" &chain!=\"TRA\" &chain!=\"TRD\" &chain!=\"TRG\")),by=barcode]"
   ]
  },
  {
   "cell_type": "code",
   "execution_count": 9,
   "metadata": {
    "collapsed": false
   },
   "outputs": [
    {
     "data": {
      "text/html": [
       "<ol class=list-inline>\n",
       "\t<li>'TRB'</li>\n",
       "\t<li>'TRA'</li>\n",
       "\t<li>'Multi'</li>\n",
       "\t<li>'TRD'</li>\n",
       "</ol>\n"
      ],
      "text/latex": [
       "\\begin{enumerate*}\n",
       "\\item 'TRB'\n",
       "\\item 'TRA'\n",
       "\\item 'Multi'\n",
       "\\item 'TRD'\n",
       "\\end{enumerate*}\n"
      ],
      "text/markdown": [
       "1. 'TRB'\n",
       "2. 'TRA'\n",
       "3. 'Multi'\n",
       "4. 'TRD'\n",
       "\n",
       "\n"
      ],
      "text/plain": [
       "[1] \"TRB\"   \"TRA\"   \"Multi\" \"TRD\"  "
      ]
     },
     "metadata": {},
     "output_type": "display_data"
    },
    {
     "data": {
      "text/html": [
       "4253"
      ],
      "text/latex": [
       "4253"
      ],
      "text/markdown": [
       "4253"
      ],
      "text/plain": [
       "[1] 4253"
      ]
     },
     "metadata": {},
     "output_type": "display_data"
    }
   ],
   "source": [
    "unique(dtTCR$chain)\n",
    "length(unique(dtTCR$barcode))"
   ]
  },
  {
   "cell_type": "code",
   "execution_count": 6,
   "metadata": {
    "collapsed": false
   },
   "outputs": [
    {
     "data": {
      "text/plain": [
       "   \n",
       "       0    1\n",
       "  0 4252    1"
      ]
     },
     "metadata": {},
     "output_type": "display_data"
    }
   ],
   "source": [
    "table(counttbl$countTRG,counttbl$countTRD)"
   ]
  },
  {
   "cell_type": "code",
   "execution_count": 24,
   "metadata": {
    "collapsed": false
   },
   "outputs": [
    {
     "data": {
      "text/plain": [
       "   \n",
       "       0    1    2    3\n",
       "  0    1  365  186    8\n",
       "  1   29 2123  766   34\n",
       "  2   13  412  241   14\n",
       "  3    0   10   18    0"
      ]
     },
     "metadata": {},
     "output_type": "display_data"
    }
   ],
   "source": [
    "table(counttbl$countTRA,counttbl$countTRB)"
   ]
  },
  {
   "cell_type": "code",
   "execution_count": 32,
   "metadata": {
    "collapsed": false
   },
   "outputs": [],
   "source": [
    "tagBCR=BCR_annoation[BCR_annoation$productive & BCR_annoation$high_confidence,]\n",
    "tagBCR=tagBCR[!is.na(tagBCR$productive),]\n",
    "dtBCR=data.table(tagBCR)\n",
    "counttbl=dtBCR[,.(countIGL=sum(chain==\"IGL\"),countIGH=sum(chain==\"IGH\"),countIGK=sum(chain==\"IGK\"),countMulti=sum(chain==\"Multi\")),by=barcode]"
   ]
  },
  {
   "cell_type": "code",
   "execution_count": 25,
   "metadata": {
    "collapsed": false
   },
   "outputs": [
    {
     "data": {
      "text/html": [
       "<table>\n",
       "<thead><tr><th></th><th scope=col>barcode</th><th scope=col>is_cell</th><th scope=col>contig_id</th><th scope=col>high_confidence</th><th scope=col>length</th><th scope=col>chain</th><th scope=col>v_gene</th><th scope=col>d_gene</th><th scope=col>j_gene</th><th scope=col>c_gene</th><th scope=col>full_length</th><th scope=col>productive</th><th scope=col>cdr3</th><th scope=col>cdr3_nt</th><th scope=col>reads</th><th scope=col>umis</th><th scope=col>raw_clonotype_id</th><th scope=col>raw_consensus_id</th></tr></thead>\n",
       "<tbody>\n",
       "\t<tr><th scope=row>1</th><td>AAGGTTCTCACATGCA-1                     </td><td>TRUE                                   </td><td>AAGGTTCTCACATGCA-1_contig_1            </td><td> TRUE                                  </td><td>682                                    </td><td>IGL                                    </td><td>IGLV3-10                               </td><td>NA                                     </td><td>IGLJ3                                  </td><td>IGLC2                                  </td><td> TRUE                                  </td><td>TRUE                                   </td><td>CYSTDSSGNHWVF                          </td><td>TGTTACTCAACAGACAGCAGTGGTAATCATTGGGTGTTC</td><td>4444                                   </td><td>22                                     </td><td>clonotype6                             </td><td>clonotype6_consensus_2                 </td></tr>\n",
       "\t<tr><th scope=row>2</th><td>AAGGTTCTCACATGCA-1                     </td><td>TRUE                                   </td><td>AAGGTTCTCACATGCA-1_contig_2            </td><td>FALSE                                  </td><td>788                                    </td><td>IGL                                    </td><td>IGLV3-10                               </td><td>NA                                     </td><td>IGLJ3                                  </td><td>IGLC2                                  </td><td>FALSE                                  </td><td>  NA                                   </td><td>CYSTDSSGNHWVF                          </td><td>TGTTACTCAACAGACAGCAGTGGTAATCATTGGGTGTTC</td><td> 362                                   </td><td> 2                                     </td><td>clonotype6                             </td><td>NA                                     </td></tr>\n",
       "\t<tr><th scope=row>3</th><td>AAGGTTCTCACATGCA-1                     </td><td>TRUE                                   </td><td>AAGGTTCTCACATGCA-1_contig_3            </td><td> TRUE                                  </td><td>535                                    </td><td>IGH                                    </td><td>IGHV3-33                               </td><td>IGHD4-17                               </td><td>IGHJ1                                  </td><td>IGHM                                   </td><td> TRUE                                  </td><td>TRUE                                   </td><td>CALGDSRDQNW                            </td><td>TGTGCGCTCGGTGACTCCCGAGACCAGAACTGG      </td><td> 177                                   </td><td> 4                                     </td><td>clonotype6                             </td><td>clonotype6_consensus_1                 </td></tr>\n",
       "\t<tr><th scope=row>5</th><td>ACACCGGAGATGTAAC-1                     </td><td>TRUE                                   </td><td>ACACCGGAGATGTAAC-1_contig_2            </td><td> TRUE                                  </td><td>577                                    </td><td>IGK                                    </td><td>IGKV1D-39                              </td><td>NA                                     </td><td>IGKJ3                                  </td><td>IGKC                                   </td><td> TRUE                                  </td><td>TRUE                                   </td><td>CQQSYSTLFTF                            </td><td>TGTCAACAGAGTTACAGTACCTTATTCACTTTC      </td><td> 411                                   </td><td> 2                                     </td><td>clonotype7                             </td><td>clonotype7_consensus_1                 </td></tr>\n",
       "\t<tr><th scope=row>6</th><td>ACACCGGAGATGTAAC-1                     </td><td>TRUE                                   </td><td>ACACCGGAGATGTAAC-1_contig_3            </td><td> TRUE                                  </td><td>440                                    </td><td>IGH                                    </td><td>IGHV3-7                                </td><td>NA                                     </td><td>NA                                     </td><td>NA                                     </td><td>FALSE                                  </td><td>  NA                                   </td><td>NA                                     </td><td>NA                                     </td><td> 126                                   </td><td> 1                                     </td><td>clonotype7                             </td><td>NA                                     </td></tr>\n",
       "</tbody>\n",
       "</table>\n"
      ],
      "text/latex": [
       "\\begin{tabular}{r|llllllllllllllllll}\n",
       "  & barcode & is\\_cell & contig\\_id & high\\_confidence & length & chain & v\\_gene & d\\_gene & j\\_gene & c\\_gene & full\\_length & productive & cdr3 & cdr3\\_nt & reads & umis & raw\\_clonotype\\_id & raw\\_consensus\\_id\\\\\n",
       "\\hline\n",
       "\t1 & AAGGTTCTCACATGCA-1                      & TRUE                                    & AAGGTTCTCACATGCA-1\\_contig\\_1         &  TRUE                                   & 682                                     & IGL                                     & IGLV3-10                                & NA                                      & IGLJ3                                   & IGLC2                                   &  TRUE                                   & TRUE                                    & CYSTDSSGNHWVF                           & TGTTACTCAACAGACAGCAGTGGTAATCATTGGGTGTTC & 4444                                    & 22                                      & clonotype6                              & clonotype6\\_consensus\\_2             \\\\\n",
       "\t2 & AAGGTTCTCACATGCA-1                      & TRUE                                    & AAGGTTCTCACATGCA-1\\_contig\\_2         & FALSE                                   & 788                                     & IGL                                     & IGLV3-10                                & NA                                      & IGLJ3                                   & IGLC2                                   & FALSE                                   &   NA                                    & CYSTDSSGNHWVF                           & TGTTACTCAACAGACAGCAGTGGTAATCATTGGGTGTTC &  362                                    &  2                                      & clonotype6                              & NA                                     \\\\\n",
       "\t3 & AAGGTTCTCACATGCA-1                      & TRUE                                    & AAGGTTCTCACATGCA-1\\_contig\\_3         &  TRUE                                   & 535                                     & IGH                                     & IGHV3-33                                & IGHD4-17                                & IGHJ1                                   & IGHM                                    &  TRUE                                   & TRUE                                    & CALGDSRDQNW                             & TGTGCGCTCGGTGACTCCCGAGACCAGAACTGG       &  177                                    &  4                                      & clonotype6                              & clonotype6\\_consensus\\_1             \\\\\n",
       "\t5 & ACACCGGAGATGTAAC-1                      & TRUE                                    & ACACCGGAGATGTAAC-1\\_contig\\_2         &  TRUE                                   & 577                                     & IGK                                     & IGKV1D-39                               & NA                                      & IGKJ3                                   & IGKC                                    &  TRUE                                   & TRUE                                    & CQQSYSTLFTF                             & TGTCAACAGAGTTACAGTACCTTATTCACTTTC       &  411                                    &  2                                      & clonotype7                              & clonotype7\\_consensus\\_1             \\\\\n",
       "\t6 & ACACCGGAGATGTAAC-1                      & TRUE                                    & ACACCGGAGATGTAAC-1\\_contig\\_3         &  TRUE                                   & 440                                     & IGH                                     & IGHV3-7                                 & NA                                      & NA                                      & NA                                      & FALSE                                   &   NA                                    & NA                                      & NA                                      &  126                                    &  1                                      & clonotype7                              & NA                                     \\\\\n",
       "\\end{tabular}\n"
      ],
      "text/markdown": [
       "\n",
       "| <!--/--> | barcode | is_cell | contig_id | high_confidence | length | chain | v_gene | d_gene | j_gene | c_gene | full_length | productive | cdr3 | cdr3_nt | reads | umis | raw_clonotype_id | raw_consensus_id | \n",
       "|---|---|---|---|---|\n",
       "| 1 | AAGGTTCTCACATGCA-1                      | TRUE                                    | AAGGTTCTCACATGCA-1_contig_1             |  TRUE                                   | 682                                     | IGL                                     | IGLV3-10                                | NA                                      | IGLJ3                                   | IGLC2                                   |  TRUE                                   | TRUE                                    | CYSTDSSGNHWVF                           | TGTTACTCAACAGACAGCAGTGGTAATCATTGGGTGTTC | 4444                                    | 22                                      | clonotype6                              | clonotype6_consensus_2                  | \n",
       "| 2 | AAGGTTCTCACATGCA-1                      | TRUE                                    | AAGGTTCTCACATGCA-1_contig_2             | FALSE                                   | 788                                     | IGL                                     | IGLV3-10                                | NA                                      | IGLJ3                                   | IGLC2                                   | FALSE                                   |   NA                                    | CYSTDSSGNHWVF                           | TGTTACTCAACAGACAGCAGTGGTAATCATTGGGTGTTC |  362                                    |  2                                      | clonotype6                              | NA                                      | \n",
       "| 3 | AAGGTTCTCACATGCA-1                      | TRUE                                    | AAGGTTCTCACATGCA-1_contig_3             |  TRUE                                   | 535                                     | IGH                                     | IGHV3-33                                | IGHD4-17                                | IGHJ1                                   | IGHM                                    |  TRUE                                   | TRUE                                    | CALGDSRDQNW                             | TGTGCGCTCGGTGACTCCCGAGACCAGAACTGG       |  177                                    |  4                                      | clonotype6                              | clonotype6_consensus_1                  | \n",
       "| 5 | ACACCGGAGATGTAAC-1                      | TRUE                                    | ACACCGGAGATGTAAC-1_contig_2             |  TRUE                                   | 577                                     | IGK                                     | IGKV1D-39                               | NA                                      | IGKJ3                                   | IGKC                                    |  TRUE                                   | TRUE                                    | CQQSYSTLFTF                             | TGTCAACAGAGTTACAGTACCTTATTCACTTTC       |  411                                    |  2                                      | clonotype7                              | clonotype7_consensus_1                  | \n",
       "| 6 | ACACCGGAGATGTAAC-1                      | TRUE                                    | ACACCGGAGATGTAAC-1_contig_3             |  TRUE                                   | 440                                     | IGH                                     | IGHV3-7                                 | NA                                      | NA                                      | NA                                      | FALSE                                   |   NA                                    | NA                                      | NA                                      |  126                                    |  1                                      | clonotype7                              | NA                                      | \n",
       "\n",
       "\n"
      ],
      "text/plain": [
       "  barcode            is_cell contig_id                   high_confidence length\n",
       "1 AAGGTTCTCACATGCA-1 TRUE    AAGGTTCTCACATGCA-1_contig_1  TRUE           682   \n",
       "2 AAGGTTCTCACATGCA-1 TRUE    AAGGTTCTCACATGCA-1_contig_2 FALSE           788   \n",
       "3 AAGGTTCTCACATGCA-1 TRUE    AAGGTTCTCACATGCA-1_contig_3  TRUE           535   \n",
       "5 ACACCGGAGATGTAAC-1 TRUE    ACACCGGAGATGTAAC-1_contig_2  TRUE           577   \n",
       "6 ACACCGGAGATGTAAC-1 TRUE    ACACCGGAGATGTAAC-1_contig_3  TRUE           440   \n",
       "  chain v_gene    d_gene   j_gene c_gene full_length productive cdr3         \n",
       "1 IGL   IGLV3-10  NA       IGLJ3  IGLC2   TRUE       TRUE       CYSTDSSGNHWVF\n",
       "2 IGL   IGLV3-10  NA       IGLJ3  IGLC2  FALSE         NA       CYSTDSSGNHWVF\n",
       "3 IGH   IGHV3-33  IGHD4-17 IGHJ1  IGHM    TRUE       TRUE       CALGDSRDQNW  \n",
       "5 IGK   IGKV1D-39 NA       IGKJ3  IGKC    TRUE       TRUE       CQQSYSTLFTF  \n",
       "6 IGH   IGHV3-7   NA       NA     NA     FALSE         NA       NA           \n",
       "  cdr3_nt                                 reads umis raw_clonotype_id\n",
       "1 TGTTACTCAACAGACAGCAGTGGTAATCATTGGGTGTTC 4444  22   clonotype6      \n",
       "2 TGTTACTCAACAGACAGCAGTGGTAATCATTGGGTGTTC  362   2   clonotype6      \n",
       "3 TGTGCGCTCGGTGACTCCCGAGACCAGAACTGG        177   4   clonotype6      \n",
       "5 TGTCAACAGAGTTACAGTACCTTATTCACTTTC        411   2   clonotype7      \n",
       "6 NA                                       126   1   clonotype7      \n",
       "  raw_consensus_id      \n",
       "1 clonotype6_consensus_2\n",
       "2 NA                    \n",
       "3 clonotype6_consensus_1\n",
       "5 clonotype7_consensus_1\n",
       "6 NA                    "
      ]
     },
     "metadata": {},
     "output_type": "display_data"
    }
   ],
   "source": [
    "BCR_annoation[1:5,]"
   ]
  },
  {
   "cell_type": "code",
   "execution_count": 33,
   "metadata": {
    "collapsed": false
   },
   "outputs": [
    {
     "data": {
      "text/plain": [
       "   \n",
       "       0    1    2\n",
       "  0  624  552    0\n",
       "  1 1841 1259   34\n",
       "  2   27   98   56\n",
       "  3    0    3    0"
      ]
     },
     "metadata": {},
     "output_type": "display_data"
    },
    {
     "data": {
      "text/plain": [
       "   \n",
       "       0    1    2    3\n",
       "  0  459  709    8    0\n",
       "  1 1370 1746   16    2\n",
       "  2   87   82   12    0\n",
       "  3    0    0    3    0"
      ]
     },
     "metadata": {},
     "output_type": "display_data"
    },
    {
     "data": {
      "text/plain": [
       "   \n",
       "       0    1    2\n",
       "  0  318 1524   74\n",
       "  1 2140  381   16\n",
       "  2   33    6    0\n",
       "  3    1    1    0"
      ]
     },
     "metadata": {},
     "output_type": "display_data"
    }
   ],
   "source": [
    "table(counttbl$countIGH,counttbl$countIGL)\n",
    "table(counttbl$countIGH,counttbl$countIGK)\n",
    "table(counttbl$countIGK,counttbl$countIGL)"
   ]
  },
  {
   "cell_type": "code",
   "execution_count": 31,
   "metadata": {
    "collapsed": false
   },
   "outputs": [
    {
     "data": {
      "text/html": [
       "<table>\n",
       "<thead><tr><th scope=col>barcode</th><th scope=col>is_cell</th><th scope=col>contig_id</th><th scope=col>high_confidence</th><th scope=col>length</th><th scope=col>chain</th><th scope=col>v_gene</th><th scope=col>d_gene</th><th scope=col>j_gene</th><th scope=col>c_gene</th><th scope=col>full_length</th><th scope=col>productive</th><th scope=col>cdr3</th><th scope=col>cdr3_nt</th><th scope=col>reads</th><th scope=col>umis</th><th scope=col>raw_clonotype_id</th><th scope=col>raw_consensus_id</th></tr></thead>\n",
       "<tbody>\n",
       "\t<tr><td>AACACGTCAAGTCATC-1                                    </td><td>TRUE                                                  </td><td>AACACGTCAAGTCATC-1_contig_1                           </td><td>TRUE                                                  </td><td>699                                                   </td><td>TRB                                                   </td><td>TRBV7-9                                               </td><td>TRBD1                                                 </td><td>TRBJ2-7                                               </td><td>TRBC2                                                 </td><td> TRUE                                                 </td><td> TRUE                                                 </td><td>CASSSTPGQGNYEQYF                                      </td><td>TGTGCCAGCAGCTCTACGCCGGGACAGGGTAACTACGAGCAGTACTTC      </td><td>80699                                                 </td><td>28                                                    </td><td>clonotype6                                            </td><td>clonotype6_consensus_1                                </td></tr>\n",
       "\t<tr><td>AACACGTCAAGTCATC-1                                    </td><td>TRUE                                                  </td><td>AACACGTCAAGTCATC-1_contig_3                           </td><td>TRUE                                                  </td><td>617                                                   </td><td>TRA                                                   </td><td>TRAV8-6                                               </td><td>NA                                                    </td><td>TRAJ37                                                </td><td>TRAC                                                  </td><td> TRUE                                                 </td><td> TRUE                                                 </td><td>CAADSGNTGKLIF                                         </td><td>TGTGCTGCCGACTCTGGCAACACAGGCAAACTAATCTTT               </td><td> 6705                                                 </td><td> 3                                                    </td><td>clonotype6                                            </td><td>clonotype6_consensus_2                                </td></tr>\n",
       "\t<tr><td>AACTCAGTCTGATACG-1                                    </td><td>TRUE                                                  </td><td>AACTCAGTCTGATACG-1_contig_1                           </td><td>TRUE                                                  </td><td>760                                                   </td><td>TRB                                                   </td><td>TRBV19                                                </td><td>TRBD2                                                 </td><td>TRBJ1-1                                               </td><td>TRBC1                                                 </td><td> TRUE                                                 </td><td> TRUE                                                 </td><td>CASSSGRQAEAFF                                         </td><td>TGTGCCAGTAGCTCGGGACGTCAAGCTGAAGCTTTCTTT               </td><td>12429                                                 </td><td> 4                                                    </td><td>clonotype1                                            </td><td>clonotype1_consensus_1                                </td></tr>\n",
       "\t<tr><td>AACTCAGTCTGATACG-1                                    </td><td>TRUE                                                  </td><td>AACTCAGTCTGATACG-1_contig_14                          </td><td>TRUE                                                  </td><td>332                                                   </td><td>TRG                                                   </td><td>TRGV10                                                </td><td>NA                                                    </td><td>NA                                                    </td><td>NA                                                    </td><td>FALSE                                                 </td><td>FALSE                                                 </td><td>CPHLCTWLSRPILLEL*W                                    </td><td>TGCCCTCATCTTTGCACTTGGCTTTCTAGGCCCATCCTCTTGGAGCTGTAGTGG</td><td>   35                                                 </td><td> 1                                                    </td><td>clonotype1                                            </td><td>NA                                                    </td></tr>\n",
       "\t<tr><td>AACTCAGTCTGATACG-1                                    </td><td>TRUE                                                  </td><td>AACTCAGTCTGATACG-1_contig_31                          </td><td>TRUE                                                  </td><td>351                                                   </td><td>Multi                                                 </td><td>TRBV20-1                                              </td><td>TRBD1                                                 </td><td>TRBJ2-1                                               </td><td>IGHG1                                                 </td><td>FALSE                                                 </td><td>   NA                                                 </td><td>NA                                                    </td><td>NA                                                    </td><td>   55                                                 </td><td> 1                                                    </td><td>clonotype1                                            </td><td>NA                                                    </td></tr>\n",
       "</tbody>\n",
       "</table>\n"
      ],
      "text/latex": [
       "\\begin{tabular}{r|llllllllllllllllll}\n",
       " barcode & is\\_cell & contig\\_id & high\\_confidence & length & chain & v\\_gene & d\\_gene & j\\_gene & c\\_gene & full\\_length & productive & cdr3 & cdr3\\_nt & reads & umis & raw\\_clonotype\\_id & raw\\_consensus\\_id\\\\\n",
       "\\hline\n",
       "\t AACACGTCAAGTCATC-1                                     & TRUE                                                   & AACACGTCAAGTCATC-1\\_contig\\_1                        & TRUE                                                   & 699                                                    & TRB                                                    & TRBV7-9                                                & TRBD1                                                  & TRBJ2-7                                                & TRBC2                                                  &  TRUE                                                  &  TRUE                                                  & CASSSTPGQGNYEQYF                                       & TGTGCCAGCAGCTCTACGCCGGGACAGGGTAACTACGAGCAGTACTTC       & 80699                                                  & 28                                                     & clonotype6                                             & clonotype6\\_consensus\\_1                            \\\\\n",
       "\t AACACGTCAAGTCATC-1                                     & TRUE                                                   & AACACGTCAAGTCATC-1\\_contig\\_3                        & TRUE                                                   & 617                                                    & TRA                                                    & TRAV8-6                                                & NA                                                     & TRAJ37                                                 & TRAC                                                   &  TRUE                                                  &  TRUE                                                  & CAADSGNTGKLIF                                          & TGTGCTGCCGACTCTGGCAACACAGGCAAACTAATCTTT                &  6705                                                  &  3                                                     & clonotype6                                             & clonotype6\\_consensus\\_2                            \\\\\n",
       "\t AACTCAGTCTGATACG-1                                     & TRUE                                                   & AACTCAGTCTGATACG-1\\_contig\\_1                        & TRUE                                                   & 760                                                    & TRB                                                    & TRBV19                                                 & TRBD2                                                  & TRBJ1-1                                                & TRBC1                                                  &  TRUE                                                  &  TRUE                                                  & CASSSGRQAEAFF                                          & TGTGCCAGTAGCTCGGGACGTCAAGCTGAAGCTTTCTTT                & 12429                                                  &  4                                                     & clonotype1                                             & clonotype1\\_consensus\\_1                            \\\\\n",
       "\t AACTCAGTCTGATACG-1                                     & TRUE                                                   & AACTCAGTCTGATACG-1\\_contig\\_14                       & TRUE                                                   & 332                                                    & TRG                                                    & TRGV10                                                 & NA                                                     & NA                                                     & NA                                                     & FALSE                                                  & FALSE                                                  & CPHLCTWLSRPILLEL*W                                     & TGCCCTCATCTTTGCACTTGGCTTTCTAGGCCCATCCTCTTGGAGCTGTAGTGG &    35                                                  &  1                                                     & clonotype1                                             & NA                                                    \\\\\n",
       "\t AACTCAGTCTGATACG-1                                     & TRUE                                                   & AACTCAGTCTGATACG-1\\_contig\\_31                       & TRUE                                                   & 351                                                    & Multi                                                  & TRBV20-1                                               & TRBD1                                                  & TRBJ2-1                                                & IGHG1                                                  & FALSE                                                  &    NA                                                  & NA                                                     & NA                                                     &    55                                                  &  1                                                     & clonotype1                                             & NA                                                    \\\\\n",
       "\\end{tabular}\n"
      ],
      "text/markdown": [
       "\n",
       "barcode | is_cell | contig_id | high_confidence | length | chain | v_gene | d_gene | j_gene | c_gene | full_length | productive | cdr3 | cdr3_nt | reads | umis | raw_clonotype_id | raw_consensus_id | \n",
       "|---|---|---|---|---|\n",
       "| AACACGTCAAGTCATC-1                                     | TRUE                                                   | AACACGTCAAGTCATC-1_contig_1                            | TRUE                                                   | 699                                                    | TRB                                                    | TRBV7-9                                                | TRBD1                                                  | TRBJ2-7                                                | TRBC2                                                  |  TRUE                                                  |  TRUE                                                  | CASSSTPGQGNYEQYF                                       | TGTGCCAGCAGCTCTACGCCGGGACAGGGTAACTACGAGCAGTACTTC       | 80699                                                  | 28                                                     | clonotype6                                             | clonotype6_consensus_1                                 | \n",
       "| AACACGTCAAGTCATC-1                                     | TRUE                                                   | AACACGTCAAGTCATC-1_contig_3                            | TRUE                                                   | 617                                                    | TRA                                                    | TRAV8-6                                                | NA                                                     | TRAJ37                                                 | TRAC                                                   |  TRUE                                                  |  TRUE                                                  | CAADSGNTGKLIF                                          | TGTGCTGCCGACTCTGGCAACACAGGCAAACTAATCTTT                |  6705                                                  |  3                                                     | clonotype6                                             | clonotype6_consensus_2                                 | \n",
       "| AACTCAGTCTGATACG-1                                     | TRUE                                                   | AACTCAGTCTGATACG-1_contig_1                            | TRUE                                                   | 760                                                    | TRB                                                    | TRBV19                                                 | TRBD2                                                  | TRBJ1-1                                                | TRBC1                                                  |  TRUE                                                  |  TRUE                                                  | CASSSGRQAEAFF                                          | TGTGCCAGTAGCTCGGGACGTCAAGCTGAAGCTTTCTTT                | 12429                                                  |  4                                                     | clonotype1                                             | clonotype1_consensus_1                                 | \n",
       "| AACTCAGTCTGATACG-1                                     | TRUE                                                   | AACTCAGTCTGATACG-1_contig_14                           | TRUE                                                   | 332                                                    | TRG                                                    | TRGV10                                                 | NA                                                     | NA                                                     | NA                                                     | FALSE                                                  | FALSE                                                  | CPHLCTWLSRPILLEL*W                                     | TGCCCTCATCTTTGCACTTGGCTTTCTAGGCCCATCCTCTTGGAGCTGTAGTGG |    35                                                  |  1                                                     | clonotype1                                             | NA                                                     | \n",
       "| AACTCAGTCTGATACG-1                                     | TRUE                                                   | AACTCAGTCTGATACG-1_contig_31                           | TRUE                                                   | 351                                                    | Multi                                                  | TRBV20-1                                               | TRBD1                                                  | TRBJ2-1                                                | IGHG1                                                  | FALSE                                                  |    NA                                                  | NA                                                     | NA                                                     |    55                                                  |  1                                                     | clonotype1                                             | NA                                                     | \n",
       "\n",
       "\n"
      ],
      "text/plain": [
       "  barcode            is_cell contig_id                    high_confidence\n",
       "1 AACACGTCAAGTCATC-1 TRUE    AACACGTCAAGTCATC-1_contig_1  TRUE           \n",
       "2 AACACGTCAAGTCATC-1 TRUE    AACACGTCAAGTCATC-1_contig_3  TRUE           \n",
       "3 AACTCAGTCTGATACG-1 TRUE    AACTCAGTCTGATACG-1_contig_1  TRUE           \n",
       "4 AACTCAGTCTGATACG-1 TRUE    AACTCAGTCTGATACG-1_contig_14 TRUE           \n",
       "5 AACTCAGTCTGATACG-1 TRUE    AACTCAGTCTGATACG-1_contig_31 TRUE           \n",
       "  length chain v_gene   d_gene j_gene  c_gene full_length productive\n",
       "1 699    TRB   TRBV7-9  TRBD1  TRBJ2-7 TRBC2   TRUE        TRUE     \n",
       "2 617    TRA   TRAV8-6  NA     TRAJ37  TRAC    TRUE        TRUE     \n",
       "3 760    TRB   TRBV19   TRBD2  TRBJ1-1 TRBC1   TRUE        TRUE     \n",
       "4 332    TRG   TRGV10   NA     NA      NA     FALSE       FALSE     \n",
       "5 351    Multi TRBV20-1 TRBD1  TRBJ2-1 IGHG1  FALSE          NA     \n",
       "  cdr3               cdr3_nt                                               \n",
       "1 CASSSTPGQGNYEQYF   TGTGCCAGCAGCTCTACGCCGGGACAGGGTAACTACGAGCAGTACTTC      \n",
       "2 CAADSGNTGKLIF      TGTGCTGCCGACTCTGGCAACACAGGCAAACTAATCTTT               \n",
       "3 CASSSGRQAEAFF      TGTGCCAGTAGCTCGGGACGTCAAGCTGAAGCTTTCTTT               \n",
       "4 CPHLCTWLSRPILLEL*W TGCCCTCATCTTTGCACTTGGCTTTCTAGGCCCATCCTCTTGGAGCTGTAGTGG\n",
       "5 NA                 NA                                                    \n",
       "  reads umis raw_clonotype_id raw_consensus_id      \n",
       "1 80699 28   clonotype6       clonotype6_consensus_1\n",
       "2  6705  3   clonotype6       clonotype6_consensus_2\n",
       "3 12429  4   clonotype1       clonotype1_consensus_1\n",
       "4    35  1   clonotype1       NA                    \n",
       "5    55  1   clonotype1       NA                    "
      ]
     },
     "metadata": {},
     "output_type": "display_data"
    }
   ],
   "source": [
    "dtBCR[1:5,]"
   ]
  },
  {
   "cell_type": "code",
   "execution_count": null,
   "metadata": {
    "collapsed": true
   },
   "outputs": [],
   "source": []
  }
 ],
 "metadata": {
  "anaconda-cloud": {},
  "kernelspec": {
   "display_name": "R",
   "language": "R",
   "name": "ir"
  },
  "language_info": {
   "codemirror_mode": "r",
   "file_extension": ".r",
   "mimetype": "text/x-r-source",
   "name": "R",
   "pygments_lexer": "r",
   "version": "3.4.4"
  }
 },
 "nbformat": 4,
 "nbformat_minor": 0
}
