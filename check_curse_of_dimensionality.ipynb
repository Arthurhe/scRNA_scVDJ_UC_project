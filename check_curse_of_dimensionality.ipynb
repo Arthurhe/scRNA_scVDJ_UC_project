{
 "cells": [
  {
   "cell_type": "code",
   "execution_count": 1,
   "metadata": {
    "collapsed": false
   },
   "outputs": [
    {
     "name": "stderr",
     "output_type": "stream",
     "text": [
      "Loading required package: igraph\n",
      "\n",
      "Attaching package: ‘igraph’\n",
      "\n",
      "The following objects are masked from ‘package:stats’:\n",
      "\n",
      "    decompose, spectrum\n",
      "\n",
      "The following object is masked from ‘package:base’:\n",
      "\n",
      "    union\n",
      "\n"
     ]
    }
   ],
   "source": [
    "suppressMessages(require(data.table))\n",
    "suppressMessages(require(gplots))\n",
    "suppressMessages(require(matrixStats))\n",
    "suppressMessages(require(RColorBrewer))\n",
    "require(igraph)"
   ]
  },
  {
   "cell_type": "code",
   "execution_count": 2,
   "metadata": {
    "collapsed": true
   },
   "outputs": [],
   "source": [
    "load(\"180505_TPMandRUVscale_1k.Rdata\")"
   ]
  },
  {
   "cell_type": "code",
   "execution_count": 3,
   "metadata": {
    "collapsed": false
   },
   "outputs": [
    {
     "data": {
      "text/html": [
       "<ol class=list-inline>\n",
       "\t<li>'BCR_annoation'</li>\n",
       "\t<li>'BCR_annoation_w'</li>\n",
       "\t<li>'cell_assignment'</li>\n",
       "\t<li>'ExpressionMat'</li>\n",
       "\t<li>'ExpressionNormed'</li>\n",
       "\t<li>'pca_allcell'</li>\n",
       "\t<li>'rtsne_allcell'</li>\n",
       "\t<li>'TCR_annoation'</li>\n",
       "\t<li>'TCR_annoation_w'</li>\n",
       "</ol>\n"
      ],
      "text/latex": [
       "\\begin{enumerate*}\n",
       "\\item 'BCR\\_annoation'\n",
       "\\item 'BCR\\_annoation\\_w'\n",
       "\\item 'cell\\_assignment'\n",
       "\\item 'ExpressionMat'\n",
       "\\item 'ExpressionNormed'\n",
       "\\item 'pca\\_allcell'\n",
       "\\item 'rtsne\\_allcell'\n",
       "\\item 'TCR\\_annoation'\n",
       "\\item 'TCR\\_annoation\\_w'\n",
       "\\end{enumerate*}\n"
      ],
      "text/markdown": [
       "1. 'BCR_annoation'\n",
       "2. 'BCR_annoation_w'\n",
       "3. 'cell_assignment'\n",
       "4. 'ExpressionMat'\n",
       "5. 'ExpressionNormed'\n",
       "6. 'pca_allcell'\n",
       "7. 'rtsne_allcell'\n",
       "8. 'TCR_annoation'\n",
       "9. 'TCR_annoation_w'\n",
       "\n",
       "\n"
      ],
      "text/plain": [
       "[1] \"BCR_annoation\"    \"BCR_annoation_w\"  \"cell_assignment\"  \"ExpressionMat\"   \n",
       "[5] \"ExpressionNormed\" \"pca_allcell\"      \"rtsne_allcell\"    \"TCR_annoation\"   \n",
       "[9] \"TCR_annoation_w\" "
      ]
     },
     "metadata": {},
     "output_type": "display_data"
    }
   ],
   "source": [
    "ls()"
   ]
  },
  {
   "cell_type": "code",
   "execution_count": 2,
   "metadata": {
    "collapsed": false
   },
   "outputs": [],
   "source": [
    "load(\"180505_DistLouvain.Rdata\")"
   ]
  },
  {
   "cell_type": "code",
   "execution_count": null,
   "metadata": {
    "collapsed": true
   },
   "outputs": [],
   "source": [
    "louvain_out=louvain(dist(ExpressionNormed), 1)"
   ]
  },
  {
   "cell_type": "code",
   "execution_count": 3,
   "metadata": {
    "collapsed": false
   },
   "outputs": [
    {
     "data": {
      "text/html": [
       "'dist_Exp'"
      ],
      "text/latex": [
       "'dist\\_Exp'"
      ],
      "text/markdown": [
       "'dist_Exp'"
      ],
      "text/plain": [
       "[1] \"dist_Exp\""
      ]
     },
     "metadata": {},
     "output_type": "display_data"
    }
   ],
   "source": [
    "ls()"
   ]
  },
  {
   "cell_type": "code",
   "execution_count": 4,
   "metadata": {
    "collapsed": false
   },
   "outputs": [
    {
     "data": {
      "text/html": [
       "0.0163935271001855"
      ],
      "text/latex": [
       "0.0163935271001855"
      ],
      "text/markdown": [
       "0.0163935271001855"
      ],
      "text/plain": [
       "[1] 0.01639353"
      ]
     },
     "metadata": {},
     "output_type": "display_data"
    }
   ],
   "source": [
    "var()"
   ]
  },
  {
   "cell_type": "code",
   "execution_count": 17,
   "metadata": {
    "collapsed": false
   },
   "outputs": [],
   "source": [
    "tag_col=order(colSds(ExpressionMat),decreasing = T)\n",
    "dimmax=10000\n",
    "vars=rep(0,dimmax)\n",
    "sums=rep(0,nrow(ExpressionMat))\n",
    "vars[1]=var(ExpressionMat[,tag_col[1]])\n",
    "for(i in 2:dimmax){\n",
    "    sums=sums+ExpressionMat[,tag_col[i]]^2\n",
    "    vars[i]=var(sums^0.5)\n",
    "}"
   ]
  },
  {
   "cell_type": "code",
   "execution_count": 27,
   "metadata": {
    "collapsed": false
   },
   "outputs": [],
   "source": [
    "tag_col=order(colSds(ExpressionMat),decreasing = T)\n",
    "dimvec=round(10^seq(1,4,length.out = 12))\n",
    "tag_cell=sample(1:nrow(ExpressionMat),2000)\n",
    "DistMat_list=list()\n",
    "dmax=rep(0,length(dimvec))\n",
    "dmin=rep(0,length(dimvec))\n",
    "DistMat_list[[1]]=as.matrix(dist(ExpressionMat[tag_cell,tag_col[1]]))\n",
    "dmax[1]=max(DistMat_list[[1]])\n",
    "dmin[1]=min(DistMat_list[[1]])\n",
    "for(i in 2:length(dimvec)){\n",
    "    DistMat_list[[i]]=(DistMat_list[[i-1]]^2+as.matrix(dist(ExpressionMat[tag_cell,tag_col[(dimvec[i-1]+1):dimvec[i]]]))^2)^0.5\n",
    "    dmax[i]=max(DistMat_list[[i]],na.rm = T)\n",
    "    diag(DistMat_list[[i]])=NA\n",
    "    dmin[i]=min(DistMat_list[[i]],na.rm = T)\n",
    "}"
   ]
  },
  {
   "cell_type": "code",
   "execution_count": 37,
   "metadata": {
    "collapsed": false
   },
   "outputs": [
    {
     "data": {
      "image/png": "[encoded data removed]",
      "text/plain": [
       "plot without title"
      ]
     },
     "metadata": {},
     "output_type": "display_data"
    }
   ],
   "source": [
    "require(repr)\n",
    "options(repr.plot.width=12, repr.plot.height=4)\n",
    "plot((dmax-dmin)/dmin,type=\"l\")"
   ]
  },
  {
   "cell_type": "code",
   "execution_count": 36,
   "metadata": {
    "collapsed": false
   },
   "outputs": [
    {
     "data": {
      "text/html": [
       "<ol class=list-inline>\n",
       "\t<li>0</li>\n",
       "\t<li>0</li>\n",
       "\t<li>0</li>\n",
       "\t<li>0</li>\n",
       "\t<li>2.82842712474619</li>\n",
       "\t<li>5.19615242270663</li>\n",
       "\t<li>6.6332495807108</li>\n",
       "\t<li>7.21110255092798</li>\n",
       "\t<li>7.61577310586391</li>\n",
       "\t<li>8.18535277187245</li>\n",
       "\t<li>8.71779788708135</li>\n",
       "\t<li>9.05538513813742</li>\n",
       "</ol>\n"
      ],
      "text/latex": [
       "\\begin{enumerate*}\n",
       "\\item 0\n",
       "\\item 0\n",
       "\\item 0\n",
       "\\item 0\n",
       "\\item 2.82842712474619\n",
       "\\item 5.19615242270663\n",
       "\\item 6.6332495807108\n",
       "\\item 7.21110255092798\n",
       "\\item 7.61577310586391\n",
       "\\item 8.18535277187245\n",
       "\\item 8.71779788708135\n",
       "\\item 9.05538513813742\n",
       "\\end{enumerate*}\n"
      ],
      "text/markdown": [
       "1. 0\n",
       "2. 0\n",
       "3. 0\n",
       "4. 0\n",
       "5. 2.82842712474619\n",
       "6. 5.19615242270663\n",
       "7. 6.6332495807108\n",
       "8. 7.21110255092798\n",
       "9. 7.61577310586391\n",
       "10. 8.18535277187245\n",
       "11. 8.71779788708135\n",
       "12. 9.05538513813742\n",
       "\n",
       "\n"
      ],
      "text/plain": [
       " [1] 0.000000 0.000000 0.000000 0.000000 2.828427 5.196152 6.633250 7.211103\n",
       " [9] 7.615773 8.185353 8.717798 9.055385"
      ]
     },
     "metadata": {},
     "output_type": "display_data"
    }
   ],
   "source": [
    "dmin"
   ]
  },
  {
   "cell_type": "code",
   "execution_count": 22,
   "metadata": {
    "collapsed": false
   },
   "outputs": [
    {
     "data": {
      "text/html": [
       "<ol class=list-inline>\n",
       "\t<li>10</li>\n",
       "\t<li>65.7951365983839</li>\n",
       "\t<li>&lt;NA&gt;</li>\n",
       "\t<li>&lt;NA&gt;</li>\n",
       "\t<li>&lt;NA&gt;</li>\n",
       "\t<li>&lt;NA&gt;</li>\n",
       "\t<li>&lt;NA&gt;</li>\n",
       "\t<li>&lt;NA&gt;</li>\n",
       "\t<li>&lt;NA&gt;</li>\n",
       "\t<li>&lt;NA&gt;</li>\n",
       "</ol>\n"
      ],
      "text/latex": [
       "\\begin{enumerate*}\n",
       "\\item 10\n",
       "\\item 65.7951365983839\n",
       "\\item <NA>\n",
       "\\item <NA>\n",
       "\\item <NA>\n",
       "\\item <NA>\n",
       "\\item <NA>\n",
       "\\item <NA>\n",
       "\\item <NA>\n",
       "\\item <NA>\n",
       "\\end{enumerate*}\n"
      ],
      "text/markdown": [
       "1. 10\n",
       "2. 65.7951365983839\n",
       "3. &lt;NA&gt;\n",
       "4. &lt;NA&gt;\n",
       "5. &lt;NA&gt;\n",
       "6. &lt;NA&gt;\n",
       "7. &lt;NA&gt;\n",
       "8. &lt;NA&gt;\n",
       "9. &lt;NA&gt;\n",
       "10. &lt;NA&gt;\n",
       "\n",
       "\n"
      ],
      "text/plain": [
       " [1] 10.00000 65.79514       NA       NA       NA       NA       NA       NA\n",
       " [9]       NA       NA"
      ]
     },
     "metadata": {},
     "output_type": "display_data"
    },
    {
     "data": {
      "text/html": [
       "<ol class=list-inline>\n",
       "\t<li>0</li>\n",
       "\t<li>0</li>\n",
       "\t<li>0</li>\n",
       "\t<li>0</li>\n",
       "\t<li>0</li>\n",
       "\t<li>0</li>\n",
       "\t<li>1.4142135623731</li>\n",
       "\t<li>2.23606797749979</li>\n",
       "\t<li>3.87298334620742</li>\n",
       "\t<li>5.8309518948453</li>\n",
       "</ol>\n"
      ],
      "text/latex": [
       "\\begin{enumerate*}\n",
       "\\item 0\n",
       "\\item 0\n",
       "\\item 0\n",
       "\\item 0\n",
       "\\item 0\n",
       "\\item 0\n",
       "\\item 1.4142135623731\n",
       "\\item 2.23606797749979\n",
       "\\item 3.87298334620742\n",
       "\\item 5.8309518948453\n",
       "\\end{enumerate*}\n"
      ],
      "text/markdown": [
       "1. 0\n",
       "2. 0\n",
       "3. 0\n",
       "4. 0\n",
       "5. 0\n",
       "6. 0\n",
       "7. 1.4142135623731\n",
       "8. 2.23606797749979\n",
       "9. 3.87298334620742\n",
       "10. 5.8309518948453\n",
       "\n",
       "\n"
      ],
      "text/plain": [
       " [1] 0.000000 0.000000 0.000000 0.000000 0.000000 0.000000 1.414214 2.236068\n",
       " [9] 3.872983 5.830952"
      ]
     },
     "metadata": {},
     "output_type": "display_data"
    }
   ],
   "source": [
    "dmax\n",
    "dmin"
   ]
  },
  {
   "cell_type": "code",
   "execution_count": null,
   "metadata": {
    "collapsed": true
   },
   "outputs": [],
   "source": []
  }
 ],
 "metadata": {
  "anaconda-cloud": {},
  "kernelspec": {
   "display_name": "R",
   "language": "R",
   "name": "ir"
  },
  "language_info": {
   "codemirror_mode": "r",
   "file_extension": ".r",
   "mimetype": "text/x-r-source",
   "name": "R",
   "pygments_lexer": "r",
   "version": "3.4.4"
  }
 },
 "nbformat": 4,
 "nbformat_minor": 0
}
