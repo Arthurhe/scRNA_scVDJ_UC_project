{
 "cells": [
  {
   "cell_type": "code",
   "execution_count": 2,
   "metadata": {
    "collapsed": false
   },
   "outputs": [],
   "source": [
    "suppressMessages(require(Rtsne))\n",
    "suppressMessages(require(cellrangerRkit))\n",
    "suppressMessages(require(ggplot2))\n",
    "suppressMessages(require(data.table))\n",
    "suppressMessages(require(gplots))\n",
    "suppressMessages(require(matrixStats))\n",
    "suppressMessages(require(RColorBrewer))\n",
    "suppressMessages(require(RUVnormalize))\n",
    "suppressMessages(require(Biostrings))\n",
    "\n",
    "venn_matrix=function(inlist){\n",
    "    #mk matrix\n",
    "    out_matrix=matrix(NA,length(inlist),length(inlist))\n",
    "    colnames(out_matrix)=names(inlist)\n",
    "    rownames(out_matrix)=names(inlist)\n",
    "    for(i in 2:length(inlist)){\n",
    "        for(j in 1:(i-1)){\n",
    "            out_matrix[i,j]=length(intersect(inlist[[i]],inlist[[j]]))\n",
    "        }\n",
    "    }\n",
    "    diag(out_matrix)=sapply(inlist,length)\n",
    "    return(out_matrix)\n",
    "}\n",
    "\n",
    "center_by_batch=function(inMatrix){\n",
    "    inMatrix=scale(inMatrix,scale = F)\n",
    "    batch_ids=as.numeric(stringi::stri_sub(rownames(inMatrix),-1, -1))\n",
    "    unique_batch_ids=unique(batch_ids)\n",
    "    for(i in 1:length(unique_batch_ids)){\n",
    "        tagrow=batch_ids == unique_batch_ids[i]\n",
    "        inMatrix[tagrow,]=scale(inMatrix[tagrow,],scale = F)\n",
    "    }\n",
    "    return(inMatrix)\n",
    "}"
   ]
  },
  {
   "cell_type": "code",
   "execution_count": 3,
   "metadata": {
    "collapsed": true
   },
   "outputs": [],
   "source": [
    "load(\"testing_TPMandRUVscale.Rdata\")\n",
    "sample_list=c(\"C12pBMC\",\"C12Rectum\",\"C9pBMC\",\"C9Rectum\") #\n",
    "valid_BCR_list=which(BCR_annoation$is_cell & BCR_annoation$high_confidence & BCR_annoation$productive)\n",
    "valid_TCR_list=which(TCR_annoation$is_cell & TCR_annoation$high_confidence & TCR_annoation$productive)"
   ]
  },
  {
   "cell_type": "code",
   "execution_count": 33,
   "metadata": {
    "collapsed": true
   },
   "outputs": [],
   "source": [
    "recombined_BCR_list=which(is.na(BCR_annoation_w$v_gene)+is.na(BCR_annoation_w$d_gene)+is.na(BCR_annoation_w$j_gene)+is.na(BCR_annoation_w$c_gene)<3)\n",
    "recombined_TCR_list=which(is.na(TCR_annoation_w$v_gene)+is.na(TCR_annoation_w$d_gene)+is.na(TCR_annoation_w$j_gene)+is.na(TCR_annoation_w$c_gene)<3)\n",
    "BCR_annoation_w=BCR_annoation_w[recombined_BCR_list,]\n",
    "TCR_annoation_w=TCR_annoation_w[recombined_TCR_list,]"
   ]
  },
  {
   "cell_type": "code",
   "execution_count": 14,
   "metadata": {
    "collapsed": false
   },
   "outputs": [
    {
     "data": {},
     "metadata": {},
     "output_type": "display_data"
    }
   ],
   "source": [
    "#identify clonetype that's the same chain - v d j gene\n",
    "tag_mat=TCR_annoation[valid_TCR_list,c(\"barcode\",\"v_gene\",\"d_gene\",\"j_gene\",\"c_gene\",\"cdr3_nt\",\"raw_clonotype_id\")]\n",
    "setDT(tag_mat)[, id := paste0(\"clonetype_\",.GRP), by = .(v_gene,d_gene,j_gene,c_gene,cdr3_nt)]\n",
    "sample_group=as.numeric(stringi::stri_sub(tag_mat$barcode,-1, -1))\n",
    "expaned_clone=which(table(tag_mat$id)>1)\n",
    "\n",
    "plot_table=list()\n",
    "for(i in 1:max(sample_group)){\n",
    "    tag=sample_group==i\n",
    "    tag_id_tbl=table(tag_mat$id[tag])\n",
    "    plot_table[[i]]=data.frame(clone_id=names(tag_id_tbl),\n",
    "                               count=as.vector(tag_id_tbl),\n",
    "                               freq=as.vector(tag_id_tbl)/sum(tag_id_tbl),\n",
    "                               groups=sample_list[i]) \n",
    "}\n",
    "clonetype_stat=do.call(rbind,plot_table)\n",
    "clonetype_stat=clonetype_stat[order(clonetype_stat$freq,decreasing = T),]\n",
    "\n",
    "plot_table=list()\n",
    "for(i in 1:max(sample_group)){\n",
    "    tag=clonetype_stat$groups==sample_list[i]\n",
    "    tag_clonetype_stat=clonetype_stat[tag,]\n",
    "    tag_freq_tbl=table(tag_clonetype_stat$freq)\n",
    "    tag_count_tbl=table(tag_clonetype_stat$count)\n",
    "    plot_table[[i]]=data.frame(groups=sample_list[i],\n",
    "                               expansion_level_freq=as.numeric(names(tag_freq_tbl)),\n",
    "                               expansion_level_count=as.numeric(names(tag_count_tbl)),\n",
    "                               clone_count=as.vector(tag_count_tbl)) \n",
    "}\n",
    "clonetype_expansion_count=do.call(rbind,plot_table)\n"
   ]
  },
  {
   "cell_type": "code",
   "execution_count": 1,
   "metadata": {
    "collapsed": false
   },
   "outputs": [
    {
     "ename": "ERROR",
     "evalue": "Error in ggplot(clonetype_expansion_count, aes(x = reorder(expansion_level_count, : could not find function \"ggplot\"\n",
     "output_type": "error",
     "traceback": [
      "Error in ggplot(clonetype_expansion_count, aes(x = reorder(expansion_level_count, : could not find function \"ggplot\"\nTraceback:\n"
     ]
    }
   ],
   "source": [
    "ggplot(clonetype_expansion_count, aes(x=expansion_level_count,y=clone_count)) +\n",
    "    geom_bar(stat=\"identity\") +\n",
    "    theme_minimal() + theme(axis.text.x = element_text(angle = 60, hjust = 1)) +\n",
    "    labs(x = \"expansion_level\", y= \"clone_count\") +\n",
    "    facet_wrap(~groups, nrow = 2, scales = \"free\")"
   ]
  },
  {
   "cell_type": "code",
   "execution_count": 105,
   "metadata": {
    "collapsed": false
   },
   "outputs": [
    {
     "data": {
      "text/html": [],
      "text/latex": [],
      "text/markdown": [],
      "text/plain": [
       "integer(0)"
      ]
     },
     "metadata": {},
     "output_type": "display_data"
    }
   ],
   "source": [
    "#shared clone\n",
    "which(duplicated(clonetype_stat[,c(\"clone_id\",\"groups\")]))"
   ]
  },
  {
   "cell_type": "code",
   "execution_count": 109,
   "metadata": {
    "collapsed": false
   },
   "outputs": [
    {
     "data": {
      "text/html": [
       "<table>\n",
       "<thead><tr><th></th><th scope=col>clone_id</th><th scope=col>count</th><th scope=col>freq</th><th scope=col>groups</th></tr></thead>\n",
       "<tbody>\n",
       "\t<tr><th scope=row>1310</th><td>clonetype_610 </td><td>51            </td><td>0.03233989    </td><td>C12Rectum     </td></tr>\n",
       "\t<tr><th scope=row>1308</th><td>clonetype_608 </td><td>39            </td><td>0.02473050    </td><td>C12Rectum     </td></tr>\n",
       "\t<tr><th scope=row>1718</th><td>clonetype_1693</td><td> 3            </td><td>0.02362205    </td><td>C9pBMC        </td></tr>\n",
       "\t<tr><th scope=row>1309</th><td>clonetype_609 </td><td>35            </td><td>0.02219404    </td><td>C12Rectum     </td></tr>\n",
       "\t<tr><th scope=row>1704</th><td>clonetype_1679</td><td> 2            </td><td>0.01574803    </td><td>C9pBMC        </td></tr>\n",
       "</tbody>\n",
       "</table>\n"
      ],
      "text/latex": [
       "\\begin{tabular}{r|llll}\n",
       "  & clone\\_id & count & freq & groups\\\\\n",
       "\\hline\n",
       "\t1310 & clonetype\\_610  & 51               & 0.03233989       & C12Rectum       \\\\\n",
       "\t1308 & clonetype\\_608  & 39               & 0.02473050       & C12Rectum       \\\\\n",
       "\t1718 & clonetype\\_1693 &  3               & 0.02362205       & C9pBMC          \\\\\n",
       "\t1309 & clonetype\\_609  & 35               & 0.02219404       & C12Rectum       \\\\\n",
       "\t1704 & clonetype\\_1679 &  2               & 0.01574803       & C9pBMC          \\\\\n",
       "\\end{tabular}\n"
      ],
      "text/markdown": [
       "\n",
       "| <!--/--> | clone_id | count | freq | groups | \n",
       "|---|---|---|---|---|\n",
       "| 1310 | clonetype_610  | 51             | 0.03233989     | C12Rectum      | \n",
       "| 1308 | clonetype_608  | 39             | 0.02473050     | C12Rectum      | \n",
       "| 1718 | clonetype_1693 |  3             | 0.02362205     | C9pBMC         | \n",
       "| 1309 | clonetype_609  | 35             | 0.02219404     | C12Rectum      | \n",
       "| 1704 | clonetype_1679 |  2             | 0.01574803     | C9pBMC         | \n",
       "\n",
       "\n"
      ],
      "text/plain": [
       "     clone_id       count freq       groups   \n",
       "1310 clonetype_610  51    0.03233989 C12Rectum\n",
       "1308 clonetype_608  39    0.02473050 C12Rectum\n",
       "1718 clonetype_1693  3    0.02362205 C9pBMC   \n",
       "1309 clonetype_609  35    0.02219404 C12Rectum\n",
       "1704 clonetype_1679  2    0.01574803 C9pBMC   "
      ]
     },
     "metadata": {},
     "output_type": "display_data"
    }
   ],
   "source": [
    "clonetype_stat[1:5,]"
   ]
  },
  {
   "cell_type": "code",
   "execution_count": 110,
   "metadata": {
    "collapsed": false,
    "scrolled": true
   },
   "outputs": [
    {
     "data": {
      "text/html": [
       "<table>\n",
       "<thead><tr><th scope=col>barcode</th><th scope=col>v_gene</th><th scope=col>d_gene</th><th scope=col>j_gene</th><th scope=col>c_gene</th><th scope=col>cdr3_nt</th><th scope=col>raw_clonotype_id</th><th scope=col>id</th></tr></thead>\n",
       "<tbody>\n",
       "\t<tr><td>AAACGGGAGCTGCCCA-2                           </td><td>TRBV19                                       </td><td>TRBD2                                        </td><td>TRBJ2-1                                      </td><td>TRBC2                                        </td><td>TGTGCCAGTAGAGCGACTAGCGGGAGTTTCTATGAGCAGTTCTTC</td><td>clonotype1                                   </td><td>clonetype_610                                </td></tr>\n",
       "\t<tr><td>AAGACCTAGATCCCAT-2                           </td><td>TRBV19                                       </td><td>TRBD2                                        </td><td>TRBJ2-1                                      </td><td>TRBC2                                        </td><td>TGTGCCAGTAGAGCGACTAGCGGGAGTTTCTATGAGCAGTTCTTC</td><td>clonotype135                                 </td><td>clonetype_610                                </td></tr>\n",
       "\t<tr><td>AAGGCAGCATCCGTGG-2                           </td><td>TRBV19                                       </td><td>TRBD2                                        </td><td>TRBJ2-1                                      </td><td>TRBC2                                        </td><td>TGTGCCAGTAGAGCGACTAGCGGGAGTTTCTATGAGCAGTTCTTC</td><td>clonotype2                                   </td><td>clonetype_610                                </td></tr>\n",
       "\t<tr><td>ACCTTTAGTATGAATG-2                           </td><td>TRBV19                                       </td><td>TRBD2                                        </td><td>TRBJ2-1                                      </td><td>TRBC2                                        </td><td>TGTGCCAGTAGAGCGACTAGCGGGAGTTTCTATGAGCAGTTCTTC</td><td>clonotype1                                   </td><td>clonetype_610                                </td></tr>\n",
       "\t<tr><td>ACGCAGCGTCCGAGTC-2                           </td><td>TRBV19                                       </td><td>TRBD2                                        </td><td>TRBJ2-1                                      </td><td>TRBC2                                        </td><td>TGTGCCAGTAGAGCGACTAGCGGGAGTTTCTATGAGCAGTTCTTC</td><td>clonotype4                                   </td><td>clonetype_610                                </td></tr>\n",
       "\t<tr><td>ACGTCAATCTGGCGAC-2                           </td><td>TRBV19                                       </td><td>TRBD2                                        </td><td>TRBJ2-1                                      </td><td>TRBC2                                        </td><td>TGTGCCAGTAGAGCGACTAGCGGGAGTTTCTATGAGCAGTTCTTC</td><td>clonotype8                                   </td><td>clonetype_610                                </td></tr>\n",
       "\t<tr><td>ACTTTCAAGCGTGTCC-2                           </td><td>TRBV19                                       </td><td>TRBD2                                        </td><td>TRBJ2-1                                      </td><td>TRBC2                                        </td><td>TGTGCCAGTAGAGCGACTAGCGGGAGTTTCTATGAGCAGTTCTTC</td><td>clonotype1                                   </td><td>clonetype_610                                </td></tr>\n",
       "\t<tr><td>AGAGTGGGTTCAGCGC-2                           </td><td>TRBV19                                       </td><td>TRBD2                                        </td><td>TRBJ2-1                                      </td><td>TRBC2                                        </td><td>TGTGCCAGTAGAGCGACTAGCGGGAGTTTCTATGAGCAGTTCTTC</td><td>clonotype1                                   </td><td>clonetype_610                                </td></tr>\n",
       "\t<tr><td>AGCTCTCGTCTAAACC-2                           </td><td>TRBV19                                       </td><td>TRBD2                                        </td><td>TRBJ2-1                                      </td><td>TRBC2                                        </td><td>TGTGCCAGTAGAGCGACTAGCGGGAGTTTCTATGAGCAGTTCTTC</td><td>clonotype4                                   </td><td>clonetype_610                                </td></tr>\n",
       "\t<tr><td>AGGGAGTTCCGCATAA-2                           </td><td>TRBV19                                       </td><td>TRBD2                                        </td><td>TRBJ2-1                                      </td><td>TRBC2                                        </td><td>TGTGCCAGTAGAGCGACTAGCGGGAGTTTCTATGAGCAGTTCTTC</td><td>clonotype8                                   </td><td>clonetype_610                                </td></tr>\n",
       "\t<tr><td>AGGGATGCAGTTCATG-2                           </td><td>TRBV19                                       </td><td>TRBD2                                        </td><td>TRBJ2-1                                      </td><td>TRBC2                                        </td><td>TGTGCCAGTAGAGCGACTAGCGGGAGTTTCTATGAGCAGTTCTTC</td><td>clonotype4                                   </td><td>clonetype_610                                </td></tr>\n",
       "\t<tr><td>AGTGAGGCATCCAACA-2                           </td><td>TRBV19                                       </td><td>TRBD2                                        </td><td>TRBJ2-1                                      </td><td>TRBC2                                        </td><td>TGTGCCAGTAGAGCGACTAGCGGGAGTTTCTATGAGCAGTTCTTC</td><td>clonotype1                                   </td><td>clonetype_610                                </td></tr>\n",
       "\t<tr><td>ATCATGGTCTTTACAC-2                           </td><td>TRBV19                                       </td><td>TRBD2                                        </td><td>TRBJ2-1                                      </td><td>TRBC2                                        </td><td>TGTGCCAGTAGAGCGACTAGCGGGAGTTTCTATGAGCAGTTCTTC</td><td>clonotype4                                   </td><td>clonetype_610                                </td></tr>\n",
       "\t<tr><td>ATCTACTTCATATCGG-2                           </td><td>TRBV19                                       </td><td>TRBD2                                        </td><td>TRBJ2-1                                      </td><td>TRBC2                                        </td><td>TGTGCCAGTAGAGCGACTAGCGGGAGTTTCTATGAGCAGTTCTTC</td><td>clonotype1                                   </td><td>clonetype_610                                </td></tr>\n",
       "\t<tr><td>ATGAGGGAGGGTGTGT-2                           </td><td>TRBV19                                       </td><td>TRBD2                                        </td><td>TRBJ2-1                                      </td><td>TRBC2                                        </td><td>TGTGCCAGTAGAGCGACTAGCGGGAGTTTCTATGAGCAGTTCTTC</td><td>clonotype1                                   </td><td>clonetype_610                                </td></tr>\n",
       "\t<tr><td>CATCGGGGTCGCTTCT-2                           </td><td>TRBV19                                       </td><td>TRBD2                                        </td><td>TRBJ2-1                                      </td><td>TRBC2                                        </td><td>TGTGCCAGTAGAGCGACTAGCGGGAGTTTCTATGAGCAGTTCTTC</td><td>clonotype1                                   </td><td>clonetype_610                                </td></tr>\n",
       "\t<tr><td>CATCGGGTCTGTCTCG-2                           </td><td>TRBV19                                       </td><td>TRBD2                                        </td><td>TRBJ2-1                                      </td><td>TRBC2                                        </td><td>TGTGCCAGTAGAGCGACTAGCGGGAGTTTCTATGAGCAGTTCTTC</td><td>clonotype4                                   </td><td>clonetype_610                                </td></tr>\n",
       "\t<tr><td>CATGGCGCACGAGGTA-2                           </td><td>TRBV19                                       </td><td>TRBD2                                        </td><td>TRBJ2-1                                      </td><td>TRBC2                                        </td><td>TGTGCCAGTAGAGCGACTAGCGGGAGTTTCTATGAGCAGTTCTTC</td><td>clonotype2                                   </td><td>clonetype_610                                </td></tr>\n",
       "\t<tr><td>CCACGGAAGAGAGCTC-2                           </td><td>TRBV19                                       </td><td>TRBD2                                        </td><td>TRBJ2-1                                      </td><td>TRBC2                                        </td><td>TGTGCCAGTAGAGCGACTAGCGGGAGTTTCTATGAGCAGTTCTTC</td><td>clonotype2                                   </td><td>clonetype_610                                </td></tr>\n",
       "\t<tr><td>CCCAATCCAGCTCGAC-2                           </td><td>TRBV19                                       </td><td>TRBD2                                        </td><td>TRBJ2-1                                      </td><td>TRBC2                                        </td><td>TGTGCCAGTAGAGCGACTAGCGGGAGTTTCTATGAGCAGTTCTTC</td><td>clonotype1                                   </td><td>clonetype_610                                </td></tr>\n",
       "\t<tr><td>CCGGGATTCTCTTGAT-2                           </td><td>TRBV19                                       </td><td>TRBD2                                        </td><td>TRBJ2-1                                      </td><td>TRBC2                                        </td><td>TGTGCCAGTAGAGCGACTAGCGGGAGTTTCTATGAGCAGTTCTTC</td><td>clonotype1                                   </td><td>clonetype_610                                </td></tr>\n",
       "\t<tr><td>CCGTTCAGTAAGCACG-2                           </td><td>TRBV19                                       </td><td>TRBD2                                        </td><td>TRBJ2-1                                      </td><td>TRBC2                                        </td><td>TGTGCCAGTAGAGCGACTAGCGGGAGTTTCTATGAGCAGTTCTTC</td><td>clonotype2                                   </td><td>clonetype_610                                </td></tr>\n",
       "\t<tr><td>CGATGTATCATAACCG-2                           </td><td>TRBV19                                       </td><td>TRBD2                                        </td><td>TRBJ2-1                                      </td><td>TRBC2                                        </td><td>TGTGCCAGTAGAGCGACTAGCGGGAGTTTCTATGAGCAGTTCTTC</td><td>clonotype4                                   </td><td>clonetype_610                                </td></tr>\n",
       "\t<tr><td>CGTTGGGAGGCAGGTT-2                           </td><td>TRBV19                                       </td><td>TRBD2                                        </td><td>TRBJ2-1                                      </td><td>TRBC2                                        </td><td>TGTGCCAGTAGAGCGACTAGCGGGAGTTTCTATGAGCAGTTCTTC</td><td>clonotype8                                   </td><td>clonetype_610                                </td></tr>\n",
       "\t<tr><td>CTCTAATGTTTACTCT-2                           </td><td>TRBV19                                       </td><td>TRBD2                                        </td><td>TRBJ2-1                                      </td><td>TRBC2                                        </td><td>TGTGCCAGTAGAGCGACTAGCGGGAGTTTCTATGAGCAGTTCTTC</td><td>clonotype4                                   </td><td>clonetype_610                                </td></tr>\n",
       "\t<tr><td>CTCTGGTAGGAGCGAG-2                           </td><td>TRBV19                                       </td><td>TRBD2                                        </td><td>TRBJ2-1                                      </td><td>TRBC2                                        </td><td>TGTGCCAGTAGAGCGACTAGCGGGAGTTTCTATGAGCAGTTCTTC</td><td>clonotype2                                   </td><td>clonetype_610                                </td></tr>\n",
       "\t<tr><td>CTGATAGCACGTCTCT-2                           </td><td>TRBV19                                       </td><td>TRBD2                                        </td><td>TRBJ2-1                                      </td><td>TRBC2                                        </td><td>TGTGCCAGTAGAGCGACTAGCGGGAGTTTCTATGAGCAGTTCTTC</td><td>clonotype2                                   </td><td>clonetype_610                                </td></tr>\n",
       "\t<tr><td>GACACGCAGTGTCTCA-2                           </td><td>TRBV19                                       </td><td>TRBD2                                        </td><td>TRBJ2-1                                      </td><td>TRBC2                                        </td><td>TGTGCCAGTAGAGCGACTAGCGGGAGTTTCTATGAGCAGTTCTTC</td><td>clonotype4                                   </td><td>clonetype_610                                </td></tr>\n",
       "\t<tr><td>GACTACAAGCTTTGGT-2                           </td><td>TRBV19                                       </td><td>TRBD2                                        </td><td>TRBJ2-1                                      </td><td>TRBC2                                        </td><td>TGTGCCAGTAGAGCGACTAGCGGGAGTTTCTATGAGCAGTTCTTC</td><td>clonotype2                                   </td><td>clonetype_610                                </td></tr>\n",
       "\t<tr><td>GACTGCGAGGCGATAC-2                           </td><td>TRBV19                                       </td><td>TRBD2                                        </td><td>TRBJ2-1                                      </td><td>TRBC2                                        </td><td>TGTGCCAGTAGAGCGACTAGCGGGAGTTTCTATGAGCAGTTCTTC</td><td>clonotype4                                   </td><td>clonetype_610                                </td></tr>\n",
       "\t<tr><td>GCATGATAGGCCGAAT-2                           </td><td>TRBV19                                       </td><td>TRBD2                                        </td><td>TRBJ2-1                                      </td><td>TRBC2                                        </td><td>TGTGCCAGTAGAGCGACTAGCGGGAGTTTCTATGAGCAGTTCTTC</td><td>clonotype2                                   </td><td>clonetype_610                                </td></tr>\n",
       "\t<tr><td>GCCAAATAGATAGGAG-2                           </td><td>TRBV19                                       </td><td>TRBD2                                        </td><td>TRBJ2-1                                      </td><td>TRBC2                                        </td><td>TGTGCCAGTAGAGCGACTAGCGGGAGTTTCTATGAGCAGTTCTTC</td><td>clonotype1                                   </td><td>clonetype_610                                </td></tr>\n",
       "\t<tr><td>GCGCGATCACTATCTT-2                           </td><td>TRBV19                                       </td><td>TRBD2                                        </td><td>TRBJ2-1                                      </td><td>TRBC2                                        </td><td>TGTGCCAGTAGAGCGACTAGCGGGAGTTTCTATGAGCAGTTCTTC</td><td>clonotype2                                   </td><td>clonetype_610                                </td></tr>\n",
       "\t<tr><td>GCTTCCAGTTATCACG-2                           </td><td>TRBV19                                       </td><td>TRBD2                                        </td><td>TRBJ2-1                                      </td><td>TRBC2                                        </td><td>TGTGCCAGTAGAGCGACTAGCGGGAGTTTCTATGAGCAGTTCTTC</td><td>clonotype2                                   </td><td>clonetype_610                                </td></tr>\n",
       "\t<tr><td>GGACAAGCACACTGCG-2                           </td><td>TRBV19                                       </td><td>TRBD2                                        </td><td>TRBJ2-1                                      </td><td>TRBC2                                        </td><td>TGTGCCAGTAGAGCGACTAGCGGGAGTTTCTATGAGCAGTTCTTC</td><td>clonotype8                                   </td><td>clonetype_610                                </td></tr>\n",
       "\t<tr><td>GGGTCTGGTAAGGGCT-2                           </td><td>TRBV19                                       </td><td>TRBD2                                        </td><td>TRBJ2-1                                      </td><td>TRBC2                                        </td><td>TGTGCCAGTAGAGCGACTAGCGGGAGTTTCTATGAGCAGTTCTTC</td><td>clonotype4                                   </td><td>clonetype_610                                </td></tr>\n",
       "\t<tr><td>GTGCATACAACGATCT-2                           </td><td>TRBV19                                       </td><td>TRBD2                                        </td><td>TRBJ2-1                                      </td><td>TRBC2                                        </td><td>TGTGCCAGTAGAGCGACTAGCGGGAGTTTCTATGAGCAGTTCTTC</td><td>clonotype2                                   </td><td>clonetype_610                                </td></tr>\n",
       "\t<tr><td>GTTCATTGTCACCTAA-2                           </td><td>TRBV19                                       </td><td>TRBD2                                        </td><td>TRBJ2-1                                      </td><td>TRBC2                                        </td><td>TGTGCCAGTAGAGCGACTAGCGGGAGTTTCTATGAGCAGTTCTTC</td><td>clonotype1                                   </td><td>clonetype_610                                </td></tr>\n",
       "\t<tr><td>GTTCATTGTGGCTCCA-2                           </td><td>TRBV19                                       </td><td>TRBD2                                        </td><td>TRBJ2-1                                      </td><td>TRBC2                                        </td><td>TGTGCCAGTAGAGCGACTAGCGGGAGTTTCTATGAGCAGTTCTTC</td><td>clonotype2                                   </td><td>clonetype_610                                </td></tr>\n",
       "\t<tr><td>TACCTATGTCCGCTGA-2                           </td><td>TRBV19                                       </td><td>TRBD2                                        </td><td>TRBJ2-1                                      </td><td>TRBC2                                        </td><td>TGTGCCAGTAGAGCGACTAGCGGGAGTTTCTATGAGCAGTTCTTC</td><td>clonotype1                                   </td><td>clonetype_610                                </td></tr>\n",
       "\t<tr><td>TCCCGATAGGAGTCTG-2                           </td><td>TRBV19                                       </td><td>TRBD2                                        </td><td>TRBJ2-1                                      </td><td>TRBC2                                        </td><td>TGTGCCAGTAGAGCGACTAGCGGGAGTTTCTATGAGCAGTTCTTC</td><td>clonotype1                                   </td><td>clonetype_610                                </td></tr>\n",
       "\t<tr><td>TCTATTGTCCAAACAC-2                           </td><td>TRBV19                                       </td><td>TRBD2                                        </td><td>TRBJ2-1                                      </td><td>TRBC2                                        </td><td>TGTGCCAGTAGAGCGACTAGCGGGAGTTTCTATGAGCAGTTCTTC</td><td>clonotype4                                   </td><td>clonetype_610                                </td></tr>\n",
       "\t<tr><td>TCTTTCCGTGTGCGTC-2                           </td><td>TRBV19                                       </td><td>TRBD2                                        </td><td>TRBJ2-1                                      </td><td>TRBC2                                        </td><td>TGTGCCAGTAGAGCGACTAGCGGGAGTTTCTATGAGCAGTTCTTC</td><td>clonotype1                                   </td><td>clonetype_610                                </td></tr>\n",
       "\t<tr><td>TGAAAGATCACTCCTG-2                           </td><td>TRBV19                                       </td><td>TRBD2                                        </td><td>TRBJ2-1                                      </td><td>TRBC2                                        </td><td>TGTGCCAGTAGAGCGACTAGCGGGAGTTTCTATGAGCAGTTCTTC</td><td>clonotype2                                   </td><td>clonetype_610                                </td></tr>\n",
       "\t<tr><td>TGACTTTCACGAGGTA-2                           </td><td>TRBV19                                       </td><td>TRBD2                                        </td><td>TRBJ2-1                                      </td><td>TRBC2                                        </td><td>TGTGCCAGTAGAGCGACTAGCGGGAGTTTCTATGAGCAGTTCTTC</td><td>clonotype2                                   </td><td>clonetype_610                                </td></tr>\n",
       "\t<tr><td>TGAGAGGTCCTCATTA-2                           </td><td>TRBV19                                       </td><td>TRBD2                                        </td><td>TRBJ2-1                                      </td><td>TRBC2                                        </td><td>TGTGCCAGTAGAGCGACTAGCGGGAGTTTCTATGAGCAGTTCTTC</td><td>clonotype1                                   </td><td>clonetype_610                                </td></tr>\n",
       "\t<tr><td>TGGTTCCGTGACAAAT-2                           </td><td>TRBV19                                       </td><td>TRBD2                                        </td><td>TRBJ2-1                                      </td><td>TRBC2                                        </td><td>TGTGCCAGTAGAGCGACTAGCGGGAGTTTCTATGAGCAGTTCTTC</td><td>clonotype1                                   </td><td>clonetype_610                                </td></tr>\n",
       "\t<tr><td>TGTTCCGTCATGTGGT-2                           </td><td>TRBV19                                       </td><td>TRBD2                                        </td><td>TRBJ2-1                                      </td><td>TRBC2                                        </td><td>TGTGCCAGTAGAGCGACTAGCGGGAGTTTCTATGAGCAGTTCTTC</td><td>clonotype1                                   </td><td>clonetype_610                                </td></tr>\n",
       "\t<tr><td>TTAGGCAAGACGCAAC-2                           </td><td>TRBV19                                       </td><td>TRBD2                                        </td><td>TRBJ2-1                                      </td><td>TRBC2                                        </td><td>TGTGCCAGTAGAGCGACTAGCGGGAGTTTCTATGAGCAGTTCTTC</td><td>clonotype1                                   </td><td>clonetype_610                                </td></tr>\n",
       "\t<tr><td>TTGCGTCCAAGGTTCT-2                           </td><td>TRBV19                                       </td><td>TRBD2                                        </td><td>TRBJ2-1                                      </td><td>TRBC2                                        </td><td>TGTGCCAGTAGAGCGACTAGCGGGAGTTTCTATGAGCAGTTCTTC</td><td>clonotype2                                   </td><td>clonetype_610                                </td></tr>\n",
       "\t<tr><td>TTGGAACAGAAGCCCA-2                           </td><td>TRBV19                                       </td><td>TRBD2                                        </td><td>TRBJ2-1                                      </td><td>TRBC2                                        </td><td>TGTGCCAGTAGAGCGACTAGCGGGAGTTTCTATGAGCAGTTCTTC</td><td>clonotype1                                   </td><td>clonetype_610                                </td></tr>\n",
       "</tbody>\n",
       "</table>\n"
      ],
      "text/latex": [
       "\\begin{tabular}{r|llllllll}\n",
       " barcode & v\\_gene & d\\_gene & j\\_gene & c\\_gene & cdr3\\_nt & raw\\_clonotype\\_id & id\\\\\n",
       "\\hline\n",
       "\t AAACGGGAGCTGCCCA-2                            & TRBV19                                        & TRBD2                                         & TRBJ2-1                                       & TRBC2                                         & TGTGCCAGTAGAGCGACTAGCGGGAGTTTCTATGAGCAGTTCTTC & clonotype1                                    & clonetype\\_610                              \\\\\n",
       "\t AAGACCTAGATCCCAT-2                            & TRBV19                                        & TRBD2                                         & TRBJ2-1                                       & TRBC2                                         & TGTGCCAGTAGAGCGACTAGCGGGAGTTTCTATGAGCAGTTCTTC & clonotype135                                  & clonetype\\_610                              \\\\\n",
       "\t AAGGCAGCATCCGTGG-2                            & TRBV19                                        & TRBD2                                         & TRBJ2-1                                       & TRBC2                                         & TGTGCCAGTAGAGCGACTAGCGGGAGTTTCTATGAGCAGTTCTTC & clonotype2                                    & clonetype\\_610                              \\\\\n",
       "\t ACCTTTAGTATGAATG-2                            & TRBV19                                        & TRBD2                                         & TRBJ2-1                                       & TRBC2                                         & TGTGCCAGTAGAGCGACTAGCGGGAGTTTCTATGAGCAGTTCTTC & clonotype1                                    & clonetype\\_610                              \\\\\n",
       "\t ACGCAGCGTCCGAGTC-2                            & TRBV19                                        & TRBD2                                         & TRBJ2-1                                       & TRBC2                                         & TGTGCCAGTAGAGCGACTAGCGGGAGTTTCTATGAGCAGTTCTTC & clonotype4                                    & clonetype\\_610                              \\\\\n",
       "\t ACGTCAATCTGGCGAC-2                            & TRBV19                                        & TRBD2                                         & TRBJ2-1                                       & TRBC2                                         & TGTGCCAGTAGAGCGACTAGCGGGAGTTTCTATGAGCAGTTCTTC & clonotype8                                    & clonetype\\_610                              \\\\\n",
       "\t ACTTTCAAGCGTGTCC-2                            & TRBV19                                        & TRBD2                                         & TRBJ2-1                                       & TRBC2                                         & TGTGCCAGTAGAGCGACTAGCGGGAGTTTCTATGAGCAGTTCTTC & clonotype1                                    & clonetype\\_610                              \\\\\n",
       "\t AGAGTGGGTTCAGCGC-2                            & TRBV19                                        & TRBD2                                         & TRBJ2-1                                       & TRBC2                                         & TGTGCCAGTAGAGCGACTAGCGGGAGTTTCTATGAGCAGTTCTTC & clonotype1                                    & clonetype\\_610                              \\\\\n",
       "\t AGCTCTCGTCTAAACC-2                            & TRBV19                                        & TRBD2                                         & TRBJ2-1                                       & TRBC2                                         & TGTGCCAGTAGAGCGACTAGCGGGAGTTTCTATGAGCAGTTCTTC & clonotype4                                    & clonetype\\_610                              \\\\\n",
       "\t AGGGAGTTCCGCATAA-2                            & TRBV19                                        & TRBD2                                         & TRBJ2-1                                       & TRBC2                                         & TGTGCCAGTAGAGCGACTAGCGGGAGTTTCTATGAGCAGTTCTTC & clonotype8                                    & clonetype\\_610                              \\\\\n",
       "\t AGGGATGCAGTTCATG-2                            & TRBV19                                        & TRBD2                                         & TRBJ2-1                                       & TRBC2                                         & TGTGCCAGTAGAGCGACTAGCGGGAGTTTCTATGAGCAGTTCTTC & clonotype4                                    & clonetype\\_610                              \\\\\n",
       "\t AGTGAGGCATCCAACA-2                            & TRBV19                                        & TRBD2                                         & TRBJ2-1                                       & TRBC2                                         & TGTGCCAGTAGAGCGACTAGCGGGAGTTTCTATGAGCAGTTCTTC & clonotype1                                    & clonetype\\_610                              \\\\\n",
       "\t ATCATGGTCTTTACAC-2                            & TRBV19                                        & TRBD2                                         & TRBJ2-1                                       & TRBC2                                         & TGTGCCAGTAGAGCGACTAGCGGGAGTTTCTATGAGCAGTTCTTC & clonotype4                                    & clonetype\\_610                              \\\\\n",
       "\t ATCTACTTCATATCGG-2                            & TRBV19                                        & TRBD2                                         & TRBJ2-1                                       & TRBC2                                         & TGTGCCAGTAGAGCGACTAGCGGGAGTTTCTATGAGCAGTTCTTC & clonotype1                                    & clonetype\\_610                              \\\\\n",
       "\t ATGAGGGAGGGTGTGT-2                            & TRBV19                                        & TRBD2                                         & TRBJ2-1                                       & TRBC2                                         & TGTGCCAGTAGAGCGACTAGCGGGAGTTTCTATGAGCAGTTCTTC & clonotype1                                    & clonetype\\_610                              \\\\\n",
       "\t CATCGGGGTCGCTTCT-2                            & TRBV19                                        & TRBD2                                         & TRBJ2-1                                       & TRBC2                                         & TGTGCCAGTAGAGCGACTAGCGGGAGTTTCTATGAGCAGTTCTTC & clonotype1                                    & clonetype\\_610                              \\\\\n",
       "\t CATCGGGTCTGTCTCG-2                            & TRBV19                                        & TRBD2                                         & TRBJ2-1                                       & TRBC2                                         & TGTGCCAGTAGAGCGACTAGCGGGAGTTTCTATGAGCAGTTCTTC & clonotype4                                    & clonetype\\_610                              \\\\\n",
       "\t CATGGCGCACGAGGTA-2                            & TRBV19                                        & TRBD2                                         & TRBJ2-1                                       & TRBC2                                         & TGTGCCAGTAGAGCGACTAGCGGGAGTTTCTATGAGCAGTTCTTC & clonotype2                                    & clonetype\\_610                              \\\\\n",
       "\t CCACGGAAGAGAGCTC-2                            & TRBV19                                        & TRBD2                                         & TRBJ2-1                                       & TRBC2                                         & TGTGCCAGTAGAGCGACTAGCGGGAGTTTCTATGAGCAGTTCTTC & clonotype2                                    & clonetype\\_610                              \\\\\n",
       "\t CCCAATCCAGCTCGAC-2                            & TRBV19                                        & TRBD2                                         & TRBJ2-1                                       & TRBC2                                         & TGTGCCAGTAGAGCGACTAGCGGGAGTTTCTATGAGCAGTTCTTC & clonotype1                                    & clonetype\\_610                              \\\\\n",
       "\t CCGGGATTCTCTTGAT-2                            & TRBV19                                        & TRBD2                                         & TRBJ2-1                                       & TRBC2                                         & TGTGCCAGTAGAGCGACTAGCGGGAGTTTCTATGAGCAGTTCTTC & clonotype1                                    & clonetype\\_610                              \\\\\n",
       "\t CCGTTCAGTAAGCACG-2                            & TRBV19                                        & TRBD2                                         & TRBJ2-1                                       & TRBC2                                         & TGTGCCAGTAGAGCGACTAGCGGGAGTTTCTATGAGCAGTTCTTC & clonotype2                                    & clonetype\\_610                              \\\\\n",
       "\t CGATGTATCATAACCG-2                            & TRBV19                                        & TRBD2                                         & TRBJ2-1                                       & TRBC2                                         & TGTGCCAGTAGAGCGACTAGCGGGAGTTTCTATGAGCAGTTCTTC & clonotype4                                    & clonetype\\_610                              \\\\\n",
       "\t CGTTGGGAGGCAGGTT-2                            & TRBV19                                        & TRBD2                                         & TRBJ2-1                                       & TRBC2                                         & TGTGCCAGTAGAGCGACTAGCGGGAGTTTCTATGAGCAGTTCTTC & clonotype8                                    & clonetype\\_610                              \\\\\n",
       "\t CTCTAATGTTTACTCT-2                            & TRBV19                                        & TRBD2                                         & TRBJ2-1                                       & TRBC2                                         & TGTGCCAGTAGAGCGACTAGCGGGAGTTTCTATGAGCAGTTCTTC & clonotype4                                    & clonetype\\_610                              \\\\\n",
       "\t CTCTGGTAGGAGCGAG-2                            & TRBV19                                        & TRBD2                                         & TRBJ2-1                                       & TRBC2                                         & TGTGCCAGTAGAGCGACTAGCGGGAGTTTCTATGAGCAGTTCTTC & clonotype2                                    & clonetype\\_610                              \\\\\n",
       "\t CTGATAGCACGTCTCT-2                            & TRBV19                                        & TRBD2                                         & TRBJ2-1                                       & TRBC2                                         & TGTGCCAGTAGAGCGACTAGCGGGAGTTTCTATGAGCAGTTCTTC & clonotype2                                    & clonetype\\_610                              \\\\\n",
       "\t GACACGCAGTGTCTCA-2                            & TRBV19                                        & TRBD2                                         & TRBJ2-1                                       & TRBC2                                         & TGTGCCAGTAGAGCGACTAGCGGGAGTTTCTATGAGCAGTTCTTC & clonotype4                                    & clonetype\\_610                              \\\\\n",
       "\t GACTACAAGCTTTGGT-2                            & TRBV19                                        & TRBD2                                         & TRBJ2-1                                       & TRBC2                                         & TGTGCCAGTAGAGCGACTAGCGGGAGTTTCTATGAGCAGTTCTTC & clonotype2                                    & clonetype\\_610                              \\\\\n",
       "\t GACTGCGAGGCGATAC-2                            & TRBV19                                        & TRBD2                                         & TRBJ2-1                                       & TRBC2                                         & TGTGCCAGTAGAGCGACTAGCGGGAGTTTCTATGAGCAGTTCTTC & clonotype4                                    & clonetype\\_610                              \\\\\n",
       "\t GCATGATAGGCCGAAT-2                            & TRBV19                                        & TRBD2                                         & TRBJ2-1                                       & TRBC2                                         & TGTGCCAGTAGAGCGACTAGCGGGAGTTTCTATGAGCAGTTCTTC & clonotype2                                    & clonetype\\_610                              \\\\\n",
       "\t GCCAAATAGATAGGAG-2                            & TRBV19                                        & TRBD2                                         & TRBJ2-1                                       & TRBC2                                         & TGTGCCAGTAGAGCGACTAGCGGGAGTTTCTATGAGCAGTTCTTC & clonotype1                                    & clonetype\\_610                              \\\\\n",
       "\t GCGCGATCACTATCTT-2                            & TRBV19                                        & TRBD2                                         & TRBJ2-1                                       & TRBC2                                         & TGTGCCAGTAGAGCGACTAGCGGGAGTTTCTATGAGCAGTTCTTC & clonotype2                                    & clonetype\\_610                              \\\\\n",
       "\t GCTTCCAGTTATCACG-2                            & TRBV19                                        & TRBD2                                         & TRBJ2-1                                       & TRBC2                                         & TGTGCCAGTAGAGCGACTAGCGGGAGTTTCTATGAGCAGTTCTTC & clonotype2                                    & clonetype\\_610                              \\\\\n",
       "\t GGACAAGCACACTGCG-2                            & TRBV19                                        & TRBD2                                         & TRBJ2-1                                       & TRBC2                                         & TGTGCCAGTAGAGCGACTAGCGGGAGTTTCTATGAGCAGTTCTTC & clonotype8                                    & clonetype\\_610                              \\\\\n",
       "\t GGGTCTGGTAAGGGCT-2                            & TRBV19                                        & TRBD2                                         & TRBJ2-1                                       & TRBC2                                         & TGTGCCAGTAGAGCGACTAGCGGGAGTTTCTATGAGCAGTTCTTC & clonotype4                                    & clonetype\\_610                              \\\\\n",
       "\t GTGCATACAACGATCT-2                            & TRBV19                                        & TRBD2                                         & TRBJ2-1                                       & TRBC2                                         & TGTGCCAGTAGAGCGACTAGCGGGAGTTTCTATGAGCAGTTCTTC & clonotype2                                    & clonetype\\_610                              \\\\\n",
       "\t GTTCATTGTCACCTAA-2                            & TRBV19                                        & TRBD2                                         & TRBJ2-1                                       & TRBC2                                         & TGTGCCAGTAGAGCGACTAGCGGGAGTTTCTATGAGCAGTTCTTC & clonotype1                                    & clonetype\\_610                              \\\\\n",
       "\t GTTCATTGTGGCTCCA-2                            & TRBV19                                        & TRBD2                                         & TRBJ2-1                                       & TRBC2                                         & TGTGCCAGTAGAGCGACTAGCGGGAGTTTCTATGAGCAGTTCTTC & clonotype2                                    & clonetype\\_610                              \\\\\n",
       "\t TACCTATGTCCGCTGA-2                            & TRBV19                                        & TRBD2                                         & TRBJ2-1                                       & TRBC2                                         & TGTGCCAGTAGAGCGACTAGCGGGAGTTTCTATGAGCAGTTCTTC & clonotype1                                    & clonetype\\_610                              \\\\\n",
       "\t TCCCGATAGGAGTCTG-2                            & TRBV19                                        & TRBD2                                         & TRBJ2-1                                       & TRBC2                                         & TGTGCCAGTAGAGCGACTAGCGGGAGTTTCTATGAGCAGTTCTTC & clonotype1                                    & clonetype\\_610                              \\\\\n",
       "\t TCTATTGTCCAAACAC-2                            & TRBV19                                        & TRBD2                                         & TRBJ2-1                                       & TRBC2                                         & TGTGCCAGTAGAGCGACTAGCGGGAGTTTCTATGAGCAGTTCTTC & clonotype4                                    & clonetype\\_610                              \\\\\n",
       "\t TCTTTCCGTGTGCGTC-2                            & TRBV19                                        & TRBD2                                         & TRBJ2-1                                       & TRBC2                                         & TGTGCCAGTAGAGCGACTAGCGGGAGTTTCTATGAGCAGTTCTTC & clonotype1                                    & clonetype\\_610                              \\\\\n",
       "\t TGAAAGATCACTCCTG-2                            & TRBV19                                        & TRBD2                                         & TRBJ2-1                                       & TRBC2                                         & TGTGCCAGTAGAGCGACTAGCGGGAGTTTCTATGAGCAGTTCTTC & clonotype2                                    & clonetype\\_610                              \\\\\n",
       "\t TGACTTTCACGAGGTA-2                            & TRBV19                                        & TRBD2                                         & TRBJ2-1                                       & TRBC2                                         & TGTGCCAGTAGAGCGACTAGCGGGAGTTTCTATGAGCAGTTCTTC & clonotype2                                    & clonetype\\_610                              \\\\\n",
       "\t TGAGAGGTCCTCATTA-2                            & TRBV19                                        & TRBD2                                         & TRBJ2-1                                       & TRBC2                                         & TGTGCCAGTAGAGCGACTAGCGGGAGTTTCTATGAGCAGTTCTTC & clonotype1                                    & clonetype\\_610                              \\\\\n",
       "\t TGGTTCCGTGACAAAT-2                            & TRBV19                                        & TRBD2                                         & TRBJ2-1                                       & TRBC2                                         & TGTGCCAGTAGAGCGACTAGCGGGAGTTTCTATGAGCAGTTCTTC & clonotype1                                    & clonetype\\_610                              \\\\\n",
       "\t TGTTCCGTCATGTGGT-2                            & TRBV19                                        & TRBD2                                         & TRBJ2-1                                       & TRBC2                                         & TGTGCCAGTAGAGCGACTAGCGGGAGTTTCTATGAGCAGTTCTTC & clonotype1                                    & clonetype\\_610                              \\\\\n",
       "\t TTAGGCAAGACGCAAC-2                            & TRBV19                                        & TRBD2                                         & TRBJ2-1                                       & TRBC2                                         & TGTGCCAGTAGAGCGACTAGCGGGAGTTTCTATGAGCAGTTCTTC & clonotype1                                    & clonetype\\_610                              \\\\\n",
       "\t TTGCGTCCAAGGTTCT-2                            & TRBV19                                        & TRBD2                                         & TRBJ2-1                                       & TRBC2                                         & TGTGCCAGTAGAGCGACTAGCGGGAGTTTCTATGAGCAGTTCTTC & clonotype2                                    & clonetype\\_610                              \\\\\n",
       "\t TTGGAACAGAAGCCCA-2                            & TRBV19                                        & TRBD2                                         & TRBJ2-1                                       & TRBC2                                         & TGTGCCAGTAGAGCGACTAGCGGGAGTTTCTATGAGCAGTTCTTC & clonotype1                                    & clonetype\\_610                              \\\\\n",
       "\\end{tabular}\n"
      ],
      "text/markdown": [
       "\n",
       "barcode | v_gene | d_gene | j_gene | c_gene | cdr3_nt | raw_clonotype_id | id | \n",
       "|---|---|---|---|---|---|---|---|---|---|---|---|---|---|---|---|---|---|---|---|---|---|---|---|---|---|---|---|---|---|---|---|---|---|---|---|---|---|---|---|---|---|---|---|---|---|---|---|---|---|---|\n",
       "| AAACGGGAGCTGCCCA-2                            | TRBV19                                        | TRBD2                                         | TRBJ2-1                                       | TRBC2                                         | TGTGCCAGTAGAGCGACTAGCGGGAGTTTCTATGAGCAGTTCTTC | clonotype1                                    | clonetype_610                                 | \n",
       "| AAGACCTAGATCCCAT-2                            | TRBV19                                        | TRBD2                                         | TRBJ2-1                                       | TRBC2                                         | TGTGCCAGTAGAGCGACTAGCGGGAGTTTCTATGAGCAGTTCTTC | clonotype135                                  | clonetype_610                                 | \n",
       "| AAGGCAGCATCCGTGG-2                            | TRBV19                                        | TRBD2                                         | TRBJ2-1                                       | TRBC2                                         | TGTGCCAGTAGAGCGACTAGCGGGAGTTTCTATGAGCAGTTCTTC | clonotype2                                    | clonetype_610                                 | \n",
       "| ACCTTTAGTATGAATG-2                            | TRBV19                                        | TRBD2                                         | TRBJ2-1                                       | TRBC2                                         | TGTGCCAGTAGAGCGACTAGCGGGAGTTTCTATGAGCAGTTCTTC | clonotype1                                    | clonetype_610                                 | \n",
       "| ACGCAGCGTCCGAGTC-2                            | TRBV19                                        | TRBD2                                         | TRBJ2-1                                       | TRBC2                                         | TGTGCCAGTAGAGCGACTAGCGGGAGTTTCTATGAGCAGTTCTTC | clonotype4                                    | clonetype_610                                 | \n",
       "| ACGTCAATCTGGCGAC-2                            | TRBV19                                        | TRBD2                                         | TRBJ2-1                                       | TRBC2                                         | TGTGCCAGTAGAGCGACTAGCGGGAGTTTCTATGAGCAGTTCTTC | clonotype8                                    | clonetype_610                                 | \n",
       "| ACTTTCAAGCGTGTCC-2                            | TRBV19                                        | TRBD2                                         | TRBJ2-1                                       | TRBC2                                         | TGTGCCAGTAGAGCGACTAGCGGGAGTTTCTATGAGCAGTTCTTC | clonotype1                                    | clonetype_610                                 | \n",
       "| AGAGTGGGTTCAGCGC-2                            | TRBV19                                        | TRBD2                                         | TRBJ2-1                                       | TRBC2                                         | TGTGCCAGTAGAGCGACTAGCGGGAGTTTCTATGAGCAGTTCTTC | clonotype1                                    | clonetype_610                                 | \n",
       "| AGCTCTCGTCTAAACC-2                            | TRBV19                                        | TRBD2                                         | TRBJ2-1                                       | TRBC2                                         | TGTGCCAGTAGAGCGACTAGCGGGAGTTTCTATGAGCAGTTCTTC | clonotype4                                    | clonetype_610                                 | \n",
       "| AGGGAGTTCCGCATAA-2                            | TRBV19                                        | TRBD2                                         | TRBJ2-1                                       | TRBC2                                         | TGTGCCAGTAGAGCGACTAGCGGGAGTTTCTATGAGCAGTTCTTC | clonotype8                                    | clonetype_610                                 | \n",
       "| AGGGATGCAGTTCATG-2                            | TRBV19                                        | TRBD2                                         | TRBJ2-1                                       | TRBC2                                         | TGTGCCAGTAGAGCGACTAGCGGGAGTTTCTATGAGCAGTTCTTC | clonotype4                                    | clonetype_610                                 | \n",
       "| AGTGAGGCATCCAACA-2                            | TRBV19                                        | TRBD2                                         | TRBJ2-1                                       | TRBC2                                         | TGTGCCAGTAGAGCGACTAGCGGGAGTTTCTATGAGCAGTTCTTC | clonotype1                                    | clonetype_610                                 | \n",
       "| ATCATGGTCTTTACAC-2                            | TRBV19                                        | TRBD2                                         | TRBJ2-1                                       | TRBC2                                         | TGTGCCAGTAGAGCGACTAGCGGGAGTTTCTATGAGCAGTTCTTC | clonotype4                                    | clonetype_610                                 | \n",
       "| ATCTACTTCATATCGG-2                            | TRBV19                                        | TRBD2                                         | TRBJ2-1                                       | TRBC2                                         | TGTGCCAGTAGAGCGACTAGCGGGAGTTTCTATGAGCAGTTCTTC | clonotype1                                    | clonetype_610                                 | \n",
       "| ATGAGGGAGGGTGTGT-2                            | TRBV19                                        | TRBD2                                         | TRBJ2-1                                       | TRBC2                                         | TGTGCCAGTAGAGCGACTAGCGGGAGTTTCTATGAGCAGTTCTTC | clonotype1                                    | clonetype_610                                 | \n",
       "| CATCGGGGTCGCTTCT-2                            | TRBV19                                        | TRBD2                                         | TRBJ2-1                                       | TRBC2                                         | TGTGCCAGTAGAGCGACTAGCGGGAGTTTCTATGAGCAGTTCTTC | clonotype1                                    | clonetype_610                                 | \n",
       "| CATCGGGTCTGTCTCG-2                            | TRBV19                                        | TRBD2                                         | TRBJ2-1                                       | TRBC2                                         | TGTGCCAGTAGAGCGACTAGCGGGAGTTTCTATGAGCAGTTCTTC | clonotype4                                    | clonetype_610                                 | \n",
       "| CATGGCGCACGAGGTA-2                            | TRBV19                                        | TRBD2                                         | TRBJ2-1                                       | TRBC2                                         | TGTGCCAGTAGAGCGACTAGCGGGAGTTTCTATGAGCAGTTCTTC | clonotype2                                    | clonetype_610                                 | \n",
       "| CCACGGAAGAGAGCTC-2                            | TRBV19                                        | TRBD2                                         | TRBJ2-1                                       | TRBC2                                         | TGTGCCAGTAGAGCGACTAGCGGGAGTTTCTATGAGCAGTTCTTC | clonotype2                                    | clonetype_610                                 | \n",
       "| CCCAATCCAGCTCGAC-2                            | TRBV19                                        | TRBD2                                         | TRBJ2-1                                       | TRBC2                                         | TGTGCCAGTAGAGCGACTAGCGGGAGTTTCTATGAGCAGTTCTTC | clonotype1                                    | clonetype_610                                 | \n",
       "| CCGGGATTCTCTTGAT-2                            | TRBV19                                        | TRBD2                                         | TRBJ2-1                                       | TRBC2                                         | TGTGCCAGTAGAGCGACTAGCGGGAGTTTCTATGAGCAGTTCTTC | clonotype1                                    | clonetype_610                                 | \n",
       "| CCGTTCAGTAAGCACG-2                            | TRBV19                                        | TRBD2                                         | TRBJ2-1                                       | TRBC2                                         | TGTGCCAGTAGAGCGACTAGCGGGAGTTTCTATGAGCAGTTCTTC | clonotype2                                    | clonetype_610                                 | \n",
       "| CGATGTATCATAACCG-2                            | TRBV19                                        | TRBD2                                         | TRBJ2-1                                       | TRBC2                                         | TGTGCCAGTAGAGCGACTAGCGGGAGTTTCTATGAGCAGTTCTTC | clonotype4                                    | clonetype_610                                 | \n",
       "| CGTTGGGAGGCAGGTT-2                            | TRBV19                                        | TRBD2                                         | TRBJ2-1                                       | TRBC2                                         | TGTGCCAGTAGAGCGACTAGCGGGAGTTTCTATGAGCAGTTCTTC | clonotype8                                    | clonetype_610                                 | \n",
       "| CTCTAATGTTTACTCT-2                            | TRBV19                                        | TRBD2                                         | TRBJ2-1                                       | TRBC2                                         | TGTGCCAGTAGAGCGACTAGCGGGAGTTTCTATGAGCAGTTCTTC | clonotype4                                    | clonetype_610                                 | \n",
       "| CTCTGGTAGGAGCGAG-2                            | TRBV19                                        | TRBD2                                         | TRBJ2-1                                       | TRBC2                                         | TGTGCCAGTAGAGCGACTAGCGGGAGTTTCTATGAGCAGTTCTTC | clonotype2                                    | clonetype_610                                 | \n",
       "| CTGATAGCACGTCTCT-2                            | TRBV19                                        | TRBD2                                         | TRBJ2-1                                       | TRBC2                                         | TGTGCCAGTAGAGCGACTAGCGGGAGTTTCTATGAGCAGTTCTTC | clonotype2                                    | clonetype_610                                 | \n",
       "| GACACGCAGTGTCTCA-2                            | TRBV19                                        | TRBD2                                         | TRBJ2-1                                       | TRBC2                                         | TGTGCCAGTAGAGCGACTAGCGGGAGTTTCTATGAGCAGTTCTTC | clonotype4                                    | clonetype_610                                 | \n",
       "| GACTACAAGCTTTGGT-2                            | TRBV19                                        | TRBD2                                         | TRBJ2-1                                       | TRBC2                                         | TGTGCCAGTAGAGCGACTAGCGGGAGTTTCTATGAGCAGTTCTTC | clonotype2                                    | clonetype_610                                 | \n",
       "| GACTGCGAGGCGATAC-2                            | TRBV19                                        | TRBD2                                         | TRBJ2-1                                       | TRBC2                                         | TGTGCCAGTAGAGCGACTAGCGGGAGTTTCTATGAGCAGTTCTTC | clonotype4                                    | clonetype_610                                 | \n",
       "| GCATGATAGGCCGAAT-2                            | TRBV19                                        | TRBD2                                         | TRBJ2-1                                       | TRBC2                                         | TGTGCCAGTAGAGCGACTAGCGGGAGTTTCTATGAGCAGTTCTTC | clonotype2                                    | clonetype_610                                 | \n",
       "| GCCAAATAGATAGGAG-2                            | TRBV19                                        | TRBD2                                         | TRBJ2-1                                       | TRBC2                                         | TGTGCCAGTAGAGCGACTAGCGGGAGTTTCTATGAGCAGTTCTTC | clonotype1                                    | clonetype_610                                 | \n",
       "| GCGCGATCACTATCTT-2                            | TRBV19                                        | TRBD2                                         | TRBJ2-1                                       | TRBC2                                         | TGTGCCAGTAGAGCGACTAGCGGGAGTTTCTATGAGCAGTTCTTC | clonotype2                                    | clonetype_610                                 | \n",
       "| GCTTCCAGTTATCACG-2                            | TRBV19                                        | TRBD2                                         | TRBJ2-1                                       | TRBC2                                         | TGTGCCAGTAGAGCGACTAGCGGGAGTTTCTATGAGCAGTTCTTC | clonotype2                                    | clonetype_610                                 | \n",
       "| GGACAAGCACACTGCG-2                            | TRBV19                                        | TRBD2                                         | TRBJ2-1                                       | TRBC2                                         | TGTGCCAGTAGAGCGACTAGCGGGAGTTTCTATGAGCAGTTCTTC | clonotype8                                    | clonetype_610                                 | \n",
       "| GGGTCTGGTAAGGGCT-2                            | TRBV19                                        | TRBD2                                         | TRBJ2-1                                       | TRBC2                                         | TGTGCCAGTAGAGCGACTAGCGGGAGTTTCTATGAGCAGTTCTTC | clonotype4                                    | clonetype_610                                 | \n",
       "| GTGCATACAACGATCT-2                            | TRBV19                                        | TRBD2                                         | TRBJ2-1                                       | TRBC2                                         | TGTGCCAGTAGAGCGACTAGCGGGAGTTTCTATGAGCAGTTCTTC | clonotype2                                    | clonetype_610                                 | \n",
       "| GTTCATTGTCACCTAA-2                            | TRBV19                                        | TRBD2                                         | TRBJ2-1                                       | TRBC2                                         | TGTGCCAGTAGAGCGACTAGCGGGAGTTTCTATGAGCAGTTCTTC | clonotype1                                    | clonetype_610                                 | \n",
       "| GTTCATTGTGGCTCCA-2                            | TRBV19                                        | TRBD2                                         | TRBJ2-1                                       | TRBC2                                         | TGTGCCAGTAGAGCGACTAGCGGGAGTTTCTATGAGCAGTTCTTC | clonotype2                                    | clonetype_610                                 | \n",
       "| TACCTATGTCCGCTGA-2                            | TRBV19                                        | TRBD2                                         | TRBJ2-1                                       | TRBC2                                         | TGTGCCAGTAGAGCGACTAGCGGGAGTTTCTATGAGCAGTTCTTC | clonotype1                                    | clonetype_610                                 | \n",
       "| TCCCGATAGGAGTCTG-2                            | TRBV19                                        | TRBD2                                         | TRBJ2-1                                       | TRBC2                                         | TGTGCCAGTAGAGCGACTAGCGGGAGTTTCTATGAGCAGTTCTTC | clonotype1                                    | clonetype_610                                 | \n",
       "| TCTATTGTCCAAACAC-2                            | TRBV19                                        | TRBD2                                         | TRBJ2-1                                       | TRBC2                                         | TGTGCCAGTAGAGCGACTAGCGGGAGTTTCTATGAGCAGTTCTTC | clonotype4                                    | clonetype_610                                 | \n",
       "| TCTTTCCGTGTGCGTC-2                            | TRBV19                                        | TRBD2                                         | TRBJ2-1                                       | TRBC2                                         | TGTGCCAGTAGAGCGACTAGCGGGAGTTTCTATGAGCAGTTCTTC | clonotype1                                    | clonetype_610                                 | \n",
       "| TGAAAGATCACTCCTG-2                            | TRBV19                                        | TRBD2                                         | TRBJ2-1                                       | TRBC2                                         | TGTGCCAGTAGAGCGACTAGCGGGAGTTTCTATGAGCAGTTCTTC | clonotype2                                    | clonetype_610                                 | \n",
       "| TGACTTTCACGAGGTA-2                            | TRBV19                                        | TRBD2                                         | TRBJ2-1                                       | TRBC2                                         | TGTGCCAGTAGAGCGACTAGCGGGAGTTTCTATGAGCAGTTCTTC | clonotype2                                    | clonetype_610                                 | \n",
       "| TGAGAGGTCCTCATTA-2                            | TRBV19                                        | TRBD2                                         | TRBJ2-1                                       | TRBC2                                         | TGTGCCAGTAGAGCGACTAGCGGGAGTTTCTATGAGCAGTTCTTC | clonotype1                                    | clonetype_610                                 | \n",
       "| TGGTTCCGTGACAAAT-2                            | TRBV19                                        | TRBD2                                         | TRBJ2-1                                       | TRBC2                                         | TGTGCCAGTAGAGCGACTAGCGGGAGTTTCTATGAGCAGTTCTTC | clonotype1                                    | clonetype_610                                 | \n",
       "| TGTTCCGTCATGTGGT-2                            | TRBV19                                        | TRBD2                                         | TRBJ2-1                                       | TRBC2                                         | TGTGCCAGTAGAGCGACTAGCGGGAGTTTCTATGAGCAGTTCTTC | clonotype1                                    | clonetype_610                                 | \n",
       "| TTAGGCAAGACGCAAC-2                            | TRBV19                                        | TRBD2                                         | TRBJ2-1                                       | TRBC2                                         | TGTGCCAGTAGAGCGACTAGCGGGAGTTTCTATGAGCAGTTCTTC | clonotype1                                    | clonetype_610                                 | \n",
       "| TTGCGTCCAAGGTTCT-2                            | TRBV19                                        | TRBD2                                         | TRBJ2-1                                       | TRBC2                                         | TGTGCCAGTAGAGCGACTAGCGGGAGTTTCTATGAGCAGTTCTTC | clonotype2                                    | clonetype_610                                 | \n",
       "| TTGGAACAGAAGCCCA-2                            | TRBV19                                        | TRBD2                                         | TRBJ2-1                                       | TRBC2                                         | TGTGCCAGTAGAGCGACTAGCGGGAGTTTCTATGAGCAGTTCTTC | clonotype1                                    | clonetype_610                                 | \n",
       "\n",
       "\n"
      ],
      "text/plain": [
       "   barcode            v_gene d_gene j_gene  c_gene\n",
       "1  AAACGGGAGCTGCCCA-2 TRBV19 TRBD2  TRBJ2-1 TRBC2 \n",
       "2  AAGACCTAGATCCCAT-2 TRBV19 TRBD2  TRBJ2-1 TRBC2 \n",
       "3  AAGGCAGCATCCGTGG-2 TRBV19 TRBD2  TRBJ2-1 TRBC2 \n",
       "4  ACCTTTAGTATGAATG-2 TRBV19 TRBD2  TRBJ2-1 TRBC2 \n",
       "5  ACGCAGCGTCCGAGTC-2 TRBV19 TRBD2  TRBJ2-1 TRBC2 \n",
       "6  ACGTCAATCTGGCGAC-2 TRBV19 TRBD2  TRBJ2-1 TRBC2 \n",
       "7  ACTTTCAAGCGTGTCC-2 TRBV19 TRBD2  TRBJ2-1 TRBC2 \n",
       "8  AGAGTGGGTTCAGCGC-2 TRBV19 TRBD2  TRBJ2-1 TRBC2 \n",
       "9  AGCTCTCGTCTAAACC-2 TRBV19 TRBD2  TRBJ2-1 TRBC2 \n",
       "10 AGGGAGTTCCGCATAA-2 TRBV19 TRBD2  TRBJ2-1 TRBC2 \n",
       "11 AGGGATGCAGTTCATG-2 TRBV19 TRBD2  TRBJ2-1 TRBC2 \n",
       "12 AGTGAGGCATCCAACA-2 TRBV19 TRBD2  TRBJ2-1 TRBC2 \n",
       "13 ATCATGGTCTTTACAC-2 TRBV19 TRBD2  TRBJ2-1 TRBC2 \n",
       "14 ATCTACTTCATATCGG-2 TRBV19 TRBD2  TRBJ2-1 TRBC2 \n",
       "15 ATGAGGGAGGGTGTGT-2 TRBV19 TRBD2  TRBJ2-1 TRBC2 \n",
       "16 CATCGGGGTCGCTTCT-2 TRBV19 TRBD2  TRBJ2-1 TRBC2 \n",
       "17 CATCGGGTCTGTCTCG-2 TRBV19 TRBD2  TRBJ2-1 TRBC2 \n",
       "18 CATGGCGCACGAGGTA-2 TRBV19 TRBD2  TRBJ2-1 TRBC2 \n",
       "19 CCACGGAAGAGAGCTC-2 TRBV19 TRBD2  TRBJ2-1 TRBC2 \n",
       "20 CCCAATCCAGCTCGAC-2 TRBV19 TRBD2  TRBJ2-1 TRBC2 \n",
       "21 CCGGGATTCTCTTGAT-2 TRBV19 TRBD2  TRBJ2-1 TRBC2 \n",
       "22 CCGTTCAGTAAGCACG-2 TRBV19 TRBD2  TRBJ2-1 TRBC2 \n",
       "23 CGATGTATCATAACCG-2 TRBV19 TRBD2  TRBJ2-1 TRBC2 \n",
       "24 CGTTGGGAGGCAGGTT-2 TRBV19 TRBD2  TRBJ2-1 TRBC2 \n",
       "25 CTCTAATGTTTACTCT-2 TRBV19 TRBD2  TRBJ2-1 TRBC2 \n",
       "26 CTCTGGTAGGAGCGAG-2 TRBV19 TRBD2  TRBJ2-1 TRBC2 \n",
       "27 CTGATAGCACGTCTCT-2 TRBV19 TRBD2  TRBJ2-1 TRBC2 \n",
       "28 GACACGCAGTGTCTCA-2 TRBV19 TRBD2  TRBJ2-1 TRBC2 \n",
       "29 GACTACAAGCTTTGGT-2 TRBV19 TRBD2  TRBJ2-1 TRBC2 \n",
       "30 GACTGCGAGGCGATAC-2 TRBV19 TRBD2  TRBJ2-1 TRBC2 \n",
       "31 GCATGATAGGCCGAAT-2 TRBV19 TRBD2  TRBJ2-1 TRBC2 \n",
       "32 GCCAAATAGATAGGAG-2 TRBV19 TRBD2  TRBJ2-1 TRBC2 \n",
       "33 GCGCGATCACTATCTT-2 TRBV19 TRBD2  TRBJ2-1 TRBC2 \n",
       "34 GCTTCCAGTTATCACG-2 TRBV19 TRBD2  TRBJ2-1 TRBC2 \n",
       "35 GGACAAGCACACTGCG-2 TRBV19 TRBD2  TRBJ2-1 TRBC2 \n",
       "36 GGGTCTGGTAAGGGCT-2 TRBV19 TRBD2  TRBJ2-1 TRBC2 \n",
       "37 GTGCATACAACGATCT-2 TRBV19 TRBD2  TRBJ2-1 TRBC2 \n",
       "38 GTTCATTGTCACCTAA-2 TRBV19 TRBD2  TRBJ2-1 TRBC2 \n",
       "39 GTTCATTGTGGCTCCA-2 TRBV19 TRBD2  TRBJ2-1 TRBC2 \n",
       "40 TACCTATGTCCGCTGA-2 TRBV19 TRBD2  TRBJ2-1 TRBC2 \n",
       "41 TCCCGATAGGAGTCTG-2 TRBV19 TRBD2  TRBJ2-1 TRBC2 \n",
       "42 TCTATTGTCCAAACAC-2 TRBV19 TRBD2  TRBJ2-1 TRBC2 \n",
       "43 TCTTTCCGTGTGCGTC-2 TRBV19 TRBD2  TRBJ2-1 TRBC2 \n",
       "44 TGAAAGATCACTCCTG-2 TRBV19 TRBD2  TRBJ2-1 TRBC2 \n",
       "45 TGACTTTCACGAGGTA-2 TRBV19 TRBD2  TRBJ2-1 TRBC2 \n",
       "46 TGAGAGGTCCTCATTA-2 TRBV19 TRBD2  TRBJ2-1 TRBC2 \n",
       "47 TGGTTCCGTGACAAAT-2 TRBV19 TRBD2  TRBJ2-1 TRBC2 \n",
       "48 TGTTCCGTCATGTGGT-2 TRBV19 TRBD2  TRBJ2-1 TRBC2 \n",
       "49 TTAGGCAAGACGCAAC-2 TRBV19 TRBD2  TRBJ2-1 TRBC2 \n",
       "50 TTGCGTCCAAGGTTCT-2 TRBV19 TRBD2  TRBJ2-1 TRBC2 \n",
       "51 TTGGAACAGAAGCCCA-2 TRBV19 TRBD2  TRBJ2-1 TRBC2 \n",
       "   cdr3_nt                                       raw_clonotype_id id           \n",
       "1  TGTGCCAGTAGAGCGACTAGCGGGAGTTTCTATGAGCAGTTCTTC clonotype1       clonetype_610\n",
       "2  TGTGCCAGTAGAGCGACTAGCGGGAGTTTCTATGAGCAGTTCTTC clonotype135     clonetype_610\n",
       "3  TGTGCCAGTAGAGCGACTAGCGGGAGTTTCTATGAGCAGTTCTTC clonotype2       clonetype_610\n",
       "4  TGTGCCAGTAGAGCGACTAGCGGGAGTTTCTATGAGCAGTTCTTC clonotype1       clonetype_610\n",
       "5  TGTGCCAGTAGAGCGACTAGCGGGAGTTTCTATGAGCAGTTCTTC clonotype4       clonetype_610\n",
       "6  TGTGCCAGTAGAGCGACTAGCGGGAGTTTCTATGAGCAGTTCTTC clonotype8       clonetype_610\n",
       "7  TGTGCCAGTAGAGCGACTAGCGGGAGTTTCTATGAGCAGTTCTTC clonotype1       clonetype_610\n",
       "8  TGTGCCAGTAGAGCGACTAGCGGGAGTTTCTATGAGCAGTTCTTC clonotype1       clonetype_610\n",
       "9  TGTGCCAGTAGAGCGACTAGCGGGAGTTTCTATGAGCAGTTCTTC clonotype4       clonetype_610\n",
       "10 TGTGCCAGTAGAGCGACTAGCGGGAGTTTCTATGAGCAGTTCTTC clonotype8       clonetype_610\n",
       "11 TGTGCCAGTAGAGCGACTAGCGGGAGTTTCTATGAGCAGTTCTTC clonotype4       clonetype_610\n",
       "12 TGTGCCAGTAGAGCGACTAGCGGGAGTTTCTATGAGCAGTTCTTC clonotype1       clonetype_610\n",
       "13 TGTGCCAGTAGAGCGACTAGCGGGAGTTTCTATGAGCAGTTCTTC clonotype4       clonetype_610\n",
       "14 TGTGCCAGTAGAGCGACTAGCGGGAGTTTCTATGAGCAGTTCTTC clonotype1       clonetype_610\n",
       "15 TGTGCCAGTAGAGCGACTAGCGGGAGTTTCTATGAGCAGTTCTTC clonotype1       clonetype_610\n",
       "16 TGTGCCAGTAGAGCGACTAGCGGGAGTTTCTATGAGCAGTTCTTC clonotype1       clonetype_610\n",
       "17 TGTGCCAGTAGAGCGACTAGCGGGAGTTTCTATGAGCAGTTCTTC clonotype4       clonetype_610\n",
       "18 TGTGCCAGTAGAGCGACTAGCGGGAGTTTCTATGAGCAGTTCTTC clonotype2       clonetype_610\n",
       "19 TGTGCCAGTAGAGCGACTAGCGGGAGTTTCTATGAGCAGTTCTTC clonotype2       clonetype_610\n",
       "20 TGTGCCAGTAGAGCGACTAGCGGGAGTTTCTATGAGCAGTTCTTC clonotype1       clonetype_610\n",
       "21 TGTGCCAGTAGAGCGACTAGCGGGAGTTTCTATGAGCAGTTCTTC clonotype1       clonetype_610\n",
       "22 TGTGCCAGTAGAGCGACTAGCGGGAGTTTCTATGAGCAGTTCTTC clonotype2       clonetype_610\n",
       "23 TGTGCCAGTAGAGCGACTAGCGGGAGTTTCTATGAGCAGTTCTTC clonotype4       clonetype_610\n",
       "24 TGTGCCAGTAGAGCGACTAGCGGGAGTTTCTATGAGCAGTTCTTC clonotype8       clonetype_610\n",
       "25 TGTGCCAGTAGAGCGACTAGCGGGAGTTTCTATGAGCAGTTCTTC clonotype4       clonetype_610\n",
       "26 TGTGCCAGTAGAGCGACTAGCGGGAGTTTCTATGAGCAGTTCTTC clonotype2       clonetype_610\n",
       "27 TGTGCCAGTAGAGCGACTAGCGGGAGTTTCTATGAGCAGTTCTTC clonotype2       clonetype_610\n",
       "28 TGTGCCAGTAGAGCGACTAGCGGGAGTTTCTATGAGCAGTTCTTC clonotype4       clonetype_610\n",
       "29 TGTGCCAGTAGAGCGACTAGCGGGAGTTTCTATGAGCAGTTCTTC clonotype2       clonetype_610\n",
       "30 TGTGCCAGTAGAGCGACTAGCGGGAGTTTCTATGAGCAGTTCTTC clonotype4       clonetype_610\n",
       "31 TGTGCCAGTAGAGCGACTAGCGGGAGTTTCTATGAGCAGTTCTTC clonotype2       clonetype_610\n",
       "32 TGTGCCAGTAGAGCGACTAGCGGGAGTTTCTATGAGCAGTTCTTC clonotype1       clonetype_610\n",
       "33 TGTGCCAGTAGAGCGACTAGCGGGAGTTTCTATGAGCAGTTCTTC clonotype2       clonetype_610\n",
       "34 TGTGCCAGTAGAGCGACTAGCGGGAGTTTCTATGAGCAGTTCTTC clonotype2       clonetype_610\n",
       "35 TGTGCCAGTAGAGCGACTAGCGGGAGTTTCTATGAGCAGTTCTTC clonotype8       clonetype_610\n",
       "36 TGTGCCAGTAGAGCGACTAGCGGGAGTTTCTATGAGCAGTTCTTC clonotype4       clonetype_610\n",
       "37 TGTGCCAGTAGAGCGACTAGCGGGAGTTTCTATGAGCAGTTCTTC clonotype2       clonetype_610\n",
       "38 TGTGCCAGTAGAGCGACTAGCGGGAGTTTCTATGAGCAGTTCTTC clonotype1       clonetype_610\n",
       "39 TGTGCCAGTAGAGCGACTAGCGGGAGTTTCTATGAGCAGTTCTTC clonotype2       clonetype_610\n",
       "40 TGTGCCAGTAGAGCGACTAGCGGGAGTTTCTATGAGCAGTTCTTC clonotype1       clonetype_610\n",
       "41 TGTGCCAGTAGAGCGACTAGCGGGAGTTTCTATGAGCAGTTCTTC clonotype1       clonetype_610\n",
       "42 TGTGCCAGTAGAGCGACTAGCGGGAGTTTCTATGAGCAGTTCTTC clonotype4       clonetype_610\n",
       "43 TGTGCCAGTAGAGCGACTAGCGGGAGTTTCTATGAGCAGTTCTTC clonotype1       clonetype_610\n",
       "44 TGTGCCAGTAGAGCGACTAGCGGGAGTTTCTATGAGCAGTTCTTC clonotype2       clonetype_610\n",
       "45 TGTGCCAGTAGAGCGACTAGCGGGAGTTTCTATGAGCAGTTCTTC clonotype2       clonetype_610\n",
       "46 TGTGCCAGTAGAGCGACTAGCGGGAGTTTCTATGAGCAGTTCTTC clonotype1       clonetype_610\n",
       "47 TGTGCCAGTAGAGCGACTAGCGGGAGTTTCTATGAGCAGTTCTTC clonotype1       clonetype_610\n",
       "48 TGTGCCAGTAGAGCGACTAGCGGGAGTTTCTATGAGCAGTTCTTC clonotype1       clonetype_610\n",
       "49 TGTGCCAGTAGAGCGACTAGCGGGAGTTTCTATGAGCAGTTCTTC clonotype1       clonetype_610\n",
       "50 TGTGCCAGTAGAGCGACTAGCGGGAGTTTCTATGAGCAGTTCTTC clonotype2       clonetype_610\n",
       "51 TGTGCCAGTAGAGCGACTAGCGGGAGTTTCTATGAGCAGTTCTTC clonotype1       clonetype_610"
      ]
     },
     "metadata": {},
     "output_type": "display_data"
    }
   ],
   "source": [
    "tag_mat[which(tag_mat$id==\"clonetype_610\"),]"
   ]
  },
  {
   "cell_type": "code",
   "execution_count": 9,
   "metadata": {
    "collapsed": false
   },
   "outputs": [
    {
     "data": {},
     "metadata": {},
     "output_type": "display_data"
    }
   ],
   "source": [
    "#B cell\n",
    "tag_mat=BCR_annoation[valid_TCR_list,c(\"barcode\",\"v_gene\",\"d_gene\",\"j_gene\",\"c_gene\",\"cdr3_nt\",\"raw_clonotype_id\")]\n",
    "setDT(tag_mat)[, id := paste0(\"clonetype_\",.GRP), by = .(v_gene,d_gene,j_gene,c_gene,cdr3_nt)]\n",
    "sample_group=as.numeric(stringi::stri_sub(tag_mat$barcode,-1, -1))\n",
    "expaned_clone=which(table(tag_mat$id)>1)\n",
    "\n",
    "plot_table=list()\n",
    "for(i in 1:max(sample_group)){\n",
    "    tag=sample_group==i\n",
    "    tag_id_tbl=table(tag_mat$id[tag])\n",
    "    plot_table[[i]]=data.frame(clone_id=names(tag_id_tbl),\n",
    "                               count=as.vector(tag_id_tbl),\n",
    "                               freq=round(as.vector(tag_id_tbl)/sum(tag_id_tbl),4)*100,\n",
    "                               groups=sample_list[i]) \n",
    "}\n",
    "clonetype_stat=do.call(rbind,plot_table)\n",
    "clonetype_stat=clonetype_stat[order(clonetype_stat$freq,decreasing = T),]\n",
    "\n",
    "plot_table=list()\n",
    "for(i in 1:max(sample_group)){\n",
    "    tag=clonetype_stat$groups==sample_list[i]\n",
    "    tag_clonetype_stat=clonetype_stat[tag,]\n",
    "    tag_freq_tbl=table(tag_clonetype_stat$freq)\n",
    "    tag_count_tbl=table(tag_clonetype_stat$count)\n",
    "    plot_table[[i]]=data.frame(groups=sample_list[i],\n",
    "                               expansion_level_freq=as.numeric(names(tag_freq_tbl)),\n",
    "                               expansion_level_count=as.numeric(names(tag_count_tbl)),\n",
    "                               clone_count=as.vector(tag_count_tbl)) \n",
    "}\n",
    "clonetype_expansion_count=do.call(rbind,plot_table)\n"
   ]
  },
  {
   "cell_type": "code",
   "execution_count": 4,
   "metadata": {
    "collapsed": false
   },
   "outputs": [
    {
     "data": {
      "text/plain": [
       "\n",
       "   1    2    3    4 \n",
       " 400 2239  118 2650 "
      ]
     },
     "metadata": {},
     "output_type": "display_data"
    }
   ],
   "source": [
    "table(stringi::stri_sub(BCR_annoation$barcode,-1, -1))"
   ]
  },
  {
   "cell_type": "code",
   "execution_count": 113,
   "metadata": {
    "collapsed": false
   },
   "outputs": [
    {
     "data": {},
     "metadata": {},
     "output_type": "display_data"
    },
    {
     "data": {
      "image/png": "[encoded data removed]",
      "text/plain": [
       "plot without title"
      ]
     },
     "metadata": {},
     "output_type": "display_data"
    }
   ],
   "source": [
    "ggplot(clonetype_expansion_count, aes(x=expansion_level_count,y=clone_count)) +\n",
    "    geom_bar(stat=\"identity\") +\n",
    "    theme_minimal() + theme(axis.text.x = element_text(angle = 60, hjust = 1)) +\n",
    "    labs(x = \"expansion_level\", y= \"clone_count\") +\n",
    "    facet_wrap(~groups, nrow = 2, scales = \"free\")"
   ]
  },
  {
   "cell_type": "code",
   "execution_count": 114,
   "metadata": {
    "collapsed": false
   },
   "outputs": [
    {
     "data": {
      "text/html": [],
      "text/latex": [],
      "text/markdown": [],
      "text/plain": [
       "integer(0)"
      ]
     },
     "metadata": {},
     "output_type": "display_data"
    }
   ],
   "source": [
    "#shared clone\n",
    "which(duplicated(clonetype_stat[,c(\"clone_id\",\"groups\")]))"
   ]
  },
  {
   "cell_type": "markdown",
   "metadata": {},
   "source": [
    "# shared B/TCR"
   ]
  },
  {
   "cell_type": "code",
   "execution_count": 38,
   "metadata": {
    "collapsed": false
   },
   "outputs": [
    {
     "data": {
      "text/html": [
       "<ol class=list-inline>\n",
       "\t<li>'C12pBMC'</li>\n",
       "\t<li>'C12Rectum'</li>\n",
       "\t<li>'C9pBMC'</li>\n",
       "\t<li>'C9Rectum'</li>\n",
       "</ol>\n"
      ],
      "text/latex": [
       "\\begin{enumerate*}\n",
       "\\item 'C12pBMC'\n",
       "\\item 'C12Rectum'\n",
       "\\item 'C9pBMC'\n",
       "\\item 'C9Rectum'\n",
       "\\end{enumerate*}\n"
      ],
      "text/markdown": [
       "1. 'C12pBMC'\n",
       "2. 'C12Rectum'\n",
       "3. 'C9pBMC'\n",
       "4. 'C9Rectum'\n",
       "\n",
       "\n"
      ],
      "text/plain": [
       "[1] \"C12pBMC\"   \"C12Rectum\" \"C9pBMC\"    \"C9Rectum\" "
      ]
     },
     "metadata": {},
     "output_type": "display_data"
    },
    {
     "data": {
      "text/html": [
       "<table>\n",
       "<thead><tr><th scope=col>barcode</th><th scope=col>is_cell</th><th scope=col>contig_id</th><th scope=col>high_confidence</th><th scope=col>length</th><th scope=col>chain</th><th scope=col>v_gene</th><th scope=col>d_gene</th><th scope=col>j_gene</th><th scope=col>c_gene</th><th scope=col>full_length</th><th scope=col>productive</th><th scope=col>cdr3</th><th scope=col>cdr3_nt</th><th scope=col>reads</th><th scope=col>umis</th><th scope=col>raw_clonotype_id</th><th scope=col>raw_consensus_id</th></tr></thead>\n",
       "<tbody>\n",
       "\t<tr><td>AAATGCCTCTGCCCTA-1                  </td><td>TRUE                                </td><td>AAATGCCTCTGCCCTA-1_contig_1         </td><td>TRUE                                </td><td>570                                 </td><td>IGK                                 </td><td>IGKV3-15                            </td><td>NA                                  </td><td>IGKJ4                               </td><td>IGKC                                </td><td>TRUE                                </td><td>TRUE                                </td><td>CQQYNNWPPLTF                        </td><td>TGTCAGCAGTATAATAACTGGCCTCCGCTCACTTTC</td><td>807                                 </td><td>25                                  </td><td>clonotype6                          </td><td>clonotype6_consensus_1              </td></tr>\n",
       "</tbody>\n",
       "</table>\n"
      ],
      "text/latex": [
       "\\begin{tabular}{r|llllllllllllllllll}\n",
       " barcode & is\\_cell & contig\\_id & high\\_confidence & length & chain & v\\_gene & d\\_gene & j\\_gene & c\\_gene & full\\_length & productive & cdr3 & cdr3\\_nt & reads & umis & raw\\_clonotype\\_id & raw\\_consensus\\_id\\\\\n",
       "\\hline\n",
       "\t AAATGCCTCTGCCCTA-1                   & TRUE                                 & AAATGCCTCTGCCCTA-1\\_contig\\_1      & TRUE                                 & 570                                  & IGK                                  & IGKV3-15                             & NA                                   & IGKJ4                                & IGKC                                 & TRUE                                 & TRUE                                 & CQQYNNWPPLTF                         & TGTCAGCAGTATAATAACTGGCCTCCGCTCACTTTC & 807                                  & 25                                   & clonotype6                           & clonotype6\\_consensus\\_1          \\\\\n",
       "\\end{tabular}\n"
      ],
      "text/markdown": [
       "\n",
       "barcode | is_cell | contig_id | high_confidence | length | chain | v_gene | d_gene | j_gene | c_gene | full_length | productive | cdr3 | cdr3_nt | reads | umis | raw_clonotype_id | raw_consensus_id | \n",
       "|---|\n",
       "| AAATGCCTCTGCCCTA-1                   | TRUE                                 | AAATGCCTCTGCCCTA-1_contig_1          | TRUE                                 | 570                                  | IGK                                  | IGKV3-15                             | NA                                   | IGKJ4                                | IGKC                                 | TRUE                                 | TRUE                                 | CQQYNNWPPLTF                         | TGTCAGCAGTATAATAACTGGCCTCCGCTCACTTTC | 807                                  | 25                                   | clonotype6                           | clonotype6_consensus_1               | \n",
       "\n",
       "\n"
      ],
      "text/plain": [
       "  barcode            is_cell contig_id                   high_confidence length\n",
       "1 AAATGCCTCTGCCCTA-1 TRUE    AAATGCCTCTGCCCTA-1_contig_1 TRUE            570   \n",
       "  chain v_gene   d_gene j_gene c_gene full_length productive cdr3        \n",
       "1 IGK   IGKV3-15 NA     IGKJ4  IGKC   TRUE        TRUE       CQQYNNWPPLTF\n",
       "  cdr3_nt                              reads umis raw_clonotype_id\n",
       "1 TGTCAGCAGTATAATAACTGGCCTCCGCTCACTTTC 807   25   clonotype6      \n",
       "  raw_consensus_id      \n",
       "1 clonotype6_consensus_1"
      ]
     },
     "metadata": {},
     "output_type": "display_data"
    },
    {
     "data": {
      "text/html": [
       "<table>\n",
       "<thead><tr><th></th><th scope=col>barcode</th><th scope=col>is_cell</th><th scope=col>contig_id</th><th scope=col>high_confidence</th><th scope=col>length</th><th scope=col>chain</th><th scope=col>v_gene</th><th scope=col>d_gene</th><th scope=col>j_gene</th><th scope=col>c_gene</th><th scope=col>full_length</th><th scope=col>productive</th><th scope=col>cdr3</th><th scope=col>cdr3_nt</th><th scope=col>reads</th><th scope=col>umis</th><th scope=col>raw_clonotype_id</th><th scope=col>raw_consensus_id</th></tr></thead>\n",
       "<tbody>\n",
       "\t<tr><th scope=row>1234</th><td>AAATGCCTCTGCCCTA-1                     </td><td>FALSE                                  </td><td>AAATGCCTCTGCCCTA-1_contig_1            </td><td>TRUE                                   </td><td>481                                    </td><td>TRA                                    </td><td>TRAV35                                 </td><td>NA                                     </td><td>TRAJ54                                 </td><td>TRAC                                   </td><td>TRUE                                   </td><td>TRUE                                   </td><td>CAGLVQGAQKLVF                          </td><td>TGTGCTGGGCTAGTTCAGGGAGCCCAGAAGCTGGTATTT</td><td>205                                    </td><td>1                                      </td><td>NA                                     </td><td>NA                                     </td></tr>\n",
       "\t<tr><th scope=row>1235</th><td>AAATGCCTCTGCCCTA-1                     </td><td>FALSE                                  </td><td>AAATGCCTCTGCCCTA-1_contig_2            </td><td>TRUE                                   </td><td>492                                    </td><td>TRB                                    </td><td>TRBV10-2                               </td><td>TRBD2                                  </td><td>TRBJ2-3                                </td><td>TRBC2                                  </td><td>TRUE                                   </td><td>TRUE                                   </td><td>CAIKTSGTDTQYF                          </td><td>TGCGCCATCAAGACTAGCGGCACAGATACGCAGTATTTT</td><td>495                                    </td><td>2                                      </td><td>NA                                     </td><td>NA                                     </td></tr>\n",
       "</tbody>\n",
       "</table>\n"
      ],
      "text/latex": [
       "\\begin{tabular}{r|llllllllllllllllll}\n",
       "  & barcode & is\\_cell & contig\\_id & high\\_confidence & length & chain & v\\_gene & d\\_gene & j\\_gene & c\\_gene & full\\_length & productive & cdr3 & cdr3\\_nt & reads & umis & raw\\_clonotype\\_id & raw\\_consensus\\_id\\\\\n",
       "\\hline\n",
       "\t1234 & AAATGCCTCTGCCCTA-1                      & FALSE                                   & AAATGCCTCTGCCCTA-1\\_contig\\_1         & TRUE                                    & 481                                     & TRA                                     & TRAV35                                  & NA                                      & TRAJ54                                  & TRAC                                    & TRUE                                    & TRUE                                    & CAGLVQGAQKLVF                           & TGTGCTGGGCTAGTTCAGGGAGCCCAGAAGCTGGTATTT & 205                                     & 1                                       & NA                                      & NA                                     \\\\\n",
       "\t1235 & AAATGCCTCTGCCCTA-1                      & FALSE                                   & AAATGCCTCTGCCCTA-1\\_contig\\_2         & TRUE                                    & 492                                     & TRB                                     & TRBV10-2                                & TRBD2                                   & TRBJ2-3                                 & TRBC2                                   & TRUE                                    & TRUE                                    & CAIKTSGTDTQYF                           & TGCGCCATCAAGACTAGCGGCACAGATACGCAGTATTTT & 495                                     & 2                                       & NA                                      & NA                                     \\\\\n",
       "\\end{tabular}\n"
      ],
      "text/markdown": [
       "\n",
       "| <!--/--> | barcode | is_cell | contig_id | high_confidence | length | chain | v_gene | d_gene | j_gene | c_gene | full_length | productive | cdr3 | cdr3_nt | reads | umis | raw_clonotype_id | raw_consensus_id | \n",
       "|---|---|\n",
       "| 1234 | AAATGCCTCTGCCCTA-1                      | FALSE                                   | AAATGCCTCTGCCCTA-1_contig_1             | TRUE                                    | 481                                     | TRA                                     | TRAV35                                  | NA                                      | TRAJ54                                  | TRAC                                    | TRUE                                    | TRUE                                    | CAGLVQGAQKLVF                           | TGTGCTGGGCTAGTTCAGGGAGCCCAGAAGCTGGTATTT | 205                                     | 1                                       | NA                                      | NA                                      | \n",
       "| 1235 | AAATGCCTCTGCCCTA-1                      | FALSE                                   | AAATGCCTCTGCCCTA-1_contig_2             | TRUE                                    | 492                                     | TRB                                     | TRBV10-2                                | TRBD2                                   | TRBJ2-3                                 | TRBC2                                   | TRUE                                    | TRUE                                    | CAIKTSGTDTQYF                           | TGCGCCATCAAGACTAGCGGCACAGATACGCAGTATTTT | 495                                     | 2                                       | NA                                      | NA                                      | \n",
       "\n",
       "\n"
      ],
      "text/plain": [
       "     barcode            is_cell contig_id                   high_confidence\n",
       "1234 AAATGCCTCTGCCCTA-1 FALSE   AAATGCCTCTGCCCTA-1_contig_1 TRUE           \n",
       "1235 AAATGCCTCTGCCCTA-1 FALSE   AAATGCCTCTGCCCTA-1_contig_2 TRUE           \n",
       "     length chain v_gene   d_gene j_gene  c_gene full_length productive\n",
       "1234 481    TRA   TRAV35   NA     TRAJ54  TRAC   TRUE        TRUE      \n",
       "1235 492    TRB   TRBV10-2 TRBD2  TRBJ2-3 TRBC2  TRUE        TRUE      \n",
       "     cdr3          cdr3_nt                                 reads umis\n",
       "1234 CAGLVQGAQKLVF TGTGCTGGGCTAGTTCAGGGAGCCCAGAAGCTGGTATTT 205   1   \n",
       "1235 CAIKTSGTDTQYF TGCGCCATCAAGACTAGCGGCACAGATACGCAGTATTTT 495   2   \n",
       "     raw_clonotype_id raw_consensus_id\n",
       "1234 NA               NA              \n",
       "1235 NA               NA              "
      ]
     },
     "metadata": {},
     "output_type": "display_data"
    }
   ],
   "source": [
    "sample_list\n",
    "BCR_annoation[BCR_annoation$barcode==\"AAATGCCTCTGCCCTA-1\",]\n",
    "TCR_annoation_w[TCR_annoation_w$barcode==\"AAATGCCTCTGCCCTA-1\",]"
   ]
  },
  {
   "cell_type": "code",
   "execution_count": 39,
   "metadata": {
    "collapsed": false
   },
   "outputs": [
    {
     "data": {
      "text/html": [
       "<table>\n",
       "<thead><tr><th></th><th scope=col>barcode</th><th scope=col>is_cell</th><th scope=col>contig_id</th><th scope=col>high_confidence</th><th scope=col>length</th><th scope=col>chain</th><th scope=col>v_gene</th><th scope=col>d_gene</th><th scope=col>j_gene</th><th scope=col>c_gene</th><th scope=col>full_length</th><th scope=col>productive</th><th scope=col>cdr3</th><th scope=col>cdr3_nt</th><th scope=col>reads</th><th scope=col>umis</th><th scope=col>raw_clonotype_id</th><th scope=col>raw_consensus_id</th></tr></thead>\n",
       "<tbody>\n",
       "\t<tr><th scope=row>36</th><td>ACGTCAAGTAGATTAG-1                                 </td><td>TRUE                                               </td><td>ACGTCAAGTAGATTAG-1_contig_1                        </td><td> TRUE                                              </td><td>333                                                </td><td>IGH                                                </td><td>IGHV3-23                                           </td><td>NA                                                 </td><td>NA                                                 </td><td>IGHE                                               </td><td>FALSE                                              </td><td>  NA                                               </td><td>NA                                                 </td><td>NA                                                 </td><td> 400                                               </td><td> 14                                                </td><td>clonotype27                                        </td><td>NA                                                 </td></tr>\n",
       "\t<tr><th scope=row>37</th><td>ACGTCAAGTAGATTAG-1                                 </td><td>TRUE                                               </td><td>ACGTCAAGTAGATTAG-1_contig_2                        </td><td> TRUE                                              </td><td>535                                                </td><td>IGH                                                </td><td>IGHV4-61                                           </td><td>IGHD2-21                                           </td><td>IGHJ6                                              </td><td>IGHM                                               </td><td> TRUE                                              </td><td>TRUE                                               </td><td>CARQLVVTAIPYGVDVW                                  </td><td>TGTGCGAGGCAGCTAGTGGTGACTGCTATCCCTTACGGTGTGGACGTCTGG</td><td> 146                                               </td><td>  8                                                </td><td>clonotype27                                        </td><td>clonotype27_consensus_1                            </td></tr>\n",
       "\t<tr><th scope=row>38</th><td>ACGTCAAGTAGATTAG-1                                 </td><td>TRUE                                               </td><td>ACGTCAAGTAGATTAG-1_contig_3                        </td><td> TRUE                                              </td><td>703                                                </td><td>Multi                                              </td><td>TRBV10-1                                           </td><td>NA                                                 </td><td>NA                                                 </td><td>IGHM                                               </td><td>FALSE                                              </td><td>  NA                                               </td><td>NA                                                 </td><td>NA                                                 </td><td> 108                                               </td><td>  6                                                </td><td>clonotype27                                        </td><td>NA                                                 </td></tr>\n",
       "\t<tr><th scope=row>39</th><td>ACGTCAAGTAGATTAG-1                                 </td><td>TRUE                                               </td><td>ACGTCAAGTAGATTAG-1_contig_4                        </td><td> TRUE                                              </td><td>674                                                </td><td>IGK                                                </td><td>IGKV2D-28                                          </td><td>NA                                                 </td><td>IGKJ2                                              </td><td>IGKC                                               </td><td> TRUE                                              </td><td>TRUE                                               </td><td>CMQTLQTPQYTF                                       </td><td>TGCATGCAAACTCTACAAACTCCTCAGTACACTTTT               </td><td>7794                                               </td><td>235                                                </td><td>clonotype27                                        </td><td>clonotype27_consensus_2                            </td></tr>\n",
       "\t<tr><th scope=row>40</th><td>ACGTCAAGTAGATTAG-1                                 </td><td>TRUE                                               </td><td>ACGTCAAGTAGATTAG-1_contig_5                        </td><td>FALSE                                              </td><td>657                                                </td><td>IGK                                                </td><td>IGKV1D-37                                          </td><td>NA                                                 </td><td>IGKJ5                                              </td><td>IGKC                                               </td><td> TRUE                                              </td><td>  NA                                               </td><td>NA                                                 </td><td>NA                                                 </td><td>1193                                               </td><td> 35                                                </td><td>clonotype27                                        </td><td>NA                                                 </td></tr>\n",
       "</tbody>\n",
       "</table>\n"
      ],
      "text/latex": [
       "\\begin{tabular}{r|llllllllllllllllll}\n",
       "  & barcode & is\\_cell & contig\\_id & high\\_confidence & length & chain & v\\_gene & d\\_gene & j\\_gene & c\\_gene & full\\_length & productive & cdr3 & cdr3\\_nt & reads & umis & raw\\_clonotype\\_id & raw\\_consensus\\_id\\\\\n",
       "\\hline\n",
       "\t36 & ACGTCAAGTAGATTAG-1                                  & TRUE                                                & ACGTCAAGTAGATTAG-1\\_contig\\_1                     &  TRUE                                               & 333                                                 & IGH                                                 & IGHV3-23                                            & NA                                                  & NA                                                  & IGHE                                                & FALSE                                               &   NA                                                & NA                                                  & NA                                                  &  400                                                &  14                                                 & clonotype27                                         & NA                                                 \\\\\n",
       "\t37 & ACGTCAAGTAGATTAG-1                                  & TRUE                                                & ACGTCAAGTAGATTAG-1\\_contig\\_2                     &  TRUE                                               & 535                                                 & IGH                                                 & IGHV4-61                                            & IGHD2-21                                            & IGHJ6                                               & IGHM                                                &  TRUE                                               & TRUE                                                & CARQLVVTAIPYGVDVW                                   & TGTGCGAGGCAGCTAGTGGTGACTGCTATCCCTTACGGTGTGGACGTCTGG &  146                                                &   8                                                 & clonotype27                                         & clonotype27\\_consensus\\_1                        \\\\\n",
       "\t38 & ACGTCAAGTAGATTAG-1                                  & TRUE                                                & ACGTCAAGTAGATTAG-1\\_contig\\_3                     &  TRUE                                               & 703                                                 & Multi                                               & TRBV10-1                                            & NA                                                  & NA                                                  & IGHM                                                & FALSE                                               &   NA                                                & NA                                                  & NA                                                  &  108                                                &   6                                                 & clonotype27                                         & NA                                                 \\\\\n",
       "\t39 & ACGTCAAGTAGATTAG-1                                  & TRUE                                                & ACGTCAAGTAGATTAG-1\\_contig\\_4                     &  TRUE                                               & 674                                                 & IGK                                                 & IGKV2D-28                                           & NA                                                  & IGKJ2                                               & IGKC                                                &  TRUE                                               & TRUE                                                & CMQTLQTPQYTF                                        & TGCATGCAAACTCTACAAACTCCTCAGTACACTTTT                & 7794                                                & 235                                                 & clonotype27                                         & clonotype27\\_consensus\\_2                        \\\\\n",
       "\t40 & ACGTCAAGTAGATTAG-1                                  & TRUE                                                & ACGTCAAGTAGATTAG-1\\_contig\\_5                     & FALSE                                               & 657                                                 & IGK                                                 & IGKV1D-37                                           & NA                                                  & IGKJ5                                               & IGKC                                                &  TRUE                                               &   NA                                                & NA                                                  & NA                                                  & 1193                                                &  35                                                 & clonotype27                                         & NA                                                 \\\\\n",
       "\\end{tabular}\n"
      ],
      "text/markdown": [
       "\n",
       "| <!--/--> | barcode | is_cell | contig_id | high_confidence | length | chain | v_gene | d_gene | j_gene | c_gene | full_length | productive | cdr3 | cdr3_nt | reads | umis | raw_clonotype_id | raw_consensus_id | \n",
       "|---|---|---|---|---|\n",
       "| 36 | ACGTCAAGTAGATTAG-1                                  | TRUE                                                | ACGTCAAGTAGATTAG-1_contig_1                         |  TRUE                                               | 333                                                 | IGH                                                 | IGHV3-23                                            | NA                                                  | NA                                                  | IGHE                                                | FALSE                                               |   NA                                                | NA                                                  | NA                                                  |  400                                                |  14                                                 | clonotype27                                         | NA                                                  | \n",
       "| 37 | ACGTCAAGTAGATTAG-1                                  | TRUE                                                | ACGTCAAGTAGATTAG-1_contig_2                         |  TRUE                                               | 535                                                 | IGH                                                 | IGHV4-61                                            | IGHD2-21                                            | IGHJ6                                               | IGHM                                                |  TRUE                                               | TRUE                                                | CARQLVVTAIPYGVDVW                                   | TGTGCGAGGCAGCTAGTGGTGACTGCTATCCCTTACGGTGTGGACGTCTGG |  146                                                |   8                                                 | clonotype27                                         | clonotype27_consensus_1                             | \n",
       "| 38 | ACGTCAAGTAGATTAG-1                                  | TRUE                                                | ACGTCAAGTAGATTAG-1_contig_3                         |  TRUE                                               | 703                                                 | Multi                                               | TRBV10-1                                            | NA                                                  | NA                                                  | IGHM                                                | FALSE                                               |   NA                                                | NA                                                  | NA                                                  |  108                                                |   6                                                 | clonotype27                                         | NA                                                  | \n",
       "| 39 | ACGTCAAGTAGATTAG-1                                  | TRUE                                                | ACGTCAAGTAGATTAG-1_contig_4                         |  TRUE                                               | 674                                                 | IGK                                                 | IGKV2D-28                                           | NA                                                  | IGKJ2                                               | IGKC                                                |  TRUE                                               | TRUE                                                | CMQTLQTPQYTF                                        | TGCATGCAAACTCTACAAACTCCTCAGTACACTTTT                | 7794                                                | 235                                                 | clonotype27                                         | clonotype27_consensus_2                             | \n",
       "| 40 | ACGTCAAGTAGATTAG-1                                  | TRUE                                                | ACGTCAAGTAGATTAG-1_contig_5                         | FALSE                                               | 657                                                 | IGK                                                 | IGKV1D-37                                           | NA                                                  | IGKJ5                                               | IGKC                                                |  TRUE                                               |   NA                                                | NA                                                  | NA                                                  | 1193                                                |  35                                                 | clonotype27                                         | NA                                                  | \n",
       "\n",
       "\n"
      ],
      "text/plain": [
       "   barcode            is_cell contig_id                   high_confidence\n",
       "36 ACGTCAAGTAGATTAG-1 TRUE    ACGTCAAGTAGATTAG-1_contig_1  TRUE          \n",
       "37 ACGTCAAGTAGATTAG-1 TRUE    ACGTCAAGTAGATTAG-1_contig_2  TRUE          \n",
       "38 ACGTCAAGTAGATTAG-1 TRUE    ACGTCAAGTAGATTAG-1_contig_3  TRUE          \n",
       "39 ACGTCAAGTAGATTAG-1 TRUE    ACGTCAAGTAGATTAG-1_contig_4  TRUE          \n",
       "40 ACGTCAAGTAGATTAG-1 TRUE    ACGTCAAGTAGATTAG-1_contig_5 FALSE          \n",
       "   length chain v_gene    d_gene   j_gene c_gene full_length productive\n",
       "36 333    IGH   IGHV3-23  NA       NA     IGHE   FALSE         NA      \n",
       "37 535    IGH   IGHV4-61  IGHD2-21 IGHJ6  IGHM    TRUE       TRUE      \n",
       "38 703    Multi TRBV10-1  NA       NA     IGHM   FALSE         NA      \n",
       "39 674    IGK   IGKV2D-28 NA       IGKJ2  IGKC    TRUE       TRUE      \n",
       "40 657    IGK   IGKV1D-37 NA       IGKJ5  IGKC    TRUE         NA      \n",
       "   cdr3              cdr3_nt                                             reads\n",
       "36 NA                NA                                                   400 \n",
       "37 CARQLVVTAIPYGVDVW TGTGCGAGGCAGCTAGTGGTGACTGCTATCCCTTACGGTGTGGACGTCTGG  146 \n",
       "38 NA                NA                                                   108 \n",
       "39 CMQTLQTPQYTF      TGCATGCAAACTCTACAAACTCCTCAGTACACTTTT                7794 \n",
       "40 NA                NA                                                  1193 \n",
       "   umis raw_clonotype_id raw_consensus_id       \n",
       "36  14  clonotype27      NA                     \n",
       "37   8  clonotype27      clonotype27_consensus_1\n",
       "38   6  clonotype27      NA                     \n",
       "39 235  clonotype27      clonotype27_consensus_2\n",
       "40  35  clonotype27      NA                     "
      ]
     },
     "metadata": {},
     "output_type": "display_data"
    },
    {
     "data": {
      "text/html": [
       "<table>\n",
       "<thead><tr><th></th><th scope=col>barcode</th><th scope=col>is_cell</th><th scope=col>contig_id</th><th scope=col>high_confidence</th><th scope=col>length</th><th scope=col>chain</th><th scope=col>v_gene</th><th scope=col>d_gene</th><th scope=col>j_gene</th><th scope=col>c_gene</th><th scope=col>full_length</th><th scope=col>productive</th><th scope=col>cdr3</th><th scope=col>cdr3_nt</th><th scope=col>reads</th><th scope=col>umis</th><th scope=col>raw_clonotype_id</th><th scope=col>raw_consensus_id</th></tr></thead>\n",
       "<tbody>\n",
       "\t<tr><th scope=row>1325</th><td>ACGTCAAGTAGATTAG-1         </td><td>FALSE                      </td><td>ACGTCAAGTAGATTAG-1_contig_1</td><td>TRUE                       </td><td>270                        </td><td>TRB                        </td><td>TRBV16                     </td><td>NA                         </td><td>NA                         </td><td>TRBC1                      </td><td>FALSE                      </td><td>NA                         </td><td>NA                         </td><td>NA                         </td><td>163                        </td><td>2                          </td><td>NA                         </td><td>NA                         </td></tr>\n",
       "</tbody>\n",
       "</table>\n"
      ],
      "text/latex": [
       "\\begin{tabular}{r|llllllllllllllllll}\n",
       "  & barcode & is\\_cell & contig\\_id & high\\_confidence & length & chain & v\\_gene & d\\_gene & j\\_gene & c\\_gene & full\\_length & productive & cdr3 & cdr3\\_nt & reads & umis & raw\\_clonotype\\_id & raw\\_consensus\\_id\\\\\n",
       "\\hline\n",
       "\t1325 & ACGTCAAGTAGATTAG-1              & FALSE                           & ACGTCAAGTAGATTAG-1\\_contig\\_1 & TRUE                            & 270                             & TRB                             & TRBV16                          & NA                              & NA                              & TRBC1                           & FALSE                           & NA                              & NA                              & NA                              & 163                             & 2                               & NA                              & NA                             \\\\\n",
       "\\end{tabular}\n"
      ],
      "text/markdown": [
       "\n",
       "| <!--/--> | barcode | is_cell | contig_id | high_confidence | length | chain | v_gene | d_gene | j_gene | c_gene | full_length | productive | cdr3 | cdr3_nt | reads | umis | raw_clonotype_id | raw_consensus_id | \n",
       "|---|\n",
       "| 1325 | ACGTCAAGTAGATTAG-1          | FALSE                       | ACGTCAAGTAGATTAG-1_contig_1 | TRUE                        | 270                         | TRB                         | TRBV16                      | NA                          | NA                          | TRBC1                       | FALSE                       | NA                          | NA                          | NA                          | 163                         | 2                           | NA                          | NA                          | \n",
       "\n",
       "\n"
      ],
      "text/plain": [
       "     barcode            is_cell contig_id                   high_confidence\n",
       "1325 ACGTCAAGTAGATTAG-1 FALSE   ACGTCAAGTAGATTAG-1_contig_1 TRUE           \n",
       "     length chain v_gene d_gene j_gene c_gene full_length productive cdr3\n",
       "1325 270    TRB   TRBV16 NA     NA     TRBC1  FALSE       NA         NA  \n",
       "     cdr3_nt reads umis raw_clonotype_id raw_consensus_id\n",
       "1325 NA      163   2    NA               NA              "
      ]
     },
     "metadata": {},
     "output_type": "display_data"
    }
   ],
   "source": [
    "BCR_annoation[BCR_annoation$barcode==\"ACGTCAAGTAGATTAG-1\",]\n",
    "TCR_annoation_w[TCR_annoation_w$barcode==\"ACGTCAAGTAGATTAG-1\",]"
   ]
  },
  {
   "cell_type": "code",
   "execution_count": 13,
   "metadata": {
    "collapsed": false
   },
   "outputs": [
    {
     "data": {
      "text/html": [
       "<table>\n",
       "<thead><tr><th></th><th scope=col>barcode</th><th scope=col>is_cell</th><th scope=col>contig_id</th><th scope=col>high_confidence</th><th scope=col>length</th><th scope=col>chain</th><th scope=col>v_gene</th><th scope=col>d_gene</th><th scope=col>j_gene</th><th scope=col>c_gene</th><th scope=col>full_length</th><th scope=col>productive</th><th scope=col>cdr3</th><th scope=col>cdr3_nt</th><th scope=col>reads</th><th scope=col>umis</th><th scope=col>raw_clonotype_id</th><th scope=col>raw_consensus_id</th></tr></thead>\n",
       "<tbody>\n",
       "\t<tr><th scope=row>172</th><td>AGGGATGAGAACAATC-1                              </td><td>TRUE                                            </td><td>AGGGATGAGAACAATC-1_contig_1                     </td><td>TRUE                                            </td><td>515                                             </td><td>TRB                                             </td><td>TRBV5-1                                         </td><td>TRBD1                                           </td><td>TRBJ2-1                                         </td><td>TRBC2                                           </td><td> TRUE                                           </td><td>TRUE                                            </td><td>CASSLVVPGKGGEQFF                                </td><td>TGCGCCAGCAGCTTGGTGGTCCCCGGCAAGGGGGGCGAGCAGTTCTTC</td><td>2044                                            </td><td>9                                               </td><td>clonotype82                                     </td><td>clonotype82_consensus_1                         </td></tr>\n",
       "\t<tr><th scope=row>173</th><td>AGGGATGAGAACAATC-1                              </td><td>TRUE                                            </td><td>AGGGATGAGAACAATC-1_contig_2                     </td><td>TRUE                                            </td><td>571                                             </td><td>TRA                                             </td><td>TRAV19                                          </td><td>NA                                              </td><td>TRAJ15                                          </td><td>TRAC                                            </td><td> TRUE                                           </td><td>TRUE                                            </td><td>CALSAPGQAGTALIF                                 </td><td>TGTGCTCTGAGTGCCCCGGGGCAGGCAGGAACTGCTCTGATCTTT   </td><td>1776                                            </td><td>7                                               </td><td>clonotype82                                     </td><td>clonotype82_consensus_2                         </td></tr>\n",
       "\t<tr><th scope=row>174</th><td>AGGGATGAGAACAATC-1                              </td><td>TRUE                                            </td><td>AGGGATGAGAACAATC-1_contig_3                     </td><td>TRUE                                            </td><td>289                                             </td><td>Multi                                           </td><td>IGKV1-16                                        </td><td>NA                                              </td><td>TRBJ2-6                                         </td><td>NA                                              </td><td>FALSE                                           </td><td>  NA                                            </td><td>NA                                              </td><td>NA                                              </td><td>  82                                            </td><td>1                                               </td><td>clonotype82                                     </td><td>NA                                              </td></tr>\n",
       "</tbody>\n",
       "</table>\n"
      ],
      "text/latex": [
       "\\begin{tabular}{r|llllllllllllllllll}\n",
       "  & barcode & is\\_cell & contig\\_id & high\\_confidence & length & chain & v\\_gene & d\\_gene & j\\_gene & c\\_gene & full\\_length & productive & cdr3 & cdr3\\_nt & reads & umis & raw\\_clonotype\\_id & raw\\_consensus\\_id\\\\\n",
       "\\hline\n",
       "\t172 & AGGGATGAGAACAATC-1                               & TRUE                                             & AGGGATGAGAACAATC-1\\_contig\\_1                  & TRUE                                             & 515                                              & TRB                                              & TRBV5-1                                          & TRBD1                                            & TRBJ2-1                                          & TRBC2                                            &  TRUE                                            & TRUE                                             & CASSLVVPGKGGEQFF                                 & TGCGCCAGCAGCTTGGTGGTCCCCGGCAAGGGGGGCGAGCAGTTCTTC & 2044                                             & 9                                                & clonotype82                                      & clonotype82\\_consensus\\_1                     \\\\\n",
       "\t173 & AGGGATGAGAACAATC-1                               & TRUE                                             & AGGGATGAGAACAATC-1\\_contig\\_2                  & TRUE                                             & 571                                              & TRA                                              & TRAV19                                           & NA                                               & TRAJ15                                           & TRAC                                             &  TRUE                                            & TRUE                                             & CALSAPGQAGTALIF                                  & TGTGCTCTGAGTGCCCCGGGGCAGGCAGGAACTGCTCTGATCTTT    & 1776                                             & 7                                                & clonotype82                                      & clonotype82\\_consensus\\_2                     \\\\\n",
       "\t174 & AGGGATGAGAACAATC-1                               & TRUE                                             & AGGGATGAGAACAATC-1\\_contig\\_3                  & TRUE                                             & 289                                              & Multi                                            & IGKV1-16                                         & NA                                               & TRBJ2-6                                          & NA                                               & FALSE                                            &   NA                                             & NA                                               & NA                                               &   82                                             & 1                                                & clonotype82                                      & NA                                              \\\\\n",
       "\\end{tabular}\n"
      ],
      "text/markdown": [
       "\n",
       "| <!--/--> | barcode | is_cell | contig_id | high_confidence | length | chain | v_gene | d_gene | j_gene | c_gene | full_length | productive | cdr3 | cdr3_nt | reads | umis | raw_clonotype_id | raw_consensus_id | \n",
       "|---|---|---|\n",
       "| 172 | AGGGATGAGAACAATC-1                               | TRUE                                             | AGGGATGAGAACAATC-1_contig_1                      | TRUE                                             | 515                                              | TRB                                              | TRBV5-1                                          | TRBD1                                            | TRBJ2-1                                          | TRBC2                                            |  TRUE                                            | TRUE                                             | CASSLVVPGKGGEQFF                                 | TGCGCCAGCAGCTTGGTGGTCCCCGGCAAGGGGGGCGAGCAGTTCTTC | 2044                                             | 9                                                | clonotype82                                      | clonotype82_consensus_1                          | \n",
       "| 173 | AGGGATGAGAACAATC-1                               | TRUE                                             | AGGGATGAGAACAATC-1_contig_2                      | TRUE                                             | 571                                              | TRA                                              | TRAV19                                           | NA                                               | TRAJ15                                           | TRAC                                             |  TRUE                                            | TRUE                                             | CALSAPGQAGTALIF                                  | TGTGCTCTGAGTGCCCCGGGGCAGGCAGGAACTGCTCTGATCTTT    | 1776                                             | 7                                                | clonotype82                                      | clonotype82_consensus_2                          | \n",
       "| 174 | AGGGATGAGAACAATC-1                               | TRUE                                             | AGGGATGAGAACAATC-1_contig_3                      | TRUE                                             | 289                                              | Multi                                            | IGKV1-16                                         | NA                                               | TRBJ2-6                                          | NA                                               | FALSE                                            |   NA                                             | NA                                               | NA                                               |   82                                             | 1                                                | clonotype82                                      | NA                                               | \n",
       "\n",
       "\n"
      ],
      "text/plain": [
       "    barcode            is_cell contig_id                   high_confidence\n",
       "172 AGGGATGAGAACAATC-1 TRUE    AGGGATGAGAACAATC-1_contig_1 TRUE           \n",
       "173 AGGGATGAGAACAATC-1 TRUE    AGGGATGAGAACAATC-1_contig_2 TRUE           \n",
       "174 AGGGATGAGAACAATC-1 TRUE    AGGGATGAGAACAATC-1_contig_3 TRUE           \n",
       "    length chain v_gene   d_gene j_gene  c_gene full_length productive\n",
       "172 515    TRB   TRBV5-1  TRBD1  TRBJ2-1 TRBC2   TRUE       TRUE      \n",
       "173 571    TRA   TRAV19   NA     TRAJ15  TRAC    TRUE       TRUE      \n",
       "174 289    Multi IGKV1-16 NA     TRBJ2-6 NA     FALSE         NA      \n",
       "    cdr3             cdr3_nt                                          reads\n",
       "172 CASSLVVPGKGGEQFF TGCGCCAGCAGCTTGGTGGTCCCCGGCAAGGGGGGCGAGCAGTTCTTC 2044 \n",
       "173 CALSAPGQAGTALIF  TGTGCTCTGAGTGCCCCGGGGCAGGCAGGAACTGCTCTGATCTTT    1776 \n",
       "174 NA               NA                                                 82 \n",
       "    umis raw_clonotype_id raw_consensus_id       \n",
       "172 9    clonotype82      clonotype82_consensus_1\n",
       "173 7    clonotype82      clonotype82_consensus_2\n",
       "174 1    clonotype82      NA                     "
      ]
     },
     "metadata": {},
     "output_type": "display_data"
    },
    {
     "data": {
      "text/html": [
       "<table>\n",
       "<thead><tr><th></th><th scope=col>barcode</th><th scope=col>is_cell</th><th scope=col>contig_id</th><th scope=col>high_confidence</th><th scope=col>length</th><th scope=col>chain</th><th scope=col>v_gene</th><th scope=col>d_gene</th><th scope=col>j_gene</th><th scope=col>c_gene</th><th scope=col>full_length</th><th scope=col>productive</th><th scope=col>cdr3</th><th scope=col>cdr3_nt</th><th scope=col>reads</th><th scope=col>umis</th><th scope=col>raw_clonotype_id</th><th scope=col>raw_consensus_id</th></tr></thead>\n",
       "<tbody>\n",
       "\t<tr><th scope=row>514</th><td>AGGGATGAGAACAATC-1         </td><td>FALSE                      </td><td>AGGGATGAGAACAATC-1_contig_1</td><td>TRUE                       </td><td>256                        </td><td>IGL                        </td><td>IGLV1-44                   </td><td>NA                         </td><td>NA                         </td><td>NA                         </td><td>FALSE                      </td><td>NA                         </td><td>NA                         </td><td>NA                         </td><td>11                         </td><td>1                          </td><td>NA                         </td><td>NA                         </td></tr>\n",
       "</tbody>\n",
       "</table>\n"
      ],
      "text/latex": [
       "\\begin{tabular}{r|llllllllllllllllll}\n",
       "  & barcode & is\\_cell & contig\\_id & high\\_confidence & length & chain & v\\_gene & d\\_gene & j\\_gene & c\\_gene & full\\_length & productive & cdr3 & cdr3\\_nt & reads & umis & raw\\_clonotype\\_id & raw\\_consensus\\_id\\\\\n",
       "\\hline\n",
       "\t514 & AGGGATGAGAACAATC-1              & FALSE                           & AGGGATGAGAACAATC-1\\_contig\\_1 & TRUE                            & 256                             & IGL                             & IGLV1-44                        & NA                              & NA                              & NA                              & FALSE                           & NA                              & NA                              & NA                              & 11                              & 1                               & NA                              & NA                             \\\\\n",
       "\\end{tabular}\n"
      ],
      "text/markdown": [
       "\n",
       "| <!--/--> | barcode | is_cell | contig_id | high_confidence | length | chain | v_gene | d_gene | j_gene | c_gene | full_length | productive | cdr3 | cdr3_nt | reads | umis | raw_clonotype_id | raw_consensus_id | \n",
       "|---|\n",
       "| 514 | AGGGATGAGAACAATC-1          | FALSE                       | AGGGATGAGAACAATC-1_contig_1 | TRUE                        | 256                         | IGL                         | IGLV1-44                    | NA                          | NA                          | NA                          | FALSE                       | NA                          | NA                          | NA                          | 11                          | 1                           | NA                          | NA                          | \n",
       "\n",
       "\n"
      ],
      "text/plain": [
       "    barcode            is_cell contig_id                   high_confidence\n",
       "514 AGGGATGAGAACAATC-1 FALSE   AGGGATGAGAACAATC-1_contig_1 TRUE           \n",
       "    length chain v_gene   d_gene j_gene c_gene full_length productive cdr3\n",
       "514 256    IGL   IGLV1-44 NA     NA     NA     FALSE       NA         NA  \n",
       "    cdr3_nt reads umis raw_clonotype_id raw_consensus_id\n",
       "514 NA      11    1    NA               NA              "
      ]
     },
     "metadata": {},
     "output_type": "display_data"
    }
   ],
   "source": [
    "TCR_annoation[TCR_annoation$barcode==\"AGGGATGAGAACAATC-1\",]\n",
    "BCR_annoation_w[BCR_annoation_w$barcode==\"AGGGATGAGAACAATC-1\",]"
   ]
  },
  {
   "cell_type": "code",
   "execution_count": 36,
   "metadata": {
    "collapsed": false
   },
   "outputs": [
    {
     "data": {
      "text/html": [
       "<table>\n",
       "<thead><tr><th></th><th scope=col>barcode</th><th scope=col>is_cell</th><th scope=col>contig_id</th><th scope=col>high_confidence</th><th scope=col>length</th><th scope=col>chain</th><th scope=col>v_gene</th><th scope=col>d_gene</th><th scope=col>j_gene</th><th scope=col>c_gene</th><th scope=col>full_length</th><th scope=col>productive</th><th scope=col>cdr3</th><th scope=col>cdr3_nt</th><th scope=col>reads</th><th scope=col>umis</th><th scope=col>raw_clonotype_id</th><th scope=col>raw_consensus_id</th></tr></thead>\n",
       "<tbody>\n",
       "\t<tr><th scope=row>1190</th><td>TTGAACGCACGTAAGG-1                           </td><td>TRUE                                         </td><td>TTGAACGCACGTAAGG-1_contig_1                  </td><td>TRUE                                         </td><td>518                                          </td><td>TRB                                          </td><td>TRBV5-6                                      </td><td>TRBD1                                        </td><td>TRBJ1-1                                      </td><td>TRBC1                                        </td><td> TRUE                                        </td><td>TRUE                                         </td><td>CASSIGWGGETEAFF                              </td><td>TGTGCCAGCAGCATAGGATGGGGGGGGGAAACTGAAGCTTTCTTT</td><td>1216                                         </td><td>6                                            </td><td>clonotype354                                 </td><td>clonotype354_consensus_1                     </td></tr>\n",
       "\t<tr><th scope=row>1191</th><td>TTGAACGCACGTAAGG-1                           </td><td>TRUE                                         </td><td>TTGAACGCACGTAAGG-1_contig_2                  </td><td>TRUE                                         </td><td>298                                          </td><td>TRB                                          </td><td>TRBV16                                       </td><td>NA                                           </td><td>NA                                           </td><td>TRBC1                                        </td><td>FALSE                                        </td><td>  NA                                         </td><td>NA                                           </td><td>NA                                           </td><td> 485                                         </td><td>5                                            </td><td>clonotype354                                 </td><td>NA                                           </td></tr>\n",
       "</tbody>\n",
       "</table>\n"
      ],
      "text/latex": [
       "\\begin{tabular}{r|llllllllllllllllll}\n",
       "  & barcode & is\\_cell & contig\\_id & high\\_confidence & length & chain & v\\_gene & d\\_gene & j\\_gene & c\\_gene & full\\_length & productive & cdr3 & cdr3\\_nt & reads & umis & raw\\_clonotype\\_id & raw\\_consensus\\_id\\\\\n",
       "\\hline\n",
       "\t1190 & TTGAACGCACGTAAGG-1                            & TRUE                                          & TTGAACGCACGTAAGG-1\\_contig\\_1               & TRUE                                          & 518                                           & TRB                                           & TRBV5-6                                       & TRBD1                                         & TRBJ1-1                                       & TRBC1                                         &  TRUE                                         & TRUE                                          & CASSIGWGGETEAFF                               & TGTGCCAGCAGCATAGGATGGGGGGGGGAAACTGAAGCTTTCTTT & 1216                                          & 6                                             & clonotype354                                  & clonotype354\\_consensus\\_1                 \\\\\n",
       "\t1191 & TTGAACGCACGTAAGG-1                            & TRUE                                          & TTGAACGCACGTAAGG-1\\_contig\\_2               & TRUE                                          & 298                                           & TRB                                           & TRBV16                                        & NA                                            & NA                                            & TRBC1                                         & FALSE                                         &   NA                                          & NA                                            & NA                                            &  485                                          & 5                                             & clonotype354                                  & NA                                           \\\\\n",
       "\\end{tabular}\n"
      ],
      "text/markdown": [
       "\n",
       "| <!--/--> | barcode | is_cell | contig_id | high_confidence | length | chain | v_gene | d_gene | j_gene | c_gene | full_length | productive | cdr3 | cdr3_nt | reads | umis | raw_clonotype_id | raw_consensus_id | \n",
       "|---|---|\n",
       "| 1190 | TTGAACGCACGTAAGG-1                            | TRUE                                          | TTGAACGCACGTAAGG-1_contig_1                   | TRUE                                          | 518                                           | TRB                                           | TRBV5-6                                       | TRBD1                                         | TRBJ1-1                                       | TRBC1                                         |  TRUE                                         | TRUE                                          | CASSIGWGGETEAFF                               | TGTGCCAGCAGCATAGGATGGGGGGGGGAAACTGAAGCTTTCTTT | 1216                                          | 6                                             | clonotype354                                  | clonotype354_consensus_1                      | \n",
       "| 1191 | TTGAACGCACGTAAGG-1                            | TRUE                                          | TTGAACGCACGTAAGG-1_contig_2                   | TRUE                                          | 298                                           | TRB                                           | TRBV16                                        | NA                                            | NA                                            | TRBC1                                         | FALSE                                         |   NA                                          | NA                                            | NA                                            |  485                                          | 5                                             | clonotype354                                  | NA                                            | \n",
       "\n",
       "\n"
      ],
      "text/plain": [
       "     barcode            is_cell contig_id                   high_confidence\n",
       "1190 TTGAACGCACGTAAGG-1 TRUE    TTGAACGCACGTAAGG-1_contig_1 TRUE           \n",
       "1191 TTGAACGCACGTAAGG-1 TRUE    TTGAACGCACGTAAGG-1_contig_2 TRUE           \n",
       "     length chain v_gene  d_gene j_gene  c_gene full_length productive\n",
       "1190 518    TRB   TRBV5-6 TRBD1  TRBJ1-1 TRBC1   TRUE       TRUE      \n",
       "1191 298    TRB   TRBV16  NA     NA      TRBC1  FALSE         NA      \n",
       "     cdr3            cdr3_nt                                       reads umis\n",
       "1190 CASSIGWGGETEAFF TGTGCCAGCAGCATAGGATGGGGGGGGGAAACTGAAGCTTTCTTT 1216  6   \n",
       "1191 NA              NA                                             485  5   \n",
       "     raw_clonotype_id raw_consensus_id        \n",
       "1190 clonotype354     clonotype354_consensus_1\n",
       "1191 clonotype354     NA                      "
      ]
     },
     "metadata": {},
     "output_type": "display_data"
    },
    {
     "data": {
      "text/html": [
       "<table>\n",
       "<thead><tr><th></th><th scope=col>barcode</th><th scope=col>is_cell</th><th scope=col>contig_id</th><th scope=col>high_confidence</th><th scope=col>length</th><th scope=col>chain</th><th scope=col>v_gene</th><th scope=col>d_gene</th><th scope=col>j_gene</th><th scope=col>c_gene</th><th scope=col>full_length</th><th scope=col>productive</th><th scope=col>cdr3</th><th scope=col>cdr3_nt</th><th scope=col>reads</th><th scope=col>umis</th><th scope=col>raw_clonotype_id</th><th scope=col>raw_consensus_id</th></tr></thead>\n",
       "<tbody>\n",
       "\t<tr><th scope=row>987</th><td>TTGAACGCACGTAAGG-1                  </td><td>FALSE                               </td><td>TTGAACGCACGTAAGG-1_contig_1         </td><td>TRUE                                </td><td>350                                 </td><td>IGK                                 </td><td>IGKV1-33                            </td><td>NA                                  </td><td>IGKJ2                               </td><td>NA                                  </td><td>FALSE                               </td><td>NA                                  </td><td>CQQSYSTPLYTF                        </td><td>TGTCAACAGAGTTACAGTACCCCTTTGTACACTTTT</td><td>25                                  </td><td>1                                   </td><td>NA                                  </td><td>NA                                  </td></tr>\n",
       "</tbody>\n",
       "</table>\n"
      ],
      "text/latex": [
       "\\begin{tabular}{r|llllllllllllllllll}\n",
       "  & barcode & is\\_cell & contig\\_id & high\\_confidence & length & chain & v\\_gene & d\\_gene & j\\_gene & c\\_gene & full\\_length & productive & cdr3 & cdr3\\_nt & reads & umis & raw\\_clonotype\\_id & raw\\_consensus\\_id\\\\\n",
       "\\hline\n",
       "\t987 & TTGAACGCACGTAAGG-1                   & FALSE                                & TTGAACGCACGTAAGG-1\\_contig\\_1      & TRUE                                 & 350                                  & IGK                                  & IGKV1-33                             & NA                                   & IGKJ2                                & NA                                   & FALSE                                & NA                                   & CQQSYSTPLYTF                         & TGTCAACAGAGTTACAGTACCCCTTTGTACACTTTT & 25                                   & 1                                    & NA                                   & NA                                  \\\\\n",
       "\\end{tabular}\n"
      ],
      "text/markdown": [
       "\n",
       "| <!--/--> | barcode | is_cell | contig_id | high_confidence | length | chain | v_gene | d_gene | j_gene | c_gene | full_length | productive | cdr3 | cdr3_nt | reads | umis | raw_clonotype_id | raw_consensus_id | \n",
       "|---|\n",
       "| 987 | TTGAACGCACGTAAGG-1                   | FALSE                                | TTGAACGCACGTAAGG-1_contig_1          | TRUE                                 | 350                                  | IGK                                  | IGKV1-33                             | NA                                   | IGKJ2                                | NA                                   | FALSE                                | NA                                   | CQQSYSTPLYTF                         | TGTCAACAGAGTTACAGTACCCCTTTGTACACTTTT | 25                                   | 1                                    | NA                                   | NA                                   | \n",
       "\n",
       "\n"
      ],
      "text/plain": [
       "    barcode            is_cell contig_id                   high_confidence\n",
       "987 TTGAACGCACGTAAGG-1 FALSE   TTGAACGCACGTAAGG-1_contig_1 TRUE           \n",
       "    length chain v_gene   d_gene j_gene c_gene full_length productive\n",
       "987 350    IGK   IGKV1-33 NA     IGKJ2  NA     FALSE       NA        \n",
       "    cdr3         cdr3_nt                              reads umis\n",
       "987 CQQSYSTPLYTF TGTCAACAGAGTTACAGTACCCCTTTGTACACTTTT 25    1   \n",
       "    raw_clonotype_id raw_consensus_id\n",
       "987 NA               NA              "
      ]
     },
     "metadata": {},
     "output_type": "display_data"
    }
   ],
   "source": [
    "TCR_annoation[TCR_annoation$barcode==\"TTGAACGCACGTAAGG-1\",]\n",
    "BCR_annoation_w[BCR_annoation_w$barcode==\"TTGAACGCACGTAAGG-1\",]"
   ]
  },
  {
   "cell_type": "code",
   "execution_count": 37,
   "metadata": {
    "collapsed": false
   },
   "outputs": [
    {
     "data": {
      "text/html": [
       "<table>\n",
       "<thead><tr><th></th><th scope=col>barcode</th><th scope=col>is_cell</th><th scope=col>contig_id</th><th scope=col>high_confidence</th><th scope=col>length</th><th scope=col>chain</th><th scope=col>v_gene</th><th scope=col>d_gene</th><th scope=col>j_gene</th><th scope=col>c_gene</th><th scope=col>full_length</th><th scope=col>productive</th><th scope=col>cdr3</th><th scope=col>cdr3_nt</th><th scope=col>reads</th><th scope=col>umis</th><th scope=col>raw_clonotype_id</th><th scope=col>raw_consensus_id</th></tr></thead>\n",
       "<tbody>\n",
       "\t<tr><th scope=row>1</th><td>AAATGCCTCTGCCCTA-1                                       </td><td>TRUE                                                     </td><td>AAATGCCTCTGCCCTA-1_contig_1                              </td><td> TRUE                                                    </td><td>570                                                      </td><td>IGK                                                      </td><td>IGKV3-15                                                 </td><td>NA                                                       </td><td>IGKJ4                                                    </td><td>IGKC                                                     </td><td> TRUE                                                    </td><td>TRUE                                                     </td><td>CQQYNNWPPLTF                                             </td><td>TGTCAGCAGTATAATAACTGGCCTCCGCTCACTTTC                     </td><td> 807                                                     </td><td> 25                                                      </td><td>clonotype6                                               </td><td>clonotype6_consensus_1                                   </td></tr>\n",
       "\t<tr><th scope=row>2</th><td>AACCGCGAGAAACCGC-1                                       </td><td>TRUE                                                     </td><td>AACCGCGAGAAACCGC-1_contig_1                              </td><td> TRUE                                                    </td><td>557                                                      </td><td>IGL                                                      </td><td>IGLV3-19                                                 </td><td>NA                                                       </td><td>IGLJ2                                                    </td><td>IGLC2                                                    </td><td> TRUE                                                    </td><td>TRUE                                                     </td><td>CNSRDSSGNHLKVVF                                          </td><td>TGTAACTCCCGGGACAGCAGTGGTAACCATCTAAAGGTGGTATTC            </td><td> 149                                                     </td><td>  8                                                      </td><td>clonotype7                                               </td><td>clonotype7_consensus_1                                   </td></tr>\n",
       "\t<tr><th scope=row>3</th><td>AACCGCGAGAAACCGC-1                                       </td><td>TRUE                                                     </td><td>AACCGCGAGAAACCGC-1_contig_2                              </td><td> TRUE                                                    </td><td>334                                                      </td><td>IGH                                                      </td><td>IGHV7-81                                                 </td><td>NA                                                       </td><td>NA                                                       </td><td>NA                                                       </td><td>FALSE                                                    </td><td>  NA                                                     </td><td>NA                                                       </td><td>NA                                                       </td><td>  48                                                     </td><td>  3                                                      </td><td>clonotype7                                               </td><td>NA                                                       </td></tr>\n",
       "\t<tr><th scope=row>31</th><td>ACGGCCACACCTGGTG-1                                       </td><td>TRUE                                                     </td><td>ACGGCCACACCTGGTG-1_contig_1                              </td><td> TRUE                                                    </td><td>567                                                      </td><td>IGK                                                      </td><td>IGKV2D-28                                                </td><td>NA                                                       </td><td>IGKJ4                                                    </td><td>IGKC                                                     </td><td> TRUE                                                    </td><td>TRUE                                                     </td><td>CMQALQTPLTF                                              </td><td>TGCATGCAAGCTCTACAAACTCCGCTCACTTTC                        </td><td> 637                                                     </td><td> 20                                                      </td><td>clonotype25                                              </td><td>clonotype25_consensus_2                                  </td></tr>\n",
       "\t<tr><th scope=row>32</th><td>ACGGCCACACCTGGTG-1                                       </td><td>TRUE                                                     </td><td>ACGGCCACACCTGGTG-1_contig_2                              </td><td> TRUE                                                    </td><td>549                                                      </td><td>IGH                                                      </td><td>IGHV4-31                                                 </td><td>IGHD4-17                                                 </td><td>IGHJ4                                                    </td><td>IGHM                                                     </td><td> TRUE                                                    </td><td>TRUE                                                     </td><td>CARADYGDYEGQGVYFDYW                                      </td><td>TGTGCCCGTGCCGACTACGGTGACTACGAGGGGCAGGGGGTCTACTTTGACTACTGG</td><td> 152                                                     </td><td>  7                                                      </td><td>clonotype25                                              </td><td>clonotype25_consensus_1                                  </td></tr>\n",
       "\t<tr><th scope=row>36</th><td>ACGTCAAGTAGATTAG-1                                       </td><td>TRUE                                                     </td><td>ACGTCAAGTAGATTAG-1_contig_1                              </td><td> TRUE                                                    </td><td>333                                                      </td><td>IGH                                                      </td><td>IGHV3-23                                                 </td><td>NA                                                       </td><td>NA                                                       </td><td>IGHE                                                     </td><td>FALSE                                                    </td><td>  NA                                                     </td><td>NA                                                       </td><td>NA                                                       </td><td> 400                                                     </td><td> 14                                                      </td><td>clonotype27                                              </td><td>NA                                                       </td></tr>\n",
       "\t<tr><th scope=row>37</th><td>ACGTCAAGTAGATTAG-1                                       </td><td>TRUE                                                     </td><td>ACGTCAAGTAGATTAG-1_contig_2                              </td><td> TRUE                                                    </td><td>535                                                      </td><td>IGH                                                      </td><td>IGHV4-61                                                 </td><td>IGHD2-21                                                 </td><td>IGHJ6                                                    </td><td>IGHM                                                     </td><td> TRUE                                                    </td><td>TRUE                                                     </td><td>CARQLVVTAIPYGVDVW                                        </td><td>TGTGCGAGGCAGCTAGTGGTGACTGCTATCCCTTACGGTGTGGACGTCTGG      </td><td> 146                                                     </td><td>  8                                                      </td><td>clonotype27                                              </td><td>clonotype27_consensus_1                                  </td></tr>\n",
       "\t<tr><th scope=row>38</th><td>ACGTCAAGTAGATTAG-1                                       </td><td>TRUE                                                     </td><td>ACGTCAAGTAGATTAG-1_contig_3                              </td><td> TRUE                                                    </td><td>703                                                      </td><td>Multi                                                    </td><td>TRBV10-1                                                 </td><td>NA                                                       </td><td>NA                                                       </td><td>IGHM                                                     </td><td>FALSE                                                    </td><td>  NA                                                     </td><td>NA                                                       </td><td>NA                                                       </td><td> 108                                                     </td><td>  6                                                      </td><td>clonotype27                                              </td><td>NA                                                       </td></tr>\n",
       "\t<tr><th scope=row>39</th><td>ACGTCAAGTAGATTAG-1                                       </td><td>TRUE                                                     </td><td>ACGTCAAGTAGATTAG-1_contig_4                              </td><td> TRUE                                                    </td><td>674                                                      </td><td>IGK                                                      </td><td>IGKV2D-28                                                </td><td>NA                                                       </td><td>IGKJ2                                                    </td><td>IGKC                                                     </td><td> TRUE                                                    </td><td>TRUE                                                     </td><td>CMQTLQTPQYTF                                             </td><td>TGCATGCAAACTCTACAAACTCCTCAGTACACTTTT                     </td><td>7794                                                     </td><td>235                                                      </td><td>clonotype27                                              </td><td>clonotype27_consensus_2                                  </td></tr>\n",
       "\t<tr><th scope=row>40</th><td>ACGTCAAGTAGATTAG-1                                       </td><td>TRUE                                                     </td><td>ACGTCAAGTAGATTAG-1_contig_5                              </td><td>FALSE                                                    </td><td>657                                                      </td><td>IGK                                                      </td><td>IGKV1D-37                                                </td><td>NA                                                       </td><td>IGKJ5                                                    </td><td>IGKC                                                     </td><td> TRUE                                                    </td><td>  NA                                                     </td><td>NA                                                       </td><td>NA                                                       </td><td>1193                                                     </td><td> 35                                                      </td><td>clonotype27                                              </td><td>NA                                                       </td></tr>\n",
       "\t<tr><th scope=row>63</th><td>AGCAGCCGTGTTTGGT-1                                       </td><td>TRUE                                                     </td><td>AGCAGCCGTGTTTGGT-1_contig_1                              </td><td> TRUE                                                    </td><td>434                                                      </td><td>IGH                                                      </td><td>IGHV1-18                                                 </td><td>NA                                                       </td><td>NA                                                       </td><td>NA                                                       </td><td>FALSE                                                    </td><td>  NA                                                     </td><td>NA                                                       </td><td>NA                                                       </td><td>  45                                                     </td><td>  2                                                      </td><td>clonotype33                                              </td><td>NA                                                       </td></tr>\n",
       "\t<tr><th scope=row>64</th><td>AGCAGCCGTGTTTGGT-1                                       </td><td>TRUE                                                     </td><td>AGCAGCCGTGTTTGGT-1_contig_2                              </td><td> TRUE                                                    </td><td>409                                                      </td><td>Multi                                                    </td><td>TRBV10-3                                                 </td><td>NA                                                       </td><td>NA                                                       </td><td>IGHM                                                     </td><td>FALSE                                                    </td><td>  NA                                                     </td><td>NA                                                       </td><td>NA                                                       </td><td> 109                                                     </td><td>  5                                                      </td><td>clonotype33                                              </td><td>NA                                                       </td></tr>\n",
       "\t<tr><th scope=row>65</th><td>AGCAGCCGTGTTTGGT-1                                       </td><td>TRUE                                                     </td><td>AGCAGCCGTGTTTGGT-1_contig_3                              </td><td> TRUE                                                    </td><td>550                                                      </td><td>IGK                                                      </td><td>IGKV3-11                                                 </td><td>NA                                                       </td><td>IGKJ3                                                    </td><td>IGKC                                                     </td><td> TRUE                                                    </td><td>TRUE                                                     </td><td>CQQRSNPLFTF                                              </td><td>TGTCAGCAGCGTAGCAACCCTTTATTCACTTTC                        </td><td> 142                                                     </td><td>  7                                                      </td><td>clonotype33                                              </td><td>clonotype33_consensus_1                                  </td></tr>\n",
       "\t<tr><th scope=row>68</th><td>AGCATACAGATCGATA-1                                       </td><td>TRUE                                                     </td><td>AGCATACAGATCGATA-1_contig_1                              </td><td> TRUE                                                    </td><td>671                                                      </td><td>IGK                                                      </td><td>IGKV1-9                                                  </td><td>NA                                                       </td><td>IGKJ2                                                    </td><td>IGKC                                                     </td><td> TRUE                                                    </td><td>TRUE                                                     </td><td>CQQLNSYLYTF                                              </td><td>TGTCAACAGCTTAATAGTTACCTGTACACTTTT                        </td><td>1143                                                     </td><td> 36                                                      </td><td>clonotype35                                              </td><td>clonotype35_consensus_2                                  </td></tr>\n",
       "\t<tr><th scope=row>69</th><td>AGCATACAGATCGATA-1                                       </td><td>TRUE                                                     </td><td>AGCATACAGATCGATA-1_contig_2                              </td><td> TRUE                                                    </td><td>391                                                      </td><td>Multi                                                    </td><td>TRBV12-5                                                 </td><td>NA                                                       </td><td>IGLJ1                                                    </td><td>IGLC1                                                    </td><td> TRUE                                                    </td><td>  NA                                                     </td><td>NA                                                       </td><td>NA                                                       </td><td>  20                                                     </td><td>  1                                                      </td><td>clonotype35                                              </td><td>NA                                                       </td></tr>\n",
       "\t<tr><th scope=row>70</th><td>AGCATACAGATCGATA-1                                       </td><td>TRUE                                                     </td><td>AGCATACAGATCGATA-1_contig_3                              </td><td> TRUE                                                    </td><td>583                                                      </td><td>IGH                                                      </td><td>IGHV3-21                                                 </td><td>IGHD2-15                                                 </td><td>IGHJ4                                                    </td><td>IGHM                                                     </td><td> TRUE                                                    </td><td>TRUE                                                     </td><td>CASQYCSGGSCYWSPSDYW                                      </td><td>TGTGCGAGTCAGTATTGTAGTGGTGGTAGCTGCTACTGGTCTCCTTCCGACTACTGG</td><td> 352                                                     </td><td> 21                                                      </td><td>clonotype35                                              </td><td>clonotype35_consensus_1                                  </td></tr>\n",
       "\t<tr><th scope=row>75</th><td>AGCCTAAAGTGTGGCA-1                                       </td><td>TRUE                                                     </td><td>AGCCTAAAGTGTGGCA-1_contig_1                              </td><td> TRUE                                                    </td><td>539                                                      </td><td>IGH                                                      </td><td>IGHV3-15                                                 </td><td>IGHD1-26                                                 </td><td>IGHJ4                                                    </td><td>IGHM                                                     </td><td> TRUE                                                    </td><td>TRUE                                                     </td><td>CTTEKWELRFDYW                                            </td><td>TGTACCACAGAAAAGTGGGAGCTACGCTTTGACTACTGG                  </td><td>  87                                                     </td><td>  3                                                      </td><td>clonotype37                                              </td><td>clonotype37_consensus_1                                  </td></tr>\n",
       "\t<tr><th scope=row>76</th><td>AGCCTAAAGTGTGGCA-1                                       </td><td>TRUE                                                     </td><td>AGCCTAAAGTGTGGCA-1_contig_2                              </td><td> TRUE                                                    </td><td>652                                                      </td><td>IGL                                                      </td><td>IGLV1-51                                                 </td><td>NA                                                       </td><td>IGLJ1                                                    </td><td>IGLC1                                                    </td><td> TRUE                                                    </td><td>TRUE                                                     </td><td>CGTWDSSLSAYVF                                            </td><td>TGCGGAACATGGGATAGCAGCCTGAGTGCTTATGTCTTC                  </td><td> 412                                                     </td><td> 15                                                      </td><td>clonotype37                                              </td><td>clonotype37_consensus_2                                  </td></tr>\n",
       "\t<tr><th scope=row>77</th><td>AGCCTAAAGTGTGGCA-1                                       </td><td>TRUE                                                     </td><td>AGCCTAAAGTGTGGCA-1_contig_3                              </td><td>FALSE                                                    </td><td>761                                                      </td><td>IGL                                                      </td><td>IGLV1-51                                                 </td><td>NA                                                       </td><td>IGLJ1                                                    </td><td>IGLC1                                                    </td><td>FALSE                                                    </td><td>  NA                                                     </td><td>CGTWDSSLSAYVF                                            </td><td>TGCGGAACATGGGATAGCAGCCTGAGTGCTTATGTCTTC                  </td><td>  46                                                     </td><td>  2                                                      </td><td>clonotype37                                              </td><td>NA                                                       </td></tr>\n",
       "\t<tr><th scope=row>94</th><td>ATCACGATCGCCCTTA-1                                       </td><td>TRUE                                                     </td><td>ATCACGATCGCCCTTA-1_contig_1                              </td><td> TRUE                                                    </td><td>551                                                      </td><td>IGK                                                      </td><td>IGKV1-9                                                  </td><td>NA                                                       </td><td>IGKJ4                                                    </td><td>IGKC                                                     </td><td> TRUE                                                    </td><td>TRUE                                                     </td><td>CQQLNSYPLTF                                              </td><td>TGTCAACAGCTTAATAGTTACCCGCTCACTTTC                        </td><td>2009                                                     </td><td> 62                                                      </td><td>clonotype42                                              </td><td>clonotype42_consensus_2                                  </td></tr>\n",
       "</tbody>\n",
       "</table>\n"
      ],
      "text/latex": [
       "\\begin{tabular}{r|llllllllllllllllll}\n",
       "  & barcode & is\\_cell & contig\\_id & high\\_confidence & length & chain & v\\_gene & d\\_gene & j\\_gene & c\\_gene & full\\_length & productive & cdr3 & cdr3\\_nt & reads & umis & raw\\_clonotype\\_id & raw\\_consensus\\_id\\\\\n",
       "\\hline\n",
       "\t1 & AAATGCCTCTGCCCTA-1                                        & TRUE                                                      & AAATGCCTCTGCCCTA-1\\_contig\\_1                           &  TRUE                                                     & 570                                                       & IGK                                                       & IGKV3-15                                                  & NA                                                        & IGKJ4                                                     & IGKC                                                      &  TRUE                                                     & TRUE                                                      & CQQYNNWPPLTF                                              & TGTCAGCAGTATAATAACTGGCCTCCGCTCACTTTC                      &  807                                                      &  25                                                       & clonotype6                                                & clonotype6\\_consensus\\_1                               \\\\\n",
       "\t2 & AACCGCGAGAAACCGC-1                                        & TRUE                                                      & AACCGCGAGAAACCGC-1\\_contig\\_1                           &  TRUE                                                     & 557                                                       & IGL                                                       & IGLV3-19                                                  & NA                                                        & IGLJ2                                                     & IGLC2                                                     &  TRUE                                                     & TRUE                                                      & CNSRDSSGNHLKVVF                                           & TGTAACTCCCGGGACAGCAGTGGTAACCATCTAAAGGTGGTATTC             &  149                                                      &   8                                                       & clonotype7                                                & clonotype7\\_consensus\\_1                               \\\\\n",
       "\t3 & AACCGCGAGAAACCGC-1                                        & TRUE                                                      & AACCGCGAGAAACCGC-1\\_contig\\_2                           &  TRUE                                                     & 334                                                       & IGH                                                       & IGHV7-81                                                  & NA                                                        & NA                                                        & NA                                                        & FALSE                                                     &   NA                                                      & NA                                                        & NA                                                        &   48                                                      &   3                                                       & clonotype7                                                & NA                                                       \\\\\n",
       "\t31 & ACGGCCACACCTGGTG-1                                        & TRUE                                                      & ACGGCCACACCTGGTG-1\\_contig\\_1                           &  TRUE                                                     & 567                                                       & IGK                                                       & IGKV2D-28                                                 & NA                                                        & IGKJ4                                                     & IGKC                                                      &  TRUE                                                     & TRUE                                                      & CMQALQTPLTF                                               & TGCATGCAAGCTCTACAAACTCCGCTCACTTTC                         &  637                                                      &  20                                                       & clonotype25                                               & clonotype25\\_consensus\\_2                              \\\\\n",
       "\t32 & ACGGCCACACCTGGTG-1                                        & TRUE                                                      & ACGGCCACACCTGGTG-1\\_contig\\_2                           &  TRUE                                                     & 549                                                       & IGH                                                       & IGHV4-31                                                  & IGHD4-17                                                  & IGHJ4                                                     & IGHM                                                      &  TRUE                                                     & TRUE                                                      & CARADYGDYEGQGVYFDYW                                       & TGTGCCCGTGCCGACTACGGTGACTACGAGGGGCAGGGGGTCTACTTTGACTACTGG &  152                                                      &   7                                                       & clonotype25                                               & clonotype25\\_consensus\\_1                              \\\\\n",
       "\t36 & ACGTCAAGTAGATTAG-1                                        & TRUE                                                      & ACGTCAAGTAGATTAG-1\\_contig\\_1                           &  TRUE                                                     & 333                                                       & IGH                                                       & IGHV3-23                                                  & NA                                                        & NA                                                        & IGHE                                                      & FALSE                                                     &   NA                                                      & NA                                                        & NA                                                        &  400                                                      &  14                                                       & clonotype27                                               & NA                                                       \\\\\n",
       "\t37 & ACGTCAAGTAGATTAG-1                                        & TRUE                                                      & ACGTCAAGTAGATTAG-1\\_contig\\_2                           &  TRUE                                                     & 535                                                       & IGH                                                       & IGHV4-61                                                  & IGHD2-21                                                  & IGHJ6                                                     & IGHM                                                      &  TRUE                                                     & TRUE                                                      & CARQLVVTAIPYGVDVW                                         & TGTGCGAGGCAGCTAGTGGTGACTGCTATCCCTTACGGTGTGGACGTCTGG       &  146                                                      &   8                                                       & clonotype27                                               & clonotype27\\_consensus\\_1                              \\\\\n",
       "\t38 & ACGTCAAGTAGATTAG-1                                        & TRUE                                                      & ACGTCAAGTAGATTAG-1\\_contig\\_3                           &  TRUE                                                     & 703                                                       & Multi                                                     & TRBV10-1                                                  & NA                                                        & NA                                                        & IGHM                                                      & FALSE                                                     &   NA                                                      & NA                                                        & NA                                                        &  108                                                      &   6                                                       & clonotype27                                               & NA                                                       \\\\\n",
       "\t39 & ACGTCAAGTAGATTAG-1                                        & TRUE                                                      & ACGTCAAGTAGATTAG-1\\_contig\\_4                           &  TRUE                                                     & 674                                                       & IGK                                                       & IGKV2D-28                                                 & NA                                                        & IGKJ2                                                     & IGKC                                                      &  TRUE                                                     & TRUE                                                      & CMQTLQTPQYTF                                              & TGCATGCAAACTCTACAAACTCCTCAGTACACTTTT                      & 7794                                                      & 235                                                       & clonotype27                                               & clonotype27\\_consensus\\_2                              \\\\\n",
       "\t40 & ACGTCAAGTAGATTAG-1                                        & TRUE                                                      & ACGTCAAGTAGATTAG-1\\_contig\\_5                           & FALSE                                                     & 657                                                       & IGK                                                       & IGKV1D-37                                                 & NA                                                        & IGKJ5                                                     & IGKC                                                      &  TRUE                                                     &   NA                                                      & NA                                                        & NA                                                        & 1193                                                      &  35                                                       & clonotype27                                               & NA                                                       \\\\\n",
       "\t63 & AGCAGCCGTGTTTGGT-1                                        & TRUE                                                      & AGCAGCCGTGTTTGGT-1\\_contig\\_1                           &  TRUE                                                     & 434                                                       & IGH                                                       & IGHV1-18                                                  & NA                                                        & NA                                                        & NA                                                        & FALSE                                                     &   NA                                                      & NA                                                        & NA                                                        &   45                                                      &   2                                                       & clonotype33                                               & NA                                                       \\\\\n",
       "\t64 & AGCAGCCGTGTTTGGT-1                                        & TRUE                                                      & AGCAGCCGTGTTTGGT-1\\_contig\\_2                           &  TRUE                                                     & 409                                                       & Multi                                                     & TRBV10-3                                                  & NA                                                        & NA                                                        & IGHM                                                      & FALSE                                                     &   NA                                                      & NA                                                        & NA                                                        &  109                                                      &   5                                                       & clonotype33                                               & NA                                                       \\\\\n",
       "\t65 & AGCAGCCGTGTTTGGT-1                                        & TRUE                                                      & AGCAGCCGTGTTTGGT-1\\_contig\\_3                           &  TRUE                                                     & 550                                                       & IGK                                                       & IGKV3-11                                                  & NA                                                        & IGKJ3                                                     & IGKC                                                      &  TRUE                                                     & TRUE                                                      & CQQRSNPLFTF                                               & TGTCAGCAGCGTAGCAACCCTTTATTCACTTTC                         &  142                                                      &   7                                                       & clonotype33                                               & clonotype33\\_consensus\\_1                              \\\\\n",
       "\t68 & AGCATACAGATCGATA-1                                        & TRUE                                                      & AGCATACAGATCGATA-1\\_contig\\_1                           &  TRUE                                                     & 671                                                       & IGK                                                       & IGKV1-9                                                   & NA                                                        & IGKJ2                                                     & IGKC                                                      &  TRUE                                                     & TRUE                                                      & CQQLNSYLYTF                                               & TGTCAACAGCTTAATAGTTACCTGTACACTTTT                         & 1143                                                      &  36                                                       & clonotype35                                               & clonotype35\\_consensus\\_2                              \\\\\n",
       "\t69 & AGCATACAGATCGATA-1                                        & TRUE                                                      & AGCATACAGATCGATA-1\\_contig\\_2                           &  TRUE                                                     & 391                                                       & Multi                                                     & TRBV12-5                                                  & NA                                                        & IGLJ1                                                     & IGLC1                                                     &  TRUE                                                     &   NA                                                      & NA                                                        & NA                                                        &   20                                                      &   1                                                       & clonotype35                                               & NA                                                       \\\\\n",
       "\t70 & AGCATACAGATCGATA-1                                        & TRUE                                                      & AGCATACAGATCGATA-1\\_contig\\_3                           &  TRUE                                                     & 583                                                       & IGH                                                       & IGHV3-21                                                  & IGHD2-15                                                  & IGHJ4                                                     & IGHM                                                      &  TRUE                                                     & TRUE                                                      & CASQYCSGGSCYWSPSDYW                                       & TGTGCGAGTCAGTATTGTAGTGGTGGTAGCTGCTACTGGTCTCCTTCCGACTACTGG &  352                                                      &  21                                                       & clonotype35                                               & clonotype35\\_consensus\\_1                              \\\\\n",
       "\t75 & AGCCTAAAGTGTGGCA-1                                        & TRUE                                                      & AGCCTAAAGTGTGGCA-1\\_contig\\_1                           &  TRUE                                                     & 539                                                       & IGH                                                       & IGHV3-15                                                  & IGHD1-26                                                  & IGHJ4                                                     & IGHM                                                      &  TRUE                                                     & TRUE                                                      & CTTEKWELRFDYW                                             & TGTACCACAGAAAAGTGGGAGCTACGCTTTGACTACTGG                   &   87                                                      &   3                                                       & clonotype37                                               & clonotype37\\_consensus\\_1                              \\\\\n",
       "\t76 & AGCCTAAAGTGTGGCA-1                                        & TRUE                                                      & AGCCTAAAGTGTGGCA-1\\_contig\\_2                           &  TRUE                                                     & 652                                                       & IGL                                                       & IGLV1-51                                                  & NA                                                        & IGLJ1                                                     & IGLC1                                                     &  TRUE                                                     & TRUE                                                      & CGTWDSSLSAYVF                                             & TGCGGAACATGGGATAGCAGCCTGAGTGCTTATGTCTTC                   &  412                                                      &  15                                                       & clonotype37                                               & clonotype37\\_consensus\\_2                              \\\\\n",
       "\t77 & AGCCTAAAGTGTGGCA-1                                        & TRUE                                                      & AGCCTAAAGTGTGGCA-1\\_contig\\_3                           & FALSE                                                     & 761                                                       & IGL                                                       & IGLV1-51                                                  & NA                                                        & IGLJ1                                                     & IGLC1                                                     & FALSE                                                     &   NA                                                      & CGTWDSSLSAYVF                                             & TGCGGAACATGGGATAGCAGCCTGAGTGCTTATGTCTTC                   &   46                                                      &   2                                                       & clonotype37                                               & NA                                                       \\\\\n",
       "\t94 & ATCACGATCGCCCTTA-1                                        & TRUE                                                      & ATCACGATCGCCCTTA-1\\_contig\\_1                           &  TRUE                                                     & 551                                                       & IGK                                                       & IGKV1-9                                                   & NA                                                        & IGKJ4                                                     & IGKC                                                      &  TRUE                                                     & TRUE                                                      & CQQLNSYPLTF                                               & TGTCAACAGCTTAATAGTTACCCGCTCACTTTC                         & 2009                                                      &  62                                                       & clonotype42                                               & clonotype42\\_consensus\\_2                              \\\\\n",
       "\\end{tabular}\n"
      ],
      "text/markdown": [
       "\n",
       "| <!--/--> | barcode | is_cell | contig_id | high_confidence | length | chain | v_gene | d_gene | j_gene | c_gene | full_length | productive | cdr3 | cdr3_nt | reads | umis | raw_clonotype_id | raw_consensus_id | \n",
       "|---|---|---|---|---|---|---|---|---|---|---|---|---|---|---|---|---|---|---|---|\n",
       "| 1 | AAATGCCTCTGCCCTA-1                                        | TRUE                                                      | AAATGCCTCTGCCCTA-1_contig_1                               |  TRUE                                                     | 570                                                       | IGK                                                       | IGKV3-15                                                  | NA                                                        | IGKJ4                                                     | IGKC                                                      |  TRUE                                                     | TRUE                                                      | CQQYNNWPPLTF                                              | TGTCAGCAGTATAATAACTGGCCTCCGCTCACTTTC                      |  807                                                      |  25                                                       | clonotype6                                                | clonotype6_consensus_1                                    | \n",
       "| 2 | AACCGCGAGAAACCGC-1                                        | TRUE                                                      | AACCGCGAGAAACCGC-1_contig_1                               |  TRUE                                                     | 557                                                       | IGL                                                       | IGLV3-19                                                  | NA                                                        | IGLJ2                                                     | IGLC2                                                     |  TRUE                                                     | TRUE                                                      | CNSRDSSGNHLKVVF                                           | TGTAACTCCCGGGACAGCAGTGGTAACCATCTAAAGGTGGTATTC             |  149                                                      |   8                                                       | clonotype7                                                | clonotype7_consensus_1                                    | \n",
       "| 3 | AACCGCGAGAAACCGC-1                                        | TRUE                                                      | AACCGCGAGAAACCGC-1_contig_2                               |  TRUE                                                     | 334                                                       | IGH                                                       | IGHV7-81                                                  | NA                                                        | NA                                                        | NA                                                        | FALSE                                                     |   NA                                                      | NA                                                        | NA                                                        |   48                                                      |   3                                                       | clonotype7                                                | NA                                                        | \n",
       "| 31 | ACGGCCACACCTGGTG-1                                        | TRUE                                                      | ACGGCCACACCTGGTG-1_contig_1                               |  TRUE                                                     | 567                                                       | IGK                                                       | IGKV2D-28                                                 | NA                                                        | IGKJ4                                                     | IGKC                                                      |  TRUE                                                     | TRUE                                                      | CMQALQTPLTF                                               | TGCATGCAAGCTCTACAAACTCCGCTCACTTTC                         |  637                                                      |  20                                                       | clonotype25                                               | clonotype25_consensus_2                                   | \n",
       "| 32 | ACGGCCACACCTGGTG-1                                        | TRUE                                                      | ACGGCCACACCTGGTG-1_contig_2                               |  TRUE                                                     | 549                                                       | IGH                                                       | IGHV4-31                                                  | IGHD4-17                                                  | IGHJ4                                                     | IGHM                                                      |  TRUE                                                     | TRUE                                                      | CARADYGDYEGQGVYFDYW                                       | TGTGCCCGTGCCGACTACGGTGACTACGAGGGGCAGGGGGTCTACTTTGACTACTGG |  152                                                      |   7                                                       | clonotype25                                               | clonotype25_consensus_1                                   | \n",
       "| 36 | ACGTCAAGTAGATTAG-1                                        | TRUE                                                      | ACGTCAAGTAGATTAG-1_contig_1                               |  TRUE                                                     | 333                                                       | IGH                                                       | IGHV3-23                                                  | NA                                                        | NA                                                        | IGHE                                                      | FALSE                                                     |   NA                                                      | NA                                                        | NA                                                        |  400                                                      |  14                                                       | clonotype27                                               | NA                                                        | \n",
       "| 37 | ACGTCAAGTAGATTAG-1                                        | TRUE                                                      | ACGTCAAGTAGATTAG-1_contig_2                               |  TRUE                                                     | 535                                                       | IGH                                                       | IGHV4-61                                                  | IGHD2-21                                                  | IGHJ6                                                     | IGHM                                                      |  TRUE                                                     | TRUE                                                      | CARQLVVTAIPYGVDVW                                         | TGTGCGAGGCAGCTAGTGGTGACTGCTATCCCTTACGGTGTGGACGTCTGG       |  146                                                      |   8                                                       | clonotype27                                               | clonotype27_consensus_1                                   | \n",
       "| 38 | ACGTCAAGTAGATTAG-1                                        | TRUE                                                      | ACGTCAAGTAGATTAG-1_contig_3                               |  TRUE                                                     | 703                                                       | Multi                                                     | TRBV10-1                                                  | NA                                                        | NA                                                        | IGHM                                                      | FALSE                                                     |   NA                                                      | NA                                                        | NA                                                        |  108                                                      |   6                                                       | clonotype27                                               | NA                                                        | \n",
       "| 39 | ACGTCAAGTAGATTAG-1                                        | TRUE                                                      | ACGTCAAGTAGATTAG-1_contig_4                               |  TRUE                                                     | 674                                                       | IGK                                                       | IGKV2D-28                                                 | NA                                                        | IGKJ2                                                     | IGKC                                                      |  TRUE                                                     | TRUE                                                      | CMQTLQTPQYTF                                              | TGCATGCAAACTCTACAAACTCCTCAGTACACTTTT                      | 7794                                                      | 235                                                       | clonotype27                                               | clonotype27_consensus_2                                   | \n",
       "| 40 | ACGTCAAGTAGATTAG-1                                        | TRUE                                                      | ACGTCAAGTAGATTAG-1_contig_5                               | FALSE                                                     | 657                                                       | IGK                                                       | IGKV1D-37                                                 | NA                                                        | IGKJ5                                                     | IGKC                                                      |  TRUE                                                     |   NA                                                      | NA                                                        | NA                                                        | 1193                                                      |  35                                                       | clonotype27                                               | NA                                                        | \n",
       "| 63 | AGCAGCCGTGTTTGGT-1                                        | TRUE                                                      | AGCAGCCGTGTTTGGT-1_contig_1                               |  TRUE                                                     | 434                                                       | IGH                                                       | IGHV1-18                                                  | NA                                                        | NA                                                        | NA                                                        | FALSE                                                     |   NA                                                      | NA                                                        | NA                                                        |   45                                                      |   2                                                       | clonotype33                                               | NA                                                        | \n",
       "| 64 | AGCAGCCGTGTTTGGT-1                                        | TRUE                                                      | AGCAGCCGTGTTTGGT-1_contig_2                               |  TRUE                                                     | 409                                                       | Multi                                                     | TRBV10-3                                                  | NA                                                        | NA                                                        | IGHM                                                      | FALSE                                                     |   NA                                                      | NA                                                        | NA                                                        |  109                                                      |   5                                                       | clonotype33                                               | NA                                                        | \n",
       "| 65 | AGCAGCCGTGTTTGGT-1                                        | TRUE                                                      | AGCAGCCGTGTTTGGT-1_contig_3                               |  TRUE                                                     | 550                                                       | IGK                                                       | IGKV3-11                                                  | NA                                                        | IGKJ3                                                     | IGKC                                                      |  TRUE                                                     | TRUE                                                      | CQQRSNPLFTF                                               | TGTCAGCAGCGTAGCAACCCTTTATTCACTTTC                         |  142                                                      |   7                                                       | clonotype33                                               | clonotype33_consensus_1                                   | \n",
       "| 68 | AGCATACAGATCGATA-1                                        | TRUE                                                      | AGCATACAGATCGATA-1_contig_1                               |  TRUE                                                     | 671                                                       | IGK                                                       | IGKV1-9                                                   | NA                                                        | IGKJ2                                                     | IGKC                                                      |  TRUE                                                     | TRUE                                                      | CQQLNSYLYTF                                               | TGTCAACAGCTTAATAGTTACCTGTACACTTTT                         | 1143                                                      |  36                                                       | clonotype35                                               | clonotype35_consensus_2                                   | \n",
       "| 69 | AGCATACAGATCGATA-1                                        | TRUE                                                      | AGCATACAGATCGATA-1_contig_2                               |  TRUE                                                     | 391                                                       | Multi                                                     | TRBV12-5                                                  | NA                                                        | IGLJ1                                                     | IGLC1                                                     |  TRUE                                                     |   NA                                                      | NA                                                        | NA                                                        |   20                                                      |   1                                                       | clonotype35                                               | NA                                                        | \n",
       "| 70 | AGCATACAGATCGATA-1                                        | TRUE                                                      | AGCATACAGATCGATA-1_contig_3                               |  TRUE                                                     | 583                                                       | IGH                                                       | IGHV3-21                                                  | IGHD2-15                                                  | IGHJ4                                                     | IGHM                                                      |  TRUE                                                     | TRUE                                                      | CASQYCSGGSCYWSPSDYW                                       | TGTGCGAGTCAGTATTGTAGTGGTGGTAGCTGCTACTGGTCTCCTTCCGACTACTGG |  352                                                      |  21                                                       | clonotype35                                               | clonotype35_consensus_1                                   | \n",
       "| 75 | AGCCTAAAGTGTGGCA-1                                        | TRUE                                                      | AGCCTAAAGTGTGGCA-1_contig_1                               |  TRUE                                                     | 539                                                       | IGH                                                       | IGHV3-15                                                  | IGHD1-26                                                  | IGHJ4                                                     | IGHM                                                      |  TRUE                                                     | TRUE                                                      | CTTEKWELRFDYW                                             | TGTACCACAGAAAAGTGGGAGCTACGCTTTGACTACTGG                   |   87                                                      |   3                                                       | clonotype37                                               | clonotype37_consensus_1                                   | \n",
       "| 76 | AGCCTAAAGTGTGGCA-1                                        | TRUE                                                      | AGCCTAAAGTGTGGCA-1_contig_2                               |  TRUE                                                     | 652                                                       | IGL                                                       | IGLV1-51                                                  | NA                                                        | IGLJ1                                                     | IGLC1                                                     |  TRUE                                                     | TRUE                                                      | CGTWDSSLSAYVF                                             | TGCGGAACATGGGATAGCAGCCTGAGTGCTTATGTCTTC                   |  412                                                      |  15                                                       | clonotype37                                               | clonotype37_consensus_2                                   | \n",
       "| 77 | AGCCTAAAGTGTGGCA-1                                        | TRUE                                                      | AGCCTAAAGTGTGGCA-1_contig_3                               | FALSE                                                     | 761                                                       | IGL                                                       | IGLV1-51                                                  | NA                                                        | IGLJ1                                                     | IGLC1                                                     | FALSE                                                     |   NA                                                      | CGTWDSSLSAYVF                                             | TGCGGAACATGGGATAGCAGCCTGAGTGCTTATGTCTTC                   |   46                                                      |   2                                                       | clonotype37                                               | NA                                                        | \n",
       "| 94 | ATCACGATCGCCCTTA-1                                        | TRUE                                                      | ATCACGATCGCCCTTA-1_contig_1                               |  TRUE                                                     | 551                                                       | IGK                                                       | IGKV1-9                                                   | NA                                                        | IGKJ4                                                     | IGKC                                                      |  TRUE                                                     | TRUE                                                      | CQQLNSYPLTF                                               | TGTCAACAGCTTAATAGTTACCCGCTCACTTTC                         | 2009                                                      |  62                                                       | clonotype42                                               | clonotype42_consensus_2                                   | \n",
       "\n",
       "\n"
      ],
      "text/plain": [
       "   barcode            is_cell contig_id                   high_confidence\n",
       "1  AAATGCCTCTGCCCTA-1 TRUE    AAATGCCTCTGCCCTA-1_contig_1  TRUE          \n",
       "2  AACCGCGAGAAACCGC-1 TRUE    AACCGCGAGAAACCGC-1_contig_1  TRUE          \n",
       "3  AACCGCGAGAAACCGC-1 TRUE    AACCGCGAGAAACCGC-1_contig_2  TRUE          \n",
       "31 ACGGCCACACCTGGTG-1 TRUE    ACGGCCACACCTGGTG-1_contig_1  TRUE          \n",
       "32 ACGGCCACACCTGGTG-1 TRUE    ACGGCCACACCTGGTG-1_contig_2  TRUE          \n",
       "36 ACGTCAAGTAGATTAG-1 TRUE    ACGTCAAGTAGATTAG-1_contig_1  TRUE          \n",
       "37 ACGTCAAGTAGATTAG-1 TRUE    ACGTCAAGTAGATTAG-1_contig_2  TRUE          \n",
       "38 ACGTCAAGTAGATTAG-1 TRUE    ACGTCAAGTAGATTAG-1_contig_3  TRUE          \n",
       "39 ACGTCAAGTAGATTAG-1 TRUE    ACGTCAAGTAGATTAG-1_contig_4  TRUE          \n",
       "40 ACGTCAAGTAGATTAG-1 TRUE    ACGTCAAGTAGATTAG-1_contig_5 FALSE          \n",
       "63 AGCAGCCGTGTTTGGT-1 TRUE    AGCAGCCGTGTTTGGT-1_contig_1  TRUE          \n",
       "64 AGCAGCCGTGTTTGGT-1 TRUE    AGCAGCCGTGTTTGGT-1_contig_2  TRUE          \n",
       "65 AGCAGCCGTGTTTGGT-1 TRUE    AGCAGCCGTGTTTGGT-1_contig_3  TRUE          \n",
       "68 AGCATACAGATCGATA-1 TRUE    AGCATACAGATCGATA-1_contig_1  TRUE          \n",
       "69 AGCATACAGATCGATA-1 TRUE    AGCATACAGATCGATA-1_contig_2  TRUE          \n",
       "70 AGCATACAGATCGATA-1 TRUE    AGCATACAGATCGATA-1_contig_3  TRUE          \n",
       "75 AGCCTAAAGTGTGGCA-1 TRUE    AGCCTAAAGTGTGGCA-1_contig_1  TRUE          \n",
       "76 AGCCTAAAGTGTGGCA-1 TRUE    AGCCTAAAGTGTGGCA-1_contig_2  TRUE          \n",
       "77 AGCCTAAAGTGTGGCA-1 TRUE    AGCCTAAAGTGTGGCA-1_contig_3 FALSE          \n",
       "94 ATCACGATCGCCCTTA-1 TRUE    ATCACGATCGCCCTTA-1_contig_1  TRUE          \n",
       "   length chain v_gene    d_gene   j_gene c_gene full_length productive\n",
       "1  570    IGK   IGKV3-15  NA       IGKJ4  IGKC    TRUE       TRUE      \n",
       "2  557    IGL   IGLV3-19  NA       IGLJ2  IGLC2   TRUE       TRUE      \n",
       "3  334    IGH   IGHV7-81  NA       NA     NA     FALSE         NA      \n",
       "31 567    IGK   IGKV2D-28 NA       IGKJ4  IGKC    TRUE       TRUE      \n",
       "32 549    IGH   IGHV4-31  IGHD4-17 IGHJ4  IGHM    TRUE       TRUE      \n",
       "36 333    IGH   IGHV3-23  NA       NA     IGHE   FALSE         NA      \n",
       "37 535    IGH   IGHV4-61  IGHD2-21 IGHJ6  IGHM    TRUE       TRUE      \n",
       "38 703    Multi TRBV10-1  NA       NA     IGHM   FALSE         NA      \n",
       "39 674    IGK   IGKV2D-28 NA       IGKJ2  IGKC    TRUE       TRUE      \n",
       "40 657    IGK   IGKV1D-37 NA       IGKJ5  IGKC    TRUE         NA      \n",
       "63 434    IGH   IGHV1-18  NA       NA     NA     FALSE         NA      \n",
       "64 409    Multi TRBV10-3  NA       NA     IGHM   FALSE         NA      \n",
       "65 550    IGK   IGKV3-11  NA       IGKJ3  IGKC    TRUE       TRUE      \n",
       "68 671    IGK   IGKV1-9   NA       IGKJ2  IGKC    TRUE       TRUE      \n",
       "69 391    Multi TRBV12-5  NA       IGLJ1  IGLC1   TRUE         NA      \n",
       "70 583    IGH   IGHV3-21  IGHD2-15 IGHJ4  IGHM    TRUE       TRUE      \n",
       "75 539    IGH   IGHV3-15  IGHD1-26 IGHJ4  IGHM    TRUE       TRUE      \n",
       "76 652    IGL   IGLV1-51  NA       IGLJ1  IGLC1   TRUE       TRUE      \n",
       "77 761    IGL   IGLV1-51  NA       IGLJ1  IGLC1  FALSE         NA      \n",
       "94 551    IGK   IGKV1-9   NA       IGKJ4  IGKC    TRUE       TRUE      \n",
       "   cdr3               \n",
       "1  CQQYNNWPPLTF       \n",
       "2  CNSRDSSGNHLKVVF    \n",
       "3  NA                 \n",
       "31 CMQALQTPLTF        \n",
       "32 CARADYGDYEGQGVYFDYW\n",
       "36 NA                 \n",
       "37 CARQLVVTAIPYGVDVW  \n",
       "38 NA                 \n",
       "39 CMQTLQTPQYTF       \n",
       "40 NA                 \n",
       "63 NA                 \n",
       "64 NA                 \n",
       "65 CQQRSNPLFTF        \n",
       "68 CQQLNSYLYTF        \n",
       "69 NA                 \n",
       "70 CASQYCSGGSCYWSPSDYW\n",
       "75 CTTEKWELRFDYW      \n",
       "76 CGTWDSSLSAYVF      \n",
       "77 CGTWDSSLSAYVF      \n",
       "94 CQQLNSYPLTF        \n",
       "   cdr3_nt                                                   reads umis\n",
       "1  TGTCAGCAGTATAATAACTGGCCTCCGCTCACTTTC                       807   25 \n",
       "2  TGTAACTCCCGGGACAGCAGTGGTAACCATCTAAAGGTGGTATTC              149    8 \n",
       "3  NA                                                          48    3 \n",
       "31 TGCATGCAAGCTCTACAAACTCCGCTCACTTTC                          637   20 \n",
       "32 TGTGCCCGTGCCGACTACGGTGACTACGAGGGGCAGGGGGTCTACTTTGACTACTGG  152    7 \n",
       "36 NA                                                         400   14 \n",
       "37 TGTGCGAGGCAGCTAGTGGTGACTGCTATCCCTTACGGTGTGGACGTCTGG        146    8 \n",
       "38 NA                                                         108    6 \n",
       "39 TGCATGCAAACTCTACAAACTCCTCAGTACACTTTT                      7794  235 \n",
       "40 NA                                                        1193   35 \n",
       "63 NA                                                          45    2 \n",
       "64 NA                                                         109    5 \n",
       "65 TGTCAGCAGCGTAGCAACCCTTTATTCACTTTC                          142    7 \n",
       "68 TGTCAACAGCTTAATAGTTACCTGTACACTTTT                         1143   36 \n",
       "69 NA                                                          20    1 \n",
       "70 TGTGCGAGTCAGTATTGTAGTGGTGGTAGCTGCTACTGGTCTCCTTCCGACTACTGG  352   21 \n",
       "75 TGTACCACAGAAAAGTGGGAGCTACGCTTTGACTACTGG                     87    3 \n",
       "76 TGCGGAACATGGGATAGCAGCCTGAGTGCTTATGTCTTC                    412   15 \n",
       "77 TGCGGAACATGGGATAGCAGCCTGAGTGCTTATGTCTTC                     46    2 \n",
       "94 TGTCAACAGCTTAATAGTTACCCGCTCACTTTC                         2009   62 \n",
       "   raw_clonotype_id raw_consensus_id       \n",
       "1  clonotype6       clonotype6_consensus_1 \n",
       "2  clonotype7       clonotype7_consensus_1 \n",
       "3  clonotype7       NA                     \n",
       "31 clonotype25      clonotype25_consensus_2\n",
       "32 clonotype25      clonotype25_consensus_1\n",
       "36 clonotype27      NA                     \n",
       "37 clonotype27      clonotype27_consensus_1\n",
       "38 clonotype27      NA                     \n",
       "39 clonotype27      clonotype27_consensus_2\n",
       "40 clonotype27      NA                     \n",
       "63 clonotype33      NA                     \n",
       "64 clonotype33      NA                     \n",
       "65 clonotype33      clonotype33_consensus_1\n",
       "68 clonotype35      clonotype35_consensus_2\n",
       "69 clonotype35      NA                     \n",
       "70 clonotype35      clonotype35_consensus_1\n",
       "75 clonotype37      clonotype37_consensus_1\n",
       "76 clonotype37      clonotype37_consensus_2\n",
       "77 clonotype37      NA                     \n",
       "94 clonotype42      clonotype42_consensus_2"
      ]
     },
     "metadata": {},
     "output_type": "display_data"
    }
   ],
   "source": [
    "BCR_annoation[which(BCR_annoation$barcode %in% TCR_annoation_w$barcode)[1:20],]"
   ]
  },
  {
   "cell_type": "code",
   "execution_count": 8,
   "metadata": {
    "collapsed": false
   },
   "outputs": [
    {
     "data": {
      "text/html": [
       "38"
      ],
      "text/latex": [
       "38"
      ],
      "text/markdown": [
       "38"
      ],
      "text/plain": [
       "[1] 38"
      ]
     },
     "metadata": {},
     "output_type": "display_data"
    }
   ],
   "source": [
    "length(unique(BCR_annoation$barcode[which(BCR_annoation$barcode %in% TCR_annoation$barcode)]))"
   ]
  },
  {
   "cell_type": "code",
   "execution_count": 10,
   "metadata": {
    "collapsed": false
   },
   "outputs": [
    {
     "data": {
      "text/html": [
       "30"
      ],
      "text/latex": [
       "30"
      ],
      "text/markdown": [
       "30"
      ],
      "text/plain": [
       "[1] 30"
      ]
     },
     "metadata": {},
     "output_type": "display_data"
    },
    {
     "data": {
      "text/html": [
       "5"
      ],
      "text/latex": [
       "5"
      ],
      "text/markdown": [
       "5"
      ],
      "text/plain": [
       "[1] 5"
      ]
     },
     "metadata": {},
     "output_type": "display_data"
    }
   ],
   "source": [
    "length(unique(BCR_annoation$barcode[which(BCR_annoation$barcode %in% TCR_annoation_w$barcode)]))\n",
    "length(unique(TCR_annoation$barcode[which(TCR_annoation$barcode %in% BCR_annoation_w$barcode)]))"
   ]
  },
  {
   "cell_type": "code",
   "execution_count": 7,
   "metadata": {
    "collapsed": false
   },
   "outputs": [
    {
     "data": {
      "text/html": [
       "<ol class=list-inline>\n",
       "\t<li>'1'</li>\n",
       "\t<li>'2'</li>\n",
       "\t<li>'3'</li>\n",
       "\t<li>'4'</li>\n",
       "</ol>\n"
      ],
      "text/latex": [
       "\\begin{enumerate*}\n",
       "\\item '1'\n",
       "\\item '2'\n",
       "\\item '3'\n",
       "\\item '4'\n",
       "\\end{enumerate*}\n"
      ],
      "text/markdown": [
       "1. '1'\n",
       "2. '2'\n",
       "3. '3'\n",
       "4. '4'\n",
       "\n",
       "\n"
      ],
      "text/plain": [
       "[1] \"1\" \"2\" \"3\" \"4\""
      ]
     },
     "metadata": {},
     "output_type": "display_data"
    },
    {
     "data": {
      "text/html": [
       "<ol class=list-inline>\n",
       "\t<li>'1'</li>\n",
       "\t<li>'2'</li>\n",
       "\t<li>'3'</li>\n",
       "\t<li>'4'</li>\n",
       "</ol>\n"
      ],
      "text/latex": [
       "\\begin{enumerate*}\n",
       "\\item '1'\n",
       "\\item '2'\n",
       "\\item '3'\n",
       "\\item '4'\n",
       "\\end{enumerate*}\n"
      ],
      "text/markdown": [
       "1. '1'\n",
       "2. '2'\n",
       "3. '3'\n",
       "4. '4'\n",
       "\n",
       "\n"
      ],
      "text/plain": [
       "[1] \"1\" \"2\" \"3\" \"4\""
      ]
     },
     "metadata": {},
     "output_type": "display_data"
    }
   ],
   "source": [
    "unique(stringi::stri_sub(TCR_annoation_w$barcode,-1, -1))\n",
    "unique(stringi::stri_sub(TCR_annoation$barcode,-1, -1))"
   ]
  },
  {
   "cell_type": "code",
   "execution_count": 34,
   "metadata": {
    "collapsed": false
   },
   "outputs": [
    {
     "data": {
      "text/html": [
       "<strong>png:</strong> 2"
      ],
      "text/latex": [
       "\\textbf{png:} 2"
      ],
      "text/markdown": [
       "**png:** 2"
      ],
      "text/plain": [
       "png \n",
       "  2 "
      ]
     },
     "metadata": {},
     "output_type": "display_data"
    }
   ],
   "source": [
    "pdf(\"cells label overlaping between TCR_BCR samples_with recombination signature.pdf\",width=7,height=7)\n",
    "venn(list(failed_TCR=unique(TCR_annoation_w$barcode),\n",
    "          TCR=unique(TCR_annoation$barcode),\n",
    "          BCR=unique(BCR_annoation$barcode),\n",
    "          failed_BCR=unique(BCR_annoation_w$barcode)\n",
    "         ),small=0.5)\n",
    "title(main=\"all\")\n",
    "dev.off()"
   ]
  },
  {
   "cell_type": "code",
   "execution_count": 5,
   "metadata": {
    "collapsed": false
   },
   "outputs": [
    {
     "data": {
      "text/html": [
       "<ol class=list-inline>\n",
       "\t<li>'BCR_annoation'</li>\n",
       "\t<li>'BCR_annoation_w'</li>\n",
       "\t<li>'cell_assignment'</li>\n",
       "\t<li>'center_by_batch'</li>\n",
       "\t<li>'ExpressionMat'</li>\n",
       "\t<li>'ExpressionNormed'</li>\n",
       "\t<li>'pca_allcell'</li>\n",
       "\t<li>'rtsne_allcell'</li>\n",
       "\t<li>'sample_list'</li>\n",
       "\t<li>'TCR_annoation'</li>\n",
       "\t<li>'TCR_annoation_w'</li>\n",
       "\t<li>'valid_BCR_list'</li>\n",
       "\t<li>'valid_TCR_list'</li>\n",
       "\t<li>'venn_matrix'</li>\n",
       "</ol>\n"
      ],
      "text/latex": [
       "\\begin{enumerate*}\n",
       "\\item 'BCR\\_annoation'\n",
       "\\item 'BCR\\_annoation\\_w'\n",
       "\\item 'cell\\_assignment'\n",
       "\\item 'center\\_by\\_batch'\n",
       "\\item 'ExpressionMat'\n",
       "\\item 'ExpressionNormed'\n",
       "\\item 'pca\\_allcell'\n",
       "\\item 'rtsne\\_allcell'\n",
       "\\item 'sample\\_list'\n",
       "\\item 'TCR\\_annoation'\n",
       "\\item 'TCR\\_annoation\\_w'\n",
       "\\item 'valid\\_BCR\\_list'\n",
       "\\item 'valid\\_TCR\\_list'\n",
       "\\item 'venn\\_matrix'\n",
       "\\end{enumerate*}\n"
      ],
      "text/markdown": [
       "1. 'BCR_annoation'\n",
       "2. 'BCR_annoation_w'\n",
       "3. 'cell_assignment'\n",
       "4. 'center_by_batch'\n",
       "5. 'ExpressionMat'\n",
       "6. 'ExpressionNormed'\n",
       "7. 'pca_allcell'\n",
       "8. 'rtsne_allcell'\n",
       "9. 'sample_list'\n",
       "10. 'TCR_annoation'\n",
       "11. 'TCR_annoation_w'\n",
       "12. 'valid_BCR_list'\n",
       "13. 'valid_TCR_list'\n",
       "14. 'venn_matrix'\n",
       "\n",
       "\n"
      ],
      "text/plain": [
       " [1] \"BCR_annoation\"    \"BCR_annoation_w\"  \"cell_assignment\"  \"center_by_batch\" \n",
       " [5] \"ExpressionMat\"    \"ExpressionNormed\" \"pca_allcell\"      \"rtsne_allcell\"   \n",
       " [9] \"sample_list\"      \"TCR_annoation\"    \"TCR_annoation_w\"  \"valid_BCR_list\"  \n",
       "[13] \"valid_TCR_list\"   \"venn_matrix\"     "
      ]
     },
     "metadata": {},
     "output_type": "display_data"
    }
   ],
   "source": [
    "ls()"
   ]
  },
  {
   "cell_type": "code",
   "execution_count": 6,
   "metadata": {
    "collapsed": false
   },
   "outputs": [
    {
     "data": {
      "text/plain": [
       "cell_assignment\n",
       "        B cell     dual-label failed BCR/TCR         T cell        unknown \n",
       "          1886             38            355           1545            917 "
      ]
     },
     "metadata": {},
     "output_type": "display_data"
    }
   ],
   "source": [
    "table(cell_assignment)"
   ]
  },
  {
   "cell_type": "code",
   "execution_count": null,
   "metadata": {
    "collapsed": true
   },
   "outputs": [],
   "source": []
  }
 ],
 "metadata": {
  "anaconda-cloud": {},
  "kernelspec": {
   "display_name": "R",
   "language": "R",
   "name": "ir"
  },
  "language_info": {
   "codemirror_mode": "r",
   "file_extension": ".r",
   "mimetype": "text/x-r-source",
   "name": "R",
   "pygments_lexer": "r",
   "version": "3.4.4"
  }
 },
 "nbformat": 4,
 "nbformat_minor": 0
}
