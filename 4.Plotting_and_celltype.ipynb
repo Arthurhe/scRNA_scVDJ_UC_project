{
 "cells": [
  {
   "cell_type": "code",
   "execution_count": null,
   "metadata": {
    "collapsed": false
   },
   "outputs": [],
   "source": [
    "suppressMessages(require(ggplot2))\n",
    "suppressMessages(require(data.table))\n",
    "suppressMessages(require(gplots))\n",
    "suppressMessages(require(Seurat))\n",
    "suppressMessages(require(Matrix))\n",
    "suppressMessages(require(reshape))\n",
    "suppressMessages(require(scales))\n",
    "suppressMessages(require(feather))\n",
    "suppressMessages(require(ggpubr))\n",
    "source(\"VDJ_ploting_suite.R\")\n",
    "source(\"VDJ_function_pack.R\")"
   ]
  },
  {
   "cell_type": "code",
   "execution_count": 2,
   "metadata": {
    "collapsed": true
   },
   "outputs": [],
   "source": [
    "DICE=readDICE()"
   ]
  },
  {
   "cell_type": "code",
   "execution_count": 3,
   "metadata": {
    "collapsed": false
   },
   "outputs": [
    {
     "data": {
      "text/html": [
       "<table>\n",
       "<thead><tr><th></th><th scope=col>1</th><th scope=col>2</th><th scope=col>3</th><th scope=col>4</th><th scope=col>5</th></tr></thead>\n",
       "<tbody>\n",
       "\t<tr><th scope=row>ENSG00000000003.10</th><td>  0.6520858</td><td> 0.6485091 </td><td> 0.6432881 </td><td> 0.5850102 </td><td> 0.5567957 </td></tr>\n",
       "\t<tr><th scope=row>ENSG00000000005.5</th><td>  0.0000000</td><td> 0.0000000 </td><td> 0.0000000 </td><td> 0.0000000 </td><td> 0.0000000 </td></tr>\n",
       "\t<tr><th scope=row>ENSG00000000419.8</th><td>101.9027851</td><td>93.7444707 </td><td>89.5815568 </td><td>88.6190966 </td><td>86.1562550 </td></tr>\n",
       "\t<tr><th scope=row>ENSG00000000457.9</th><td> 56.2477033</td><td>53.6127964 </td><td>52.6253703 </td><td>52.5552798 </td><td>51.7036566 </td></tr>\n",
       "\t<tr><th scope=row>ENSG00000000460.12</th><td> 12.0546116</td><td>11.9703768 </td><td>11.8331535 </td><td>11.8109522 </td><td>11.5378537 </td></tr>\n",
       "</tbody>\n",
       "</table>\n"
      ],
      "text/latex": [
       "\\begin{tabular}{r|lllll}\n",
       "  & 1 & 2 & 3 & 4 & 5\\\\\n",
       "\\hline\n",
       "\tENSG00000000003.10 &   0.6520858 &  0.6485091  &  0.6432881  &  0.5850102  &  0.5567957 \\\\\n",
       "\tENSG00000000005.5 &   0.0000000 &  0.0000000  &  0.0000000  &  0.0000000  &  0.0000000 \\\\\n",
       "\tENSG00000000419.8 & 101.9027851 & 93.7444707  & 89.5815568  & 88.6190966  & 86.1562550 \\\\\n",
       "\tENSG00000000457.9 &  56.2477033 & 53.6127964  & 52.6253703  & 52.5552798  & 51.7036566 \\\\\n",
       "\tENSG00000000460.12 &  12.0546116 & 11.9703768  & 11.8331535  & 11.8109522  & 11.5378537 \\\\\n",
       "\\end{tabular}\n"
      ],
      "text/markdown": [
       "\n",
       "| <!--/--> | 1 | 2 | 3 | 4 | 5 | \n",
       "|---|---|---|---|---|\n",
       "| ENSG00000000003.10 |   0.6520858 |  0.6485091  |  0.6432881  |  0.5850102  |  0.5567957  | \n",
       "| ENSG00000000005.5 |   0.0000000 |  0.0000000  |  0.0000000  |  0.0000000  |  0.0000000  | \n",
       "| ENSG00000000419.8 | 101.9027851 | 93.7444707  | 89.5815568  | 88.6190966  | 86.1562550  | \n",
       "| ENSG00000000457.9 |  56.2477033 | 53.6127964  | 52.6253703  | 52.5552798  | 51.7036566  | \n",
       "| ENSG00000000460.12 |  12.0546116 | 11.9703768  | 11.8331535  | 11.8109522  | 11.5378537  | \n",
       "\n",
       "\n"
      ],
      "text/plain": [
       "                   1           2          3          4          5         \n",
       "ENSG00000000003.10   0.6520858  0.6485091  0.6432881  0.5850102  0.5567957\n",
       "ENSG00000000005.5    0.0000000  0.0000000  0.0000000  0.0000000  0.0000000\n",
       "ENSG00000000419.8  101.9027851 93.7444707 89.5815568 88.6190966 86.1562550\n",
       "ENSG00000000457.9   56.2477033 53.6127964 52.6253703 52.5552798 51.7036566\n",
       "ENSG00000000460.12  12.0546116 11.9703768 11.8331535 11.8109522 11.5378537"
      ]
     },
     "metadata": {},
     "output_type": "display_data"
    }
   ],
   "source": [
    "DICE[[1]][1:5,1:5]"
   ]
  },
  {
   "cell_type": "code",
   "execution_count": 2,
   "metadata": {
    "collapsed": true
   },
   "outputs": [],
   "source": [
    "load(\"180607_RUVscale_R2.Rdata\")\n",
    "#load(\"abgdTcell_labeling.Rdata\")"
   ]
  },
  {
   "cell_type": "code",
   "execution_count": 6,
   "metadata": {
    "collapsed": false
   },
   "outputs": [
    {
     "data": {
      "text/html": [
       "<ol class=list-inline>\n",
       "\t<li>'abgdTcells'</li>\n",
       "\t<li>'abTcells'</li>\n",
       "\t<li>'BCR_annoation'</li>\n",
       "\t<li>'BCR_annoation_w'</li>\n",
       "\t<li>'cell_assignment_gps'</li>\n",
       "\t<li>'ExpressionMat_by_gp'</li>\n",
       "\t<li>'ExpressionMat_magic'</li>\n",
       "\t<li>'Exp_Seurat'</li>\n",
       "\t<li>'gdTcells'</li>\n",
       "\t<li>'HVG'</li>\n",
       "\t<li>'patient_type'</li>\n",
       "\t<li>'sample_list'</li>\n",
       "\t<li>'t2g'</li>\n",
       "\t<li>'taggene_hk'</li>\n",
       "\t<li>'taggene_mt'</li>\n",
       "\t<li>'TCR_annoation'</li>\n",
       "\t<li>'TCR_annoation_w'</li>\n",
       "\t<li>'tissue_type'</li>\n",
       "</ol>\n"
      ],
      "text/latex": [
       "\\begin{enumerate*}\n",
       "\\item 'abgdTcells'\n",
       "\\item 'abTcells'\n",
       "\\item 'BCR\\_annoation'\n",
       "\\item 'BCR\\_annoation\\_w'\n",
       "\\item 'cell\\_assignment\\_gps'\n",
       "\\item 'ExpressionMat\\_by\\_gp'\n",
       "\\item 'ExpressionMat\\_magic'\n",
       "\\item 'Exp\\_Seurat'\n",
       "\\item 'gdTcells'\n",
       "\\item 'HVG'\n",
       "\\item 'patient\\_type'\n",
       "\\item 'sample\\_list'\n",
       "\\item 't2g'\n",
       "\\item 'taggene\\_hk'\n",
       "\\item 'taggene\\_mt'\n",
       "\\item 'TCR\\_annoation'\n",
       "\\item 'TCR\\_annoation\\_w'\n",
       "\\item 'tissue\\_type'\n",
       "\\end{enumerate*}\n"
      ],
      "text/markdown": [
       "1. 'abgdTcells'\n",
       "2. 'abTcells'\n",
       "3. 'BCR_annoation'\n",
       "4. 'BCR_annoation_w'\n",
       "5. 'cell_assignment_gps'\n",
       "6. 'ExpressionMat_by_gp'\n",
       "7. 'ExpressionMat_magic'\n",
       "8. 'Exp_Seurat'\n",
       "9. 'gdTcells'\n",
       "10. 'HVG'\n",
       "11. 'patient_type'\n",
       "12. 'sample_list'\n",
       "13. 't2g'\n",
       "14. 'taggene_hk'\n",
       "15. 'taggene_mt'\n",
       "16. 'TCR_annoation'\n",
       "17. 'TCR_annoation_w'\n",
       "18. 'tissue_type'\n",
       "\n",
       "\n"
      ],
      "text/plain": [
       " [1] \"abgdTcells\"          \"abTcells\"            \"BCR_annoation\"      \n",
       " [4] \"BCR_annoation_w\"     \"cell_assignment_gps\" \"ExpressionMat_by_gp\"\n",
       " [7] \"ExpressionMat_magic\" \"Exp_Seurat\"          \"gdTcells\"           \n",
       "[10] \"HVG\"                 \"patient_type\"        \"sample_list\"        \n",
       "[13] \"t2g\"                 \"taggene_hk\"          \"taggene_mt\"         \n",
       "[16] \"TCR_annoation\"       \"TCR_annoation_w\"     \"tissue_type\"        "
      ]
     },
     "metadata": {},
     "output_type": "display_data"
    }
   ],
   "source": [
    "ExpressionMat_magic=readRDS(\"180607_RUVscale_magic.rds\")\n",
    "ExpressionMat_by_gp=readRDS(file=\"ExpressionMat_by_gp.Rds\")\n",
    "\n",
    "lsnofun()"
   ]
  },
  {
   "cell_type": "code",
   "execution_count": 7,
   "metadata": {
    "collapsed": false
   },
   "outputs": [],
   "source": [
    "sample_cell_num=table(Exp_Seurat@meta.data$sample_gp)\n",
    "names(sample_cell_num)=sample_list[as.numeric(names(sample_cell_num))]\n",
    "saveRDS(sample_cell_num,file=\"sample_cell_num.rds\")"
   ]
  },
  {
   "cell_type": "markdown",
   "metadata": {},
   "source": [
    "### test scanoR"
   ]
  },
  {
   "cell_type": "code",
   "execution_count": 3,
   "metadata": {
    "collapsed": true
   },
   "outputs": [],
   "source": [
    "Mtx=\"scanoR_test.feather\"\n",
    "meta=\"scanoR_test_metadata.feather\"\n",
    "out=\"scanoR_test_out.feather\""
   ]
  },
  {
   "cell_type": "code",
   "execution_count": 4,
   "metadata": {
    "collapsed": false
   },
   "outputs": [],
   "source": [
    "R2norm=t(apply(Exp_Seurat@raw.data,2,function(x){x/sqrt(sum(x^2))*100}))\n",
    "write_feather(as.data.frame(R2norm), Mtx)\n",
    "write_feather(Exp_Seurat@meta.data[,c(\"nGene\",\"nUMI\",\"sample_gp\")], meta)"
   ]
  },
  {
   "cell_type": "code",
   "execution_count": 5,
   "metadata": {
    "collapsed": false
   },
   "outputs": [
    {
     "data": {
      "text/html": [
       "'source activate py35_scanorama'"
      ],
      "text/latex": [
       "'source activate py35\\_scanorama'"
      ],
      "text/markdown": [
       "'source activate py35_scanorama'"
      ],
      "text/plain": [
       "[1] \"source activate py35_scanorama\""
      ]
     },
     "metadata": {},
     "output_type": "display_data"
    },
    {
     "data": {
      "text/html": [
       "'python ~/pycharmProject/scanoR/scanoR/scanoR.py --mtx /home/ahe/Analysis/201801_JohnVDJ/analysis/scanoR_test.feather --meta /home/ahe/Analysis/201801_JohnVDJ/analysis/scanoR_test_metadata.feather --out /home/ahe/Analysis/201801_JohnVDJ/analysis/scanoR_test_out.feather'"
      ],
      "text/latex": [
       "'python \\textasciitilde{}/pycharmProject/scanoR/scanoR/scanoR.py --mtx /home/ahe/Analysis/201801\\_JohnVDJ/analysis/scanoR\\_test.feather --meta /home/ahe/Analysis/201801\\_JohnVDJ/analysis/scanoR\\_test\\_metadata.feather --out /home/ahe/Analysis/201801\\_JohnVDJ/analysis/scanoR\\_test\\_out.feather'"
      ],
      "text/markdown": [
       "'python ~/pycharmProject/scanoR/scanoR/scanoR.py --mtx /home/ahe/Analysis/201801_JohnVDJ/analysis/scanoR_test.feather --meta /home/ahe/Analysis/201801_JohnVDJ/analysis/scanoR_test_metadata.feather --out /home/ahe/Analysis/201801_JohnVDJ/analysis/scanoR_test_out.feather'"
      ],
      "text/plain": [
       "[1] \"python ~/pycharmProject/scanoR/scanoR/scanoR.py --mtx /home/ahe/Analysis/201801_JohnVDJ/analysis/scanoR_test.feather --meta /home/ahe/Analysis/201801_JohnVDJ/analysis/scanoR_test_metadata.feather --out /home/ahe/Analysis/201801_JohnVDJ/analysis/scanoR_test_out.feather\""
      ]
     },
     "metadata": {},
     "output_type": "display_data"
    }
   ],
   "source": [
    "#Shell:\n",
    "paste0(\"source activate py35_scanorama\")\n",
    "paste0(\"python ~/pycharmProject/scanoR/scanoR/scanoR.py --mtx \",getwd(),\"/\",Mtx,\" --meta \",getwd(),\"/\",meta,\" --out \",getwd(),\"/\",out)"
   ]
  },
  {
   "cell_type": "code",
   "execution_count": null,
   "metadata": {
    "collapsed": true
   },
   "outputs": [],
   "source": [
    "ExpressionMat_MNN = data.matrix(read_feather(out))\n",
    "\n",
    "Exp_Seurat_MNN=Exp_Seurat\n",
    "Exp_Seurat_MNN@data=apply(Exp_Seurat@raw.data,2,function(x){x/sqrt(sum(x^2))})\n",
    "Exp_Seurat_MNN@scale.data=t(ExpressionMat_MNN)\n",
    "Exp_Seurat_MNN@scale.data=Exp_Seurat_MNN@scale.data[match(rownames(Exp_Seurat_MNN@data),rownames(Exp_Seurat_MNN@scale.data)),]\n",
    "Exp_Seurat_MNN <- FindVariableGenes(Exp_Seurat_MNN, do.plot = F)\n",
    "HVG <- head(rownames(Exp_Seurat_MNN@hvg.info), 5000)\n",
    "Exp_Seurat_MNN <- RunPCA(object = Exp_Seurat_MNN,pc.genes = HVG[1:3000], pcs.compute = 100,do.print = F)\n",
    "#add a small perturbation\n",
    "perturb=rnorm(ncol(Exp_Seurat_MNN@data),mean=0,sd=min(abs(Exp_Seurat_MNN@dr$pca@cell.embeddings))/10)\n",
    "Exp_Seurat_MNN@dr$pca@cell.embeddings[,1]=Exp_Seurat_MNN@dr$pca@cell.embeddings[,1]+perturb\n",
    "rtsne_out=Rtsne::Rtsne(Exp_Seurat_MNN@dr$pca@cell.embeddings[,1:25],pca=F)\n",
    "\n",
    "Exp_Seurat_MNN@dr$tsne@cell.embeddings=rtsne_out$Y\n",
    "Exp_Seurat_MNN=umap_seurat(Exp_Seurat_MNN,pca_dim=25)"
   ]
  },
  {
   "cell_type": "markdown",
   "metadata": {},
   "source": [
    "## cell type analysis"
   ]
  },
  {
   "cell_type": "code",
   "execution_count": 3,
   "metadata": {
    "collapsed": false
   },
   "outputs": [
    {
     "name": "stderr",
     "output_type": "stream",
     "text": [
      "1 singletons identified. 24 final clusters.\n"
     ]
    }
   ],
   "source": [
    "#re cluster \n",
    "#not necessary\n",
    "#Exp_Seurat <- FindClusters(object = Exp_Seurat, resolution = 1.2, print.output = F, reuse.SNN = TRUE)"
   ]
  },
  {
   "cell_type": "code",
   "execution_count": 7,
   "metadata": {
    "collapsed": false
   },
   "outputs": [],
   "source": [
    "#filter unwanted groups\n",
    "ExpressionMat_magic=ExpressionMat_magic[!Exp_Seurat@ident %in% c(\"20\",\"21\"),]\n",
    "Exp_Seurat = filter_ident(Exp_Seurat,c(\"20\",\"21\"))"
   ]
  },
  {
   "cell_type": "code",
   "execution_count": 24,
   "metadata": {
    "collapsed": false
   },
   "outputs": [
    {
     "name": "stderr",
     "output_type": "stream",
     "text": [
      "Loading required package: scMCA\n",
      "Warning message:\n",
      "“replacing previous import ‘shiny::dataTableOutput’ by ‘DT::dataTableOutput’ when loading ‘scMCA’”Warning message:\n",
      "“replacing previous import ‘shiny::renderDataTable’ by ‘DT::renderDataTable’ when loading ‘scMCA’”"
     ]
    }
   ],
   "source": [
    "require(scMCA)\n",
    "rownames(Exp_Seurat@data)=firstup(rownames(Exp_Seurat@data))\n",
    "\n",
    "mca_result <- scMCA(scdata = Exp_Seurat@data, numbers_plot = 3)\n",
    "saveRDS(mca_result,file=\"mca_result_filteredUnwatedGps.Rds\")\n",
    "rownames(Exp_Seurat@data)=toupper(rownames(Exp_Seurat@data))"
   ]
  },
  {
   "cell_type": "code",
   "execution_count": null,
   "metadata": {
    "collapsed": false
   },
   "outputs": [],
   "source": [
    "mca_result=readRDS(\"mca_result_filteredUnwatedGps.Rds\")\n",
    "new_mca_result=scMCA_celltype_conversion_filtering(\"scMCA_celltype_conversion.txt\",mca_result,min_cellnumber = 10)"
   ]
  },
  {
   "cell_type": "code",
   "execution_count": 2,
   "metadata": {
    "collapsed": false
   },
   "outputs": [],
   "source": [
    "#find marker gene, Seurat\n",
    "#marker_genes=FindAllMarkers(object = Exp_Seurat, only.pos = TRUE, min.pct = 0.25, thresh.use = 0.25)\n",
    "#saveRDS(marker_genes, \"markerGenes_180607_RUVscale.rds\")\n",
    "marker_genes=readRDS(\"markerGenes_180607_RUVscale.rds\")"
   ]
  },
  {
   "cell_type": "code",
   "execution_count": 3,
   "metadata": {
    "collapsed": false
   },
   "outputs": [],
   "source": [
    "#cell cyle score\n",
    "# not necessary\n",
    "Exp_Seurat=cellcycle_assigning(Exp_Seurat,cycle_gene_list=\"~/Analysis/genomeFiles/regev_lab_cell_cycle_genes.txt\")"
   ]
  },
  {
   "cell_type": "code",
   "execution_count": 8,
   "metadata": {
    "collapsed": false
   },
   "outputs": [],
   "source": [
    "celltype_assignment_df=data.frame(cluster=c(\"17,16\",\"8,2\",\"13,5\",\"6,0\",\"7,10\",\"11,1\",\"3\",\"18,12,9,19\",\"4,14,15\"), #,\"21,20\"\n",
    "                                  celltype=c(\"Naive_B\",\"Memory_B\",\"Plasma\",\"NKT\",\"CD8\",\"CD4\",\"gdT\",\"NK\",\"M/DC\"), #,\"unknown\"\n",
    "                                  stringsAsFactors=F)\n",
    "\n",
    "celltype_assignment_expanded=cellTypeDF_processing(celltype_assignment_df)\n",
    "\n",
    "celltype_assignment=gp_name_replacing(as.character(Exp_Seurat@ident),celltype_assignment_expanded$cluster,celltype_assignment_expanded$celltype)\n",
    "subcelltype_assignment=gp_name_replacing(as.character(Exp_Seurat@ident),celltype_assignment_expanded$cluster,celltype_assignment_expanded$subcelltype)\n",
    "majorcelltype_assignment=gp_name_replacing(celltype_assignment,\n",
    "                                           c(\"Naive_B\",\"Memory_B\",\"Plasma\",\"NKT\",\"CD8\",\"CD4\",\"gdT\"),\n",
    "                                           c(\"B\",\"B\",\"B\",\"T\",\"T\",\"T\",\"T\"))"
   ]
  },
  {
   "cell_type": "code",
   "execution_count": 8,
   "metadata": {
    "collapsed": false
   },
   "outputs": [
    {
     "data": {},
     "metadata": {},
     "output_type": "display_data"
    }
   ],
   "source": [
    "#contrust matrix, each row is a state\n",
    "ExpressionMat_by_gp=cbind(Exp_Seurat@ident,2^t(Exp_Seurat@data))\n",
    "colnames(ExpressionMat_by_gp)[1]=\"states\"\n",
    "tagV=c(\"TRAV\",\"TRAC\",\"TRBV\",\"TRBC\",\"TRGV\",\"TRGC\",\"TRDV\",\"TRDC\",\n",
    "       \"IGHV\",\"IGHG\",\"IGHA\",\"IGHD\",\"IGHM\",\"IGHE\",\"IGLV\",\"IGLL\",\"IGKV\",\"IGLC\",\"IGKC\")\n",
    "togetrid=c(\"IGHMBP2\")\n",
    "\n",
    "tagvmat=t(Exp_Seurat@data)[,1:length(tagV)]\n",
    "colnames(tagvmat)=tagV\n",
    "\n",
    "for(i in 1:length(tagV)){\n",
    "    tagG=grep(paste0(\"^\",tagV[i]),colnames(ExpressionMat_by_gp))\n",
    "    tagG=setdiff(tagG,togetrid)\n",
    "    if(length(tagG)==0){\n",
    "        next\n",
    "    }\n",
    "    tmp=ExpressionMat_by_gp[,tagG]\n",
    "    if(!is.null(ncol(tmp))){\n",
    "        tagvmat=rowSums(tmp)\n",
    "    }\n",
    "}\n",
    "ExpressionMat_by_gp=cbind(ExpressionMat_by_gp,tagvmat)\n",
    "\n",
    "ExpressionMat_by_gp=data.table(ExpressionMat_by_gp)\n",
    "ExpressionMat_by_gp=ExpressionMat_by_gp[,lapply(.SD, mean), by=states]\n",
    "ExpressionMat_by_gp=ExpressionMat_by_gp[order(ExpressionMat_by_gp$states)]\n",
    "ExpressionMat_by_gp[,states:=NULL]\n",
    "ExpressionMat_by_gp=data.frame(ExpressionMat_by_gp)\n",
    "colnames(ExpressionMat_by_gp)=gsub(\"\\\\.\",\"-\",colnames(ExpressionMat_by_gp))\n",
    "ExpressionMat_by_gp=log2(ExpressionMat_by_gp)\n",
    "rownames(ExpressionMat_by_gp)=paste0(\"cluster_\",levels(Exp_Seurat@ident))\n",
    "write.table(t(ExpressionMat_by_gp),\"mediam_gene_expression.tsv\",sep=\"\\t\",col.names=T,row.names=T,quote=F)\n",
    "saveRDS(ExpressionMat_by_gp,file=\"ExpressionMat_by_gp_filteredUnwatedGps.Rds\")"
   ]
  },
  {
   "cell_type": "code",
   "execution_count": 9,
   "metadata": {
    "collapsed": false
   },
   "outputs": [
    {
     "data": {
      "text/html": [
       "<ol class=list-inline>\n",
       "\t<li>'IL17A'</li>\n",
       "\t<li>'RORC'</li>\n",
       "\t<li>'FLT3'</li>\n",
       "\t<li>'ZBTB46'</li>\n",
       "\t<li>'CEACAM8'</li>\n",
       "\t<li>'CLEC4C'</li>\n",
       "\t<li>'NRP1'</li>\n",
       "\t<li>'KLRC2'</li>\n",
       "\t<li>'LY6G6D'</li>\n",
       "\t<li>'TRAV'</li>\n",
       "\t<li>'TRBV'</li>\n",
       "\t<li>'TRBC'</li>\n",
       "\t<li>'TRGV'</li>\n",
       "\t<li>'TRGC'</li>\n",
       "\t<li>'TRDV'</li>\n",
       "\t<li>'IGHV'</li>\n",
       "\t<li>'IGHG'</li>\n",
       "\t<li>'IGHA'</li>\n",
       "\t<li>'IGHE'</li>\n",
       "\t<li>'IGLV'</li>\n",
       "\t<li>'IGLL'</li>\n",
       "\t<li>'IGKV'</li>\n",
       "\t<li>'IGLC'</li>\n",
       "</ol>\n"
      ],
      "text/latex": [
       "\\begin{enumerate*}\n",
       "\\item 'IL17A'\n",
       "\\item 'RORC'\n",
       "\\item 'FLT3'\n",
       "\\item 'ZBTB46'\n",
       "\\item 'CEACAM8'\n",
       "\\item 'CLEC4C'\n",
       "\\item 'NRP1'\n",
       "\\item 'KLRC2'\n",
       "\\item 'LY6G6D'\n",
       "\\item 'TRAV'\n",
       "\\item 'TRBV'\n",
       "\\item 'TRBC'\n",
       "\\item 'TRGV'\n",
       "\\item 'TRGC'\n",
       "\\item 'TRDV'\n",
       "\\item 'IGHV'\n",
       "\\item 'IGHG'\n",
       "\\item 'IGHA'\n",
       "\\item 'IGHE'\n",
       "\\item 'IGLV'\n",
       "\\item 'IGLL'\n",
       "\\item 'IGKV'\n",
       "\\item 'IGLC'\n",
       "\\end{enumerate*}\n"
      ],
      "text/markdown": [
       "1. 'IL17A'\n",
       "2. 'RORC'\n",
       "3. 'FLT3'\n",
       "4. 'ZBTB46'\n",
       "5. 'CEACAM8'\n",
       "6. 'CLEC4C'\n",
       "7. 'NRP1'\n",
       "8. 'KLRC2'\n",
       "9. 'LY6G6D'\n",
       "10. 'TRAV'\n",
       "11. 'TRBV'\n",
       "12. 'TRBC'\n",
       "13. 'TRGV'\n",
       "14. 'TRGC'\n",
       "15. 'TRDV'\n",
       "16. 'IGHV'\n",
       "17. 'IGHG'\n",
       "18. 'IGHA'\n",
       "19. 'IGHE'\n",
       "20. 'IGLV'\n",
       "21. 'IGLL'\n",
       "22. 'IGKV'\n",
       "23. 'IGLC'\n",
       "\n",
       "\n"
      ],
      "text/plain": [
       " [1] \"IL17A\"   \"RORC\"    \"FLT3\"    \"ZBTB46\"  \"CEACAM8\" \"CLEC4C\"  \"NRP1\"   \n",
       " [8] \"KLRC2\"   \"LY6G6D\"  \"TRAV\"    \"TRBV\"    \"TRBC\"    \"TRGV\"    \"TRGC\"   \n",
       "[15] \"TRDV\"    \"IGHV\"    \"IGHG\"    \"IGHA\"    \"IGHE\"    \"IGLV\"    \"IGLL\"   \n",
       "[22] \"IGKV\"    \"IGLC\"   "
      ]
     },
     "metadata": {},
     "output_type": "display_data"
    }
   ],
   "source": [
    "ExpressionMat_by_gp=readRDS(\"ExpressionMat_by_gp_filteredUnwatedGps.Rds\")\n",
    "\n",
    "taggene=c(\"Cd3d\",\"Cd3e\",\"Cd3g\",\"CD8A\",\"CD8B\",\"CD4\",\"NCAM1\",\"TBX21\",\"IFNG\",\"GATA3\",\n",
    "          \"IL17A\",\"RORC\",\"CXCR5\",\"BCL6\",\"PDCD1\",\"FOXP3\",\"FCER2\",\"ZBTB7B\",\"RUNX3\",\n",
    "          \"CD14\",\"ITGAM\",\"CEBPA\",\"CEBPB\",\"SPI1\",\"FLT3\",\"ITGAX\",\"ZBTB46\",\"CEACAM8\",\"ZBTB10\",\n",
    "          \"IL3RA\",\"CLEC4C\",\"NRP1\",\"NKG7\",\"KLRC1\",\"KLRC2\",\"KLRC3\",\"KLRB1\",\"Ly6G6D\",\"Adgre1\",\n",
    "          \"CD19\",\"SDC1\",\"MS4A1\",\"CD38\",\"CD27\",\"TNFRSF13C\",\"CD84\",\"CD86\",\"CD24\",\n",
    "          \"TRAV\",\"TRAC\",\"TRBV\",\"TRBC\",\"TRGV\",\"TRGC\",\"TRDV\",\"TRDC\",\"CR2\",\"CD22\",\n",
    "          \"IGHV\",\"IGHG\",\"IGHA\",\"IGHD\",\"IGHM\",\"IGHE\",\"IGLV\",\"IGLL\",\"IGKV\",\"IGLC\",\"IGKC\")\n",
    "\n",
    "#taggene=c(\"Cd3d\",\"Cd3e\",\"Cd3g\",\"CD8A\",\"CD8B\",\"CD4\",\"ZBTB7B\",\"RUNX3\",\"TBX21\",\"IFNG\",\"GATA3\",\"TRAV\",\"TRAC\",\"TRBV\",\"TRBC\",\"TRGV\",\"TRGC\",\"TRDV\",\"TRDC\",\n",
    "#          \"IL17A\",\"RORC\",\"CXCR5\",\"BCL6\",\"PDCD1\",\"FOXP3\",'KLRG1',\"BATF\",\"IRF4\",\"CD44\",\"SELL\",\"CCR7\",\"TBX21\")\n",
    "\n",
    "taggene=toupper(taggene)\n",
    "tagExpressionNormed=ExpressionMat_by_gp[,which(colnames(ExpressionMat_by_gp) %in% taggene)]\n",
    "#tagExpressionNormed=tagExpressionNormed[,order(colnames(tagExpressionNormed))]\n",
    "taggene[!taggene %in% colnames(ExpressionMat_by_gp)]\n",
    "\n",
    "rownames(tagExpressionNormed)=celltype_assignment_expanded$subcelltype[order(as.numeric(celltype_assignment_expanded$cluster))]"
   ]
  },
  {
   "cell_type": "code",
   "execution_count": 16,
   "metadata": {
    "collapsed": false
   },
   "outputs": [
    {
     "data": {
      "text/html": [
       "<strong>png:</strong> 2"
      ],
      "text/latex": [
       "\\textbf{png:} 2"
      ],
      "text/markdown": [
       "**png:** 2"
      ],
      "text/plain": [
       "png \n",
       "  2 "
      ]
     },
     "metadata": {},
     "output_type": "display_data"
    }
   ],
   "source": [
    "#options(repr.plot.width=10, repr.plot.height=8)\n",
    "pdf(\"celltype_markergene_heatmap.pdf\",width=10,height=8)\n",
    "col2=rev(RColorBrewer::brewer.pal(9,\"RdBu\"))\n",
    "heatmap.2(scale(tagExpressionNormed),col=colorRampPalette(col2),\n",
    "          trace=\"none\",density.info=\"none\",dendrogram='none',Colv=T,Rowv=T,notecol=\"black\",key=T,lhei=c(1,5),lwid=c(1,5),\n",
    "          main=paste0(\"cell assignment vs. marker gene\"),key.title=\"\",key.xlab=\"\",margins=c(5,6))\n",
    "#,labRow=celltype_assignment_expanded$subcelltype[order(as.numeric(celltype_assignment_expanded$cluster))]\n",
    "dev.off()"
   ]
  },
  {
   "cell_type": "code",
   "execution_count": 10,
   "metadata": {
    "collapsed": false
   },
   "outputs": [
    {
     "data": {
      "text/html": [
       "<strong>png:</strong> 2"
      ],
      "text/latex": [
       "\\textbf{png:} 2"
      ],
      "text/markdown": [
       "**png:** 2"
      ],
      "text/plain": [
       "png \n",
       "  2 "
      ]
     },
     "metadata": {},
     "output_type": "display_data"
    }
   ],
   "source": [
    "#require(repr)\n",
    "#options(repr.plot.width=18, repr.plot.height=15)\n",
    "pdf(\"TSNE_mito.pdf\",width=18,height=15)\n",
    "par(mfrow=c(3,3))\n",
    "plotByGroup(Exp_Seurat,sample_list[Exp_Seurat@meta.data$sample_gp],Group_type=sample_list,Addtext=F,main=\"Batch\")\n",
    "plotByGroup(Exp_Seurat,tissue_type[Exp_Seurat@meta.data$tissue_assignment],Group_type=tissue_type,Addtext=F,main=\"Tissue\")\n",
    "plotByGroup(Exp_Seurat,patient_type[Exp_Seurat@meta.data$patient_assignment],Group_type=patient_type,Addtext=F,main=\"Patient\")\n",
    "plotByGroup(Exp_Seurat,Exp_Seurat@meta.data$cell_assignment,Addtext=F,main=\"BT assigned by VDJ\")\n",
    "plotByGroup(Exp_Seurat,new_mca_result$scMCA,Group_type = new_mca_result$celltype_list,Addtext=T,main=\"scMCA\")\n",
    "plotByGroup(Exp_Seurat,majorcelltype_assignment,Group_type = c(\"B\",\"T\",\"NK\",\"M/DC\"),Addtext=T,main=\"manual assignment\\nmajor\")\n",
    "plotByGroup(Exp_Seurat,celltype_assignment,Group_type = unique(celltype_assignment_expanded$celltype),Addtext=T,main=\"manual assignment\")\n",
    "plotByGroup(Exp_Seurat,subcelltype_assignment,Group_type = celltype_assignment_expanded$subcelltype,Addtext=T,main=\"manual assignment\")\n",
    "plotByGroup(Exp_Seurat,c(\"healthy\",\"disease\")[Exp_Seurat@meta.data$disease_assignment],Group_type = c(\"disease\",\"healthy\"),Addtext=F,main=\"disease\")\n",
    "dev.off()"
   ]
  },
  {
   "cell_type": "code",
   "execution_count": 7,
   "metadata": {
    "collapsed": false
   },
   "outputs": [
    {
     "data": {
      "text/html": [
       "<strong>png:</strong> 2"
      ],
      "text/latex": [
       "\\textbf{png:} 2"
      ],
      "text/markdown": [
       "**png:** 2"
      ],
      "text/plain": [
       "png \n",
       "  2 "
      ]
     },
     "metadata": {},
     "output_type": "display_data"
    },
    {
     "data": {
      "text/html": [
       "<strong>png:</strong> 2"
      ],
      "text/latex": [
       "\\textbf{png:} 2"
      ],
      "text/markdown": [
       "**png:** 2"
      ],
      "text/plain": [
       "png \n",
       "  2 "
      ]
     },
     "metadata": {},
     "output_type": "display_data"
    }
   ],
   "source": [
    "pdf(\"TSNE_mito_byManual.pdf\",width=16,height=16)\n",
    "par(mfrow=c(4,4))\n",
    "plotByGroup_1by1(Exp_Seurat,Group_assignment=subcelltype_assignment,Group_type = celltype_assignment_expanded$subcelltype)\n",
    "dev.off()\n",
    "\n",
    "pdf(\"TSNE_mito_bySCMCA.pdf\",width=16,height=16)\n",
    "par(mfrow=c(4,4))\n",
    "plotByGroup_1by1(Exp_Seurat,Group_assignment = new_mca_result$scMCA,Group_type = new_mca_result$celltype_list)\n",
    "dev.off()"
   ]
  },
  {
   "cell_type": "markdown",
   "metadata": {},
   "source": [
    "#### cell percentage of each cell type in tissue/patient/disease_status"
   ]
  },
  {
   "cell_type": "code",
   "execution_count": 19,
   "metadata": {
    "collapsed": false
   },
   "outputs": [
    {
     "data": {},
     "metadata": {},
     "output_type": "display_data"
    },
    {
     "data": {},
     "metadata": {},
     "output_type": "display_data"
    },
    {
     "data": {
      "text/html": [
       "<strong>png:</strong> 2"
      ],
      "text/latex": [
       "\\textbf{png:} 2"
      ],
      "text/markdown": [
       "**png:** 2"
      ],
      "text/plain": [
       "png \n",
       "  2 "
      ]
     },
     "metadata": {},
     "output_type": "display_data"
    },
    {
     "data": {},
     "metadata": {},
     "output_type": "display_data"
    },
    {
     "data": {},
     "metadata": {},
     "output_type": "display_data"
    },
    {
     "data": {
      "text/html": [
       "<strong>png:</strong> 2"
      ],
      "text/latex": [
       "\\textbf{png:} 2"
      ],
      "text/markdown": [
       "**png:** 2"
      ],
      "text/plain": [
       "png \n",
       "  2 "
      ]
     },
     "metadata": {},
     "output_type": "display_data"
    }
   ],
   "source": [
    "tmp=table(majorcelltype_assignment,Exp_Seurat@meta.data$sample_gp)\n",
    "tmp_rownames=rownames(tmp)\n",
    "colnames(tmp)=sample_list[as.numeric(colnames(tmp))]\n",
    "tmp=data.table(as.data.frame.matrix(tmp))\n",
    "tmp_percent_by_all=data.table(apply(tmp,2,function(x){x/sum(x)}))\n",
    "tmp$majorcelltype=tmp_rownames\n",
    "tmp_percent_by_all$majorcelltype=tmp_rownames\n",
    "\n",
    "tmp=melt(tmp, id.vars = \"majorcelltype\",measure.vars = setdiff(colnames(tmp),\"majorcelltype\"),\n",
    "         variable.name=\"batch\",value.name=\"count\")\n",
    "tmp_percent_by_all=melt(tmp_percent_by_all, id.vars = \"majorcelltype\",measure.vars = setdiff(colnames(tmp_percent_by_all),\"majorcelltype\"),\n",
    "         variable.name=\"batch\",value.name=\"percent\")\n",
    "tmp$percent=tmp_percent_by_all$percent\n",
    "tmp$patient=gsub(\"_.*\",\"\",tmp$batch)\n",
    "tmp$tissue=gsub(\"^.*_\",\"\",tmp$batch)\n",
    "tmp$disease_status=gp_name_replacing(substr(tmp$batch, 1, 1),c(\"C\",\"U\"),c(\"Healthy\",\"IBD\"))\n",
    "tmp=data.frame(tmp)\n",
    "\n",
    "pdf(\"major cell type distribution.pdf\",width=12,height=5)\n",
    "coltouse=RColorBrewer::brewer.pal(4,\"Set1\")\n",
    "#options(repr.plot.width=12, repr.plot.height=5)\n",
    "ggplot() +\n",
    "geom_bar(aes(y = count, x = patient, fill = factor(majorcelltype,levels=c(\"B\",\"T\",\"NK\",\"M/DC\"))), data = tmp,stat=\"identity\",position = \"stack\") +\n",
    "scale_y_continuous() +\n",
    "theme(axis.text.x = element_text(angle = 60, hjust = 1)) +\n",
    "facet_grid( ~ tissue,scales=\"free_x\", space=\"free_x\") + \n",
    "ggtitle(\"\") + labs(y = \"count of cells in given batch\",fill='major cell types') + \n",
    "scale_fill_manual(\"legend\", values = coltouse)\n",
    "\n",
    "ggplot() +\n",
    "geom_bar(aes(y = count, x = patient, fill = factor(majorcelltype,levels=c(\"B\",\"T\",\"NK\",\"M/DC\"))), data = tmp,stat=\"identity\",position = \"fill\") +\n",
    "scale_y_continuous(labels = percent_format()) +\n",
    "theme(axis.text.x = element_text(angle = 60, hjust = 1)) +\n",
    "facet_grid( ~ tissue,scales=\"free_x\", space=\"free_x\") + \n",
    "ggtitle(\"\") + labs(y = \"pecentage of cells in given batch\",fill='major cell types') + \n",
    "scale_fill_manual(\"legend\", values = coltouse)\n",
    "dev.off()\n",
    "\n",
    "# define the summary function\n",
    "f <- function(x) {\n",
    "  r <- quantile(x, probs = c(0.1, 0.25, 0.5, 0.75, 0.9))\n",
    "  names(r) <- c(\"ymin\", \"lower\", \"middle\", \"upper\", \"ymax\")\n",
    "  r\n",
    "}\n",
    "\n",
    "o <- function(x) {\n",
    "  subset(x, x < quantile(x)[2] | quantile(x)[4] < x)\n",
    "}\n",
    "\n",
    "coltouse=RColorBrewer::brewer.pal(3,\"Set1\")\n",
    "\n",
    "options(warn=-1) #turn off warning\n",
    "pdf(paste0(\"healthy vs IBD in major cell type.pdf\"),width=8,height=14)\n",
    "coltouse=RColorBrewer::brewer.pal(4,\"Set1\")\n",
    "ggplot(tmp, aes(x=disease_status, y=count, fill=disease_status)) + \n",
    "facet_wrap( ~ tissue + majorcelltype,scales=\"free\",nrow=3,labeller = label_wrap_gen(multi_line=FALSE)) + \n",
    "stat_summary(fun.data=f, geom=\"boxplot\") +\n",
    "stat_summary(fun.y=o, geom=\"point\") +\n",
    "labs(y = \"count of cells in given batch\") + ggtitle(\"count\") +\n",
    "stat_compare_means(label.x = 1.5,comparisons = list(c(\"Healthy\",\"IBD\"))) + #aes(label = ..p.signif..),\n",
    "scale_fill_manual(values=coltouse[2:1])\n",
    "\n",
    "coltouse=RColorBrewer::brewer.pal(4,\"Set1\")\n",
    "ggplot(tmp, aes(x=disease_status, y=percent, fill=disease_status)) + \n",
    "facet_wrap( ~ tissue + majorcelltype,scales=\"free\",nrow=3,labeller = label_wrap_gen(multi_line=FALSE)) + \n",
    "stat_summary(fun.data=f, geom=\"boxplot\") +\n",
    "stat_summary(fun.y=o, geom=\"point\") +\n",
    "labs(y = \"pecentage of cells in given batch\") + ggtitle(\"percent by cell type\") +\n",
    "stat_compare_means(label.x = 1.5,comparisons = list(c(\"Healthy\",\"IBD\"))) + #aes(label = ..p.signif..),\n",
    "scale_fill_manual(values=coltouse[2:1])\n",
    "\n",
    "dev.off()"
   ]
  },
  {
   "cell_type": "code",
   "execution_count": 9,
   "metadata": {
    "collapsed": false
   },
   "outputs": [
    {
     "data": {
      "text/html": [
       "<strong>png:</strong> 2"
      ],
      "text/latex": [
       "\\textbf{png:} 2"
      ],
      "text/markdown": [
       "**png:** 2"
      ],
      "text/plain": [
       "png \n",
       "  2 "
      ]
     },
     "metadata": {},
     "output_type": "display_data"
    },
    {
     "data": {
      "text/html": [
       "<strong>png:</strong> 2"
      ],
      "text/latex": [
       "\\textbf{png:} 2"
      ],
      "text/markdown": [
       "**png:** 2"
      ],
      "text/plain": [
       "png \n",
       "  2 "
      ]
     },
     "metadata": {},
     "output_type": "display_data"
    },
    {
     "data": {
      "text/html": [
       "<strong>png:</strong> 2"
      ],
      "text/latex": [
       "\\textbf{png:} 2"
      ],
      "text/markdown": [
       "**png:** 2"
      ],
      "text/plain": [
       "png \n",
       "  2 "
      ]
     },
     "metadata": {},
     "output_type": "display_data"
    },
    {
     "data": {
      "text/html": [
       "<strong>png:</strong> 2"
      ],
      "text/latex": [
       "\\textbf{png:} 2"
      ],
      "text/markdown": [
       "**png:** 2"
      ],
      "text/plain": [
       "png \n",
       "  2 "
      ]
     },
     "metadata": {},
     "output_type": "display_data"
    },
    {
     "data": {
      "text/html": [
       "<strong>png:</strong> 2"
      ],
      "text/latex": [
       "\\textbf{png:} 2"
      ],
      "text/markdown": [
       "**png:** 2"
      ],
      "text/plain": [
       "png \n",
       "  2 "
      ]
     },
     "metadata": {},
     "output_type": "display_data"
    }
   ],
   "source": [
    "#options(repr.plot.width=6, repr.plot.height=8)\n",
    "col2=rev(RColorBrewer::brewer.pal(9,\"RdBu\"))\n",
    "\n",
    "clusterVsPatient=table(majorcelltype_assignment,Exp_Seurat@meta.data$patient_assignment)\n",
    "colnames(clusterVsPatient)=patient_type\n",
    "clusterVsPatient=t(apply(clusterVsPatient,1,function(x){x/sum(x)}))\n",
    "\n",
    "clusterVsTissue=table(majorcelltype_assignment,Exp_Seurat@meta.data$tissue_assignment)\n",
    "colnames(clusterVsTissue)=tissue_type\n",
    "clusterVsTissue=t(apply(clusterVsTissue,1,function(x){x/sum(x)}))\n",
    "\n",
    "clusterVsDisease=table(majorcelltype_assignment,Exp_Seurat@meta.data$disease_assignment)\n",
    "colnames(clusterVsDisease)=c(\"healthy\",\"disease\")\n",
    "clusterVsDisease=t(apply(clusterVsDisease,1,function(x){x/sum(x)}))\n",
    "\n",
    "pdf(\"celltypeVsPatient_heatmap.pdf\",width=9,height=6)\n",
    "heatmap.2(clusterVsPatient,col=colorRampPalette(col2),\n",
    "          lhei=c(1,5),lwid=c(0.1,5),margins = c(10,10),trace=\"none\",density.info=\"none\",dendrogram='col',Colv=T,Rowv=F,\n",
    "          notecol=\"black\",key=F)\n",
    "dev.off()\n",
    "\n",
    "pdf(\"celltypeVsTissue_heatmap.pdf\",width=3.5,height=6)\n",
    "heatmap.2(clusterVsTissue,col=colorRampPalette(col2),\n",
    "          lhei=c(1,5),lwid=c(0.1,5),margins = c(10,10),trace=\"none\",density.info=\"none\",dendrogram='col',Colv=T,Rowv=F,\n",
    "          notecol=\"black\",key=F)\n",
    "dev.off()\n",
    "\n",
    "pdf(\"celltypeVsDisease_heatmap.pdf\",width=3,height=6)\n",
    "heatmap.2(clusterVsDisease,col=colorRampPalette(col2),\n",
    "          lhei=c(1,5),lwid=c(0.1,5),margins = c(10,10),trace=\"none\",density.info=\"none\",dendrogram='col',Colv=T,Rowv=F,\n",
    "          notecol=\"black\",key=F)\n",
    "dev.off()\n",
    "\n",
    "\n",
    "#how well groups compare to BT assignment\n",
    "clusterVsBTCR=table(majorcelltype_assignment,Exp_Seurat@meta.data$cell_assignment)\n",
    "clusterVsBTCR_byrow=t(apply(clusterVsBTCR,1,function(x){x/sum(x)}))\n",
    "clusterVsBTCR_bycol=apply(clusterVsBTCR,2,function(x){x/sum(x)})\n",
    "\n",
    "pdf(\"celltypeVsBTCR_heatmap.pdf\",width=3.5,height=6)\n",
    "heatmap.2(clusterVsBTCR_bycol,col=colorRampPalette(col2),\n",
    "          lhei=c(1,5),lwid=c(0.1,5),margins = c(15,10),trace=\"none\",density.info=\"none\",dendrogram='col',Colv=T,Rowv=F,\n",
    "          notecol=\"black\",key=F,cellnote=clusterVsBTCR)\n",
    "heatmap.2(clusterVsBTCR_byrow,col=colorRampPalette(col2),\n",
    "          lhei=c(1,5),lwid=c(0.1,5),margins = c(15,10),trace=\"none\",density.info=\"none\",dendrogram='col',Colv=T,Rowv=F,\n",
    "          notecol=\"black\",key=F,cellnote=clusterVsBTCR)\n",
    "dev.off()"
   ]
  },
  {
   "cell_type": "markdown",
   "metadata": {},
   "source": [
    "### gene exp plot"
   ]
  },
  {
   "cell_type": "code",
   "execution_count": 12,
   "metadata": {
    "collapsed": true
   },
   "outputs": [],
   "source": [
    "#contrust matrix, each row is a state\n",
    "tagV=c(\"TRAV\",\"TRAC\",\"TRBV\",\"TRBC\",\"TRGV\",\"TRGC\",\"TRDV\",\"TRDC\",\n",
    "       \"IGHV\",\"IGHG\",\"IGHA\",\"IGHD\",\"IGHM\",\"IGHE\",\"IGLV\",\"IGLL\",\"IGKV\",\"IGLC\",\"IGKC\")\n",
    "togetrid=c(\"IGHMBP2\")\n",
    "tagvmat=ExpressionMat_magic[,1:length(tagV)]\n",
    "colnames(tagvmat)=tagV\n",
    "\n",
    "for(i in 1:length(tagV)){\n",
    "    tagG=grep(paste0(\"^\",tagV[i]),colnames(ExpressionMat_magic))\n",
    "    tagG=setdiff(tagG,togetrid)\n",
    "    if(length(tagG)==0){\n",
    "        next\n",
    "    }\n",
    "    tmp=ExpressionMat_magic[,tagG]\n",
    "    if(!is.null(ncol(tmp))){\n",
    "        tagvmat=rowMeans(tmp)\n",
    "    }\n",
    "}\n",
    "ExpressionMat_magic=cbind(ExpressionMat_magic,tagvmat)"
   ]
  },
  {
   "cell_type": "code",
   "execution_count": null,
   "metadata": {
    "collapsed": false
   },
   "outputs": [],
   "source": [
    "taggene=c(\"Cd3d\",\"Cd4\",\"Cd8a\",\"Cd19\",\"MS4A1\",\"Cd14\",\"Itgax\",\"Itgam\",\"Cd68\",\"FCGR3A\",\"Ncam1\",\"Foxp3\",\"RORC\",\"Sell\",\"Il2ra\",\"Notch1\",\n",
    "          \"Zeb2\",\"Itga4\",\"Cxcr3\",\"Foxo1\",\"S1pr1\",\"Lef1\",\"Zfp683\",\"Hobit\",\"Id3\",\"Ezh2\",\"Klrg1\",\"Cd69\",\"Prdm1\",\"S1pr4\",\"Ifng\",\"Klf2\",\n",
    "          \"Gzmb\",\"S1pr5\",\"Eomes\",\"Tcf7\",\"Itgae\",\"Tbx21\",\"Ccr7\",\"Irf4\",\"Itga1\",\"Id2\",\"AHR\",\"BATF\",\"Il7r\",\"Myc\",\"Nr4a1\",\"Litaf\",\n",
    "          \"Bcl6\",\"Malat1\",\"Xbp1\",\"KLRB1\",\"CD34\",\"LY6G6D\")\n",
    "\n",
    "taggene=toupper(taggene)\n",
    "tagExpressionNormed=ExpressionMat_magic[,which(colnames(ExpressionMat_magic) %in% taggene)]\n",
    "tagExpressionNormed=tagExpressionNormed[,order(colnames(tagExpressionNormed))]\n",
    "colnames(tagExpressionNormed)\n",
    "taggene[!taggene %in% colnames(ExpressionMat_magic)]"
   ]
  },
  {
   "cell_type": "code",
   "execution_count": 13,
   "metadata": {
    "collapsed": false
   },
   "outputs": [
    {
     "data": {
      "text/html": [
       "<ol class=list-inline>\n",
       "\t<li>'BCL6'</li>\n",
       "\t<li>'CD14'</li>\n",
       "\t<li>'CD19'</li>\n",
       "\t<li>'CD22'</li>\n",
       "\t<li>'CD24'</li>\n",
       "\t<li>'CD27'</li>\n",
       "\t<li>'CD38'</li>\n",
       "\t<li>'CD3D'</li>\n",
       "\t<li>'CD3E'</li>\n",
       "\t<li>'CD3G'</li>\n",
       "\t<li>'CD4'</li>\n",
       "\t<li>'CD84'</li>\n",
       "\t<li>'CD8A'</li>\n",
       "\t<li>'CD8B'</li>\n",
       "\t<li>'CEBPB'</li>\n",
       "\t<li>'CR2'</li>\n",
       "\t<li>'CXCR5'</li>\n",
       "\t<li>'FCER2'</li>\n",
       "\t<li>'FOXP3'</li>\n",
       "\t<li>'GATA3'</li>\n",
       "\t<li>'IFNG'</li>\n",
       "\t<li>'IGHA'</li>\n",
       "\t<li>'IGHD'</li>\n",
       "\t<li>'IGHD'</li>\n",
       "\t<li>'IGHG'</li>\n",
       "\t<li>'IGHM'</li>\n",
       "\t<li>'IGHM'</li>\n",
       "\t<li>'IGHV'</li>\n",
       "\t<li>'IGKC'</li>\n",
       "\t<li>'IGKC'</li>\n",
       "\t<li>'IGKV'</li>\n",
       "\t<li>'IGLC'</li>\n",
       "\t<li>'IGLL'</li>\n",
       "\t<li>'IGLV'</li>\n",
       "\t<li>'IL3RA'</li>\n",
       "\t<li>'ITGAM'</li>\n",
       "\t<li>'ITGAX'</li>\n",
       "\t<li>'KLRB1'</li>\n",
       "\t<li>'KLRC1'</li>\n",
       "\t<li>'KLRC3'</li>\n",
       "\t<li>'MS4A1'</li>\n",
       "\t<li>'NCAM1'</li>\n",
       "\t<li>'NKG7'</li>\n",
       "\t<li>'PDCD1'</li>\n",
       "\t<li>'SDC1'</li>\n",
       "\t<li>'SPI1'</li>\n",
       "\t<li>'TBX21'</li>\n",
       "\t<li>'TNFRSF13C'</li>\n",
       "\t<li>'TRAC'</li>\n",
       "\t<li>'TRAC'</li>\n",
       "\t<li>'TRAV'</li>\n",
       "\t<li>'TRBC'</li>\n",
       "\t<li>'TRBV'</li>\n",
       "\t<li>'TRDC'</li>\n",
       "\t<li>'TRDC'</li>\n",
       "\t<li>'TRDV'</li>\n",
       "\t<li>'TRGC'</li>\n",
       "\t<li>'TRGV'</li>\n",
       "\t<li>'ZBTB10'</li>\n",
       "</ol>\n"
      ],
      "text/latex": [
       "\\begin{enumerate*}\n",
       "\\item 'BCL6'\n",
       "\\item 'CD14'\n",
       "\\item 'CD19'\n",
       "\\item 'CD22'\n",
       "\\item 'CD24'\n",
       "\\item 'CD27'\n",
       "\\item 'CD38'\n",
       "\\item 'CD3D'\n",
       "\\item 'CD3E'\n",
       "\\item 'CD3G'\n",
       "\\item 'CD4'\n",
       "\\item 'CD84'\n",
       "\\item 'CD8A'\n",
       "\\item 'CD8B'\n",
       "\\item 'CEBPB'\n",
       "\\item 'CR2'\n",
       "\\item 'CXCR5'\n",
       "\\item 'FCER2'\n",
       "\\item 'FOXP3'\n",
       "\\item 'GATA3'\n",
       "\\item 'IFNG'\n",
       "\\item 'IGHA'\n",
       "\\item 'IGHD'\n",
       "\\item 'IGHD'\n",
       "\\item 'IGHG'\n",
       "\\item 'IGHM'\n",
       "\\item 'IGHM'\n",
       "\\item 'IGHV'\n",
       "\\item 'IGKC'\n",
       "\\item 'IGKC'\n",
       "\\item 'IGKV'\n",
       "\\item 'IGLC'\n",
       "\\item 'IGLL'\n",
       "\\item 'IGLV'\n",
       "\\item 'IL3RA'\n",
       "\\item 'ITGAM'\n",
       "\\item 'ITGAX'\n",
       "\\item 'KLRB1'\n",
       "\\item 'KLRC1'\n",
       "\\item 'KLRC3'\n",
       "\\item 'MS4A1'\n",
       "\\item 'NCAM1'\n",
       "\\item 'NKG7'\n",
       "\\item 'PDCD1'\n",
       "\\item 'SDC1'\n",
       "\\item 'SPI1'\n",
       "\\item 'TBX21'\n",
       "\\item 'TNFRSF13C'\n",
       "\\item 'TRAC'\n",
       "\\item 'TRAC'\n",
       "\\item 'TRAV'\n",
       "\\item 'TRBC'\n",
       "\\item 'TRBV'\n",
       "\\item 'TRDC'\n",
       "\\item 'TRDC'\n",
       "\\item 'TRDV'\n",
       "\\item 'TRGC'\n",
       "\\item 'TRGV'\n",
       "\\item 'ZBTB10'\n",
       "\\end{enumerate*}\n"
      ],
      "text/markdown": [
       "1. 'BCL6'\n",
       "2. 'CD14'\n",
       "3. 'CD19'\n",
       "4. 'CD22'\n",
       "5. 'CD24'\n",
       "6. 'CD27'\n",
       "7. 'CD38'\n",
       "8. 'CD3D'\n",
       "9. 'CD3E'\n",
       "10. 'CD3G'\n",
       "11. 'CD4'\n",
       "12. 'CD84'\n",
       "13. 'CD8A'\n",
       "14. 'CD8B'\n",
       "15. 'CEBPB'\n",
       "16. 'CR2'\n",
       "17. 'CXCR5'\n",
       "18. 'FCER2'\n",
       "19. 'FOXP3'\n",
       "20. 'GATA3'\n",
       "21. 'IFNG'\n",
       "22. 'IGHA'\n",
       "23. 'IGHD'\n",
       "24. 'IGHD'\n",
       "25. 'IGHG'\n",
       "26. 'IGHM'\n",
       "27. 'IGHM'\n",
       "28. 'IGHV'\n",
       "29. 'IGKC'\n",
       "30. 'IGKC'\n",
       "31. 'IGKV'\n",
       "32. 'IGLC'\n",
       "33. 'IGLL'\n",
       "34. 'IGLV'\n",
       "35. 'IL3RA'\n",
       "36. 'ITGAM'\n",
       "37. 'ITGAX'\n",
       "38. 'KLRB1'\n",
       "39. 'KLRC1'\n",
       "40. 'KLRC3'\n",
       "41. 'MS4A1'\n",
       "42. 'NCAM1'\n",
       "43. 'NKG7'\n",
       "44. 'PDCD1'\n",
       "45. 'SDC1'\n",
       "46. 'SPI1'\n",
       "47. 'TBX21'\n",
       "48. 'TNFRSF13C'\n",
       "49. 'TRAC'\n",
       "50. 'TRAC'\n",
       "51. 'TRAV'\n",
       "52. 'TRBC'\n",
       "53. 'TRBV'\n",
       "54. 'TRDC'\n",
       "55. 'TRDC'\n",
       "56. 'TRDV'\n",
       "57. 'TRGC'\n",
       "58. 'TRGV'\n",
       "59. 'ZBTB10'\n",
       "\n",
       "\n"
      ],
      "text/plain": [
       " [1] \"BCL6\"      \"CD14\"      \"CD19\"      \"CD22\"      \"CD24\"      \"CD27\"     \n",
       " [7] \"CD38\"      \"CD3D\"      \"CD3E\"      \"CD3G\"      \"CD4\"       \"CD84\"     \n",
       "[13] \"CD8A\"      \"CD8B\"      \"CEBPB\"     \"CR2\"       \"CXCR5\"     \"FCER2\"    \n",
       "[19] \"FOXP3\"     \"GATA3\"     \"IFNG\"      \"IGHA\"      \"IGHD\"      \"IGHD\"     \n",
       "[25] \"IGHG\"      \"IGHM\"      \"IGHM\"      \"IGHV\"      \"IGKC\"      \"IGKC\"     \n",
       "[31] \"IGKV\"      \"IGLC\"      \"IGLL\"      \"IGLV\"      \"IL3RA\"     \"ITGAM\"    \n",
       "[37] \"ITGAX\"     \"KLRB1\"     \"KLRC1\"     \"KLRC3\"     \"MS4A1\"     \"NCAM1\"    \n",
       "[43] \"NKG7\"      \"PDCD1\"     \"SDC1\"      \"SPI1\"      \"TBX21\"     \"TNFRSF13C\"\n",
       "[49] \"TRAC\"      \"TRAC\"      \"TRAV\"      \"TRBC\"      \"TRBV\"      \"TRDC\"     \n",
       "[55] \"TRDC\"      \"TRDV\"      \"TRGC\"      \"TRGV\"      \"ZBTB10\"   "
      ]
     },
     "metadata": {},
     "output_type": "display_data"
    },
    {
     "data": {
      "text/html": [
       "<ol class=list-inline>\n",
       "\t<li>'IL17A'</li>\n",
       "\t<li>'RORC'</li>\n",
       "\t<li>'CEBPA'</li>\n",
       "\t<li>'FLT3'</li>\n",
       "\t<li>'ZBTB46'</li>\n",
       "\t<li>'CEACAM8'</li>\n",
       "\t<li>'CLEC4C'</li>\n",
       "\t<li>'NRP1'</li>\n",
       "\t<li>'KLRC2'</li>\n",
       "\t<li>'LY6G6D'</li>\n",
       "\t<li>'ADGRE1'</li>\n",
       "\t<li>'CD86'</li>\n",
       "\t<li>'IGHE'</li>\n",
       "</ol>\n"
      ],
      "text/latex": [
       "\\begin{enumerate*}\n",
       "\\item 'IL17A'\n",
       "\\item 'RORC'\n",
       "\\item 'CEBPA'\n",
       "\\item 'FLT3'\n",
       "\\item 'ZBTB46'\n",
       "\\item 'CEACAM8'\n",
       "\\item 'CLEC4C'\n",
       "\\item 'NRP1'\n",
       "\\item 'KLRC2'\n",
       "\\item 'LY6G6D'\n",
       "\\item 'ADGRE1'\n",
       "\\item 'CD86'\n",
       "\\item 'IGHE'\n",
       "\\end{enumerate*}\n"
      ],
      "text/markdown": [
       "1. 'IL17A'\n",
       "2. 'RORC'\n",
       "3. 'CEBPA'\n",
       "4. 'FLT3'\n",
       "5. 'ZBTB46'\n",
       "6. 'CEACAM8'\n",
       "7. 'CLEC4C'\n",
       "8. 'NRP1'\n",
       "9. 'KLRC2'\n",
       "10. 'LY6G6D'\n",
       "11. 'ADGRE1'\n",
       "12. 'CD86'\n",
       "13. 'IGHE'\n",
       "\n",
       "\n"
      ],
      "text/plain": [
       " [1] \"IL17A\"   \"RORC\"    \"CEBPA\"   \"FLT3\"    \"ZBTB46\"  \"CEACAM8\" \"CLEC4C\" \n",
       " [8] \"NRP1\"    \"KLRC2\"   \"LY6G6D\"  \"ADGRE1\"  \"CD86\"    \"IGHE\"   "
      ]
     },
     "metadata": {},
     "output_type": "display_data"
    }
   ],
   "source": [
    "taggene=c(\"Cd3d\",\"Cd3e\",\"Cd3g\",\"CD8A\",\"CD8B\",\"CD4\",\"NCAM1\",\"TBX21\",\"IFNG\",\"GATA3\",\n",
    "          \"IL17A\",\"RORC\",\"CXCR5\",\"BCL6\",\"PDCD1\",\"FOXP3\",\"FCER2\",\n",
    "          \"CD14\",\"ITGAM\",\"CEBPA\",\"CEBPB\",\"SPI1\",\"FLT3\",\"ITGAX\",\"ZBTB46\",\"CEACAM8\",\"ZBTB10\",\n",
    "          \"IL3RA\",\"CLEC4C\",\"NRP1\",\"NKG7\",\"KLRC1\",\"KLRC2\",\"KLRC3\",\"KLRB1\",\"Ly6G6D\",\"Adgre1\",\n",
    "          \"CD19\",\"SDC1\",\"MS4A1\",\"CD38\",\"CD27\",\"TNFRSF13C\",\"CD84\",\"CD86\",\"CD24\",\n",
    "          \"TRAV\",\"TRAC\",\"TRBV\",\"TRBC\",\"TRGV\",\"TRGC\",\"TRDV\",\"TRDC\",\"CR2\",\"CD22\",\n",
    "          \"IGHV\",\"IGHG\",\"IGHA\",\"IGHD\",\"IGHM\",\"IGHE\",\"IGLV\",\"IGLL\",\"IGKV\",\"IGLC\",\"IGKC\")\n",
    "\n",
    "taggene=toupper(taggene)\n",
    "tagExpressionNormed=ExpressionMat_magic[,which(colnames(ExpressionMat_magic) %in% taggene)]\n",
    "tagExpressionNormed=tagExpressionNormed[,order(colnames(tagExpressionNormed))]\n",
    "colnames(tagExpressionNormed)\n",
    "taggene[!taggene %in% colnames(ExpressionMat_magic)]"
   ]
  },
  {
   "cell_type": "code",
   "execution_count": 14,
   "metadata": {
    "collapsed": false
   },
   "outputs": [
    {
     "data": {
      "text/html": [
       "<strong>png:</strong> 2"
      ],
      "text/latex": [
       "\\textbf{png:} 2"
      ],
      "text/markdown": [
       "**png:** 2"
      ],
      "text/plain": [
       "png \n",
       "  2 "
      ]
     },
     "metadata": {},
     "output_type": "display_data"
    }
   ],
   "source": [
    "rbPal <- colorRampPalette(c('gray','#2b83ba','#abdda4','#ffffbf','#fdae61','#d7191c'))\n",
    "selected=sample(1:nrow(tagExpressionNormed),2000)\n",
    "\n",
    "pdf(paste0(\"per gene mito TSNE_magic.pdf\"),width=22,height=15)\n",
    "par(mfrow=c(4,6))\n",
    "for(i in 1:ncol(tagExpressionNormed)){\n",
    "    currentid=colnames(tagExpressionNormed)[i]\n",
    "    currentg=taggene[which(taggene==currentid)]\n",
    "    #calculate breaks\n",
    "    lowerbound=sort(tagExpressionNormed[selected,i])[round(length(selected)/33)]\n",
    "    upperbound=sort(tagExpressionNormed[selected,i])[round(length(selected)/33*32)]\n",
    "    if(upperbound!=lowerbound){\n",
    "        breaks=c(min(tagExpressionNormed[selected,i])-1,seq(lowerbound, upperbound, length.out=25),max(tagExpressionNormed[selected,i])+1)\n",
    "        cols=rbPal(25)[as.numeric(cut(tagExpressionNormed[selected,i],breaks = breaks, include.lowest=TRUE))]\n",
    "    }else{\n",
    "        breaks=c(min(tagExpressionNormed[selected,i])-1,max(tagExpressionNormed[selected,i])/2,max(tagExpressionNormed[selected,i]))\n",
    "        cols=rbPal(2)[as.numeric(cut(tagExpressionNormed[selected,i],breaks = breaks, include.lowest=TRUE))]\n",
    "    }\n",
    "    plot(Exp_Seurat@dr$tsne@cell.embeddings[selected,],pch=19,cex=0.35,col=cols,main=currentg)  \n",
    "}\n",
    "\n",
    "dev.off()"
   ]
  },
  {
   "cell_type": "markdown",
   "metadata": {},
   "source": [
    "### associate the GWAS IBD gene with the scRNA"
   ]
  },
  {
   "cell_type": "code",
   "execution_count": 23,
   "metadata": {
    "collapsed": false
   },
   "outputs": [
    {
     "data": {
      "text/html": [
       "<ol class=list-inline>\n",
       "\t<li>'ADAM30'</li>\n",
       "\t<li>'AHSA2'</li>\n",
       "\t<li>'BRE'</li>\n",
       "\t<li>'BSN'</li>\n",
       "\t<li>'C10ORF58'</li>\n",
       "\t<li>'C11ORF9'</li>\n",
       "\t<li>'C1ORF53'</li>\n",
       "\t<li>'C2ORF74'</li>\n",
       "\t<li>'CCDC116'</li>\n",
       "\t<li>'CCL11'</li>\n",
       "\t<li>'CCL13'</li>\n",
       "\t<li>'CCL2'</li>\n",
       "\t<li>'CD40,MMP9,PLTP'</li>\n",
       "\t<li>'CNTF'</li>\n",
       "\t<li>'CSF2'</li>\n",
       "\t<li>'CXCL1'</li>\n",
       "\t<li>'CXCL3'</li>\n",
       "\t<li>'CXCL5'</li>\n",
       "\t<li>'CXCL6'</li>\n",
       "\t<li>'CXCR1'</li>\n",
       "\t<li>'CXCR2'</li>\n",
       "\t<li>'DCLRE1B'</li>\n",
       "\t<li>'DNMT3B'</li>\n",
       "\t<li>'EPO'</li>\n",
       "\t<li>'FADS2'</li>\n",
       "\t<li>'FAIM3'</li>\n",
       "\t<li>'FAM55A'</li>\n",
       "\t<li>'FAM55D'</li>\n",
       "\t<li>'FCGR3B'</li>\n",
       "\t<li>'FLRT1'</li>\n",
       "\t<li>'FUT2'</li>\n",
       "\t<li>'GSDMA'</li>\n",
       "\t<li>'HMHA1'</li>\n",
       "\t<li>'HNF4A'</li>\n",
       "\t<li>'IL10'</li>\n",
       "\t<li>'IL12B'</li>\n",
       "\t<li>'IL13'</li>\n",
       "\t<li>'IL19'</li>\n",
       "\t<li>'IL1R1'</li>\n",
       "\t<li>'IL1R2'</li>\n",
       "\t<li>'IL1RL1'</li>\n",
       "\t<li>'IL1RL2'</li>\n",
       "\t<li>'IL20'</li>\n",
       "\t<li>'IL21'</li>\n",
       "\t<li>'IL22'</li>\n",
       "\t<li>'IL24'</li>\n",
       "\t<li>'IL26'</li>\n",
       "\t<li>'IL27'</li>\n",
       "\t<li>'IL3'</li>\n",
       "\t<li>'IL31RA'</li>\n",
       "\t<li>'IL4'</li>\n",
       "\t<li>'IL5'</li>\n",
       "\t<li>'IL8'</li>\n",
       "\t<li>'INPP5D,'</li>\n",
       "\t<li>'IRGM'</li>\n",
       "\t<li>'ITIH4'</li>\n",
       "\t<li>'ITLN1'</li>\n",
       "\t<li>'ITPKA'</li>\n",
       "\t<li>'IZUMO1'</li>\n",
       "\t<li>'JRKL'</li>\n",
       "\t<li>'KIAA1841'</li>\n",
       "\t<li>'KIR2DL1'</li>\n",
       "\t<li>'LACC1'</li>\n",
       "\t<li>'LIF'</li>\n",
       "\t<li>'LOH12CR1'</li>\n",
       "\t<li>'MMEL1'</li>\n",
       "\t<li>'MST1'</li>\n",
       "\t<li>'MST1R'</li>\n",
       "\t<li>'MUC19'</li>\n",
       "\t<li>'NKX2-3'</li>\n",
       "\t<li>'NLRP2'</li>\n",
       "\t<li>'NLRP7'</li>\n",
       "\t<li>'NOS2'</li>\n",
       "\t<li>'NUPR1'</li>\n",
       "\t<li>'NUSAP1'</li>\n",
       "\t<li>'PDLIM4'</li>\n",
       "\t<li>'PF4'</li>\n",
       "\t<li>'PF4V1'</li>\n",
       "\t<li>'PFKFB4'</li>\n",
       "\t<li>'PIGR'</li>\n",
       "\t<li>'PPAN-P2RY11'</li>\n",
       "\t<li>'PROCR'</li>\n",
       "\t<li>'PSORS1C1'</li>\n",
       "\t<li>'PTGDR2'</li>\n",
       "\t<li>'RFTN2'</li>\n",
       "\t<li>'RIMBP3'</li>\n",
       "\t<li>'RMI2'</li>\n",
       "\t<li>'RORC'</li>\n",
       "\t<li>'RPS6KA2'</li>\n",
       "\t<li>'SLC10A4'</li>\n",
       "\t<li>'SLC22A4'</li>\n",
       "\t<li>'SLC9A3'</li>\n",
       "\t<li>'SNX32'</li>\n",
       "\t<li>'SPRED1'</li>\n",
       "\t<li>'SPRED2'</li>\n",
       "\t<li>'SPRY4'</li>\n",
       "\t<li>'SULT1A2'</li>\n",
       "\t<li>'TNC'</li>\n",
       "\t<li>'TNFRSF6B'</li>\n",
       "\t<li>'TNFRSF9'</li>\n",
       "\t<li>'TNFSF15'</li>\n",
       "\t<li>'TNFSF18'</li>\n",
       "\t<li>'UCN'</li>\n",
       "\t<li>'UCN2'</li>\n",
       "\t<li>'UQCC'</li>\n",
       "\t<li>'ZNF300P1'</li>\n",
       "\t<li>'ZPBP'</li>\n",
       "\t<li>'ZPBP2'</li>\n",
       "</ol>\n"
      ],
      "text/latex": [
       "\\begin{enumerate*}\n",
       "\\item 'ADAM30'\n",
       "\\item 'AHSA2'\n",
       "\\item 'BRE'\n",
       "\\item 'BSN'\n",
       "\\item 'C10ORF58'\n",
       "\\item 'C11ORF9'\n",
       "\\item 'C1ORF53'\n",
       "\\item 'C2ORF74'\n",
       "\\item 'CCDC116'\n",
       "\\item 'CCL11'\n",
       "\\item 'CCL13'\n",
       "\\item 'CCL2'\n",
       "\\item 'CD40,MMP9,PLTP'\n",
       "\\item 'CNTF'\n",
       "\\item 'CSF2'\n",
       "\\item 'CXCL1'\n",
       "\\item 'CXCL3'\n",
       "\\item 'CXCL5'\n",
       "\\item 'CXCL6'\n",
       "\\item 'CXCR1'\n",
       "\\item 'CXCR2'\n",
       "\\item 'DCLRE1B'\n",
       "\\item 'DNMT3B'\n",
       "\\item 'EPO'\n",
       "\\item 'FADS2'\n",
       "\\item 'FAIM3'\n",
       "\\item 'FAM55A'\n",
       "\\item 'FAM55D'\n",
       "\\item 'FCGR3B'\n",
       "\\item 'FLRT1'\n",
       "\\item 'FUT2'\n",
       "\\item 'GSDMA'\n",
       "\\item 'HMHA1'\n",
       "\\item 'HNF4A'\n",
       "\\item 'IL10'\n",
       "\\item 'IL12B'\n",
       "\\item 'IL13'\n",
       "\\item 'IL19'\n",
       "\\item 'IL1R1'\n",
       "\\item 'IL1R2'\n",
       "\\item 'IL1RL1'\n",
       "\\item 'IL1RL2'\n",
       "\\item 'IL20'\n",
       "\\item 'IL21'\n",
       "\\item 'IL22'\n",
       "\\item 'IL24'\n",
       "\\item 'IL26'\n",
       "\\item 'IL27'\n",
       "\\item 'IL3'\n",
       "\\item 'IL31RA'\n",
       "\\item 'IL4'\n",
       "\\item 'IL5'\n",
       "\\item 'IL8'\n",
       "\\item 'INPP5D,'\n",
       "\\item 'IRGM'\n",
       "\\item 'ITIH4'\n",
       "\\item 'ITLN1'\n",
       "\\item 'ITPKA'\n",
       "\\item 'IZUMO1'\n",
       "\\item 'JRKL'\n",
       "\\item 'KIAA1841'\n",
       "\\item 'KIR2DL1'\n",
       "\\item 'LACC1'\n",
       "\\item 'LIF'\n",
       "\\item 'LOH12CR1'\n",
       "\\item 'MMEL1'\n",
       "\\item 'MST1'\n",
       "\\item 'MST1R'\n",
       "\\item 'MUC19'\n",
       "\\item 'NKX2-3'\n",
       "\\item 'NLRP2'\n",
       "\\item 'NLRP7'\n",
       "\\item 'NOS2'\n",
       "\\item 'NUPR1'\n",
       "\\item 'NUSAP1'\n",
       "\\item 'PDLIM4'\n",
       "\\item 'PF4'\n",
       "\\item 'PF4V1'\n",
       "\\item 'PFKFB4'\n",
       "\\item 'PIGR'\n",
       "\\item 'PPAN-P2RY11'\n",
       "\\item 'PROCR'\n",
       "\\item 'PSORS1C1'\n",
       "\\item 'PTGDR2'\n",
       "\\item 'RFTN2'\n",
       "\\item 'RIMBP3'\n",
       "\\item 'RMI2'\n",
       "\\item 'RORC'\n",
       "\\item 'RPS6KA2'\n",
       "\\item 'SLC10A4'\n",
       "\\item 'SLC22A4'\n",
       "\\item 'SLC9A3'\n",
       "\\item 'SNX32'\n",
       "\\item 'SPRED1'\n",
       "\\item 'SPRED2'\n",
       "\\item 'SPRY4'\n",
       "\\item 'SULT1A2'\n",
       "\\item 'TNC'\n",
       "\\item 'TNFRSF6B'\n",
       "\\item 'TNFRSF9'\n",
       "\\item 'TNFSF15'\n",
       "\\item 'TNFSF18'\n",
       "\\item 'UCN'\n",
       "\\item 'UCN2'\n",
       "\\item 'UQCC'\n",
       "\\item 'ZNF300P1'\n",
       "\\item 'ZPBP'\n",
       "\\item 'ZPBP2'\n",
       "\\end{enumerate*}\n"
      ],
      "text/markdown": [
       "1. 'ADAM30'\n",
       "2. 'AHSA2'\n",
       "3. 'BRE'\n",
       "4. 'BSN'\n",
       "5. 'C10ORF58'\n",
       "6. 'C11ORF9'\n",
       "7. 'C1ORF53'\n",
       "8. 'C2ORF74'\n",
       "9. 'CCDC116'\n",
       "10. 'CCL11'\n",
       "11. 'CCL13'\n",
       "12. 'CCL2'\n",
       "13. 'CD40,MMP9,PLTP'\n",
       "14. 'CNTF'\n",
       "15. 'CSF2'\n",
       "16. 'CXCL1'\n",
       "17. 'CXCL3'\n",
       "18. 'CXCL5'\n",
       "19. 'CXCL6'\n",
       "20. 'CXCR1'\n",
       "21. 'CXCR2'\n",
       "22. 'DCLRE1B'\n",
       "23. 'DNMT3B'\n",
       "24. 'EPO'\n",
       "25. 'FADS2'\n",
       "26. 'FAIM3'\n",
       "27. 'FAM55A'\n",
       "28. 'FAM55D'\n",
       "29. 'FCGR3B'\n",
       "30. 'FLRT1'\n",
       "31. 'FUT2'\n",
       "32. 'GSDMA'\n",
       "33. 'HMHA1'\n",
       "34. 'HNF4A'\n",
       "35. 'IL10'\n",
       "36. 'IL12B'\n",
       "37. 'IL13'\n",
       "38. 'IL19'\n",
       "39. 'IL1R1'\n",
       "40. 'IL1R2'\n",
       "41. 'IL1RL1'\n",
       "42. 'IL1RL2'\n",
       "43. 'IL20'\n",
       "44. 'IL21'\n",
       "45. 'IL22'\n",
       "46. 'IL24'\n",
       "47. 'IL26'\n",
       "48. 'IL27'\n",
       "49. 'IL3'\n",
       "50. 'IL31RA'\n",
       "51. 'IL4'\n",
       "52. 'IL5'\n",
       "53. 'IL8'\n",
       "54. 'INPP5D,'\n",
       "55. 'IRGM'\n",
       "56. 'ITIH4'\n",
       "57. 'ITLN1'\n",
       "58. 'ITPKA'\n",
       "59. 'IZUMO1'\n",
       "60. 'JRKL'\n",
       "61. 'KIAA1841'\n",
       "62. 'KIR2DL1'\n",
       "63. 'LACC1'\n",
       "64. 'LIF'\n",
       "65. 'LOH12CR1'\n",
       "66. 'MMEL1'\n",
       "67. 'MST1'\n",
       "68. 'MST1R'\n",
       "69. 'MUC19'\n",
       "70. 'NKX2-3'\n",
       "71. 'NLRP2'\n",
       "72. 'NLRP7'\n",
       "73. 'NOS2'\n",
       "74. 'NUPR1'\n",
       "75. 'NUSAP1'\n",
       "76. 'PDLIM4'\n",
       "77. 'PF4'\n",
       "78. 'PF4V1'\n",
       "79. 'PFKFB4'\n",
       "80. 'PIGR'\n",
       "81. 'PPAN-P2RY11'\n",
       "82. 'PROCR'\n",
       "83. 'PSORS1C1'\n",
       "84. 'PTGDR2'\n",
       "85. 'RFTN2'\n",
       "86. 'RIMBP3'\n",
       "87. 'RMI2'\n",
       "88. 'RORC'\n",
       "89. 'RPS6KA2'\n",
       "90. 'SLC10A4'\n",
       "91. 'SLC22A4'\n",
       "92. 'SLC9A3'\n",
       "93. 'SNX32'\n",
       "94. 'SPRED1'\n",
       "95. 'SPRED2'\n",
       "96. 'SPRY4'\n",
       "97. 'SULT1A2'\n",
       "98. 'TNC'\n",
       "99. 'TNFRSF6B'\n",
       "100. 'TNFRSF9'\n",
       "101. 'TNFSF15'\n",
       "102. 'TNFSF18'\n",
       "103. 'UCN'\n",
       "104. 'UCN2'\n",
       "105. 'UQCC'\n",
       "106. 'ZNF300P1'\n",
       "107. 'ZPBP'\n",
       "108. 'ZPBP2'\n",
       "\n",
       "\n"
      ],
      "text/plain": [
       "  [1] \"ADAM30\"         \"AHSA2\"          \"BRE\"            \"BSN\"           \n",
       "  [5] \"C10ORF58\"       \"C11ORF9\"        \"C1ORF53\"        \"C2ORF74\"       \n",
       "  [9] \"CCDC116\"        \"CCL11\"          \"CCL13\"          \"CCL2\"          \n",
       " [13] \"CD40,MMP9,PLTP\" \"CNTF\"           \"CSF2\"           \"CXCL1\"         \n",
       " [17] \"CXCL3\"          \"CXCL5\"          \"CXCL6\"          \"CXCR1\"         \n",
       " [21] \"CXCR2\"          \"DCLRE1B\"        \"DNMT3B\"         \"EPO\"           \n",
       " [25] \"FADS2\"          \"FAIM3\"          \"FAM55A\"         \"FAM55D\"        \n",
       " [29] \"FCGR3B\"         \"FLRT1\"          \"FUT2\"           \"GSDMA\"         \n",
       " [33] \"HMHA1\"          \"HNF4A\"          \"IL10\"           \"IL12B\"         \n",
       " [37] \"IL13\"           \"IL19\"           \"IL1R1\"          \"IL1R2\"         \n",
       " [41] \"IL1RL1\"         \"IL1RL2\"         \"IL20\"           \"IL21\"          \n",
       " [45] \"IL22\"           \"IL24\"           \"IL26\"           \"IL27\"          \n",
       " [49] \"IL3\"            \"IL31RA\"         \"IL4\"            \"IL5\"           \n",
       " [53] \"IL8\"            \"INPP5D,\"        \"IRGM\"           \"ITIH4\"         \n",
       " [57] \"ITLN1\"          \"ITPKA\"          \"IZUMO1\"         \"JRKL\"          \n",
       " [61] \"KIAA1841\"       \"KIR2DL1\"        \"LACC1\"          \"LIF\"           \n",
       " [65] \"LOH12CR1\"       \"MMEL1\"          \"MST1\"           \"MST1R\"         \n",
       " [69] \"MUC19\"          \"NKX2-3\"         \"NLRP2\"          \"NLRP7\"         \n",
       " [73] \"NOS2\"           \"NUPR1\"          \"NUSAP1\"         \"PDLIM4\"        \n",
       " [77] \"PF4\"            \"PF4V1\"          \"PFKFB4\"         \"PIGR\"          \n",
       " [81] \"PPAN-P2RY11\"    \"PROCR\"          \"PSORS1C1\"       \"PTGDR2\"        \n",
       " [85] \"RFTN2\"          \"RIMBP3\"         \"RMI2\"           \"RORC\"          \n",
       " [89] \"RPS6KA2\"        \"SLC10A4\"        \"SLC22A4\"        \"SLC9A3\"        \n",
       " [93] \"SNX32\"          \"SPRED1\"         \"SPRED2\"         \"SPRY4\"         \n",
       " [97] \"SULT1A2\"        \"TNC\"            \"TNFRSF6B\"       \"TNFRSF9\"       \n",
       "[101] \"TNFSF15\"        \"TNFSF18\"        \"UCN\"            \"UCN2\"          \n",
       "[105] \"UQCC\"           \"ZNF300P1\"       \"ZPBP\"           \"ZPBP2\"         "
      ]
     },
     "metadata": {},
     "output_type": "display_data"
    }
   ],
   "source": [
    "taggene=c(\"ACSL6\",\"ADA\",\"ADAM30\",\"ADCY3\",\"ADCY7\",\"AHSA2\",\"APOBEC3G\",\"ARHGAP30\",\"ARPC2\",\"ATF4\",\"ATG16L1\",\"BRE\",\"BSN\",\"C10orf58\",\n",
    "          \"C11orf9\",\"C1orf53\",\"C2orf74\",\"CALM3\",\"CARD11\",\"CARD9\",\"CCDC116\",\"CCDC88B\",\"CCL11\",\"CCL13\",\"CCL2\",\"CCR6\",\"CD226\",\n",
    "          \"CD244\",\"CD40,MMP9,PLTP\",\"CD48\",\"CD5\",\"CD6\",\"CEBPB\",\"CEBPG\",\"CEP250\",\"CISD1\",\"CNTF\",\"CPEB4\",\"CREB5\",\"CREM\",\"CRTC3\",\n",
    "          \"CSF2\",\"CTDSP1\",\"CTSW\",\"CTSZ\",\"CXCL1\",\"CXCL2\",\"CXCL3\",\"CXCL5\",\"CXCL6\",\"CXCR1\",\"CXCR2\",\"CXCR5\",\"DAP\",\"DBP\",\"DCLRE1B\",\n",
    "          \"DLD\",\"DNMT3B\",\"DOK3\",\"EIF3C\",\"EPO\",\"ERAP1\",\"ERAP2\",\"F11R\",\"FADS1\",\"FADS2\",\"FAIM3\",\"FAM55A\",\"FAM55D\",\"FASLG\",\"FCGR2A\",\n",
    "          \"FCGR2B\",\"FCGR3A\",\"FCGR3B\",\"FCRLA\",\"FLRT1\",\"FOS\",\"FOSL1\",\"FOSL2\",\"FUT2\",\"FYN\",\"GALC\",\"GART\",\"GNA12\",\"GPR18\",\"GPR183\",\n",
    "          \"GPR35\",\"GPR65\",\"GPX1\",\"GPX4\",\"GSDMA\",\"GSDMB\",\"HCK\",\"HLA-C\",\"HLA-DQA1\",\"HLA-DQB1\",\"HLA-DRA\",\"HLA-DRB1\",\"HMHA1\",\"HNF4A\",\n",
    "          \"HSPA6\",\"ICAM1\",\"ICOSLG\",\"IFIH1\",\"IFNAR1\",\"IFNAR2\",\"IFNG\",\"IFNGR2\",\"IKZF1\",\"IKZF3\",\"IL10\",\"IL10RB\",\"IL12B\",\"IL12RB2\",\n",
    "          \"IL13\",\"IL15RA\",\"IL18R1\",\"IL18RAP\",\"IL19\",\"IL1R1\",\"IL1R2\",\"IL1RL1\",\"IL1RL2\",\"IL2\",\"IL20\",\"IL21\",\"IL22\",\"IL23R\",\"IL24\",\n",
    "          \"IL26\",\"IL27\",\"IL2RA\",\"IL3\",\"IL31RA\",\"IL4\",\"IL5\",\"IL6ST\",\"IL8\",\"INPP5D,\",\"INPP5E\",\"IP6K1\",\"IP6K2\",\"IPMK\",\"IRF1\",\"IRF5\",\n",
    "          \"IRF8\",\"IRGM\",\"ITGAL\",\"ITIH4\",\"ITLN1\",\"ITPKA\",\"IZUMO1\",\"JAK2\",\"JAZF1\",\"JRKL\",\"KIAA1841\",\"KIF21B\",\"KIR2DL1\",\"LACC1\",\n",
    "          \"LGALS9\",\"LIF\",\"LILRB4\",\"LIME1\",\"LITAF\",\"LNPEP\",\"LOH12CR1\",\"LPXN\",\"LRRK2\",\"LSP1\",\"MAML2\",\"MANBA\",\"MAP3K8\",\"MAPK1\",\n",
    "          \"MAPKAPK2\",\"MICB\",\"MLH3\",\"MMEL1\",\"MST1\",\"MST1R\",\"MSTO1\",\"MTMR3\",\"MUC19\",\"NDFIP1\",\"NDUFAF1\",\"NFIL3\",\"NFKB1\",\"NFKBIL1\",\n",
    "          \"NKX2-3\",\"NLRP2\",\"NLRP7\",\"NOD2\",\"NOS2\",\"NUPR1\",\"NUSAP1\",\"ORMDL3\",\"OSM\",\"PDLIM4\",\"PF4\",\"PF4V1\",\"PFKFB4\",\"PHACTR2\",\n",
    "          \"PIGR\",\"PLCH2\",\"PLCL1\",\"PMPCA\",\"PNKD\",\"PPAN-P2RY11\",\"PRKCB\",\"PRKCD\",\"PROCR\",\"PSORS1C1\",\"PTGDR2\",\"PTGER4\",\"PTPN22\",\n",
    "          \"RABEP2\",\"RASGRP1\",\"RASSF5\",\"REL\",\"RELA\",\"REV3L\",\"RFTN2\",\"RIMBP3\",\"RIPK2\",\"RIT1\",\"RMI2\",\"RNASET2\",\"RORC\",\"RPS6KA2\",\n",
    "          \"RPS6KA4\",\"RPS6KB1\",\"SDCCAG3\",\"SLAMF1\",\"SLAMF7\",\"SLC10A4\",\"SLC11A1\",\"SLC22A4\",\"SLC22A5\",\"SLC2A4RG\",\"SLC9A3\",\"SMAD3\",\n",
    "          \"SMAD7\",\"SMURF1\",\"SNX32\",\"SOCS1\",\"SP140\",\"SPHK2\",\"SPRED1\",\"SPRED2\",\"SPRY4\",\"STAT1\",\"STAT3\",\"STAT4\",\"STAT5A\",\"STAT5B\",\n",
    "          \"SULT1A1\",\"SULT1A2\",\"TAB1\",\"TAGAP\",\"TEC\",\"TMBIM1\",\"TMEM50B\",\"TNC\",\"TNFAIP3\",\"TNFRSF14\",\"TNFRSF18\",\"TNFRSF4\",\"TNFRSF6B\",\n",
    "          \"TNFRSF9\",\"TNFSF15\",\"TNFSF18\",\"TNFSF8\",\"TNIP1\",\"TNNI2\",\"TNPO3\",\"TRAF3IP2\",\"TRIB1\",\"TRPT1\",\"TSPAN14\",\"TSPAN33\",\"TTYH3\",\n",
    "          \"TUBD1\",\"TXK\",\"TYK2\",\"UBE2L3\",\"UBQLN4\",\"UCN\",\"UCN2\",\"UQCC\",\"USF1\",\"USP4\",\"VDR\",\"YDJC\",\"ZFP36L1\",\"ZFP90\",\"ZGPAT\",\n",
    "          \"ZNF300P1\",\"ZNF831\",\"ZPBP\",\"ZPBP2\")\n",
    "\n",
    "taggene=toupper(taggene)\n",
    "tagExpressionNormed=ExpressionMat_magic[,which(colnames(ExpressionMat_magic) %in% taggene)]\n",
    "tagExpressionNormed=tagExpressionNormed[,order(colnames(tagExpressionNormed))]\n",
    "#colnames(tagExpressionNormed)\n",
    "taggene[!taggene %in% colnames(ExpressionMat_magic)]"
   ]
  },
  {
   "cell_type": "code",
   "execution_count": 24,
   "metadata": {
    "collapsed": false
   },
   "outputs": [
    {
     "data": {
      "text/html": [
       "<strong>png:</strong> 2"
      ],
      "text/latex": [
       "\\textbf{png:} 2"
      ],
      "text/markdown": [
       "**png:** 2"
      ],
      "text/plain": [
       "png \n",
       "  2 "
      ]
     },
     "metadata": {},
     "output_type": "display_data"
    }
   ],
   "source": [
    "rbPal <- colorRampPalette(c('gray','#2b83ba','#abdda4','#ffffbf','#fdae61','#d7191c'))\n",
    "selected=sample(1:nrow(tagExpressionNormed),2000)\n",
    "\n",
    "pdf(paste0(\"per GWAS gene mito TSNE_magic.pdf\"),width=22,height=15)\n",
    "par(mfrow=c(4,6))\n",
    "for(i in 1:ncol(tagExpressionNormed)){\n",
    "    currentid=colnames(tagExpressionNormed)[i]\n",
    "    currentg=taggene[which(taggene==currentid)]\n",
    "    #calculate breaks\n",
    "    lowerbound=sort(tagExpressionNormed[selected,i])[round(length(selected)/33)]\n",
    "    upperbound=sort(tagExpressionNormed[selected,i])[round(length(selected)/33*32)]\n",
    "    if(upperbound!=lowerbound){\n",
    "        breaks=c(min(tagExpressionNormed[selected,i])-1,seq(lowerbound, upperbound, length.out=25),max(tagExpressionNormed[selected,i])+1)\n",
    "        cols=rbPal(25)[as.numeric(cut(tagExpressionNormed[selected,i],breaks = breaks, include.lowest=TRUE))]\n",
    "    }else{\n",
    "        breaks=c(min(tagExpressionNormed[selected,i])-1,max(tagExpressionNormed[selected,i])/2,max(tagExpressionNormed[selected,i]))\n",
    "        cols=rbPal(2)[as.numeric(cut(tagExpressionNormed[selected,i],breaks = breaks, include.lowest=TRUE))]\n",
    "    }\n",
    "    plot(Exp_Seurat@dr$tsne@cell.embeddings[selected,],pch=19,cex=0.35,col=cols,main=currentg)  \n",
    "}\n",
    "\n",
    "dev.off()"
   ]
  },
  {
   "cell_type": "code",
   "execution_count": 10,
   "metadata": {
    "collapsed": false
   },
   "outputs": [
    {
     "ename": "ERROR",
     "evalue": "Error in rownames(xCellout): object 'xCellout' not found\n",
     "output_type": "error",
     "traceback": [
      "Error in rownames(xCellout): object 'xCellout' not found\nTraceback:\n",
      "1. rownames(xCellout)"
     ]
    }
   ],
   "source": [
    "xCell_celltype=rownames(xCellout)\n",
    "topfive_celltype=matrix(\"\",5,ncol(xCellout))\n",
    "topfive_celltype_score=matrix(0,5,ncol(xCellout))\n",
    "\n",
    "assigned_celltype=rep(\"\",ncol(xCellout))\n",
    "\n",
    "for(i in 1:ncol(xCellout)){\n",
    "    tag=order(xCellout[,i],decreasing = T)[1:5]\n",
    "    topfive_celltype[,i]=rownames(xCellout)[tag]\n",
    "    topfive_celltype_score[,i]=xCellout[tag,i]\n",
    "    higher_than_point5=which(topfive_celltype_score[,i]>0.5)\n",
    "    if(length(higher_than_point5)>0){\n",
    "        assigned_celltype[i]=paste0(topfive_celltype[higher_than_point5,i],collapse = \"_\")\n",
    "    }else{\n",
    "        higher_than_point1=which(topfive_celltype_score[,i]>0.1)\n",
    "        if(length(higher_than_point1)>0){\n",
    "        assigned_celltype[i]=paste0(topfive_celltype[higher_than_point1,i],collapse = \"/\")\n",
    "        }  \n",
    "    }\n",
    "}"
   ]
  },
  {
   "cell_type": "code",
   "execution_count": 52,
   "metadata": {
    "collapsed": false
   },
   "outputs": [
    {
     "data": {
      "image/png": "[encoded data removed]",
      "text/plain": [
       "Plot with title “Gene RUVscale”"
      ]
     },
     "metadata": {},
     "output_type": "display_data"
    }
   ],
   "source": [
    "#find top variant gene / use mt gene and house keeping gene as control\n",
    "\n",
    "taggene_posi=which(rownames(Exp_Seurat@raw.data) %in% c(taggene_hk,taggene_mt))\n",
    "\n",
    "options(repr.plot.width=10, repr.plot.height=5)\n",
    "par(mfrow=c(1,2))\n",
    "rbPal <- colorRampPalette(c('gray','#2b83ba','#abdda4','#ffffbf','#fdae61','#d7191c'))\n",
    "val=colSums(Exp_Seurat@raw.data)\n",
    "lowerbound=sort(val)[round(length(val)/33)]\n",
    "upperbound=sort(val)[round(length(val)/33*32)]\n",
    "Genebreaks=c(min(val)-1,seq(lowerbound, upperbound, length.out=25),max(val))\n",
    "Genecols=rbPal(25)[as.numeric(cut(val,breaks = Genebreaks))]\n",
    "\n",
    "plot(Exp_Seurat@dr$tsne@cell.embeddings,col=Genecols,pch=19,xlim=c(-40,40),xlab=\"TSNE1\",ylab=\"TSNE2\",bty=\"n\",main=\"Gene raw\")\n",
    "fields::image.plot(legend.only=T,zlim=range(Genebreaks), col=rbPal(100))\n",
    "\n",
    "val=colSums(Exp_Seurat@scale.data)\n",
    "lowerbound=sort(val)[round(length(val)/33)]\n",
    "upperbound=sort(val)[round(length(val)/33*32)]\n",
    "Genebreaks=c(min(val)-1,seq(lowerbound, upperbound, length.out=25),max(val))\n",
    "Genecols=rbPal(25)[as.numeric(cut(val,breaks = Genebreaks))]\n",
    "\n",
    "plot(Exp_Seurat@dr$tsne@cell.embeddings,col=Genecols,pch=19,xlim=c(-40,40),xlab=\"TSNE1\",ylab=\"TSNE2\",bty=\"n\",main=\"Gene RUVscale\",cex=0.5)\n",
    "fields::image.plot(legend.only=T,zlim=range(Genebreaks), col=rbPal(100))"
   ]
  },
  {
   "cell_type": "markdown",
   "metadata": {},
   "source": [
    "## gene expression heatmap"
   ]
  },
  {
   "cell_type": "code",
   "execution_count": 76,
   "metadata": {
    "collapsed": false
   },
   "outputs": [
    {
     "data": {
      "image/png": "[encoded data removed]",
      "text/plain": [
       "Plot with title “gene_expression_by_gp”"
      ]
     },
     "metadata": {},
     "output_type": "display_data"
    }
   ],
   "source": [
    "options(repr.plot.width=12, repr.plot.height=5)\n",
    "heatmap.2(scale(ExpressionMat_by_gp),col=colorRampPalette(col2),\n",
    "          lhei=c(1,5),lwid=c(0.1,5),margins = c(0.5,10),trace=\"none\",density.info=\"none\",dendrogram='none',Colv=T,Rowv=T,\n",
    "          notecol=\"black\",labCol=NULL,key=F,main=\"gene_expression_by_gp\")"
   ]
  },
  {
   "cell_type": "code",
   "execution_count": null,
   "metadata": {
    "collapsed": false
   },
   "outputs": [],
   "source": [
    "options(repr.plot.width=12, repr.plot.height=12)\n",
    "col2=rev(RColorBrewer::brewer.pal(10,\"RdBu\"))\n",
    "cluster_col=colorRampPalette(RColorBrewer::brewer.pal(9, \"Set1\"))(length(levels(Exp_Seurat@ident)))\n",
    "tagcell=sample(1:ncol(Exp_Seurat@scale.data),4000)\n",
    "heatmap.2(t(Exp_Seurat@scale.data)[tagcell,HVG],col=colorRampPalette(col2),labRow=NULL,labCol=NULL,\n",
    "          lhei=c(1,5),lwid=c(0.1,5),margins = c(0.5,2),trace=\"none\",density.info=\"none\",dendrogram='none',Colv=T,Rowv=T,\n",
    "          notecol=\"black\",key=F,main=\"gene_expression\",RowSideColors=cluster_col[Exp_Seurat@ident[tagcell]])"
   ]
  },
  {
   "cell_type": "markdown",
   "metadata": {},
   "source": [
    "## testing"
   ]
  },
  {
   "cell_type": "code",
   "execution_count": 15,
   "metadata": {
    "collapsed": false
   },
   "outputs": [],
   "source": [
    "require(repr)\n",
    "options(repr.plot.width=8, repr.plot.height=4)\n",
    "par(mfrow=c(1,2))\n",
    "t=list()\n",
    "Exp_Seurat <- CreateSeuratObject(raw.data = t(ExpressionNormed[1:5000,]))\n",
    "Exp_Seurat@meta.data$sample_gp <- sample_gp[1:5000]\n",
    "Exp_Seurat@scale.data=Exp_Seurat@raw.data\n",
    "Exp_Seurat@raw.data=as(t(ExpressionMat), \"sparseMatrix\")\n",
    "Exp_Seurat <- RunPCA(object = Exp_Seurat, pc.genes = HVG[1:1000], pcs.compute = 50,do.print = F)\n",
    "\n",
    "ptm <- proc.time()\n",
    "Exp_Seurat <- RunTSNE(object = Exp_Seurat, dims.use = 1:25, do.fast = TRUE)\n",
    "t[[1]]=second_to_humanReadableTime(round((proc.time() - ptm)[3],2))\n",
    "\n",
    "ptm <- proc.time()\n",
    "Y <- Rtsne::Rtsne(Exp_Seurat@dr$pca@cell.embeddings[1:5000,1:25],pca=F)\n",
    "t[[2]]=second_to_humanReadableTime(round((proc.time() - ptm)[3],2))\n",
    "\n",
    "ptm <- proc.time()\n",
    "Y_fft <- fftRtsne(pca_allcell$x[1:5000,1:25],nthreads = 4);\n",
    "#plot(Y_fft,col=iris_unique$Species,pch=19,cex=0.5) # Plot the result\n",
    "t[[3]]=second_to_humanReadableTime(round((proc.time() - ptm)[3],2))\n",
    "\n",
    "ptm <- proc.time()\n",
    "Exp_Seuratfittsne <- RunTSNE(object = Exp_Seurat, reduction.use = \"pca\", dims.use = 1:25, tsne.method = \"FIt-SNE\",\n",
    "                             nthreads = 4,reduction.name = \"FItSNE\", reduction.key = \"FItSNE_\",\n",
    "                             fast_tsne_path = \"/home/ahe/tools/FIt-SNE/bin/fast_tsne\",max_iter = 2000)\n",
    "\n",
    "t[[4]]=second_to_humanReadableTime(round((proc.time() - ptm)[3],2))"
   ]
  },
  {
   "cell_type": "code",
   "execution_count": 16,
   "metadata": {
    "collapsed": false
   },
   "outputs": [],
   "source": [
    "require(repr)\n",
    "options(repr.plot.width=8, repr.plot.height=4)\n",
    "par(mfrow=c(1,2))\n",
    "tt=list()\n",
    "Exp_Seurat <- CreateSeuratObject(raw.data = t(ExpressionNormed[1:5000,]))\n",
    "Exp_Seurat@meta.data$sample_gp <- sample_gp[1:5000]\n",
    "Exp_Seurat@scale.data=Exp_Seurat@raw.data\n",
    "Exp_Seurat@raw.data=as(t(ExpressionMat), \"sparseMatrix\")\n",
    "Exp_Seurat <- RunPCA(object = Exp_Seurat, pc.genes = HVG[1:1000], pcs.compute = 50,do.print = F)\n",
    "\n",
    "ptm <- proc.time()\n",
    "Exp_Seurat <- RunTSNE(object = Exp_Seurat, dims.use = 1:25, do.fast = TRUE)\n",
    "tt[[1]]=second_to_humanReadableTime(round((proc.time() - ptm)[3],2))\n",
    "\n",
    "ptm <- proc.time()\n",
    "Y <- Rtsne::Rtsne(Exp_Seurat@dr$pca@cell.embeddings[1:5000,1:25],pca=F)\n",
    "tt[[2]]=second_to_humanReadableTime(round((proc.time() - ptm)[3],2))\n",
    "\n",
    "ptm <- proc.time()\n",
    "Y_fft <- fftRtsne(pca_allcell$x[1:5000,1:25],nthreads = 1);\n",
    "#plot(Y_fft,col=iris_unique$Species,pch=19,cex=0.5) # Plot the result\n",
    "tt[[3]]=second_to_humanReadableTime(round((proc.time() - ptm)[3],2))\n",
    "\n",
    "ptm <- proc.time()\n",
    "Exp_Seuratfittsne <- RunTSNE(object = Exp_Seurat, reduction.use = \"pca\", dims.use = 1:25, tsne.method = \"FIt-SNE\",\n",
    "                             nthreads = 1,reduction.name = \"FItSNE\", reduction.key = \"FItSNE_\",\n",
    "                             fast_tsne_path = \"/home/ahe/tools/FIt-SNE/bin/fast_tsne\",max_iter = 2000)\n",
    "\n",
    "tt[[4]]=second_to_humanReadableTime(round((proc.time() - ptm)[3],2))"
   ]
  },
  {
   "cell_type": "code",
   "execution_count": 22,
   "metadata": {
    "collapsed": false
   },
   "outputs": [
    {
     "name": "stderr",
     "output_type": "stream",
     "text": [
      "0 hr 1 min 8.08 s\t Seurat_Rtsne_fast\n",
      "0 hr 1 min 3.53 s\t Rtsne_noPCA\n",
      "0 hr 0 min 55.67 s\t fftRtsne_4_thraeds\n",
      "0 hr 4 min 48.78 s\t Seurat_ffRtsne_4_threads\n",
      "0 hr 1 min 20.28 s\t Seurat_Rtsne_fast\n",
      "0 hr 1 min 10.02 s\t Rtsne_noPCA\n",
      "0 hr 1 min 4.97 s\t fftRtsne_1_thraeds\n",
      "0 hr 4 min 49.19 s\t Seurat_ffRtsne_1_threads\n"
     ]
    }
   ],
   "source": [
    "method_names=c(\"Seurat_Rtsne_fast\",\"Rtsne_noPCA\",\"fftRtsne_4_thraeds\",\"Seurat_ffRtsne_4_threads\")\n",
    "for(i in 1:4){\n",
    "    message(paste(t[[i]][1],\"hr\",t[[i]][2],\"min\",t[[i]][3],\"s\\t\",method_names[i]))\n",
    "}\n",
    "method_names=c(\"Seurat_Rtsne_fast\",\"Rtsne_noPCA\",\"fftRtsne_1_thraeds\",\"Seurat_ffRtsne_1_threads\")\n",
    "for(i in 1:4){\n",
    "    message(paste(tt[[i]][1],\"hr\",tt[[i]][2],\"min\",tt[[i]][3],\"s\\t\",method_names[i]))\n",
    "}\n"
   ]
  },
  {
   "cell_type": "markdown",
   "metadata": {
    "collapsed": true
   },
   "source": [
    "## xCell"
   ]
  },
  {
   "cell_type": "code",
   "execution_count": null,
   "metadata": {
    "collapsed": true
   },
   "outputs": [],
   "source": [
    "possible_celltype=c('aDC','Basophils','B-cells','CD4+ memory T-cells','CD4+ naive T-cells',\n",
    "                    'CD4+ T-cells','CD4+ Tcm','CD4+ Tem','CD8+ naive T-cells','CD8+ T-cells','CD8+ Tcm','CD8+ Tem','cDC',\n",
    "                    'Class-switched memory B-cells','CLP','CMP','DC','Eosinophils',\n",
    "                    'GMP','iDC','Macrophages','Macrophages M1','Macrophages M2','Mast cells',\n",
    "                    'Memory B-cells','Monocytes','naive B-cells','Neutrophils','NK cells','NKT','pDC',\n",
    "                    'Plasma cells','pro B-cells','Tgd cells','Th1 cells','Th2 cells','Tregs')\n",
    "xCellout=xCellAnalysis(t(ExpressionMat_by_gp))\n",
    "xCellout=xCellout[rownames(xCellout) %in% possible_celltype,]"
   ]
  },
  {
   "cell_type": "code",
   "execution_count": 6,
   "metadata": {
    "collapsed": false
   },
   "outputs": [
    {
     "ename": "ERROR",
     "evalue": "Error in gsub(\"/\", \"\", batchidx): object 'batchidx' not found\n",
     "output_type": "error",
     "traceback": [
      "Error in gsub(\"/\", \"\", batchidx): object 'batchidx' not found\nTraceback:\n",
      "1. gsub(\"/\", \"\", batchidx)"
     ]
    }
   ],
   "source": [
    "#rm the TRM\n",
    "batchidx=gsub(\"/\",\"\",batchidx)\n",
    "todrop=grep(\"TRM\",batchidx)\n",
    "if(length(todrop)>0){\n",
    "    batchidx=batchidx[-todrop]\n",
    "    todrop_posi=which(batch==todrop)\n",
    "    batch=batch[-todrop_posi]\n",
    "    batch=gp_name_replacing(batch,(1:max(batch))[-todrop],1:length(batchidx))\n",
    "    ExpressionMat=ExpressionMat[-todrop_posi,]\n",
    "    ExpressionMat_norm=ExpressionMat_norm[-todrop_posi,]\n",
    "    PCAresult$x=PCAresult$x[-todrop_posi,]\n",
    "    for(i in 1:length(rtsne_result2d)){\n",
    "        rtsne_result2d[[i]]$Y=rtsne_result2d[[i]]$Y[-todrop_posi,]\n",
    "    }\n",
    "    for(j in 1:length(rtsne_result3d)){\n",
    "        rtsne_result3d[[i]]$Y=rtsne_result3d[[i]]$Y[-todrop_posi,]\n",
    "    }\n",
    "}"
   ]
  },
  {
   "cell_type": "code",
   "execution_count": 8,
   "metadata": {
    "collapsed": true
   },
   "outputs": [],
   "source": [
    "possible_celltype=c('aDC','Basophils','B-cells','CD4+ memory T-cells','CD4+ naive T-cells',\n",
    "                    'CD4+ T-cells','CD4+ Tcm','CD4+ Tem','CD8+ naive T-cells','CD8+ T-cells','CD8+ Tcm','CD8+ Tem','cDC',\n",
    "                    'Class-switched memory B-cells','CLP','CMP','DC','Eosinophils',\n",
    "                    'GMP','iDC','Macrophages','Macrophages M1','Macrophages M2','Mast cells',\n",
    "                    'Memory B-cells','Monocytes','naive B-cells','Neutrophils','NK cells','NKT','pDC',\n",
    "                    'Plasma cells','pro B-cells','Tgd cells','Th1 cells','Th2 cells','Tregs','HSC','MPP','MSC')\n",
    "\n",
    "# Read in the data\n",
    "x <- scan(\"/home/ahe/Analysis/genomeFiles/Celltype_signature.csv\", what=\"\", sep=\"\\n\")\n",
    "# Separate elements by ,\n",
    "x <- strsplit(x, \"\\\\,\")\n",
    "reference_celltype_list=c()\n",
    "reference_markerGenes_list=list()\n",
    "for(i in 1:length(x)){\n",
    "    celltype_id=gsub(\"_.*$\",\"\",x[[i]][1])\n",
    "    if(celltype_id %in% possible_celltype){\n",
    "        if(celltype_id %in% reference_celltype_list){\n",
    "            reference_markerGenes_list[[celltype_id]]=union(reference_markerGenes_list[[celltype_id]],x[[i]][-1])\n",
    "        }else{\n",
    "            reference_markerGenes_list[[celltype_id]]=x[[i]][-1]\n",
    "            reference_celltype_list=c(reference_celltype_list,celltype_id)\n",
    "        }\n",
    "    }\n",
    "}"
   ]
  },
  {
   "cell_type": "code",
   "execution_count": 30,
   "metadata": {
    "collapsed": false
   },
   "outputs": [
    {
     "data": {
      "text/html": [
       "<ol class=list-inline>\n",
       "\t<li>'BAD'</li>\n",
       "\t<li>'CD2'</li>\n",
       "\t<li>'CD3G'</li>\n",
       "\t<li>'CD5'</li>\n",
       "\t<li>'CD28'</li>\n",
       "\t<li>'CD40LG'</li>\n",
       "\t<li>'CCR4'</li>\n",
       "\t<li>'CTLA4'</li>\n",
       "\t<li>'GOLGA4'</li>\n",
       "\t<li>'HMOX2'</li>\n",
       "\t<li>'MGAT2'</li>\n",
       "\t<li>'NFE2L2'</li>\n",
       "\t<li>'PLCL1'</li>\n",
       "\t<li>'PPP2CA'</li>\n",
       "\t<li>'SON'</li>\n",
       "\t<li>'SUPV3L1'</li>\n",
       "\t<li>'TRAF1'</li>\n",
       "\t<li>'TSPYL1'</li>\n",
       "\t<li>'FBXO21'</li>\n",
       "\t<li>'NUDCD3'</li>\n",
       "\t<li>'LEPROTL1'</li>\n",
       "\t<li>'ICOS'</li>\n",
       "\t<li>'TRAT1'</li>\n",
       "\t<li>'FOXP3'</li>\n",
       "\t<li>'USP36'</li>\n",
       "\t<li>'DDX31'</li>\n",
       "\t<li>'RIC3'</li>\n",
       "\t<li>'SLTM'</li>\n",
       "\t<li>'HIPK1'</li>\n",
       "\t<li>'ATXN7L1'</li>\n",
       "\t<li>'CD3E'</li>\n",
       "\t<li>'CD6'</li>\n",
       "\t<li>'DNAH6'</li>\n",
       "\t<li>'HNRNPU'</li>\n",
       "\t<li>'MBNL1'</li>\n",
       "\t<li>'TPP2'</li>\n",
       "\t<li>'UBP1'</li>\n",
       "\t<li>'ZAP70'</li>\n",
       "\t<li>'OFD1'</li>\n",
       "\t<li>'HERC1'</li>\n",
       "\t<li>'RBM19'</li>\n",
       "\t<li>'DLEC1'</li>\n",
       "\t<li>'CCR9'</li>\n",
       "\t<li>'ZCCHC11'</li>\n",
       "\t<li>'PHF3'</li>\n",
       "\t<li>'TOR1AIP1'</li>\n",
       "\t<li>'IL21R'</li>\n",
       "\t<li>'WBP11'</li>\n",
       "\t<li>'THAP1'</li>\n",
       "\t<li>'MKL1'</li>\n",
       "\t<li>'RBM25'</li>\n",
       "\t<li>'RSRC2'</li>\n",
       "\t<li>'ZXDC'</li>\n",
       "\t<li>'HAUS3'</li>\n",
       "\t<li>'C14orf169'</li>\n",
       "\t<li>'ARID5B'</li>\n",
       "\t<li>'TOE1'</li>\n",
       "\t<li>'TUBGCP5'</li>\n",
       "\t<li>'SNX19'</li>\n",
       "\t<li>'ITK'</li>\n",
       "\t<li>'CUBN'</li>\n",
       "\t<li>'SNPH'</li>\n",
       "\t<li>'SPEG'</li>\n",
       "\t<li>'NOL9'</li>\n",
       "\t<li>'ANKRD55'</li>\n",
       "\t<li>'OBSCN'</li>\n",
       "\t<li>'CHMP7'</li>\n",
       "\t<li>'PPWD1'</li>\n",
       "\t<li>'KRIT1'</li>\n",
       "\t<li>'CCNT2'</li>\n",
       "\t<li>'CD4'</li>\n",
       "\t<li>'TNFSF8'</li>\n",
       "\t<li>'CCR8'</li>\n",
       "\t<li>'DDX5'</li>\n",
       "\t<li>'GPR183'</li>\n",
       "\t<li>'EZH1'</li>\n",
       "\t<li>'FCN1'</li>\n",
       "\t<li>'GP5'</li>\n",
       "\t<li>'ITIH4'</li>\n",
       "\t<li>'PABPC3'</li>\n",
       "\t<li>'POU6F1'</li>\n",
       "\t<li>'PPM1B'</li>\n",
       "\t<li>'RXRG'</li>\n",
       "\t<li>'ATXN7'</li>\n",
       "\t<li>'TPT1'</li>\n",
       "\t<li>'NR2C1'</li>\n",
       "\t<li>'NCK2'</li>\n",
       "\t<li>'CDC14A'</li>\n",
       "\t<li>'FUBP1'</li>\n",
       "\t<li>'UBA3'</li>\n",
       "\t<li>'SGSM2'</li>\n",
       "\t<li>'HMGN4'</li>\n",
       "\t<li>'CA5B'</li>\n",
       "\t<li>'MORC2'</li>\n",
       "\t<li>'SACM1L'</li>\n",
       "\t<li>'USP33'</li>\n",
       "\t<li>'MTO1'</li>\n",
       "\t<li>'SIT1'</li>\n",
       "\t<li>'PNMA3'</li>\n",
       "\t<li>'CRLF3'</li>\n",
       "\t<li>'UBASH3A'</li>\n",
       "\t<li>'LAX1'</li>\n",
       "\t<li>'TUG1'</li>\n",
       "\t<li>'PRPF38B'</li>\n",
       "\t<li>'ASXL2'</li>\n",
       "\t<li>'THUMPD1'</li>\n",
       "\t<li>'ARHGAP15'</li>\n",
       "\t<li>'ALG13'</li>\n",
       "\t<li>'CBLL1'</li>\n",
       "\t<li>'TRMT2B'</li>\n",
       "\t<li>'TRIM46'</li>\n",
       "\t<li>'FBXO11'</li>\n",
       "\t<li>'NFATC2IP'</li>\n",
       "\t<li>'TMEM123'</li>\n",
       "\t<li>'ZFC3H1'</li>\n",
       "\t<li>'GIMAP6'</li>\n",
       "\t<li>'CCR2'</li>\n",
       "\t<li>'ABCD2'</li>\n",
       "\t<li>'TNFRSF4'</li>\n",
       "\t<li>'TOMM20'</li>\n",
       "\t<li>'GPR171'</li>\n",
       "\t<li>'ZNF335'</li>\n",
       "\t<li>'ZNHIT6'</li>\n",
       "</ol>\n"
      ],
      "text/latex": [
       "\\begin{enumerate*}\n",
       "\\item 'BAD'\n",
       "\\item 'CD2'\n",
       "\\item 'CD3G'\n",
       "\\item 'CD5'\n",
       "\\item 'CD28'\n",
       "\\item 'CD40LG'\n",
       "\\item 'CCR4'\n",
       "\\item 'CTLA4'\n",
       "\\item 'GOLGA4'\n",
       "\\item 'HMOX2'\n",
       "\\item 'MGAT2'\n",
       "\\item 'NFE2L2'\n",
       "\\item 'PLCL1'\n",
       "\\item 'PPP2CA'\n",
       "\\item 'SON'\n",
       "\\item 'SUPV3L1'\n",
       "\\item 'TRAF1'\n",
       "\\item 'TSPYL1'\n",
       "\\item 'FBXO21'\n",
       "\\item 'NUDCD3'\n",
       "\\item 'LEPROTL1'\n",
       "\\item 'ICOS'\n",
       "\\item 'TRAT1'\n",
       "\\item 'FOXP3'\n",
       "\\item 'USP36'\n",
       "\\item 'DDX31'\n",
       "\\item 'RIC3'\n",
       "\\item 'SLTM'\n",
       "\\item 'HIPK1'\n",
       "\\item 'ATXN7L1'\n",
       "\\item 'CD3E'\n",
       "\\item 'CD6'\n",
       "\\item 'DNAH6'\n",
       "\\item 'HNRNPU'\n",
       "\\item 'MBNL1'\n",
       "\\item 'TPP2'\n",
       "\\item 'UBP1'\n",
       "\\item 'ZAP70'\n",
       "\\item 'OFD1'\n",
       "\\item 'HERC1'\n",
       "\\item 'RBM19'\n",
       "\\item 'DLEC1'\n",
       "\\item 'CCR9'\n",
       "\\item 'ZCCHC11'\n",
       "\\item 'PHF3'\n",
       "\\item 'TOR1AIP1'\n",
       "\\item 'IL21R'\n",
       "\\item 'WBP11'\n",
       "\\item 'THAP1'\n",
       "\\item 'MKL1'\n",
       "\\item 'RBM25'\n",
       "\\item 'RSRC2'\n",
       "\\item 'ZXDC'\n",
       "\\item 'HAUS3'\n",
       "\\item 'C14orf169'\n",
       "\\item 'ARID5B'\n",
       "\\item 'TOE1'\n",
       "\\item 'TUBGCP5'\n",
       "\\item 'SNX19'\n",
       "\\item 'ITK'\n",
       "\\item 'CUBN'\n",
       "\\item 'SNPH'\n",
       "\\item 'SPEG'\n",
       "\\item 'NOL9'\n",
       "\\item 'ANKRD55'\n",
       "\\item 'OBSCN'\n",
       "\\item 'CHMP7'\n",
       "\\item 'PPWD1'\n",
       "\\item 'KRIT1'\n",
       "\\item 'CCNT2'\n",
       "\\item 'CD4'\n",
       "\\item 'TNFSF8'\n",
       "\\item 'CCR8'\n",
       "\\item 'DDX5'\n",
       "\\item 'GPR183'\n",
       "\\item 'EZH1'\n",
       "\\item 'FCN1'\n",
       "\\item 'GP5'\n",
       "\\item 'ITIH4'\n",
       "\\item 'PABPC3'\n",
       "\\item 'POU6F1'\n",
       "\\item 'PPM1B'\n",
       "\\item 'RXRG'\n",
       "\\item 'ATXN7'\n",
       "\\item 'TPT1'\n",
       "\\item 'NR2C1'\n",
       "\\item 'NCK2'\n",
       "\\item 'CDC14A'\n",
       "\\item 'FUBP1'\n",
       "\\item 'UBA3'\n",
       "\\item 'SGSM2'\n",
       "\\item 'HMGN4'\n",
       "\\item 'CA5B'\n",
       "\\item 'MORC2'\n",
       "\\item 'SACM1L'\n",
       "\\item 'USP33'\n",
       "\\item 'MTO1'\n",
       "\\item 'SIT1'\n",
       "\\item 'PNMA3'\n",
       "\\item 'CRLF3'\n",
       "\\item 'UBASH3A'\n",
       "\\item 'LAX1'\n",
       "\\item 'TUG1'\n",
       "\\item 'PRPF38B'\n",
       "\\item 'ASXL2'\n",
       "\\item 'THUMPD1'\n",
       "\\item 'ARHGAP15'\n",
       "\\item 'ALG13'\n",
       "\\item 'CBLL1'\n",
       "\\item 'TRMT2B'\n",
       "\\item 'TRIM46'\n",
       "\\item 'FBXO11'\n",
       "\\item 'NFATC2IP'\n",
       "\\item 'TMEM123'\n",
       "\\item 'ZFC3H1'\n",
       "\\item 'GIMAP6'\n",
       "\\item 'CCR2'\n",
       "\\item 'ABCD2'\n",
       "\\item 'TNFRSF4'\n",
       "\\item 'TOMM20'\n",
       "\\item 'GPR171'\n",
       "\\item 'ZNF335'\n",
       "\\item 'ZNHIT6'\n",
       "\\end{enumerate*}\n"
      ],
      "text/markdown": [
       "1. 'BAD'\n",
       "2. 'CD2'\n",
       "3. 'CD3G'\n",
       "4. 'CD5'\n",
       "5. 'CD28'\n",
       "6. 'CD40LG'\n",
       "7. 'CCR4'\n",
       "8. 'CTLA4'\n",
       "9. 'GOLGA4'\n",
       "10. 'HMOX2'\n",
       "11. 'MGAT2'\n",
       "12. 'NFE2L2'\n",
       "13. 'PLCL1'\n",
       "14. 'PPP2CA'\n",
       "15. 'SON'\n",
       "16. 'SUPV3L1'\n",
       "17. 'TRAF1'\n",
       "18. 'TSPYL1'\n",
       "19. 'FBXO21'\n",
       "20. 'NUDCD3'\n",
       "21. 'LEPROTL1'\n",
       "22. 'ICOS'\n",
       "23. 'TRAT1'\n",
       "24. 'FOXP3'\n",
       "25. 'USP36'\n",
       "26. 'DDX31'\n",
       "27. 'RIC3'\n",
       "28. 'SLTM'\n",
       "29. 'HIPK1'\n",
       "30. 'ATXN7L1'\n",
       "31. 'CD3E'\n",
       "32. 'CD6'\n",
       "33. 'DNAH6'\n",
       "34. 'HNRNPU'\n",
       "35. 'MBNL1'\n",
       "36. 'TPP2'\n",
       "37. 'UBP1'\n",
       "38. 'ZAP70'\n",
       "39. 'OFD1'\n",
       "40. 'HERC1'\n",
       "41. 'RBM19'\n",
       "42. 'DLEC1'\n",
       "43. 'CCR9'\n",
       "44. 'ZCCHC11'\n",
       "45. 'PHF3'\n",
       "46. 'TOR1AIP1'\n",
       "47. 'IL21R'\n",
       "48. 'WBP11'\n",
       "49. 'THAP1'\n",
       "50. 'MKL1'\n",
       "51. 'RBM25'\n",
       "52. 'RSRC2'\n",
       "53. 'ZXDC'\n",
       "54. 'HAUS3'\n",
       "55. 'C14orf169'\n",
       "56. 'ARID5B'\n",
       "57. 'TOE1'\n",
       "58. 'TUBGCP5'\n",
       "59. 'SNX19'\n",
       "60. 'ITK'\n",
       "61. 'CUBN'\n",
       "62. 'SNPH'\n",
       "63. 'SPEG'\n",
       "64. 'NOL9'\n",
       "65. 'ANKRD55'\n",
       "66. 'OBSCN'\n",
       "67. 'CHMP7'\n",
       "68. 'PPWD1'\n",
       "69. 'KRIT1'\n",
       "70. 'CCNT2'\n",
       "71. 'CD4'\n",
       "72. 'TNFSF8'\n",
       "73. 'CCR8'\n",
       "74. 'DDX5'\n",
       "75. 'GPR183'\n",
       "76. 'EZH1'\n",
       "77. 'FCN1'\n",
       "78. 'GP5'\n",
       "79. 'ITIH4'\n",
       "80. 'PABPC3'\n",
       "81. 'POU6F1'\n",
       "82. 'PPM1B'\n",
       "83. 'RXRG'\n",
       "84. 'ATXN7'\n",
       "85. 'TPT1'\n",
       "86. 'NR2C1'\n",
       "87. 'NCK2'\n",
       "88. 'CDC14A'\n",
       "89. 'FUBP1'\n",
       "90. 'UBA3'\n",
       "91. 'SGSM2'\n",
       "92. 'HMGN4'\n",
       "93. 'CA5B'\n",
       "94. 'MORC2'\n",
       "95. 'SACM1L'\n",
       "96. 'USP33'\n",
       "97. 'MTO1'\n",
       "98. 'SIT1'\n",
       "99. 'PNMA3'\n",
       "100. 'CRLF3'\n",
       "101. 'UBASH3A'\n",
       "102. 'LAX1'\n",
       "103. 'TUG1'\n",
       "104. 'PRPF38B'\n",
       "105. 'ASXL2'\n",
       "106. 'THUMPD1'\n",
       "107. 'ARHGAP15'\n",
       "108. 'ALG13'\n",
       "109. 'CBLL1'\n",
       "110. 'TRMT2B'\n",
       "111. 'TRIM46'\n",
       "112. 'FBXO11'\n",
       "113. 'NFATC2IP'\n",
       "114. 'TMEM123'\n",
       "115. 'ZFC3H1'\n",
       "116. 'GIMAP6'\n",
       "117. 'CCR2'\n",
       "118. 'ABCD2'\n",
       "119. 'TNFRSF4'\n",
       "120. 'TOMM20'\n",
       "121. 'GPR171'\n",
       "122. 'ZNF335'\n",
       "123. 'ZNHIT6'\n",
       "\n",
       "\n"
      ],
      "text/plain": [
       "  [1] \"BAD\"       \"CD2\"       \"CD3G\"      \"CD5\"       \"CD28\"      \"CD40LG\"   \n",
       "  [7] \"CCR4\"      \"CTLA4\"     \"GOLGA4\"    \"HMOX2\"     \"MGAT2\"     \"NFE2L2\"   \n",
       " [13] \"PLCL1\"     \"PPP2CA\"    \"SON\"       \"SUPV3L1\"   \"TRAF1\"     \"TSPYL1\"   \n",
       " [19] \"FBXO21\"    \"NUDCD3\"    \"LEPROTL1\"  \"ICOS\"      \"TRAT1\"     \"FOXP3\"    \n",
       " [25] \"USP36\"     \"DDX31\"     \"RIC3\"      \"SLTM\"      \"HIPK1\"     \"ATXN7L1\"  \n",
       " [31] \"CD3E\"      \"CD6\"       \"DNAH6\"     \"HNRNPU\"    \"MBNL1\"     \"TPP2\"     \n",
       " [37] \"UBP1\"      \"ZAP70\"     \"OFD1\"      \"HERC1\"     \"RBM19\"     \"DLEC1\"    \n",
       " [43] \"CCR9\"      \"ZCCHC11\"   \"PHF3\"      \"TOR1AIP1\"  \"IL21R\"     \"WBP11\"    \n",
       " [49] \"THAP1\"     \"MKL1\"      \"RBM25\"     \"RSRC2\"     \"ZXDC\"      \"HAUS3\"    \n",
       " [55] \"C14orf169\" \"ARID5B\"    \"TOE1\"      \"TUBGCP5\"   \"SNX19\"     \"ITK\"      \n",
       " [61] \"CUBN\"      \"SNPH\"      \"SPEG\"      \"NOL9\"      \"ANKRD55\"   \"OBSCN\"    \n",
       " [67] \"CHMP7\"     \"PPWD1\"     \"KRIT1\"     \"CCNT2\"     \"CD4\"       \"TNFSF8\"   \n",
       " [73] \"CCR8\"      \"DDX5\"      \"GPR183\"    \"EZH1\"      \"FCN1\"      \"GP5\"      \n",
       " [79] \"ITIH4\"     \"PABPC3\"    \"POU6F1\"    \"PPM1B\"     \"RXRG\"      \"ATXN7\"    \n",
       " [85] \"TPT1\"      \"NR2C1\"     \"NCK2\"      \"CDC14A\"    \"FUBP1\"     \"UBA3\"     \n",
       " [91] \"SGSM2\"     \"HMGN4\"     \"CA5B\"      \"MORC2\"     \"SACM1L\"    \"USP33\"    \n",
       " [97] \"MTO1\"      \"SIT1\"      \"PNMA3\"     \"CRLF3\"     \"UBASH3A\"   \"LAX1\"     \n",
       "[103] \"TUG1\"      \"PRPF38B\"   \"ASXL2\"     \"THUMPD1\"   \"ARHGAP15\"  \"ALG13\"    \n",
       "[109] \"CBLL1\"     \"TRMT2B\"    \"TRIM46\"    \"FBXO11\"    \"NFATC2IP\"  \"TMEM123\"  \n",
       "[115] \"ZFC3H1\"    \"GIMAP6\"    \"CCR2\"      \"ABCD2\"     \"TNFRSF4\"   \"TOMM20\"   \n",
       "[121] \"GPR171\"    \"ZNF335\"    \"ZNHIT6\"   "
      ]
     },
     "metadata": {},
     "output_type": "display_data"
    },
    {
     "data": {
      "text/html": [
       "<ol class=list-inline>\n",
       "\t<li>'CD8A'</li>\n",
       "\t<li>'CD8B'</li>\n",
       "\t<li>'IL16'</li>\n",
       "\t<li>'MMP19'</li>\n",
       "\t<li>'NFKB1'</li>\n",
       "\t<li>'NPAT'</li>\n",
       "\t<li>'PCNT'</li>\n",
       "\t<li>'PFN2'</li>\n",
       "\t<li>'PURA'</li>\n",
       "\t<li>'RING1'</li>\n",
       "\t<li>'MTRF1'</li>\n",
       "\t<li>'TSPAN32'</li>\n",
       "\t<li>'CEPT1'</li>\n",
       "\t<li>'RBM34'</li>\n",
       "\t<li>'CLUAP1'</li>\n",
       "\t<li>'CBY1'</li>\n",
       "\t<li>'POP5'</li>\n",
       "\t<li>'YLPM1'</li>\n",
       "\t<li>'CRTAM'</li>\n",
       "\t<li>'CIAPIN1'</li>\n",
       "\t<li>'CA6'</li>\n",
       "\t<li>'CTSW'</li>\n",
       "\t<li>'FKTN'</li>\n",
       "\t<li>'NDUFS2'</li>\n",
       "\t<li>'S100B'</li>\n",
       "\t<li>'ZNF200'</li>\n",
       "\t<li>'MYOM1'</li>\n",
       "\t<li>'SDCCAG3'</li>\n",
       "\t<li>'BTN2A1'</li>\n",
       "\t<li>'COG2'</li>\n",
       "\t<li>'UTP20'</li>\n",
       "\t<li>'DPP8'</li>\n",
       "\t<li>'CCDC25'</li>\n",
       "\t<li>'NKRF'</li>\n",
       "\t<li>'GGNBP2'</li>\n",
       "\t<li>'WDR82'</li>\n",
       "\t<li>'NDFIP1'</li>\n",
       "\t<li>'TMEM41B'</li>\n",
       "\t<li>'NAA16'</li>\n",
       "\t<li>'CASP8'</li>\n",
       "\t<li>'GZMK'</li>\n",
       "\t<li>'PTGDR'</li>\n",
       "\t<li>'SLC1A7'</li>\n",
       "\t<li>'KLRG1'</li>\n",
       "\t<li>'NPRL2'</li>\n",
       "\t<li>'DHX15'</li>\n",
       "\t<li>'GZMM'</li>\n",
       "\t<li>'HNRNPL'</li>\n",
       "\t<li>'KRT2'</li>\n",
       "\t<li>'PRL'</li>\n",
       "\t<li>'RASA2'</li>\n",
       "\t<li>'RPL37A'</li>\n",
       "\t<li>'ZNF154'</li>\n",
       "\t<li>'PRPF4B'</li>\n",
       "\t<li>'MED17'</li>\n",
       "\t<li>'HNRNPA0'</li>\n",
       "\t<li>'SHANK1'</li>\n",
       "\t<li>'ZNF639'</li>\n",
       "\t<li>'GJC2'</li>\n",
       "\t<li>'IRF3'</li>\n",
       "\t<li>'TBCC'</li>\n",
       "\t<li>'SDAD1'</li>\n",
       "\t<li>'FTO'</li>\n",
       "\t<li>'RNF113A'</li>\n",
       "\t<li>'CD160'</li>\n",
       "\t<li>'COPZ1'</li>\n",
       "\t<li>'MKRN2'</li>\n",
       "\t<li>'UBE2Q1'</li>\n",
       "\t<li>'C7orf26'</li>\n",
       "\t<li>'EML3'</li>\n",
       "\t<li>'CX3CR1'</li>\n",
       "\t<li>'EEF1D'</li>\n",
       "\t<li>'GZMH'</li>\n",
       "\t<li>'KLRB1'</li>\n",
       "\t<li>'LAIR2'</li>\n",
       "\t<li>'PTPN4'</li>\n",
       "\t<li>'FBXW4'</li>\n",
       "\t<li>'RWDD3'</li>\n",
       "\t<li>'TOMM7'</li>\n",
       "\t<li>'FAM134C'</li>\n",
       "\t<li>'CCDC53'</li>\n",
       "</ol>\n"
      ],
      "text/latex": [
       "\\begin{enumerate*}\n",
       "\\item 'CD8A'\n",
       "\\item 'CD8B'\n",
       "\\item 'IL16'\n",
       "\\item 'MMP19'\n",
       "\\item 'NFKB1'\n",
       "\\item 'NPAT'\n",
       "\\item 'PCNT'\n",
       "\\item 'PFN2'\n",
       "\\item 'PURA'\n",
       "\\item 'RING1'\n",
       "\\item 'MTRF1'\n",
       "\\item 'TSPAN32'\n",
       "\\item 'CEPT1'\n",
       "\\item 'RBM34'\n",
       "\\item 'CLUAP1'\n",
       "\\item 'CBY1'\n",
       "\\item 'POP5'\n",
       "\\item 'YLPM1'\n",
       "\\item 'CRTAM'\n",
       "\\item 'CIAPIN1'\n",
       "\\item 'CA6'\n",
       "\\item 'CTSW'\n",
       "\\item 'FKTN'\n",
       "\\item 'NDUFS2'\n",
       "\\item 'S100B'\n",
       "\\item 'ZNF200'\n",
       "\\item 'MYOM1'\n",
       "\\item 'SDCCAG3'\n",
       "\\item 'BTN2A1'\n",
       "\\item 'COG2'\n",
       "\\item 'UTP20'\n",
       "\\item 'DPP8'\n",
       "\\item 'CCDC25'\n",
       "\\item 'NKRF'\n",
       "\\item 'GGNBP2'\n",
       "\\item 'WDR82'\n",
       "\\item 'NDFIP1'\n",
       "\\item 'TMEM41B'\n",
       "\\item 'NAA16'\n",
       "\\item 'CASP8'\n",
       "\\item 'GZMK'\n",
       "\\item 'PTGDR'\n",
       "\\item 'SLC1A7'\n",
       "\\item 'KLRG1'\n",
       "\\item 'NPRL2'\n",
       "\\item 'DHX15'\n",
       "\\item 'GZMM'\n",
       "\\item 'HNRNPL'\n",
       "\\item 'KRT2'\n",
       "\\item 'PRL'\n",
       "\\item 'RASA2'\n",
       "\\item 'RPL37A'\n",
       "\\item 'ZNF154'\n",
       "\\item 'PRPF4B'\n",
       "\\item 'MED17'\n",
       "\\item 'HNRNPA0'\n",
       "\\item 'SHANK1'\n",
       "\\item 'ZNF639'\n",
       "\\item 'GJC2'\n",
       "\\item 'IRF3'\n",
       "\\item 'TBCC'\n",
       "\\item 'SDAD1'\n",
       "\\item 'FTO'\n",
       "\\item 'RNF113A'\n",
       "\\item 'CD160'\n",
       "\\item 'COPZ1'\n",
       "\\item 'MKRN2'\n",
       "\\item 'UBE2Q1'\n",
       "\\item 'C7orf26'\n",
       "\\item 'EML3'\n",
       "\\item 'CX3CR1'\n",
       "\\item 'EEF1D'\n",
       "\\item 'GZMH'\n",
       "\\item 'KLRB1'\n",
       "\\item 'LAIR2'\n",
       "\\item 'PTPN4'\n",
       "\\item 'FBXW4'\n",
       "\\item 'RWDD3'\n",
       "\\item 'TOMM7'\n",
       "\\item 'FAM134C'\n",
       "\\item 'CCDC53'\n",
       "\\end{enumerate*}\n"
      ],
      "text/markdown": [
       "1. 'CD8A'\n",
       "2. 'CD8B'\n",
       "3. 'IL16'\n",
       "4. 'MMP19'\n",
       "5. 'NFKB1'\n",
       "6. 'NPAT'\n",
       "7. 'PCNT'\n",
       "8. 'PFN2'\n",
       "9. 'PURA'\n",
       "10. 'RING1'\n",
       "11. 'MTRF1'\n",
       "12. 'TSPAN32'\n",
       "13. 'CEPT1'\n",
       "14. 'RBM34'\n",
       "15. 'CLUAP1'\n",
       "16. 'CBY1'\n",
       "17. 'POP5'\n",
       "18. 'YLPM1'\n",
       "19. 'CRTAM'\n",
       "20. 'CIAPIN1'\n",
       "21. 'CA6'\n",
       "22. 'CTSW'\n",
       "23. 'FKTN'\n",
       "24. 'NDUFS2'\n",
       "25. 'S100B'\n",
       "26. 'ZNF200'\n",
       "27. 'MYOM1'\n",
       "28. 'SDCCAG3'\n",
       "29. 'BTN2A1'\n",
       "30. 'COG2'\n",
       "31. 'UTP20'\n",
       "32. 'DPP8'\n",
       "33. 'CCDC25'\n",
       "34. 'NKRF'\n",
       "35. 'GGNBP2'\n",
       "36. 'WDR82'\n",
       "37. 'NDFIP1'\n",
       "38. 'TMEM41B'\n",
       "39. 'NAA16'\n",
       "40. 'CASP8'\n",
       "41. 'GZMK'\n",
       "42. 'PTGDR'\n",
       "43. 'SLC1A7'\n",
       "44. 'KLRG1'\n",
       "45. 'NPRL2'\n",
       "46. 'DHX15'\n",
       "47. 'GZMM'\n",
       "48. 'HNRNPL'\n",
       "49. 'KRT2'\n",
       "50. 'PRL'\n",
       "51. 'RASA2'\n",
       "52. 'RPL37A'\n",
       "53. 'ZNF154'\n",
       "54. 'PRPF4B'\n",
       "55. 'MED17'\n",
       "56. 'HNRNPA0'\n",
       "57. 'SHANK1'\n",
       "58. 'ZNF639'\n",
       "59. 'GJC2'\n",
       "60. 'IRF3'\n",
       "61. 'TBCC'\n",
       "62. 'SDAD1'\n",
       "63. 'FTO'\n",
       "64. 'RNF113A'\n",
       "65. 'CD160'\n",
       "66. 'COPZ1'\n",
       "67. 'MKRN2'\n",
       "68. 'UBE2Q1'\n",
       "69. 'C7orf26'\n",
       "70. 'EML3'\n",
       "71. 'CX3CR1'\n",
       "72. 'EEF1D'\n",
       "73. 'GZMH'\n",
       "74. 'KLRB1'\n",
       "75. 'LAIR2'\n",
       "76. 'PTPN4'\n",
       "77. 'FBXW4'\n",
       "78. 'RWDD3'\n",
       "79. 'TOMM7'\n",
       "80. 'FAM134C'\n",
       "81. 'CCDC53'\n",
       "\n",
       "\n"
      ],
      "text/plain": [
       " [1] \"CD8A\"    \"CD8B\"    \"IL16\"    \"MMP19\"   \"NFKB1\"   \"NPAT\"    \"PCNT\"   \n",
       " [8] \"PFN2\"    \"PURA\"    \"RING1\"   \"MTRF1\"   \"TSPAN32\" \"CEPT1\"   \"RBM34\"  \n",
       "[15] \"CLUAP1\"  \"CBY1\"    \"POP5\"    \"YLPM1\"   \"CRTAM\"   \"CIAPIN1\" \"CA6\"    \n",
       "[22] \"CTSW\"    \"FKTN\"    \"NDUFS2\"  \"S100B\"   \"ZNF200\"  \"MYOM1\"   \"SDCCAG3\"\n",
       "[29] \"BTN2A1\"  \"COG2\"    \"UTP20\"   \"DPP8\"    \"CCDC25\"  \"NKRF\"    \"GGNBP2\" \n",
       "[36] \"WDR82\"   \"NDFIP1\"  \"TMEM41B\" \"NAA16\"   \"CASP8\"   \"GZMK\"    \"PTGDR\"  \n",
       "[43] \"SLC1A7\"  \"KLRG1\"   \"NPRL2\"   \"DHX15\"   \"GZMM\"    \"HNRNPL\"  \"KRT2\"   \n",
       "[50] \"PRL\"     \"RASA2\"   \"RPL37A\"  \"ZNF154\"  \"PRPF4B\"  \"MED17\"   \"HNRNPA0\"\n",
       "[57] \"SHANK1\"  \"ZNF639\"  \"GJC2\"    \"IRF3\"    \"TBCC\"    \"SDAD1\"   \"FTO\"    \n",
       "[64] \"RNF113A\" \"CD160\"   \"COPZ1\"   \"MKRN2\"   \"UBE2Q1\"  \"C7orf26\" \"EML3\"   \n",
       "[71] \"CX3CR1\"  \"EEF1D\"   \"GZMH\"    \"KLRB1\"   \"LAIR2\"   \"PTPN4\"   \"FBXW4\"  \n",
       "[78] \"RWDD3\"   \"TOMM7\"   \"FAM134C\" \"CCDC53\" "
      ]
     },
     "metadata": {},
     "output_type": "display_data"
    }
   ],
   "source": [
    "setdiff(reference_markerGenes_list$\"CD4+ T-cells\",reference_markerGenes_list$\"CD8+ T-cells\")\n",
    "setdiff(reference_markerGenes_list$\"CD8+ T-cells\",reference_markerGenes_list$\"CD4+ T-cells\")"
   ]
  },
  {
   "cell_type": "code",
   "execution_count": null,
   "metadata": {
    "collapsed": true
   },
   "outputs": [],
   "source": [
    "markerGenes_list=list()\n",
    "match_num_matrix=matrix(0,length(levels(Exp_Seurat@ident)),length(reference_markerGenes_list))\n",
    "match_geneid_matrix=matrix(\"\",length(levels(Exp_Seurat@ident)),length(reference_markerGenes_list))\n",
    "colnames(match_num_matrix)=names(reference_markerGenes_list)\n",
    "rownames(match_num_matrix)=levels(Exp_Seurat@ident)\n",
    "colnames(match_geneid_matrix)=names(reference_markerGenes_list)\n",
    "rownames(match_geneid_matrix)=levels(Exp_Seurat@ident)\n",
    "for(i in 1:length(levels(Exp_Seurat@ident))){\n",
    "    markerGenes_list[[i]]=marker_genesgene[marker_genes$cluster==i-1]\n",
    "    for(j in 1:length(reference_celltype_list)){\n",
    "        match_num_matrix[i,j]=sum(markerGenes_list[[i]] %in% reference_markerGenes_list[[j]])\n",
    "        match_geneid_matrix[i,j]=paste0(intersect(markerGenes_list[[i]],reference_markerGenes_list[[j]]),collapse = \", \")\n",
    "    }\n",
    "}"
   ]
  }
 ],
 "metadata": {
  "anaconda-cloud": {},
  "kernelspec": {
   "display_name": "R",
   "language": "R",
   "name": "ir"
  },
  "language_info": {
   "codemirror_mode": "r",
   "file_extension": ".r",
   "mimetype": "text/x-r-source",
   "name": "R",
   "pygments_lexer": "r",
   "version": "3.4.4"
  }
 },
 "nbformat": 4,
 "nbformat_minor": 0
}
