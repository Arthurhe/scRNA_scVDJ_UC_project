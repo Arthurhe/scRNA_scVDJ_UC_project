{
 "cells": [
  {
   "cell_type": "code",
   "execution_count": 79,
   "metadata": {
    "collapsed": false
   },
   "outputs": [],
   "source": [
    "suppressMessages(require(Rtsne))\n",
    "suppressMessages(require(cellrangerRkit))\n",
    "suppressMessages(require(ggplot2))\n",
    "suppressMessages(require(data.table))\n",
    "suppressMessages(require(gplots))\n",
    "suppressMessages(require(matrixStats))\n",
    "suppressMessages(require(RColorBrewer))\n",
    "#suppressMessages(require(RUVnormalize))\n",
    "#suppressMessages(require(SCnorm))\n",
    "require(mixtools)\n",
    "\n",
    "pMannWhitne=function(group1,group2){\n",
    "    p=sapply(seq(ncol(group1)),function(x){wilcox.test(group1[,x], group2[,x],exact=F)$p.value})\n",
    "    foldchange=sapply(seq(ncol(group1)),function(x){log2(mean(group1[,x]))-log2(mean(group2[,x]))})\n",
    "    o=cbind(p,foldchange)\n",
    "    colnames(o)=c(\"pval\",\"foldchange\")\n",
    "    return(p)\n",
    "}\n",
    "\n",
    "Mode <- function(x) {\n",
    "  ux <- unique(x)\n",
    "  ux[which.max(tabulate(match(x, ux)))]\n",
    "}\n",
    "\n",
    "substrRight <- function(x, n){\n",
    "  substr(x, nchar(x)-n+1, nchar(x))\n",
    "}\n",
    "\n",
    "upfirstletter <- function(s){\n",
    "    paste0(toupper(substring(s, 1,1)), tolower(substring(s, 2)))\n",
    "}\n",
    "\n",
    "duplicate_alterning=function(df,altersd=0.1){\n",
    "    tagduplicated=which(duplicated(df))\n",
    "    if(length(tagduplicated)>0){\n",
    "        df[tagduplicated,]=df[tagduplicated,]+rnorm(ncol(df)*length(tagduplicated), 0, altersd)\n",
    "    }\n",
    "    return(df)\n",
    "}\n",
    "\n",
    "idconversion=data.frame(old=c(\"2B4-CD244\",\"C-KIT-CD117\",\"CD103\",\"CD11A\",\"CD11B\",\"CD11C\",\"CD122\",\"CD123\",\"CD127\",\"CD16\",\"CD161\",\"CD25\",\"CD29\",\"CD34\",\"CD39\",\"CD45\",\"CD45RA\",\"CD45RO\",\"CD49A\",\"CD49D\",\"CD56\",\"CD57\",\"CD62L\",\"CD94\",\"CD95\",\"CRTH2-CD294\",\"CTLA4-CD152\",\"CXCR3-CD183\",\"HLA-DR\",\"IL21R-CD360\",\"NKP46-CD335\",\"OX40\",\"PDL-1-CD274\",\"TCRAB\",\"TCRGD\",\"TIM-3\",\"VA7-2\",\"VD2\",\"B7\",\"GP130\"),\n",
    "                        new=c(\"CD244\",\"KIT\",\"ITGAE\",\"ITGAL\",\"ITGAM\",\"ITGAX\",\"IL2RB\",\"IL3RA\",\"IL7R\",\"FCGR3A\",\"KLRB1\",\"IL2RA\",\"ITGB1\",\"CD34\",\"ENTPD1\",\"PTPRC\",\"PTPRC\",\"PTPRC\",\"ITGA1\",\"ITGA4\",\"NCAM1\",\"B3GAT1\",\"SELL\",\"KLRD1\",\"FAS\",\"PTGDR2\",\"CTLA4\",\"CXCR3\",\"HLA-DRA\",\"IL21R\",\"NCR1\",\"TNFRSF4\",\"PDL1\",\"TRAC\",\"TRDC\",\"HAVCR2\",\"TRAV7\",\"VD2\",\"CD80\",\"IL6ST\"),\n",
    "                        stringsAsFactors=F)\n",
    "\n",
    "#parameter setting\n",
    "genome <- \"GRCh38\"\n",
    "min_genenum=20 #minimun gene number required per cell, used in filtering the ball\n",
    "cell_per_sample=200\n",
    "nKeep=5000\n",
    "cellmax=10000\n",
    "cellrangerOutDir=\"/home/ahe/Analysis/201801_JohnVDJ/data/10x\"\n",
    "proteinDir=\"/home/ahe/Analysis/201801_JohnVDJ/data/protein\"\n",
    "\n",
    "proteinfiles=list.files(path = proteinDir, pattern = \"_AOC.matrix.umi.txt\", full.names = T)\n",
    "samplesnames=gsub(paste0(proteinDir,\"/\"),\"\",gsub(\"_AOC.matrix.umi.txt\",\"\",proteinfiles))\n",
    "tagdir=paste0(cellrangerOutDir,\"/\",samplesnames,\"_10x\")"
   ]
  },
  {
   "cell_type": "code",
   "execution_count": 87,
   "metadata": {
    "collapsed": false
   },
   "outputs": [
    {
     "name": "stdout",
     "output_type": "stream",
     "text": [
      "1\n",
      "2\n",
      "3\n",
      "4\n",
      "5\n",
      "6\n"
     ]
    }
   ],
   "source": [
    "#combining of all single library\n",
    "set.seed(123)\n",
    "gene_bc_matrix=list()\n",
    "protein_mat=list()\n",
    "for(i in 1:length(tagdir)){\n",
    "    #readin cells\n",
    "    gene_bc_matrix[[i]]=load_cellranger_matrix_h5(tagdir[i], genome=genome,barcode_filtered =F)\n",
    "    gene_bc_matrix[[i]]=exprs(gene_bc_matrix[[i]])\n",
    "    gene_bc_matrix[[i]]=as.matrix(gene_bc_matrix[[i]][,colSums(gene_bc_matrix[[i]])>50]) #the filtering need to be tinkered with\n",
    "    gene_bc_matrix[[i]]=gene_bc_matrix[[i]][,order(colSums(gene_bc_matrix[[i]]),decreasing = T)]\n",
    "    #filter out the \"ball\"\n",
    "    temp=t(gene_bc_matrix[[i]][rowSums(gene_bc_matrix[[i]])>ncol(gene_bc_matrix[[i]])/100,]) # store cells with filtered gene num\n",
    "    genenum=rowSums(temp>2)\n",
    "    gene_bc_matrix[[i]]=gene_bc_matrix[[i]][,genenum>=50] \n",
    "    gene_bc_matrix[[i]]=t(gene_bc_matrix[[i]])\n",
    "    \n",
    "    #read protein data\n",
    "    protein_mat[[i]]=fread(proteinfiles[i],data.table=F)\n",
    "    rownames(protein_mat[[i]])=protein_mat[[i]][,1]\n",
    "    protein_mat[[i]]=protein_mat[[i]][,-1]\n",
    "    rownames(gene_bc_matrix[[i]])=gsub(\"1$\", i, rownames(gene_bc_matrix[[i]]))\n",
    "    rownames(protein_mat[[i]])=gsub(\"1$\", i, rownames(protein_mat[[i]]))\n",
    "    \n",
    "    #some other statistics\n",
    "    cat(paste0(i,\"\\n\"))\n",
    "}\n",
    "ExpressionMat=do.call(rbind,gene_bc_matrix)\n",
    "ProteinMat=do.call(rbind,protein_mat)\n",
    "rightorder=1:length(tagdir)\n",
    "rm(gene_bc_matrix)\n",
    "\n",
    "#filter the unused gene\n",
    "ExpressionMat=ExpressionMat[,colSums(ExpressionMat)>2]\n",
    "\n",
    "#filter based on UMI\n",
    "#only the gene that have 1 UMI in more than 1% of cells are counted as valid\n",
    "ExpressionBinaryMat=ExpressionMat>=1\n",
    "ExpressionMat=ExpressionMat[,colSums(ExpressionBinaryMat)>nrow(ExpressionMat)/100]\n",
    "rm(ExpressionBinaryMat)\n",
    "\n",
    "#remove duplicate cells\n",
    "ExpressionMat=duplicate_alterning(ExpressionMat)\n",
    "ProteinMat=duplicate_alterning(ProteinMat)\n",
    "\n",
    "#change gene name\n",
    "#load gene names to the object\n",
    "\n",
    "mart <- biomaRt::useMart(biomart = \"ENSEMBL_MART_ENSEMBL\",\n",
    "  dataset = \"hsapiens_gene_ensembl\",  #human\n",
    "  host = 'ensembl.org')\n",
    "#biomaRt::listAttributes(mart)\n",
    "t2g <- biomaRt::getBM(attributes = c(\"ensembl_transcript_id\", \"ensembl_gene_id\",\n",
    "    \"external_gene_name\",\"chromosome_name\",\"start_position\",\"end_position\",\"strand\"), mart = mart)\n",
    "t2g <- dplyr::rename(t2g, target_id = ensembl_transcript_id,\n",
    "  ens_gene = ensembl_gene_id, ext_gene = external_gene_name)\n",
    "\n",
    "#change name\n",
    "ExpressionMat=ExpressionMat[,which(colnames(ExpressionMat) %in% t2g$ens_gene)]\n",
    "colnames(ExpressionMat)=t2g$ext_gene[match(colnames(ExpressionMat),t2g$ens_gene)]\n",
    "colnames(ExpressionMat)[which(duplicated(colnames(ExpressionMat)))]=paste0(colnames(ExpressionMat)[which(duplicated(colnames(ExpressionMat)))],\"_1\")\n",
    "\n",
    "#change name for protein\n",
    "colnames(ProteinMat)=toupper(colnames(ProteinMat))\n",
    "colnames(ProteinMat)[colnames(ProteinMat) %in% idconversion$old]=idconversion$new[match(colnames(ProteinMat)[colnames(ProteinMat) %in% idconversion$old],idconversion$old)]"
   ]
  },
  {
   "cell_type": "code",
   "execution_count": 83,
   "metadata": {
    "collapsed": false
   },
   "outputs": [],
   "source": [
    "ProteinMat_new=ProteinMat[rownames(ProteinMat) %in% rownames(ExpressionMat),]\n",
    "ExpressionMatt_new=ExpressionMat[rownames(ExpressionMat) %in% rownames(ProteinMat),]\n",
    "ProteinMat_new=ProteinMat_new[match(rownames(ExpressionMatt_new),rownames(ProteinMat_new)),]\n",
    "batch=as.numeric(substrRight(rownames(ExpressionMatt_new),1))\n",
    "\n",
    "#z score by column(gene)\n",
    "ExpressionMat_norm=t(apply(ExpressionMatt_new,1,function(x){x/sum(x)*1000000}))\n",
    "ExpressionMat_norm=scale(ExpressionMat_norm)\n",
    "\n",
    "ProteinMat_norm=t(apply(ProteinMat_new,1,function(x){x/sum(x)*1000000}))\n",
    "ProteinMat_norm=scale(ProteinMat_norm)\n",
    "ProteinMat_norm[,is.na(colSums(ProteinMat_norm))]=0"
   ]
  },
  {
   "cell_type": "code",
   "execution_count": 6,
   "metadata": {
    "collapsed": false
   },
   "outputs": [
    {
     "data": {
      "text/html": [
       "<ol class=list-inline>\n",
       "\t<li>'CCR1'</li>\n",
       "\t<li>'CCR2'</li>\n",
       "\t<li>'CCR4'</li>\n",
       "\t<li>'CCR6'</li>\n",
       "\t<li>'CCR9'</li>\n",
       "\t<li>'CD19'</li>\n",
       "\t<li>'CD27'</li>\n",
       "\t<li>'CD28'</li>\n",
       "\t<li>'CD38'</li>\n",
       "\t<li>'CD3E'</li>\n",
       "\t<li>'CD4'</li>\n",
       "\t<li>'CD44'</li>\n",
       "\t<li>'CD69'</li>\n",
       "\t<li>'CD7'</li>\n",
       "\t<li>'CD8A'</li>\n",
       "\t<li>'CX3CR1'</li>\n",
       "\t<li>'CXCR5'</li>\n",
       "\t<li>'ICOS'</li>\n",
       "\t<li>'IL15RA'</li>\n",
       "\t<li>'IL23R'</li>\n",
       "\t<li>'KLRG1'</li>\n",
       "\t<li>'TIGIT'</li>\n",
       "\t<li>'CCR7'</li>\n",
       "</ol>\n"
      ],
      "text/latex": [
       "\\begin{enumerate*}\n",
       "\\item 'CCR1'\n",
       "\\item 'CCR2'\n",
       "\\item 'CCR4'\n",
       "\\item 'CCR6'\n",
       "\\item 'CCR9'\n",
       "\\item 'CD19'\n",
       "\\item 'CD27'\n",
       "\\item 'CD28'\n",
       "\\item 'CD38'\n",
       "\\item 'CD3E'\n",
       "\\item 'CD4'\n",
       "\\item 'CD44'\n",
       "\\item 'CD69'\n",
       "\\item 'CD7'\n",
       "\\item 'CD8A'\n",
       "\\item 'CX3CR1'\n",
       "\\item 'CXCR5'\n",
       "\\item 'ICOS'\n",
       "\\item 'IL15RA'\n",
       "\\item 'IL23R'\n",
       "\\item 'KLRG1'\n",
       "\\item 'TIGIT'\n",
       "\\item 'CCR7'\n",
       "\\end{enumerate*}\n"
      ],
      "text/markdown": [
       "1. 'CCR1'\n",
       "2. 'CCR2'\n",
       "3. 'CCR4'\n",
       "4. 'CCR6'\n",
       "5. 'CCR9'\n",
       "6. 'CD19'\n",
       "7. 'CD27'\n",
       "8. 'CD28'\n",
       "9. 'CD38'\n",
       "10. 'CD3E'\n",
       "11. 'CD4'\n",
       "12. 'CD44'\n",
       "13. 'CD69'\n",
       "14. 'CD7'\n",
       "15. 'CD8A'\n",
       "16. 'CX3CR1'\n",
       "17. 'CXCR5'\n",
       "18. 'ICOS'\n",
       "19. 'IL15RA'\n",
       "20. 'IL23R'\n",
       "21. 'KLRG1'\n",
       "22. 'TIGIT'\n",
       "23. 'CCR7'\n",
       "\n",
       "\n"
      ],
      "text/plain": [
       " [1] \"CCR1\"   \"CCR2\"   \"CCR4\"   \"CCR6\"   \"CCR9\"   \"CD19\"   \"CD27\"   \"CD28\"  \n",
       " [9] \"CD38\"   \"CD3E\"   \"CD4\"    \"CD44\"   \"CD69\"   \"CD7\"    \"CD8A\"   \"CX3CR1\"\n",
       "[17] \"CXCR5\"  \"ICOS\"   \"IL15RA\" \"IL23R\"  \"KLRG1\"  \"TIGIT\"  \"CCR7\"  "
      ]
     },
     "metadata": {},
     "output_type": "display_data"
    }
   ],
   "source": [
    "colnames(ProteinMat)[colnames(ProteinMat) %in% colnames(ExpressionMat)]"
   ]
  },
  {
   "cell_type": "code",
   "execution_count": 88,
   "metadata": {
    "collapsed": false
   },
   "outputs": [
    {
     "data": {
      "text/html": [
       "27"
      ],
      "text/latex": [
       "27"
      ],
      "text/markdown": [
       "27"
      ],
      "text/plain": [
       "[1] 27"
      ]
     },
     "metadata": {},
     "output_type": "display_data"
    }
   ],
   "source": [
    "sum(rownames(ProteinMat) %in% rownames(ExpressionMat))"
   ]
  },
  {
   "cell_type": "code",
   "execution_count": 91,
   "metadata": {
    "collapsed": false
   },
   "outputs": [
    {
     "data": {
      "text/html": [
       "241"
      ],
      "text/latex": [
       "241"
      ],
      "text/markdown": [
       "241"
      ],
      "text/plain": [
       "[1] 241"
      ]
     },
     "metadata": {},
     "output_type": "display_data"
    }
   ],
   "source": [
    "nrow(ProteinMat)"
   ]
  },
  {
   "cell_type": "code",
   "execution_count": 98,
   "metadata": {
    "collapsed": false
   },
   "outputs": [
    {
     "data": {
      "text/html": [
       "<strong>png:</strong> 2"
      ],
      "text/latex": [
       "\\textbf{png:} 2"
      ],
      "text/markdown": [
       "**png:** 2"
      ],
      "text/plain": [
       "png \n",
       "  2 "
      ]
     },
     "metadata": {},
     "output_type": "display_data"
    },
    {
     "data": {
      "text/html": [
       "<strong>png:</strong> 2"
      ],
      "text/latex": [
       "\\textbf{png:} 2"
      ],
      "text/markdown": [
       "**png:** 2"
      ],
      "text/plain": [
       "png \n",
       "  2 "
      ]
     },
     "metadata": {},
     "output_type": "display_data"
    }
   ],
   "source": [
    "Colpallete=colorRampPalette(brewer.pal(min(9,length(tagdir)), \"Set1\"))\n",
    "coltouse=Colpallete(max(batch))\n",
    "\n",
    "pdf(\"protein_rna_correlation.pdf\",width=12,height=12)\n",
    "par(mfrow=c(4,4))\n",
    "for(i in 1:ncol(ProteinMat_new)){\n",
    "    tagprotein=ProteinMat_new[,i]\n",
    "    if(length(which(colnames(ExpressionMatt_new)==colnames(ProteinMat_new)[i]))){\n",
    "        tagrna=ExpressionMatt_new[,which(colnames(ExpressionMatt_new)==colnames(ProteinMat_new)[i])]\n",
    "    }else{\n",
    "        tagrna=rep(0,nrow(ProteinMat_new))\n",
    "    }\n",
    "    plot(tagprotein,tagrna,main=paste0(\"raw:\",colnames(ProteinMat_norm)[i]),pch=19,cex=0.5,xlab=\"protein level\",ylab=\"RNA level\",col=coltouse[batch])\n",
    "}\n",
    "\n",
    "dev.off()\n",
    "\n",
    "pdf(\"protein_RNA_totalreads_per_cell.pdf\",width=12,height=6)\n",
    "par(mfrow=c(1,2))\n",
    "plot(rowSums(ProteinMat_new),rowSums(ExpressionMatt_new),pch=19,cex=0.5,xlim=c(0,200),col=coltouse[batch],xlab=\"protein reads/cell\",ylab=\"RNA reads/cell\",main=\"raw\")\n",
    "dev.off()"
   ]
  },
  {
   "cell_type": "code",
   "execution_count": 95,
   "metadata": {
    "collapsed": false
   },
   "outputs": [
    {
     "data": {
      "text/html": [
       "<dl class=dl-horizontal>\n",
       "\t<dt>CTGGTCTAGCCACGCT-1</dt>\n",
       "\t\t<dd>1</dd>\n",
       "\t<dt>CGTCTACTCACAACGT-1</dt>\n",
       "\t\t<dd>0</dd>\n",
       "\t<dt>CTTACCGTCCGAGCCA-1</dt>\n",
       "\t\t<dd>0</dd>\n",
       "\t<dt>CCACTACCACCGGAAA-2</dt>\n",
       "\t\t<dd>0</dd>\n",
       "\t<dt>CGTGTCTAGTTGAGAT-2</dt>\n",
       "\t\t<dd>0</dd>\n",
       "\t<dt>GAACGGACACATGACT-2</dt>\n",
       "\t\t<dd>1</dd>\n",
       "\t<dt>TACTCGCTCGGTGTTA-2</dt>\n",
       "\t\t<dd>0</dd>\n",
       "\t<dt>CTCATTAGTGCGAAAC-2</dt>\n",
       "\t\t<dd>0</dd>\n",
       "\t<dt>GACGTTAAGGACAGAA-2</dt>\n",
       "\t\t<dd>0</dd>\n",
       "\t<dt>TCAATCTTCCATGAGT-3</dt>\n",
       "\t\t<dd>1</dd>\n",
       "\t<dt>CTGGTCTTCGTTGACA-4</dt>\n",
       "\t\t<dd>2</dd>\n",
       "\t<dt>CATCGGGCACCGTTGG-4</dt>\n",
       "\t\t<dd>0</dd>\n",
       "\t<dt>TGTGTTTAGCCCAGCT-4</dt>\n",
       "\t\t<dd>0</dd>\n",
       "\t<dt>GCGCAACGTGGAAAGA-4</dt>\n",
       "\t\t<dd>0</dd>\n",
       "\t<dt>TCGGTAACACGGTAGA-4</dt>\n",
       "\t\t<dd>1</dd>\n",
       "\t<dt>TATCAGGCATAGGATA-4</dt>\n",
       "\t\t<dd>0</dd>\n",
       "\t<dt>GGGTTGCCATTACCTT-4</dt>\n",
       "\t\t<dd>1</dd>\n",
       "\t<dt>GGATTACCATAACCTG-4</dt>\n",
       "\t\t<dd>0</dd>\n",
       "\t<dt>TTCGAAGCATGAAGTA-4</dt>\n",
       "\t\t<dd>0</dd>\n",
       "\t<dt>TTCTTAGTCATGTCTT-4</dt>\n",
       "\t\t<dd>1</dd>\n",
       "\t<dt>TCAATCTTCAACTCTT-4</dt>\n",
       "\t\t<dd>1</dd>\n",
       "\t<dt>AAAGCAAGTTTACTCT-4</dt>\n",
       "\t\t<dd>0</dd>\n",
       "\t<dt>GGGCACTGTGAACCTT-4</dt>\n",
       "\t\t<dd>0</dd>\n",
       "\t<dt>GGCAATTCATGTAGTC-4</dt>\n",
       "\t\t<dd>0</dd>\n",
       "\t<dt>TACTCATCACATCCGG-4</dt>\n",
       "\t\t<dd>0</dd>\n",
       "\t<dt>ACTGAGTCAGGAATGC-6</dt>\n",
       "\t\t<dd>0</dd>\n",
       "\t<dt>GCTGGGTAGTGACATA-6</dt>\n",
       "\t\t<dd>2</dd>\n",
       "</dl>\n"
      ],
      "text/latex": [
       "\\begin{description*}\n",
       "\\item[CTGGTCTAGCCACGCT-1] 1\n",
       "\\item[CGTCTACTCACAACGT-1] 0\n",
       "\\item[CTTACCGTCCGAGCCA-1] 0\n",
       "\\item[CCACTACCACCGGAAA-2] 0\n",
       "\\item[CGTGTCTAGTTGAGAT-2] 0\n",
       "\\item[GAACGGACACATGACT-2] 1\n",
       "\\item[TACTCGCTCGGTGTTA-2] 0\n",
       "\\item[CTCATTAGTGCGAAAC-2] 0\n",
       "\\item[GACGTTAAGGACAGAA-2] 0\n",
       "\\item[TCAATCTTCCATGAGT-3] 1\n",
       "\\item[CTGGTCTTCGTTGACA-4] 2\n",
       "\\item[CATCGGGCACCGTTGG-4] 0\n",
       "\\item[TGTGTTTAGCCCAGCT-4] 0\n",
       "\\item[GCGCAACGTGGAAAGA-4] 0\n",
       "\\item[TCGGTAACACGGTAGA-4] 1\n",
       "\\item[TATCAGGCATAGGATA-4] 0\n",
       "\\item[GGGTTGCCATTACCTT-4] 1\n",
       "\\item[GGATTACCATAACCTG-4] 0\n",
       "\\item[TTCGAAGCATGAAGTA-4] 0\n",
       "\\item[TTCTTAGTCATGTCTT-4] 1\n",
       "\\item[TCAATCTTCAACTCTT-4] 1\n",
       "\\item[AAAGCAAGTTTACTCT-4] 0\n",
       "\\item[GGGCACTGTGAACCTT-4] 0\n",
       "\\item[GGCAATTCATGTAGTC-4] 0\n",
       "\\item[TACTCATCACATCCGG-4] 0\n",
       "\\item[ACTGAGTCAGGAATGC-6] 0\n",
       "\\item[GCTGGGTAGTGACATA-6] 2\n",
       "\\end{description*}\n"
      ],
      "text/markdown": [
       "CTGGTCTAGCCACGCT-1\n",
       ":   1CGTCTACTCACAACGT-1\n",
       ":   0CTTACCGTCCGAGCCA-1\n",
       ":   0CCACTACCACCGGAAA-2\n",
       ":   0CGTGTCTAGTTGAGAT-2\n",
       ":   0GAACGGACACATGACT-2\n",
       ":   1TACTCGCTCGGTGTTA-2\n",
       ":   0CTCATTAGTGCGAAAC-2\n",
       ":   0GACGTTAAGGACAGAA-2\n",
       ":   0TCAATCTTCCATGAGT-3\n",
       ":   1CTGGTCTTCGTTGACA-4\n",
       ":   2CATCGGGCACCGTTGG-4\n",
       ":   0TGTGTTTAGCCCAGCT-4\n",
       ":   0GCGCAACGTGGAAAGA-4\n",
       ":   0TCGGTAACACGGTAGA-4\n",
       ":   1TATCAGGCATAGGATA-4\n",
       ":   0GGGTTGCCATTACCTT-4\n",
       ":   1GGATTACCATAACCTG-4\n",
       ":   0TTCGAAGCATGAAGTA-4\n",
       ":   0TTCTTAGTCATGTCTT-4\n",
       ":   1TCAATCTTCAACTCTT-4\n",
       ":   1AAAGCAAGTTTACTCT-4\n",
       ":   0GGGCACTGTGAACCTT-4\n",
       ":   0GGCAATTCATGTAGTC-4\n",
       ":   0TACTCATCACATCCGG-4\n",
       ":   0ACTGAGTCAGGAATGC-6\n",
       ":   0GCTGGGTAGTGACATA-6\n",
       ":   2\n",
       "\n"
      ],
      "text/plain": [
       "CTGGTCTAGCCACGCT-1 CGTCTACTCACAACGT-1 CTTACCGTCCGAGCCA-1 CCACTACCACCGGAAA-2 \n",
       "                 1                  0                  0                  0 \n",
       "CGTGTCTAGTTGAGAT-2 GAACGGACACATGACT-2 TACTCGCTCGGTGTTA-2 CTCATTAGTGCGAAAC-2 \n",
       "                 0                  1                  0                  0 \n",
       "GACGTTAAGGACAGAA-2 TCAATCTTCCATGAGT-3 CTGGTCTTCGTTGACA-4 CATCGGGCACCGTTGG-4 \n",
       "                 0                  1                  2                  0 \n",
       "TGTGTTTAGCCCAGCT-4 GCGCAACGTGGAAAGA-4 TCGGTAACACGGTAGA-4 TATCAGGCATAGGATA-4 \n",
       "                 0                  0                  1                  0 \n",
       "GGGTTGCCATTACCTT-4 GGATTACCATAACCTG-4 TTCGAAGCATGAAGTA-4 TTCTTAGTCATGTCTT-4 \n",
       "                 1                  0                  0                  1 \n",
       "TCAATCTTCAACTCTT-4 AAAGCAAGTTTACTCT-4 GGGCACTGTGAACCTT-4 GGCAATTCATGTAGTC-4 \n",
       "                 1                  0                  0                  0 \n",
       "TACTCATCACATCCGG-4 ACTGAGTCAGGAATGC-6 GCTGGGTAGTGACATA-6 \n",
       "                 0                  0                  2 "
      ]
     },
     "metadata": {},
     "output_type": "display_data"
    }
   ],
   "source": [
    "tagrna"
   ]
  },
  {
   "cell_type": "code",
   "execution_count": null,
   "metadata": {
    "collapsed": true
   },
   "outputs": [],
   "source": []
  }
 ],
 "metadata": {
  "anaconda-cloud": {},
  "kernelspec": {
   "display_name": "R",
   "language": "R",
   "name": "ir"
  },
  "language_info": {
   "codemirror_mode": "r",
   "file_extension": ".r",
   "mimetype": "text/x-r-source",
   "name": "R",
   "pygments_lexer": "r",
   "version": "3.4.2"
  }
 },
 "nbformat": 4,
 "nbformat_minor": 0
}
