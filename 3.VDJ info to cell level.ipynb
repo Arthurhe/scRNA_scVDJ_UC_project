{
 "cells": [
  {
   "cell_type": "code",
   "execution_count": 1,
   "metadata": {
    "collapsed": true
   },
   "outputs": [],
   "source": [
    "suppressMessages(require(ggplot2))\n",
    "suppressMessages(require(data.table))\n",
    "suppressMessages(require(gplots))\n",
    "suppressMessages(require(Seurat))\n",
    "suppressMessages(require(Matrix))\n",
    "source(\"VDJ_ploting_suite.R\")\n",
    "source(\"VDJ_function_pack.R\")"
   ]
  },
  {
   "cell_type": "code",
   "execution_count": 2,
   "metadata": {
    "collapsed": true
   },
   "outputs": [],
   "source": [
    "load(\"180607_RUVscale.Rdata\")"
   ]
  },
  {
   "cell_type": "code",
   "execution_count": 3,
   "metadata": {
    "collapsed": false
   },
   "outputs": [
    {
     "data": {
      "text/html": [
       "<ol class=list-inline>\n",
       "\t<li>'BCR_annoation'</li>\n",
       "\t<li>'BCR_annoation_w'</li>\n",
       "\t<li>'cell_assignment_gps'</li>\n",
       "\t<li>'cellcycle_assigning'</li>\n",
       "\t<li>'cellTypeDF_processing'</li>\n",
       "\t<li>'Exp_Seurat'</li>\n",
       "\t<li>'Fill_Seurat_DR'</li>\n",
       "\t<li>'filter_ident'</li>\n",
       "\t<li>'filter_metadata'</li>\n",
       "\t<li>'gp_name_replacing'</li>\n",
       "\t<li>'HVG'</li>\n",
       "\t<li>'patient_type'</li>\n",
       "\t<li>'plotByBTType'</li>\n",
       "\t<li>'plotByCellcycle'</li>\n",
       "\t<li>'plotByCellType'</li>\n",
       "\t<li>'plotByCellType_1by1'</li>\n",
       "\t<li>'plotByCluster'</li>\n",
       "\t<li>'plotByCluster_1by1'</li>\n",
       "\t<li>'plotByDisease'</li>\n",
       "\t<li>'plotByPatient'</li>\n",
       "\t<li>'plotBySampleID'</li>\n",
       "\t<li>'plotByTissue'</li>\n",
       "\t<li>'sample_list'</li>\n",
       "\t<li>'Subsample_by_group'</li>\n",
       "\t<li>'t2g'</li>\n",
       "\t<li>'taggene_hk'</li>\n",
       "\t<li>'taggene_mt'</li>\n",
       "\t<li>'TCR_annoation'</li>\n",
       "\t<li>'TCR_annoation_w'</li>\n",
       "\t<li>'tissue_type'</li>\n",
       "\t<li>'value_spliting'</li>\n",
       "</ol>\n"
      ],
      "text/latex": [
       "\\begin{enumerate*}\n",
       "\\item 'BCR\\_annoation'\n",
       "\\item 'BCR\\_annoation\\_w'\n",
       "\\item 'cell\\_assignment\\_gps'\n",
       "\\item 'cellcycle\\_assigning'\n",
       "\\item 'cellTypeDF\\_processing'\n",
       "\\item 'Exp\\_Seurat'\n",
       "\\item 'Fill\\_Seurat\\_DR'\n",
       "\\item 'filter\\_ident'\n",
       "\\item 'filter\\_metadata'\n",
       "\\item 'gp\\_name\\_replacing'\n",
       "\\item 'HVG'\n",
       "\\item 'patient\\_type'\n",
       "\\item 'plotByBTType'\n",
       "\\item 'plotByCellcycle'\n",
       "\\item 'plotByCellType'\n",
       "\\item 'plotByCellType\\_1by1'\n",
       "\\item 'plotByCluster'\n",
       "\\item 'plotByCluster\\_1by1'\n",
       "\\item 'plotByDisease'\n",
       "\\item 'plotByPatient'\n",
       "\\item 'plotBySampleID'\n",
       "\\item 'plotByTissue'\n",
       "\\item 'sample\\_list'\n",
       "\\item 'Subsample\\_by\\_group'\n",
       "\\item 't2g'\n",
       "\\item 'taggene\\_hk'\n",
       "\\item 'taggene\\_mt'\n",
       "\\item 'TCR\\_annoation'\n",
       "\\item 'TCR\\_annoation\\_w'\n",
       "\\item 'tissue\\_type'\n",
       "\\item 'value\\_spliting'\n",
       "\\end{enumerate*}\n"
      ],
      "text/markdown": [
       "1. 'BCR_annoation'\n",
       "2. 'BCR_annoation_w'\n",
       "3. 'cell_assignment_gps'\n",
       "4. 'cellcycle_assigning'\n",
       "5. 'cellTypeDF_processing'\n",
       "6. 'Exp_Seurat'\n",
       "7. 'Fill_Seurat_DR'\n",
       "8. 'filter_ident'\n",
       "9. 'filter_metadata'\n",
       "10. 'gp_name_replacing'\n",
       "11. 'HVG'\n",
       "12. 'patient_type'\n",
       "13. 'plotByBTType'\n",
       "14. 'plotByCellcycle'\n",
       "15. 'plotByCellType'\n",
       "16. 'plotByCellType_1by1'\n",
       "17. 'plotByCluster'\n",
       "18. 'plotByCluster_1by1'\n",
       "19. 'plotByDisease'\n",
       "20. 'plotByPatient'\n",
       "21. 'plotBySampleID'\n",
       "22. 'plotByTissue'\n",
       "23. 'sample_list'\n",
       "24. 'Subsample_by_group'\n",
       "25. 't2g'\n",
       "26. 'taggene_hk'\n",
       "27. 'taggene_mt'\n",
       "28. 'TCR_annoation'\n",
       "29. 'TCR_annoation_w'\n",
       "30. 'tissue_type'\n",
       "31. 'value_spliting'\n",
       "\n",
       "\n"
      ],
      "text/plain": [
       " [1] \"BCR_annoation\"         \"BCR_annoation_w\"       \"cell_assignment_gps\"  \n",
       " [4] \"cellcycle_assigning\"   \"cellTypeDF_processing\" \"Exp_Seurat\"           \n",
       " [7] \"Fill_Seurat_DR\"        \"filter_ident\"          \"filter_metadata\"      \n",
       "[10] \"gp_name_replacing\"     \"HVG\"                   \"patient_type\"         \n",
       "[13] \"plotByBTType\"          \"plotByCellcycle\"       \"plotByCellType\"       \n",
       "[16] \"plotByCellType_1by1\"   \"plotByCluster\"         \"plotByCluster_1by1\"   \n",
       "[19] \"plotByDisease\"         \"plotByPatient\"         \"plotBySampleID\"       \n",
       "[22] \"plotByTissue\"          \"sample_list\"           \"Subsample_by_group\"   \n",
       "[25] \"t2g\"                   \"taggene_hk\"            \"taggene_mt\"           \n",
       "[28] \"TCR_annoation\"         \"TCR_annoation_w\"       \"tissue_type\"          \n",
       "[31] \"value_spliting\"       "
      ]
     },
     "metadata": {},
     "output_type": "display_data"
    }
   ],
   "source": [
    "ls()"
   ]
  },
  {
   "cell_type": "markdown",
   "metadata": {},
   "source": [
    "## T cells clonality"
   ]
  },
  {
   "cell_type": "code",
   "execution_count": null,
   "metadata": {
    "collapsed": true
   },
   "outputs": [],
   "source": [
    "# it seems that including the non-productive one is not helpful"
   ]
  },
  {
   "cell_type": "code",
   "execution_count": 12,
   "metadata": {
    "collapsed": false
   },
   "outputs": [],
   "source": [
    "TCR_productive=TCR_annoation[which(TCR_annoation$productive),]\n",
    "TCR_productive=TCR_productive[!(TCR_productive$chain %in% c(\"Multi\",\"TRD\",\"TRG\")),]\n",
    "\n",
    "TRC_distribution=data.table(table(barcode=TCR_productive$barcode,c_gene=TCR_productive$c_gene))\n",
    "TRC_distribution=data.frame(dcast(TRC_distribution, barcode ~ c_gene, value.var = \"N\"))\n"
   ]
  },
  {
   "cell_type": "code",
   "execution_count": 13,
   "metadata": {
    "collapsed": false
   },
   "outputs": [
    {
     "data": {
      "text/html": [
       "<table>\n",
       "<thead><tr><th scope=col>barcode</th><th scope=col>TRAC</th><th scope=col>TRBC1</th><th scope=col>TRBC2</th></tr></thead>\n",
       "<tbody>\n",
       "\t<tr><td>AAACCTGAGAAACCTA-16</td><td>3                  </td><td>0                  </td><td>2                  </td></tr>\n",
       "\t<tr><td>AAACCTGAGAACTCGG-15</td><td>1                  </td><td>1                  </td><td>0                  </td></tr>\n",
       "\t<tr><td>AAACCTGAGAAGATTC-15</td><td>1                  </td><td>0                  </td><td>1                  </td></tr>\n",
       "\t<tr><td>AAACCTGAGAAGATTC-5 </td><td>1                  </td><td>1                  </td><td>1                  </td></tr>\n",
       "\t<tr><td>AAACCTGAGAAGGACA-17</td><td>1                  </td><td>1                  </td><td>0                  </td></tr>\n",
       "</tbody>\n",
       "</table>\n"
      ],
      "text/latex": [
       "\\begin{tabular}{r|llll}\n",
       " barcode & TRAC & TRBC1 & TRBC2\\\\\n",
       "\\hline\n",
       "\t AAACCTGAGAAACCTA-16 & 3                   & 0                   & 2                  \\\\\n",
       "\t AAACCTGAGAACTCGG-15 & 1                   & 1                   & 0                  \\\\\n",
       "\t AAACCTGAGAAGATTC-15 & 1                   & 0                   & 1                  \\\\\n",
       "\t AAACCTGAGAAGATTC-5  & 1                   & 1                   & 1                  \\\\\n",
       "\t AAACCTGAGAAGGACA-17 & 1                   & 1                   & 0                  \\\\\n",
       "\\end{tabular}\n"
      ],
      "text/markdown": [
       "\n",
       "barcode | TRAC | TRBC1 | TRBC2 | \n",
       "|---|---|---|---|---|\n",
       "| AAACCTGAGAAACCTA-16 | 3                   | 0                   | 2                   | \n",
       "| AAACCTGAGAACTCGG-15 | 1                   | 1                   | 0                   | \n",
       "| AAACCTGAGAAGATTC-15 | 1                   | 0                   | 1                   | \n",
       "| AAACCTGAGAAGATTC-5  | 1                   | 1                   | 1                   | \n",
       "| AAACCTGAGAAGGACA-17 | 1                   | 1                   | 0                   | \n",
       "\n",
       "\n"
      ],
      "text/plain": [
       "  barcode             TRAC TRBC1 TRBC2\n",
       "1 AAACCTGAGAAACCTA-16 3    0     2    \n",
       "2 AAACCTGAGAACTCGG-15 1    1     0    \n",
       "3 AAACCTGAGAAGATTC-15 1    0     1    \n",
       "4 AAACCTGAGAAGATTC-5  1    1     1    \n",
       "5 AAACCTGAGAAGGACA-17 1    1     0    "
      ]
     },
     "metadata": {},
     "output_type": "display_data"
    }
   ],
   "source": [
    "TRC_distribution[1:5,]"
   ]
  },
  {
   "cell_type": "code",
   "execution_count": 112,
   "metadata": {
    "collapsed": false
   },
   "outputs": [
    {
     "data": {
      "text/html": [
       "171059"
      ],
      "text/latex": [
       "171059"
      ],
      "text/markdown": [
       "171059"
      ],
      "text/plain": [
       "[1] 171059"
      ]
     },
     "metadata": {},
     "output_type": "display_data"
    },
    {
     "data": {
      "text/html": [
       "69"
      ],
      "text/latex": [
       "69"
      ],
      "text/markdown": [
       "69"
      ],
      "text/plain": [
       "[1] 69"
      ]
     },
     "metadata": {},
     "output_type": "display_data"
    },
    {
     "data": {
      "text/html": [
       "566"
      ],
      "text/latex": [
       "566"
      ],
      "text/markdown": [
       "566"
      ],
      "text/plain": [
       "[1] 566"
      ]
     },
     "metadata": {},
     "output_type": "display_data"
    }
   ],
   "source": [
    "length(abTcells)\n",
    "length(gdTcells)\n",
    "length(abgdTcells)\n",
    "save(abTcells,gdTcells,abgdTcells,file=\"abgdTcell_labeling.Rdata\")"
   ]
  },
  {
   "cell_type": "markdown",
   "metadata": {},
   "source": [
    "## label L chain B cells"
   ]
  },
  {
   "cell_type": "code",
   "execution_count": 3,
   "metadata": {
    "collapsed": false
   },
   "outputs": [],
   "source": [
    "BCR_productive=BCR_annoation[which(BCR_annoation$productive),]\n",
    "BCR_productive=BCR_productive[!(BCR_productive$chain==\"Multi\"),]\n",
    "\n",
    "Ig_distribution=data.table(table(barcode=BCR_productive$barcode,c_gene=BCR_productive$c_gene))\n",
    "Ig_distribution=data.frame(dcast(Ig_distribution, barcode ~ c_gene, value.var = \"N\"))\n",
    "#rm cells that have more than 4 contigs\n",
    "Ig_distribution=Ig_distribution[rowSums(Ig_distribution[,2:ncol(Ig_distribution)])<5,]\n",
    "\n",
    "productive_cellnames=Ig_distribution$barcode\n",
    "IGApos=productive_cellnames[rowSums(Ig_distribution[,grep(\"^IGHA\",colnames(Ig_distribution))])>0]\n",
    "IGDpos=productive_cellnames[Ig_distribution[,\"IGHD\"]>0]\n",
    "IGEpos=productive_cellnames[Ig_distribution[,\"IGHE\"]>0]\n",
    "IGGpos=productive_cellnames[rowSums(Ig_distribution[,grep(\"^IGHG\",colnames(Ig_distribution))])>0]\n",
    "IGMpos=productive_cellnames[Ig_distribution[,\"IGHM\"]>0]\n",
    "IGLpos=productive_cellnames[rowSums(Ig_distribution[,grep(\"^IGL\",colnames(Ig_distribution))])>0]\n",
    "IGKpos=productive_cellnames[Ig_distribution[,\"IGKC\"]>0]\n",
    "\n",
    "IGLK_dual=intersect(IGLpos,IGKpos)\n",
    "IGL_only=setdiff(IGLpos,IGLK_dual)\n",
    "IGK_only=setdiff(IGKpos,IGLK_dual)\n",
    "\n",
    "save(IGApos,IGDpos,IGEpos,IGGpos,IGMpos,IGLpos,IGKpos,IGLK_dual,IGL_only,IGK_only,file=\"Ig_type.Rdata\")"
   ]
  },
  {
   "cell_type": "code",
   "execution_count": 47,
   "metadata": {
    "collapsed": false
   },
   "outputs": [
    {
     "data": {
      "image/png": "[encoded data removed]",
      "text/plain": [
       "plot without title"
      ]
     },
     "metadata": {},
     "output_type": "display_data"
    }
   ],
   "source": [
    "options(repr.plot.width=15, repr.plot.height=8)\n",
    "par(mfrow=c(1,2))\n",
    "venn(list(IGA=IGApos,IGD=IGDpos,IGG=IGGpos,IGM=IGMpos),small=0.5)\n",
    "venn(list(IGL=IGLpos,IGK=IGKpos),small=0.5)"
   ]
  },
  {
   "cell_type": "code",
   "execution_count": 49,
   "metadata": {
    "collapsed": false
   },
   "outputs": [],
   "source": []
  },
  {
   "cell_type": "code",
   "execution_count": 12,
   "metadata": {
    "collapsed": false
   },
   "outputs": [
    {
     "data": {
      "text/plain": [
       "\n",
       " IGHA1  IGHA2   IGHD   IGHE  IGHG1  IGHG2  IGHG3  IGHG4   IGHM   IGKC  IGLC1 \n",
       " 27809  24778   4043      2  70179   3282   2649     61  22172 307929  18768 \n",
       " IGLC2  IGLC3  IGLC7 \n",
       " 95613  14349    145 "
      ]
     },
     "metadata": {},
     "output_type": "display_data"
    }
   ],
   "source": [
    "table(BCR_productive$c_gene)"
   ]
  },
  {
   "cell_type": "code",
   "execution_count": null,
   "metadata": {
    "collapsed": true
   },
   "outputs": [],
   "source": [
    "ABpos=productive_cellnames[rowSums(ABDG_distribution_productive[,1:2])>0]\n",
    "DGpos=productive_cellnames[rowSums(ABDG_distribution_productive[,3:4])>0]\n",
    "abTcells=setdiff(ABpos,DGpos)\n",
    "gdTcells=setdiff(DGpos,ABpos)\n",
    "abgdTcells=intersect(DGpos,ABpos)"
   ]
  },
  {
   "cell_type": "code",
   "execution_count": 56,
   "metadata": {
    "collapsed": false
   },
   "outputs": [
    {
     "data": {
      "text/plain": [
       "   \n",
       "        0     1     2     3     4     5     6     7     8     9    10\n",
       "  0  2221 24138  8484  1844   414    99    20     5     2     1     0\n",
       "  1  4174 58357 27496  6423  1267   290    52    22     8     1     0\n",
       "  2   802 13243  8971  3539  1169   319    83    19     2     2     0\n",
       "  3    99   994  1463  1084   533   187    60    18     4     1     0\n",
       "  4    14   151   266   257   170    80    30     7     1     4     1\n",
       "  5     1    20    50    45    32    29    13     4     4     0     1\n",
       "  6     1     6     4     8     8     3     5     4     1     0     1\n",
       "  7     0     0     0     2     3     0     2     2     1     0     1\n",
       "  8     0     0     1     0     1     0     0     1     0     1     0"
      ]
     },
     "metadata": {},
     "output_type": "display_data"
    },
    {
     "data": {
      "text/plain": [
       "   \n",
       "         0      1\n",
       "  0 167903    213\n",
       "  1   1007      9\n",
       "  2     13      1"
      ]
     },
     "metadata": {},
     "output_type": "display_data"
    }
   ],
   "source": [
    "table(TCR_cellVSchain[,2],TCR_cellVSchain[,3])\n",
    "table(TCR_cellVSchain[,5],TCR_cellVSchain[,4])"
   ]
  },
  {
   "cell_type": "code",
   "execution_count": 62,
   "metadata": {
    "collapsed": false
   },
   "outputs": [
    {
     "data": {
      "text/plain": [
       "       \n",
       "        non-productive productive     NA\n",
       "  Multi           1410       1947 174572\n",
       "  TRA            22255     144137 124829\n",
       "  TRB            13725     174576 210683\n",
       "  TRD               29          1   4155\n",
       "  TRG               47          2   9563"
      ]
     },
     "metadata": {},
     "output_type": "display_data"
    }
   ],
   "source": [
    "tmp=table(TCR_all$chain,TCR_all$productive,useNA=\"ifany\")\n",
    "colnames(tmp)=c(\"non-productive\",\"productive\",\"NA\")\n",
    "tmp"
   ]
  },
  {
   "cell_type": "code",
   "execution_count": 5,
   "metadata": {
    "collapsed": false
   },
   "outputs": [
    {
     "data": {
      "text/plain": [
       "\n",
       " Multi    TRA    TRB    TRD    TRG \n",
       "  3008 151958 168544      1      2 "
      ]
     },
     "metadata": {},
     "output_type": "display_data"
    },
    {
     "data": {
      "text/plain": [
       "\n",
       " Multi    TRA    TRB    TRD    TRG \n",
       "174921 139263 230440   4184   9610 "
      ]
     },
     "metadata": {},
     "output_type": "display_data"
    }
   ],
   "source": [
    "table(TCR_annoation_functional$chain)\n",
    "table(TCR_annoation$chain)+table(TCR_annoation_w$chain)-table(TCR_annoation_functional$chain)\n"
   ]
  },
  {
   "cell_type": "code",
   "execution_count": 23,
   "metadata": {
    "collapsed": false
   },
   "outputs": [],
   "source": [
    "TCA=TCR_all[TCR_all$chain==\"TRA\",]\n",
    "TCB=TCR_all[TCR_all$chain==\"TRB\",]\n",
    "TCG=TCR_all[TCR_all$chain==\"TRG\",]\n",
    "TCD=TCR_all[TCR_all$chain==\"TRD\",]"
   ]
  },
  {
   "cell_type": "code",
   "execution_count": 28,
   "metadata": {
    "collapsed": false
   },
   "outputs": [
    {
     "name": "stderr",
     "output_type": "stream",
     "text": [
      "TCA:\n"
     ]
    },
    {
     "data": {
      "text/plain": [
       "                \n",
       "                 low_confidence high_confidence\n",
       "  partial_length          80492           31001\n",
       "  full_length             26855          152873"
      ]
     },
     "metadata": {},
     "output_type": "display_data"
    },
    {
     "name": "stderr",
     "output_type": "stream",
     "text": [
      "TCB:\n"
     ]
    },
    {
     "data": {
      "text/plain": [
       "                \n",
       "                 low_confidence high_confidence\n",
       "  partial_length         145705           60011\n",
       "  full_length             23511          169757"
      ]
     },
     "metadata": {},
     "output_type": "display_data"
    },
    {
     "name": "stderr",
     "output_type": "stream",
     "text": [
      "TCG:\n"
     ]
    },
    {
     "data": {
      "text/plain": [
       "                \n",
       "                 low_confidence high_confidence\n",
       "  partial_length           1373            8237\n",
       "  full_length                 0               2"
      ]
     },
     "metadata": {},
     "output_type": "display_data"
    },
    {
     "name": "stderr",
     "output_type": "stream",
     "text": [
      "TCD:\n"
     ]
    },
    {
     "data": {
      "text/plain": [
       "                \n",
       "                 low_confidence high_confidence\n",
       "  partial_length            266            3918\n",
       "  full_length                 0               1"
      ]
     },
     "metadata": {},
     "output_type": "display_data"
    }
   ],
   "source": [
    "tmp=table(TCA$full_length,TCA$high_confidence)\n",
    "rownames(tmp)=c(\"partial_length\",\"full_length\")\n",
    "colnames(tmp)=c(\"low_confidence\",\"high_confidence\")\n",
    "message(\"TCA:\")\n",
    "tmp\n",
    "\n",
    "tmp=table(TCB$full_length,TCB$high_confidence)\n",
    "rownames(tmp)=c(\"partial_length\",\"full_length\")\n",
    "colnames(tmp)=c(\"low_confidence\",\"high_confidence\")\n",
    "message(\"TCB:\")\n",
    "tmp\n",
    "\n",
    "tmp=table(TCG$full_length,TCG$high_confidence)\n",
    "rownames(tmp)=c(\"partial_length\",\"full_length\")\n",
    "colnames(tmp)=c(\"low_confidence\",\"high_confidence\")\n",
    "message(\"TCG:\")\n",
    "tmp\n",
    "\n",
    "tmp=table(TCD$full_length,TCD$high_confidence)\n",
    "rownames(tmp)=c(\"partial_length\",\"full_length\")\n",
    "colnames(tmp)=c(\"low_confidence\",\"high_confidence\")\n",
    "message(\"TCD:\")\n",
    "tmp\n"
   ]
  },
  {
   "cell_type": "code",
   "execution_count": 32,
   "metadata": {
    "collapsed": false
   },
   "outputs": [
    {
     "data": {
      "text/html": [
       "4132"
      ],
      "text/latex": [
       "4132"
      ],
      "text/markdown": [
       "4132"
      ],
      "text/plain": [
       "[1] 4132"
      ]
     },
     "metadata": {},
     "output_type": "display_data"
    },
    {
     "data": {
      "text/html": [
       "53"
      ],
      "text/latex": [
       "53"
      ],
      "text/markdown": [
       "53"
      ],
      "text/plain": [
       "[1] 53"
      ]
     },
     "metadata": {},
     "output_type": "display_data"
    },
    {
     "data": {
      "text/html": [
       "9562"
      ],
      "text/latex": [
       "9562"
      ],
      "text/markdown": [
       "9562"
      ],
      "text/plain": [
       "[1] 9562"
      ]
     },
     "metadata": {},
     "output_type": "display_data"
    },
    {
     "data": {
      "text/html": [
       "50"
      ],
      "text/latex": [
       "50"
      ],
      "text/markdown": [
       "50"
      ],
      "text/plain": [
       "[1] 50"
      ]
     },
     "metadata": {},
     "output_type": "display_data"
    }
   ],
   "source": [
    "\n",
    "sum(is.na(TCD$c_gene))\n",
    "sum(!is.na(TCD$c_gene))\n",
    "\n",
    "sum(is.na(TCG$c_gene))\n",
    "sum(!is.na(TCG$c_gene))"
   ]
  },
  {
   "cell_type": "code",
   "execution_count": 3,
   "metadata": {
    "collapsed": false
   },
   "outputs": [],
   "source": [
    "BCR_all=rbind(BCR_annoation,BCR_annoation_w)\n",
    "BCR_all=BCR_all[!is.na(BCR_all$chain),]"
   ]
  },
  {
   "cell_type": "code",
   "execution_count": 5,
   "metadata": {
    "collapsed": true
   },
   "outputs": [],
   "source": [
    "fwrite(BCR_all,file=\"BCR_annoation.csv\",sep=\",\",col.names = T,row.names = F,quote = F)"
   ]
  },
  {
   "cell_type": "code",
   "execution_count": 35,
   "metadata": {
    "collapsed": false
   },
   "outputs": [
    {
     "data": {
      "text/plain": [
       "\n",
       "   IGH    IGK    IGL  Multi \n",
       "349153 629337 324000  65283 "
      ]
     },
     "metadata": {},
     "output_type": "display_data"
    }
   ],
   "source": [
    "table(BCR_all$chain)"
   ]
  },
  {
   "cell_type": "code",
   "execution_count": 5,
   "metadata": {
    "collapsed": false
   },
   "outputs": [],
   "source": [
    "IGH=BCR_all[BCR_all$chain==\"IGH\",]\n",
    "IGK=BCR_all[BCR_all$chain==\"IGK\",]\n",
    "IGL=BCR_all[BCR_all$chain==\"IGL\",]"
   ]
  },
  {
   "cell_type": "code",
   "execution_count": 39,
   "metadata": {
    "collapsed": false
   },
   "outputs": [
    {
     "name": "stderr",
     "output_type": "stream",
     "text": [
      "IGH:\n"
     ]
    },
    {
     "data": {
      "text/plain": [
       "                \n",
       "                 low_confidence high_confidence\n",
       "  partial_length          62551          118622\n",
       "  full_length             43207          124773"
      ]
     },
     "metadata": {},
     "output_type": "display_data"
    },
    {
     "name": "stderr",
     "output_type": "stream",
     "text": [
      "IGK:\n"
     ]
    },
    {
     "data": {
      "text/plain": [
       "                \n",
       "                 low_confidence high_confidence\n",
       "  partial_length         144556          138038\n",
       "  full_length            154402          192341"
      ]
     },
     "metadata": {},
     "output_type": "display_data"
    },
    {
     "name": "stderr",
     "output_type": "stream",
     "text": [
      "IGL:\n"
     ]
    },
    {
     "data": {
      "text/plain": [
       "                \n",
       "                 low_confidence high_confidence\n",
       "  partial_length          68552          109487\n",
       "  full_length             38989          106972"
      ]
     },
     "metadata": {},
     "output_type": "display_data"
    }
   ],
   "source": [
    "tmp=table(IGH$full_length,IGH$high_confidence)\n",
    "rownames(tmp)=c(\"partial_length\",\"full_length\")\n",
    "colnames(tmp)=c(\"low_confidence\",\"high_confidence\")\n",
    "message(\"IGH:\")\n",
    "tmp\n",
    "\n",
    "tmp=table(IGK$full_length,IGK$high_confidence)\n",
    "rownames(tmp)=c(\"partial_length\",\"full_length\")\n",
    "colnames(tmp)=c(\"low_confidence\",\"high_confidence\")\n",
    "message(\"IGK:\")\n",
    "tmp\n",
    "\n",
    "tmp=table(IGL$full_length,IGL$high_confidence)\n",
    "rownames(tmp)=c(\"partial_length\",\"full_length\")\n",
    "colnames(tmp)=c(\"low_confidence\",\"high_confidence\")\n",
    "message(\"IGL:\")\n",
    "tmp\n"
   ]
  },
  {
   "cell_type": "code",
   "execution_count": 47,
   "metadata": {
    "collapsed": false
   },
   "outputs": [
    {
     "data": {
      "text/html": [
       "0.3934"
      ],
      "text/latex": [
       "0.3934"
      ],
      "text/markdown": [
       "0.3934"
      ],
      "text/plain": [
       "[1] 0.3934"
      ]
     },
     "metadata": {},
     "output_type": "display_data"
    },
    {
     "data": {
      "text/html": [
       "0.8433"
      ],
      "text/latex": [
       "0.8433"
      ],
      "text/markdown": [
       "0.8433"
      ],
      "text/plain": [
       "[1] 0.8433"
      ]
     },
     "metadata": {},
     "output_type": "display_data"
    },
    {
     "data": {
      "text/html": [
       "0.3618"
      ],
      "text/latex": [
       "0.3618"
      ],
      "text/markdown": [
       "0.3618"
      ],
      "text/plain": [
       "[1] 0.3618"
      ]
     },
     "metadata": {},
     "output_type": "display_data"
    },
    {
     "data": {
      "text/html": [
       "1e-04"
      ],
      "text/latex": [
       "1e-04"
      ],
      "text/markdown": [
       "1e-04"
      ],
      "text/plain": [
       "[1] 1e-04"
      ]
     },
     "metadata": {},
     "output_type": "display_data"
    },
    {
     "data": {
      "text/html": [
       "0.3018"
      ],
      "text/latex": [
       "0.3018"
      ],
      "text/markdown": [
       "0.3018"
      ],
      "text/plain": [
       "[1] 0.3018"
      ]
     },
     "metadata": {},
     "output_type": "display_data"
    },
    {
     "data": {
      "text/html": [
       "0.7325"
      ],
      "text/latex": [
       "0.7325"
      ],
      "text/markdown": [
       "0.7325"
      ],
      "text/plain": [
       "[1] 0.7325"
      ]
     },
     "metadata": {},
     "output_type": "display_data"
    },
    {
     "data": {
      "text/html": [
       "0.2889"
      ],
      "text/latex": [
       "0.2889"
      ],
      "text/markdown": [
       "0.2889"
      ],
      "text/plain": [
       "[1] 0.2889"
      ]
     },
     "metadata": {},
     "output_type": "display_data"
    },
    {
     "data": {
      "text/html": [
       "9e-04"
      ],
      "text/latex": [
       "9e-04"
      ],
      "text/markdown": [
       "9e-04"
      ],
      "text/plain": [
       "[1] 9e-04"
      ]
     },
     "metadata": {},
     "output_type": "display_data"
    }
   ],
   "source": [
    "round(sum(is.na(BCR_all$v_gene))/nrow(BCR_all),4)\n",
    "round(sum(is.na(BCR_all$d_gene))/nrow(BCR_all),4)\n",
    "round(sum(is.na(BCR_all$j_gene))/nrow(BCR_all),4)\n",
    "round(sum(is.na(BCR_all$c_gene))/nrow(BCR_all),4)\n",
    "\n",
    "\n",
    "round(sum(is.na(TCR_all$v_gene))/nrow(TCR_all),4)\n",
    "round(sum(is.na(TCR_all$d_gene))/nrow(TCR_all),4)\n",
    "round(sum(is.na(TCR_all$j_gene))/nrow(TCR_all),4)\n",
    "round(sum(is.na(TCR_all$c_gene))/nrow(TCR_all),4)"
   ]
  },
  {
   "cell_type": "code",
   "execution_count": 7,
   "metadata": {
    "collapsed": false
   },
   "outputs": [
    {
     "data": {
      "text/html": [
       "2e-04"
      ],
      "text/latex": [
       "2e-04"
      ],
      "text/markdown": [
       "2e-04"
      ],
      "text/plain": [
       "[1] 2e-04"
      ]
     },
     "metadata": {},
     "output_type": "display_data"
    },
    {
     "data": {
      "text/html": [
       "0.3882"
      ],
      "text/latex": [
       "0.3882"
      ],
      "text/markdown": [
       "0.3882"
      ],
      "text/plain": [
       "[1] 0.3882"
      ]
     },
     "metadata": {},
     "output_type": "display_data"
    },
    {
     "data": {
      "text/html": [
       "0.3823"
      ],
      "text/latex": [
       "0.3823"
      ],
      "text/markdown": [
       "0.3823"
      ],
      "text/plain": [
       "[1] 0.3823"
      ]
     },
     "metadata": {},
     "output_type": "display_data"
    },
    {
     "data": {
      "text/html": [
       "0.3909"
      ],
      "text/latex": [
       "0.3909"
      ],
      "text/markdown": [
       "0.3909"
      ],
      "text/plain": [
       "[1] 0.3909"
      ]
     },
     "metadata": {},
     "output_type": "display_data"
    }
   ],
   "source": [
    "round(sum(is.na(IGH$v_gene))/nrow(IGH),4)\n",
    "round(sum(is.na(IGH$d_gene))/nrow(IGH),4)\n",
    "round(sum(is.na(IGH$j_gene))/nrow(IGH),4)\n",
    "round(sum(is.na(IGH$c_gene))/nrow(IGH),4)"
   ]
  },
  {
   "cell_type": "code",
   "execution_count": 9,
   "metadata": {
    "collapsed": false
   },
   "outputs": [
    {
     "data": {
      "image/png": "[encoded data removed]",
      "text/plain": [
       "plot without title"
      ]
     },
     "metadata": {},
     "output_type": "display_data"
    }
   ],
   "source": [
    "venn(list(miss_V=which(is.na(IGH$v_gene)),\n",
    "          miss_D=which(is.na(IGH$d_gene)),\n",
    "          miss_J=which(is.na(IGH$j_gene)),\n",
    "          miss_C=which(is.na(IGH$c_gene))),small=0.5)"
   ]
  },
  {
   "cell_type": "code",
   "execution_count": 49,
   "metadata": {
    "collapsed": false
   },
   "outputs": [
    {
     "data": {
      "text/html": [
       "2e-04"
      ],
      "text/latex": [
       "2e-04"
      ],
      "text/markdown": [
       "2e-04"
      ],
      "text/plain": [
       "[1] 2e-04"
      ]
     },
     "metadata": {},
     "output_type": "display_data"
    },
    {
     "data": {
      "text/html": [
       "0.3882"
      ],
      "text/latex": [
       "0.3882"
      ],
      "text/markdown": [
       "0.3882"
      ],
      "text/plain": [
       "[1] 0.3882"
      ]
     },
     "metadata": {},
     "output_type": "display_data"
    },
    {
     "data": {
      "text/html": [
       "0.3823"
      ],
      "text/latex": [
       "0.3823"
      ],
      "text/markdown": [
       "0.3823"
      ],
      "text/plain": [
       "[1] 0.3823"
      ]
     },
     "metadata": {},
     "output_type": "display_data"
    },
    {
     "data": {
      "text/html": [
       "0.3909"
      ],
      "text/latex": [
       "0.3909"
      ],
      "text/markdown": [
       "0.3909"
      ],
      "text/plain": [
       "[1] 0.3909"
      ]
     },
     "metadata": {},
     "output_type": "display_data"
    },
    {
     "data": {
      "text/html": [
       "0"
      ],
      "text/latex": [
       "0"
      ],
      "text/markdown": [
       "0"
      ],
      "text/plain": [
       "[1] 0"
      ]
     },
     "metadata": {},
     "output_type": "display_data"
    },
    {
     "data": {
      "text/html": [
       "1"
      ],
      "text/latex": [
       "1"
      ],
      "text/markdown": [
       "1"
      ],
      "text/plain": [
       "[1] 1"
      ]
     },
     "metadata": {},
     "output_type": "display_data"
    },
    {
     "data": {
      "text/html": [
       "0.3196"
      ],
      "text/latex": [
       "0.3196"
      ],
      "text/markdown": [
       "0.3196"
      ],
      "text/plain": [
       "[1] 0.3196"
      ]
     },
     "metadata": {},
     "output_type": "display_data"
    },
    {
     "data": {
      "text/html": [
       "0.3942"
      ],
      "text/latex": [
       "0.3942"
      ],
      "text/markdown": [
       "0.3942"
      ],
      "text/plain": [
       "[1] 0.3942"
      ]
     },
     "metadata": {},
     "output_type": "display_data"
    },
    {
     "data": {
      "text/html": [
       "0"
      ],
      "text/latex": [
       "0"
      ],
      "text/markdown": [
       "0"
      ],
      "text/plain": [
       "[1] 0"
      ]
     },
     "metadata": {},
     "output_type": "display_data"
    },
    {
     "data": {
      "text/html": [
       "1"
      ],
      "text/latex": [
       "1"
      ],
      "text/markdown": [
       "1"
      ],
      "text/plain": [
       "[1] 1"
      ]
     },
     "metadata": {},
     "output_type": "display_data"
    },
    {
     "data": {
      "text/html": [
       "0.4113"
      ],
      "text/latex": [
       "0.4113"
      ],
      "text/markdown": [
       "0.4113"
      ],
      "text/plain": [
       "[1] 0.4113"
      ]
     },
     "metadata": {},
     "output_type": "display_data"
    },
    {
     "data": {
      "text/html": [
       "0.4492"
      ],
      "text/latex": [
       "0.4492"
      ],
      "text/markdown": [
       "0.4492"
      ],
      "text/plain": [
       "[1] 0.4492"
      ]
     },
     "metadata": {},
     "output_type": "display_data"
    }
   ],
   "source": [
    "round(sum(is.na(IGH$v_gene))/nrow(IGH),4)\n",
    "round(sum(is.na(IGH$d_gene))/nrow(IGH),4)\n",
    "round(sum(is.na(IGH$j_gene))/nrow(IGH),4)\n",
    "round(sum(is.na(IGH$c_gene))/nrow(IGH),4)\n",
    "\n",
    "round(sum(is.na(IGK$v_gene))/nrow(IGK),4)\n",
    "round(sum(is.na(IGK$d_gene))/nrow(IGK),4)\n",
    "round(sum(is.na(IGK$j_gene))/nrow(IGK),4)\n",
    "round(sum(is.na(IGK$c_gene))/nrow(IGK),4)\n",
    "\n",
    "round(sum(is.na(IGL$v_gene))/nrow(IGL),4)\n",
    "round(sum(is.na(IGL$d_gene))/nrow(IGL),4)\n",
    "round(sum(is.na(IGL$j_gene))/nrow(IGL),4)\n",
    "round(sum(is.na(IGL$c_gene))/nrow(IGL),4)"
   ]
  },
  {
   "cell_type": "markdown",
   "metadata": {
    "collapsed": false
   },
   "source": [
    "# useless effort to save all information"
   ]
  },
  {
   "cell_type": "code",
   "execution_count": 51,
   "metadata": {
    "collapsed": true
   },
   "outputs": [],
   "source": [
    "TCR_all=rbind(TCR_annoation,TCR_annoation_w)\n",
    "TCR_all=TCR_all[!is.na(TCR_all$chain),]\n",
    "TCR_all=TCR_all[TCR_all$high_confidence,]\n",
    "TCR_all=TCR_all[!(TCR_all$chain==\"Multi\"),] #rm multi\n",
    "TCR_all=TCR_all[-which(!TCR_all$productive),] #rm non productive\n",
    "\n",
    "#get the productive AB/GD T cells\n",
    "TCR_productive=TCR_all[TCR_all$productive,]\n",
    "ABDG_distribution_productive=table(TCR_productive$barcode,TCR_productive$chain)\n",
    "productive_cellnames=rownames(ABDG_distribution_productive)\n",
    "ABpos=productive_cellnames[rowSums(ABDG_distribution_productive[,1:2])>0]\n",
    "DGpos=productive_cellnames[rowSums(ABDG_distribution_productive[,3:4])>0]\n",
    "abTcells=setdiff(ABpos,DGpos)\n",
    "gdTcells=setdiff(DGpos,ABpos)\n",
    "abgdTcells=intersect(DGpos,ABpos)\n",
    "\n",
    "#get the non-productive AB/GD T cells\n",
    "TCR_nonproductive=TCR_all[is.na(TCR_all$productive),]\n",
    "TCR_nonproductive_singleUMI=TCR_nonproductive[TCR_nonproductive$umis==1,] #get the single-read chain out\n",
    "TCR_nonproductive=data.table(TCR_nonproductive[TCR_nonproductive$umis!=1,])\n",
    "UMIsum=TCR_nonproductive[,.(umis=sum(umis)),by=c(\"barcode\",\"chain\")]\n",
    "UMIsum=dcast(UMIsum, barcode ~ chain, value.var = \"umis\")\n",
    "UMIsum[is.na(UMIsum)]=0\n",
    "nonproductive_cellnames=UMIsum$barcode\n",
    "abTcells_candidate=nonproductive_cellnames[UMIsum$TRA+UMIsum$TRB > 0 & UMIsum$TRD+UMIsum$TRG == 0]\n",
    "gdTcells_candidate=nonproductive_cellnames[UMIsum$TRA+UMIsum$TRB == 0 & UMIsum$TRD+UMIsum$TRG > 0]\n",
    "abgdTcells_candidate=nonproductive_cellnames[UMIsum$TRA+UMIsum$TRB > 0 & UMIsum$TRD+UMIsum$TRG > 0]\n",
    "\n",
    "abTcells=c(abTcells,setdiff(abTcells_candidate,productive_cellnames))\n",
    "gdTcells=c(gdTcells,setdiff(gdTcells_candidate,productive_cellnames))\n",
    "abgdTcells=c(abgdTcells,setdiff(abgdTcells_candidate,productive_cellnames))\n",
    "\n",
    "#get the single read non-productive AB/GD T cells\n",
    "ABDG_distribution_nonproductive=table(TCR_nonproductive_singleUMI$barcode,TCR_nonproductive_singleUMI$chain)\n",
    "singleReadChain_cellnames=rownames(ABDG_distribution_nonproductive)\n",
    "ABpos=singleReadChain_cellnames[rowSums(ABDG_distribution_nonproductive[,1:2])>0]\n",
    "DGpos=singleReadChain_cellnames[rowSums(ABDG_distribution_nonproductive[,3:4])>0]\n",
    "abTcells_candidate=setdiff(ABpos,DGpos)\n",
    "gdTcells_candidate=setdiff(DGpos,ABpos)\n",
    "abgdTcells_candidate=intersect(DGpos,ABpos)\n",
    "\n",
    "abTcells=c(abTcells,setdiff(abTcells_candidate,union(productive_cellnames,nonproductive_cellnames)))\n",
    "gdTcells=c(gdTcells,setdiff(gdTcells_candidate,union(productive_cellnames,nonproductive_cellnames)))\n",
    "abgdTcells=c(abgdTcells,setdiff(abgdTcells_candidate,union(productive_cellnames,nonproductive_cellnames)))"
   ]
  },
  {
   "cell_type": "code",
   "execution_count": null,
   "metadata": {
    "collapsed": true
   },
   "outputs": [],
   "source": []
  }
 ],
 "metadata": {
  "anaconda-cloud": {},
  "kernelspec": {
   "display_name": "R",
   "language": "R",
   "name": "ir"
  },
  "language_info": {
   "codemirror_mode": "r",
   "file_extension": ".r",
   "mimetype": "text/x-r-source",
   "name": "R",
   "pygments_lexer": "r",
   "version": "3.4.4"
  }
 },
 "nbformat": 4,
 "nbformat_minor": 0
}
