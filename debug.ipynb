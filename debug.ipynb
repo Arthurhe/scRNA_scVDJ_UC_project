{
 "cells": [
  {
   "cell_type": "code",
   "execution_count": 1,
   "metadata": {
    "collapsed": true
   },
   "outputs": [],
   "source": [
    "suppressMessages(require(Seurat))\n",
    "source(\"VDJ_function_pack.R\")\n",
    "\n",
    "cross_combining=function(string1,string2){\n",
    "    o=rep(\"\",length(string1)*length(string2))\n",
    "    k=0\n",
    "    for(i in 1:length(string1)){\n",
    "        for(j in 1:length(string2)){\n",
    "            k=k+1\n",
    "            o[k]=paste0(string1[i],\"_\",string2[j])\n",
    "        } \n",
    "    }\n",
    "    return(o)\n",
    "}\n",
    "\n",
    "load(\"180607_RUVscale.Rdata\")\n",
    "\n",
    "#TSNE for healthy\n",
    "#rm person without \"I\" #C24 rmed\n",
    "tag_lib=cross_combining(c(\"C10\",\"C17\",\"C18\",\"C19\",\"C21\",\"C22\",\"C23\",\"C30\",\"C33\"),c(\"pBMC\",\"R\",\"I\"))\n",
    "lib2rm=setdiff(1:length(sample_list),tag_lib)\n",
    "\n",
    "Exp_Seurat_h = filter_metadata(Exp_Seurat,lib2rm,\"sample_gp\")\n",
    "Exp_Seurat_h <- FindVariableGenes(Exp_Seurat_h, do.plot = F)\n",
    "HVG <- head(rownames(Exp_Seurat_h@hvg.info), 5000)"
   ]
  },
  {
   "cell_type": "code",
   "execution_count": null,
   "metadata": {
    "collapsed": true
   },
   "outputs": [],
   "source": []
  },
  {
   "cell_type": "code",
   "execution_count": 1,
   "metadata": {
    "collapsed": false
   },
   "outputs": [
    {
     "name": "stderr",
     "output_type": "stream",
     "text": [
      "Warning message in library(package, lib.loc = lib.loc, character.only = TRUE, logical.return = TRUE, :\n",
      "“there is no package called ‘feature’”"
     ]
    }
   ],
   "source": [
    "suppressMessages(require(Seurat))\n",
    "suppressMessages(require(data.table))\n",
    "suppressMessages(require(feather))"
   ]
  },
  {
   "cell_type": "code",
   "execution_count": 16,
   "metadata": {
    "collapsed": true
   },
   "outputs": [],
   "source": [
    "load(\"180607_RUVscale.Rdata\")"
   ]
  },
  {
   "cell_type": "code",
   "execution_count": 18,
   "metadata": {
    "collapsed": false
   },
   "outputs": [],
   "source": [
    "write_feather(as.data.frame(t(Exp_Seurat@raw.data)), \"rawdata_matrix.feather\")\n",
    "write_feather(as.data.frame(t(Exp_Seurat@scale.data)), \"normeddata_matrix.feather\")"
   ]
  },
  {
   "cell_type": "code",
   "execution_count": 22,
   "metadata": {
    "collapsed": false
   },
   "outputs": [],
   "source": [
    "Exp_Seurat@meta.data$sample_gp=sample_list[Exp_Seurat@meta.data$sample_gp]\n",
    "Exp_Seurat@meta.data$patient_assignment=patient_type[Exp_Seurat@meta.data$patient_assignment]\n",
    "Exp_Seurat@meta.data$tissue_assignment=tissue_type[Exp_Seurat@meta.data$tissue_assignment]\n",
    "Exp_Seurat@meta.data$disease_assignment=c(\"healthy\",\"disease\")[Exp_Seurat@meta.data$disease_assignment]\n",
    "Exp_Seurat@meta.data=Exp_Seurat@meta.data[,-which(colnames(Exp_Seurat@meta.data) %in% c(\"res.1\",\"orig.ident\"))]\n",
    "write_feather(as.data.frame(Exp_Seurat@meta.data), \"metadata.feather\")"
   ]
  },
  {
   "cell_type": "code",
   "execution_count": 17,
   "metadata": {
    "collapsed": true
   },
   "outputs": [],
   "source": [
    "dim(t(Exp_Seurat@scale.data))\n",
    "dim(t(Exp_Seurat@raw.data))\n",
    "dim(Exp_Seurat@meta.data)"
   ]
  },
  {
   "cell_type": "code",
   "execution_count": null,
   "metadata": {
    "collapsed": true
   },
   "outputs": [],
   "source": []
  }
 ],
 "metadata": {
  "anaconda-cloud": {},
  "kernelspec": {
   "display_name": "R",
   "language": "R",
   "name": "ir"
  },
  "language_info": {
   "codemirror_mode": "r",
   "file_extension": ".r",
   "mimetype": "text/x-r-source",
   "name": "R",
   "pygments_lexer": "r",
   "version": "3.4.4"
  }
 },
 "nbformat": 4,
 "nbformat_minor": 0
}
